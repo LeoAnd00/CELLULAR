{
 "cells": [
  {
   "cell_type": "markdown",
   "metadata": {},
   "source": [
    "# Classification Tutorial"
   ]
  },
  {
   "cell_type": "markdown",
   "metadata": {},
   "source": [
    "This is a tutorial notebook for how to use the package to train a classifier and make predictions"
   ]
  },
  {
   "cell_type": "code",
   "execution_count": 1,
   "metadata": {},
   "outputs": [
    {
     "name": "stderr",
     "output_type": "stream",
     "text": [
      "c:\\Users\\user\\Documents\\GitHub\\testing_CELLULAR\\venv\\lib\\site-packages\\tqdm\\auto.py:21: TqdmWarning: IProgress not found. Please update jupyter and ipywidgets. See https://ipywidgets.readthedocs.io/en/stable/user_install.html\n",
      "  from .autonotebook import tqdm as notebook_tqdm\n"
     ]
    }
   ],
   "source": [
    "# Load required packages\n",
    "import scanpy as sc\n",
    "from sklearn.model_selection import StratifiedKFold\n",
    "from sklearn.preprocessing import LabelEncoder\n",
    "from sklearn.metrics import accuracy_score, f1_score, balanced_accuracy_score\n",
    "import numpy as np\n",
    "\n",
    "import CELLULAR_CL as CELLULAR"
   ]
  },
  {
   "cell_type": "markdown",
   "metadata": {},
   "source": [
    "## Read data"
   ]
  },
  {
   "cell_type": "markdown",
   "metadata": {},
   "source": [
    "Start by reading Anndata and split it into a training set and a testing set. <br>\n",
    "It's worth noting that adata.X, containing the counts, should be normalized. If this isn't the case, there's a implemented normalization function in the package. Simply run *CELLULAR.log1p_normalize(adata)* to apply scale factor and log1p normalize adata.X."
   ]
  },
  {
   "cell_type": "code",
   "execution_count": 2,
   "metadata": {},
   "outputs": [
    {
     "name": "stderr",
     "output_type": "stream",
     "text": [
      "c:\\Users\\user\\Documents\\GitHub\\testing_CELLULAR\\venv\\lib\\site-packages\\anndata\\__init__.py:51: FutureWarning: `anndata.read` is deprecated, use `anndata.read_h5ad` instead. `ad.read` will be removed in mid 2024.\n",
      "  warnings.warn(\n",
      "c:\\Users\\user\\Documents\\GitHub\\testing_CELLULAR\\venv\\lib\\site-packages\\anndata\\_core\\anndata.py:1906: UserWarning: Observation names are not unique. To make them unique, call `.obs_names_make_unique`.\n",
      "  utils.warn_names_duplicates(\"obs\")\n",
      "c:\\Users\\user\\Documents\\GitHub\\testing_CELLULAR\\venv\\lib\\site-packages\\anndata\\_core\\anndata.py:1906: UserWarning: Observation names are not unique. To make them unique, call `.obs_names_make_unique`.\n",
      "  utils.warn_names_duplicates(\"obs\")\n"
     ]
    }
   ],
   "source": [
    "adata = sc.read(\"data/Baron.h5ad\", cache=True)\n",
    "\n",
    "### Split data for training and testing\n",
    "\n",
    "# Initialize Stratified K-Fold\n",
    "stratified_kfold = StratifiedKFold(n_splits=5, shuffle=True, random_state=42)\n",
    "\n",
    "# Take the first fold\n",
    "adata_train = adata.copy()\n",
    "adata_test = adata.copy()\n",
    "for train_index, test_index in stratified_kfold.split(adata.X, adata.obs[\"cell_type\"]):\n",
    "    adata_train = adata_train[train_index, :].copy()\n",
    "    adata_test = adata_test[test_index, :].copy()\n",
    "    break # Break to get the first fold"
   ]
  },
  {
   "cell_type": "code",
   "execution_count": 3,
   "metadata": {},
   "outputs": [
    {
     "name": "stdout",
     "output_type": "stream",
     "text": [
      "Train data contains 6855 cells and 14322 genes\n",
      "Test data contains 1714 cells and 14322 genes\n"
     ]
    }
   ],
   "source": [
    "print(f\"Train data contains {adata_train.X.shape[0]} cells and {adata_train.X.shape[1]} genes\")\n",
    "print(f\"Test data contains {adata_test.X.shape[0]} cells and {adata_test.X.shape[1]} genes\")"
   ]
  },
  {
   "cell_type": "markdown",
   "metadata": {},
   "source": [
    "## Train model"
   ]
  },
  {
   "cell_type": "markdown",
   "metadata": {},
   "source": [
    "Next, we want to train the model. This can simply be achieved by running the following line. <br>\n",
    "Once trained it will save all the information needed to make predictions using the model under *trained_models/*.<br>\n",
    "One needs to give the model the training Anndata, the target key in adata.obs that contains cell type information, and the batch key in adata.obs that contains the batch effect information. <br>\n",
    "For this dataset, patient ID is the batch effect of interest."
   ]
  },
  {
   "cell_type": "code",
   "execution_count": 4,
   "metadata": {},
   "outputs": [
    {
     "name": "stderr",
     "output_type": "stream",
     "text": [
      "c:\\Users\\user\\Documents\\GitHub\\testing_CELLULAR\\venv\\lib\\site-packages\\anndata\\_core\\anndata.py:1906: UserWarning: Observation names are not unique. To make them unique, call `.obs_names_make_unique`.\n",
      "  utils.warn_names_duplicates(\"obs\")\n",
      "c:\\Users\\user\\Documents\\GitHub\\testing_CELLULAR\\venv\\lib\\site-packages\\scanpy\\preprocessing\\_highly_variable_genes.py:258: FutureWarning: The default of observed=False is deprecated and will be changed to True in a future version of pandas. Pass observed=False to retain current behavior or observed=True to adopt the future default and silence this warning.\n",
      "  disp_grouped = df.groupby(\"mean_bin\")[\"dispersions\"]\n",
      "c:\\Users\\user\\Documents\\GitHub\\testing_CELLULAR\\venv\\lib\\site-packages\\anndata\\_core\\anndata.py:1906: UserWarning: Observation names are not unique. To make them unique, call `.obs_names_make_unique`.\n",
      "  utils.warn_names_duplicates(\"obs\")\n",
      "c:\\Users\\user\\Documents\\GitHub\\testing_CELLULAR\\venv\\lib\\site-packages\\anndata\\_core\\anndata.py:1906: UserWarning: Observation names are not unique. To make them unique, call `.obs_names_make_unique`.\n",
      "  utils.warn_names_duplicates(\"obs\")\n",
      "c:\\Users\\user\\Documents\\GitHub\\testing_CELLULAR\\venv\\lib\\site-packages\\numpy\\core\\fromnumeric.py:3504: RuntimeWarning: Mean of empty slice.\n",
      "  return _methods._mean(a, axis=axis, dtype=dtype,\n",
      "c:\\Users\\user\\Documents\\GitHub\\testing_CELLULAR\\venv\\lib\\site-packages\\numpy\\core\\_methods.py:121: RuntimeWarning: invalid value encountered in divide\n",
      "  ret = um.true_divide(\n",
      "c:\\Users\\user\\Documents\\GitHub\\testing_CELLULAR\\venv\\lib\\site-packages\\anndata\\_core\\anndata.py:1906: UserWarning: Observation names are not unique. To make them unique, call `.obs_names_make_unique`.\n",
      "  utils.warn_names_duplicates(\"obs\")\n",
      "c:\\Users\\user\\Documents\\GitHub\\testing_CELLULAR\\venv\\lib\\site-packages\\scanpy\\preprocessing\\_highly_variable_genes.py:258: FutureWarning: The default of observed=False is deprecated and will be changed to True in a future version of pandas. Pass observed=False to retain current behavior or observed=True to adopt the future default and silence this warning.\n",
      "  disp_grouped = df.groupby(\"mean_bin\")[\"dispersions\"]\n",
      "c:\\Users\\user\\Documents\\GitHub\\testing_CELLULAR\\venv\\lib\\site-packages\\anndata\\_core\\anndata.py:1906: UserWarning: Observation names are not unique. To make them unique, call `.obs_names_make_unique`.\n",
      "  utils.warn_names_duplicates(\"obs\")\n",
      "c:\\Users\\user\\Documents\\GitHub\\testing_CELLULAR\\venv\\lib\\site-packages\\anndata\\_core\\anndata.py:1906: UserWarning: Observation names are not unique. To make them unique, call `.obs_names_make_unique`.\n",
      "  utils.warn_names_duplicates(\"obs\")\n",
      "c:\\Users\\user\\Documents\\GitHub\\testing_CELLULAR\\venv\\lib\\site-packages\\numpy\\core\\fromnumeric.py:3504: RuntimeWarning: Mean of empty slice.\n",
      "  return _methods._mean(a, axis=axis, dtype=dtype,\n",
      "c:\\Users\\user\\Documents\\GitHub\\testing_CELLULAR\\venv\\lib\\site-packages\\numpy\\core\\_methods.py:121: RuntimeWarning: invalid value encountered in divide\n",
      "  ret = um.true_divide(\n",
      "c:\\Users\\user\\Documents\\GitHub\\testing_CELLULAR\\venv\\lib\\site-packages\\anndata\\_core\\anndata.py:1906: UserWarning: Observation names are not unique. To make them unique, call `.obs_names_make_unique`.\n",
      "  utils.warn_names_duplicates(\"obs\")\n"
     ]
    },
    {
     "name": "stdout",
     "output_type": "stream",
     "text": [
      "Number of parameters: 2558600\n",
      "\n",
      "Start Training\n",
      "\n"
     ]
    },
    {
     "name": "stderr",
     "output_type": "stream",
     "text": [
      "  2%|▏         | 1/50 [00:24<19:59, 24.47s/it]"
     ]
    },
    {
     "name": "stdout",
     "output_type": "stream",
     "text": [
      "Epoch 1 | Training loss: 0.7264 | Validation loss: 0.5434\n"
     ]
    },
    {
     "name": "stderr",
     "output_type": "stream",
     "text": [
      "  4%|▍         | 2/50 [00:47<18:58, 23.71s/it]"
     ]
    },
    {
     "name": "stdout",
     "output_type": "stream",
     "text": [
      "Epoch 2 | Training loss: 0.3885 | Validation loss: 0.2354\n"
     ]
    },
    {
     "name": "stderr",
     "output_type": "stream",
     "text": [
      "  6%|▌         | 3/50 [01:12<18:52, 24.09s/it]"
     ]
    },
    {
     "name": "stdout",
     "output_type": "stream",
     "text": [
      "Epoch 3 | Training loss: 0.3326 | Validation loss: 0.2096\n"
     ]
    },
    {
     "name": "stderr",
     "output_type": "stream",
     "text": [
      "  8%|▊         | 4/50 [01:35<18:07, 23.65s/it]"
     ]
    },
    {
     "name": "stdout",
     "output_type": "stream",
     "text": [
      "Epoch 4 | Training loss: 0.2095 | Validation loss: 0.1813\n"
     ]
    },
    {
     "name": "stderr",
     "output_type": "stream",
     "text": [
      " 10%|█         | 5/50 [01:57<17:22, 23.16s/it]"
     ]
    },
    {
     "name": "stdout",
     "output_type": "stream",
     "text": [
      "Epoch 5 | Training loss: 0.2266 | Validation loss: 0.1788\n"
     ]
    },
    {
     "name": "stderr",
     "output_type": "stream",
     "text": [
      " 12%|█▏        | 6/50 [02:21<17:18, 23.60s/it]"
     ]
    },
    {
     "name": "stdout",
     "output_type": "stream",
     "text": [
      "Epoch 6 | Training loss: 0.2359 | Validation loss: 0.1626\n"
     ]
    },
    {
     "name": "stderr",
     "output_type": "stream",
     "text": [
      " 14%|█▍        | 7/50 [02:45<16:49, 23.48s/it]"
     ]
    },
    {
     "name": "stdout",
     "output_type": "stream",
     "text": [
      "Epoch 7 | Training loss: 0.2238 | Validation loss: 0.1629\n"
     ]
    },
    {
     "name": "stderr",
     "output_type": "stream",
     "text": [
      " 16%|█▌        | 8/50 [03:08<16:24, 23.44s/it]"
     ]
    },
    {
     "name": "stdout",
     "output_type": "stream",
     "text": [
      "Epoch 8 | Training loss: 0.1690 | Validation loss: 0.1406\n"
     ]
    },
    {
     "name": "stderr",
     "output_type": "stream",
     "text": [
      " 18%|█▊        | 9/50 [03:31<16:00, 23.42s/it]"
     ]
    },
    {
     "name": "stdout",
     "output_type": "stream",
     "text": [
      "Epoch 9 | Training loss: 0.1293 | Validation loss: 0.1362\n"
     ]
    },
    {
     "name": "stderr",
     "output_type": "stream",
     "text": [
      " 20%|██        | 10/50 [03:55<15:39, 23.48s/it]"
     ]
    },
    {
     "name": "stdout",
     "output_type": "stream",
     "text": [
      "Epoch 10 | Training loss: 0.1357 | Validation loss: 0.1352\n"
     ]
    },
    {
     "name": "stderr",
     "output_type": "stream",
     "text": [
      " 22%|██▏       | 11/50 [04:18<15:15, 23.46s/it]"
     ]
    },
    {
     "name": "stdout",
     "output_type": "stream",
     "text": [
      "Epoch 11 | Training loss: 0.1232 | Validation loss: 0.1327\n"
     ]
    },
    {
     "name": "stderr",
     "output_type": "stream",
     "text": [
      " 24%|██▍       | 12/50 [04:42<14:53, 23.53s/it]"
     ]
    },
    {
     "name": "stdout",
     "output_type": "stream",
     "text": [
      "Epoch 12 | Training loss: 0.1125 | Validation loss: 0.1293\n"
     ]
    },
    {
     "name": "stderr",
     "output_type": "stream",
     "text": [
      " 26%|██▌       | 13/50 [05:05<14:22, 23.32s/it]"
     ]
    },
    {
     "name": "stdout",
     "output_type": "stream",
     "text": [
      "Epoch 13 | Training loss: 0.1080 | Validation loss: 0.1290\n"
     ]
    },
    {
     "name": "stderr",
     "output_type": "stream",
     "text": [
      " 28%|██▊       | 14/50 [05:28<14:01, 23.37s/it]"
     ]
    },
    {
     "name": "stdout",
     "output_type": "stream",
     "text": [
      "Epoch 14 | Training loss: 0.1139 | Validation loss: 0.1292\n"
     ]
    },
    {
     "name": "stderr",
     "output_type": "stream",
     "text": [
      " 30%|███       | 15/50 [05:51<13:31, 23.18s/it]"
     ]
    },
    {
     "name": "stdout",
     "output_type": "stream",
     "text": [
      "Epoch 15 | Training loss: 0.1007 | Validation loss: 0.1281\n"
     ]
    },
    {
     "name": "stderr",
     "output_type": "stream",
     "text": [
      " 32%|███▏      | 16/50 [06:17<13:34, 23.94s/it]"
     ]
    },
    {
     "name": "stdout",
     "output_type": "stream",
     "text": [
      "Epoch 16 | Training loss: 0.1076 | Validation loss: 0.1285\n"
     ]
    },
    {
     "name": "stderr",
     "output_type": "stream",
     "text": [
      " 34%|███▍      | 17/50 [06:43<13:27, 24.46s/it]"
     ]
    },
    {
     "name": "stdout",
     "output_type": "stream",
     "text": [
      "Epoch 17 | Training loss: 0.1112 | Validation loss: 0.1276\n"
     ]
    },
    {
     "name": "stderr",
     "output_type": "stream",
     "text": [
      " 36%|███▌      | 18/50 [07:10<13:31, 25.35s/it]"
     ]
    },
    {
     "name": "stdout",
     "output_type": "stream",
     "text": [
      "Epoch 18 | Training loss: 0.1017 | Validation loss: 0.1276\n"
     ]
    },
    {
     "name": "stderr",
     "output_type": "stream",
     "text": [
      " 38%|███▊      | 19/50 [07:50<15:21, 29.72s/it]"
     ]
    },
    {
     "name": "stdout",
     "output_type": "stream",
     "text": [
      "Epoch 19 | Training loss: 0.1037 | Validation loss: 0.1279\n"
     ]
    },
    {
     "name": "stderr",
     "output_type": "stream",
     "text": [
      " 40%|████      | 20/50 [08:25<15:44, 31.47s/it]"
     ]
    },
    {
     "name": "stdout",
     "output_type": "stream",
     "text": [
      "Epoch 20 | Training loss: 0.1045 | Validation loss: 0.1284\n"
     ]
    },
    {
     "name": "stderr",
     "output_type": "stream",
     "text": [
      " 42%|████▏     | 21/50 [08:56<15:08, 31.34s/it]"
     ]
    },
    {
     "name": "stdout",
     "output_type": "stream",
     "text": [
      "Epoch 21 | Training loss: 0.1158 | Validation loss: 0.1279\n"
     ]
    },
    {
     "name": "stderr",
     "output_type": "stream",
     "text": [
      " 44%|████▍     | 22/50 [09:27<14:32, 31.16s/it]"
     ]
    },
    {
     "name": "stdout",
     "output_type": "stream",
     "text": [
      "Epoch 22 | Training loss: 0.1077 | Validation loss: 0.1282\n"
     ]
    },
    {
     "name": "stderr",
     "output_type": "stream",
     "text": [
      " 46%|████▌     | 23/50 [09:58<14:01, 31.17s/it]"
     ]
    },
    {
     "name": "stdout",
     "output_type": "stream",
     "text": [
      "Epoch 23 | Training loss: 0.1096 | Validation loss: 0.1275\n"
     ]
    },
    {
     "name": "stderr",
     "output_type": "stream",
     "text": [
      " 48%|████▊     | 24/50 [10:32<13:47, 31.83s/it]"
     ]
    },
    {
     "name": "stdout",
     "output_type": "stream",
     "text": [
      "Epoch 24 | Training loss: 0.1156 | Validation loss: 0.1292\n"
     ]
    },
    {
     "name": "stderr",
     "output_type": "stream",
     "text": [
      " 50%|█████     | 25/50 [11:12<14:19, 34.36s/it]"
     ]
    },
    {
     "name": "stdout",
     "output_type": "stream",
     "text": [
      "Epoch 25 | Training loss: 0.1034 | Validation loss: 0.1283\n"
     ]
    },
    {
     "name": "stderr",
     "output_type": "stream",
     "text": [
      " 52%|█████▏    | 26/50 [11:41<13:05, 32.74s/it]"
     ]
    },
    {
     "name": "stdout",
     "output_type": "stream",
     "text": [
      "Epoch 26 | Training loss: 0.1100 | Validation loss: 0.1288\n"
     ]
    },
    {
     "name": "stderr",
     "output_type": "stream",
     "text": [
      " 54%|█████▍    | 27/50 [12:11<12:13, 31.91s/it]"
     ]
    },
    {
     "name": "stdout",
     "output_type": "stream",
     "text": [
      "Epoch 27 | Training loss: 0.1044 | Validation loss: 0.1285\n"
     ]
    },
    {
     "name": "stderr",
     "output_type": "stream",
     "text": [
      " 56%|█████▌    | 28/50 [12:40<11:23, 31.07s/it]"
     ]
    },
    {
     "name": "stdout",
     "output_type": "stream",
     "text": [
      "Epoch 28 | Training loss: 0.1086 | Validation loss: 0.1275\n"
     ]
    },
    {
     "name": "stderr",
     "output_type": "stream",
     "text": [
      " 58%|█████▊    | 29/50 [13:11<10:53, 31.12s/it]"
     ]
    },
    {
     "name": "stdout",
     "output_type": "stream",
     "text": [
      "Epoch 29 | Training loss: 0.1036 | Validation loss: 0.1276\n"
     ]
    },
    {
     "name": "stderr",
     "output_type": "stream",
     "text": [
      " 60%|██████    | 30/50 [13:41<10:13, 30.69s/it]"
     ]
    },
    {
     "name": "stdout",
     "output_type": "stream",
     "text": [
      "Epoch 30 | Training loss: 0.1074 | Validation loss: 0.1280\n"
     ]
    },
    {
     "name": "stderr",
     "output_type": "stream",
     "text": [
      " 62%|██████▏   | 31/50 [14:09<09:29, 29.97s/it]"
     ]
    },
    {
     "name": "stdout",
     "output_type": "stream",
     "text": [
      "Epoch 31 | Training loss: 0.1016 | Validation loss: 0.1278\n"
     ]
    },
    {
     "name": "stderr",
     "output_type": "stream",
     "text": [
      " 64%|██████▍   | 32/50 [14:39<08:55, 29.75s/it]"
     ]
    },
    {
     "name": "stdout",
     "output_type": "stream",
     "text": [
      "Epoch 32 | Training loss: 0.0992 | Validation loss: 0.1279\n"
     ]
    },
    {
     "name": "stderr",
     "output_type": "stream",
     "text": [
      " 66%|██████▌   | 33/50 [15:07<08:20, 29.41s/it]"
     ]
    },
    {
     "name": "stdout",
     "output_type": "stream",
     "text": [
      "Epoch 33 | Training loss: 0.1057 | Validation loss: 0.1282\n"
     ]
    },
    {
     "name": "stderr",
     "output_type": "stream",
     "text": [
      " 68%|██████▊   | 34/50 [15:37<07:52, 29.56s/it]"
     ]
    },
    {
     "name": "stdout",
     "output_type": "stream",
     "text": [
      "Epoch 34 | Training loss: 0.1097 | Validation loss: 0.1299\n"
     ]
    },
    {
     "name": "stderr",
     "output_type": "stream",
     "text": [
      " 70%|███████   | 35/50 [16:06<07:20, 29.36s/it]"
     ]
    },
    {
     "name": "stdout",
     "output_type": "stream",
     "text": [
      "Epoch 35 | Training loss: 0.1037 | Validation loss: 0.1292\n"
     ]
    },
    {
     "name": "stderr",
     "output_type": "stream",
     "text": [
      " 72%|███████▏  | 36/50 [16:34<06:44, 28.93s/it]"
     ]
    },
    {
     "name": "stdout",
     "output_type": "stream",
     "text": [
      "Epoch 36 | Training loss: 0.0995 | Validation loss: 0.1292\n"
     ]
    },
    {
     "name": "stderr",
     "output_type": "stream",
     "text": [
      " 74%|███████▍  | 37/50 [17:03<06:17, 29.02s/it]"
     ]
    },
    {
     "name": "stdout",
     "output_type": "stream",
     "text": [
      "Epoch 37 | Training loss: 0.1033 | Validation loss: 0.1293\n"
     ]
    },
    {
     "name": "stderr",
     "output_type": "stream",
     "text": [
      " 76%|███████▌  | 38/50 [17:31<05:44, 28.70s/it]"
     ]
    },
    {
     "name": "stdout",
     "output_type": "stream",
     "text": [
      "Epoch 38 | Training loss: 0.1090 | Validation loss: 0.1301\n"
     ]
    },
    {
     "name": "stderr",
     "output_type": "stream",
     "text": [
      " 78%|███████▊  | 39/50 [18:06<05:37, 30.72s/it]"
     ]
    },
    {
     "name": "stdout",
     "output_type": "stream",
     "text": [
      "Epoch 39 | Training loss: 0.1056 | Validation loss: 0.1310\n"
     ]
    },
    {
     "name": "stderr",
     "output_type": "stream",
     "text": [
      " 80%|████████  | 40/50 [18:40<05:14, 31.47s/it]"
     ]
    },
    {
     "name": "stdout",
     "output_type": "stream",
     "text": [
      "Epoch 40 | Training loss: 0.1069 | Validation loss: 0.1301\n"
     ]
    },
    {
     "name": "stderr",
     "output_type": "stream",
     "text": [
      " 82%|████████▏ | 41/50 [19:08<04:34, 30.49s/it]"
     ]
    },
    {
     "name": "stdout",
     "output_type": "stream",
     "text": [
      "Epoch 41 | Training loss: 0.1030 | Validation loss: 0.1298\n"
     ]
    },
    {
     "name": "stderr",
     "output_type": "stream",
     "text": [
      " 84%|████████▍ | 42/50 [19:36<03:58, 29.80s/it]"
     ]
    },
    {
     "name": "stdout",
     "output_type": "stream",
     "text": [
      "Epoch 42 | Training loss: 0.1058 | Validation loss: 0.1292\n"
     ]
    },
    {
     "name": "stderr",
     "output_type": "stream",
     "text": [
      " 86%|████████▌ | 43/50 [20:05<03:25, 29.41s/it]"
     ]
    },
    {
     "name": "stdout",
     "output_type": "stream",
     "text": [
      "Epoch 43 | Training loss: 0.1028 | Validation loss: 0.1287\n"
     ]
    },
    {
     "name": "stderr",
     "output_type": "stream",
     "text": [
      " 88%|████████▊ | 44/50 [20:39<03:06, 31.06s/it]"
     ]
    },
    {
     "name": "stdout",
     "output_type": "stream",
     "text": [
      "Epoch 44 | Training loss: 0.1054 | Validation loss: 0.1295\n"
     ]
    },
    {
     "name": "stderr",
     "output_type": "stream",
     "text": [
      " 90%|█████████ | 45/50 [21:14<02:40, 32.14s/it]"
     ]
    },
    {
     "name": "stdout",
     "output_type": "stream",
     "text": [
      "Epoch 45 | Training loss: 0.1071 | Validation loss: 0.1297\n"
     ]
    },
    {
     "name": "stderr",
     "output_type": "stream",
     "text": [
      " 92%|█████████▏| 46/50 [21:43<02:04, 31.04s/it]"
     ]
    },
    {
     "name": "stdout",
     "output_type": "stream",
     "text": [
      "Epoch 46 | Training loss: 0.1091 | Validation loss: 0.1300\n"
     ]
    },
    {
     "name": "stderr",
     "output_type": "stream",
     "text": [
      " 94%|█████████▍| 47/50 [22:14<01:33, 31.06s/it]"
     ]
    },
    {
     "name": "stdout",
     "output_type": "stream",
     "text": [
      "Epoch 47 | Training loss: 0.0985 | Validation loss: 0.1300\n"
     ]
    },
    {
     "name": "stderr",
     "output_type": "stream",
     "text": [
      " 94%|█████████▍| 47/50 [22:42<01:26, 28.99s/it]\n",
      "[I 2025-02-08 16:35:49,526] A new study created in memory with name: no-name-f2c09b30-302a-44d8-a5b0-3adf7e553e64\n"
     ]
    },
    {
     "name": "stdout",
     "output_type": "stream",
     "text": [
      "Epoch 48 | Training loss: 0.1095 | Validation loss: 0.1298\n",
      "Stopped training using EarlyStopping at epoch 48\n",
      "\n",
      "**Finished training**\n",
      "\n",
      "Best validation loss (reached after 28 epochs): 0.1275093423202634\n",
      "\n",
      "Training time: 22.71 minutes\n",
      "Total training time: 22.78 minutes\n",
      "\n",
      "Start training classifier\n",
      "\n",
      "\n",
      "Start Training\n",
      "\n"
     ]
    },
    {
     "name": "stderr",
     "output_type": "stream",
     "text": [
      "100%|██████████| 50/50 [00:18<00:00,  2.70it/s]\n",
      "[I 2025-02-08 16:36:08,104] Trial 0 finished with value: 1.7692294126376509 and parameters: {'n_neurons_layer1': 1984, 'n_neurons_layer2': 768, 'learning_rate': 9.642152071798905e-05, 'dropout': 0.4}. Best is trial 0 with value: 1.7692294126376509.\n"
     ]
    },
    {
     "name": "stdout",
     "output_type": "stream",
     "text": [
      "\n",
      "**Finished training**\n",
      "\n",
      "Best validation loss (reached after 46 epochs): 1.7692294126376509\n",
      "\n",
      "Training time: 0.31 minutes\n",
      "Total training time: 0.31 minutes\n",
      "Start training classifier\n",
      "\n",
      "\n",
      "Start Training\n",
      "\n"
     ]
    },
    {
     "name": "stderr",
     "output_type": "stream",
     "text": [
      "100%|██████████| 50/50 [00:19<00:00,  2.59it/s]\n",
      "[I 2025-02-08 16:36:27,470] Trial 1 finished with value: 1.7939197557047009 and parameters: {'n_neurons_layer1': 1472, 'n_neurons_layer2': 64, 'learning_rate': 0.00025934424163234245, 'dropout': 0.4}. Best is trial 0 with value: 1.7692294126376509.\n"
     ]
    },
    {
     "name": "stdout",
     "output_type": "stream",
     "text": [
      "\n",
      "**Finished training**\n",
      "\n",
      "Best validation loss (reached after 48 epochs): 1.7939197557047009\n",
      "\n",
      "Training time: 0.32 minutes\n",
      "Total training time: 0.32 minutes\n",
      "Start training classifier\n",
      "\n",
      "\n",
      "Start Training\n",
      "\n"
     ]
    },
    {
     "name": "stderr",
     "output_type": "stream",
     "text": [
      "100%|██████████| 50/50 [00:17<00:00,  2.80it/s]\n",
      "[I 2025-02-08 16:36:45,390] Trial 2 finished with value: 1.9267487276345492 and parameters: {'n_neurons_layer1': 64, 'n_neurons_layer2': 448, 'learning_rate': 2.570534819908091e-05, 'dropout': 0.4}. Best is trial 0 with value: 1.7692294126376509.\n"
     ]
    },
    {
     "name": "stdout",
     "output_type": "stream",
     "text": [
      "\n",
      "**Finished training**\n",
      "\n",
      "Best validation loss (reached after 48 epochs): 1.9267487276345492\n",
      "\n",
      "Training time: 0.30 minutes\n",
      "Total training time: 0.30 minutes\n",
      "Start training classifier\n",
      "\n",
      "\n",
      "Start Training\n",
      "\n"
     ]
    },
    {
     "name": "stderr",
     "output_type": "stream",
     "text": [
      "100%|██████████| 50/50 [00:18<00:00,  2.74it/s]\n",
      "[I 2025-02-08 16:37:03,641] Trial 3 finished with value: 1.7888499479740858 and parameters: {'n_neurons_layer1': 320, 'n_neurons_layer2': 448, 'learning_rate': 5.580242021301134e-05, 'dropout': 0.5}. Best is trial 0 with value: 1.7692294126376509.\n"
     ]
    },
    {
     "name": "stdout",
     "output_type": "stream",
     "text": [
      "\n",
      "**Finished training**\n",
      "\n",
      "Best validation loss (reached after 50 epochs): 1.7888499479740858\n",
      "\n",
      "Training time: 0.30 minutes\n",
      "Total training time: 0.30 minutes\n",
      "Start training classifier\n",
      "\n",
      "\n",
      "Start Training\n",
      "\n"
     ]
    },
    {
     "name": "stderr",
     "output_type": "stream",
     "text": [
      " 56%|█████▌    | 28/50 [00:11<00:08,  2.45it/s]\n",
      "[I 2025-02-08 16:37:15,120] Trial 4 finished with value: 1.767425057478249 and parameters: {'n_neurons_layer1': 896, 'n_neurons_layer2': 64, 'learning_rate': 0.007647580271541807, 'dropout': 0.0}. Best is trial 4 with value: 1.767425057478249.\n"
     ]
    },
    {
     "name": "stdout",
     "output_type": "stream",
     "text": [
      "Stopped training using EarlyStopping at epoch 29\n",
      "\n",
      "**Finished training**\n",
      "\n",
      "Best validation loss (reached after 19 epochs): 1.767425057478249\n",
      "\n",
      "Training time: 0.19 minutes\n",
      "Total training time: 0.19 minutes\n",
      "Start training classifier\n",
      "\n",
      "\n",
      "Start Training\n",
      "\n"
     ]
    },
    {
     "name": "stderr",
     "output_type": "stream",
     "text": [
      " 84%|████████▍ | 42/50 [00:16<00:03,  2.51it/s]\n",
      "[I 2025-02-08 16:37:31,892] Trial 5 finished with value: 1.7669644023291766 and parameters: {'n_neurons_layer1': 1216, 'n_neurons_layer2': 1024, 'learning_rate': 0.0003826282512552872, 'dropout': 0.30000000000000004}. Best is trial 5 with value: 1.7669644023291766.\n"
     ]
    },
    {
     "name": "stdout",
     "output_type": "stream",
     "text": [
      "Stopped training using EarlyStopping at epoch 43\n",
      "\n",
      "**Finished training**\n",
      "\n",
      "Best validation loss (reached after 33 epochs): 1.7669644023291766\n",
      "\n",
      "Training time: 0.28 minutes\n",
      "Total training time: 0.28 minutes\n",
      "Start training classifier\n",
      "\n",
      "\n",
      "Start Training\n",
      "\n"
     ]
    },
    {
     "name": "stderr",
     "output_type": "stream",
     "text": [
      "100%|██████████| 50/50 [00:19<00:00,  2.61it/s]\n",
      "[I 2025-02-08 16:37:51,080] Trial 6 finished with value: 1.7717029966413975 and parameters: {'n_neurons_layer1': 896, 'n_neurons_layer2': 1344, 'learning_rate': 2.6114098450257344e-05, 'dropout': 0.1}. Best is trial 5 with value: 1.7669644023291766.\n"
     ]
    },
    {
     "name": "stdout",
     "output_type": "stream",
     "text": [
      "\n",
      "**Finished training**\n",
      "\n",
      "Best validation loss (reached after 47 epochs): 1.7717029966413975\n",
      "\n",
      "Training time: 0.32 minutes\n",
      "Total training time: 0.32 minutes\n",
      "Start training classifier\n",
      "\n",
      "\n",
      "Start Training\n",
      "\n"
     ]
    },
    {
     "name": "stderr",
     "output_type": "stream",
     "text": [
      " 50%|█████     | 25/50 [00:09<00:09,  2.61it/s]\n",
      "[I 2025-02-08 16:38:00,681] Trial 7 finished with value: 1.7671308937482535 and parameters: {'n_neurons_layer1': 832, 'n_neurons_layer2': 1152, 'learning_rate': 0.003478972428135692, 'dropout': 0.30000000000000004}. Best is trial 5 with value: 1.7669644023291766.\n"
     ]
    },
    {
     "name": "stdout",
     "output_type": "stream",
     "text": [
      "Stopped training using EarlyStopping at epoch 26\n",
      "\n",
      "**Finished training**\n",
      "\n",
      "Best validation loss (reached after 16 epochs): 1.7671308937482535\n",
      "\n",
      "Training time: 0.16 minutes\n",
      "Total training time: 0.16 minutes\n",
      "Start training classifier\n",
      "\n",
      "\n",
      "Start Training\n",
      "\n"
     ]
    },
    {
     "name": "stderr",
     "output_type": "stream",
     "text": [
      " 84%|████████▍ | 42/50 [00:15<00:02,  2.74it/s]\n",
      "[I 2025-02-08 16:38:16,070] Trial 8 finished with value: 1.7671646361239255 and parameters: {'n_neurons_layer1': 1600, 'n_neurons_layer2': 320, 'learning_rate': 0.0007838106951211542, 'dropout': 0.2}. Best is trial 5 with value: 1.7669644023291766.\n"
     ]
    },
    {
     "name": "stdout",
     "output_type": "stream",
     "text": [
      "Stopped training using EarlyStopping at epoch 43\n",
      "\n",
      "**Finished training**\n",
      "\n",
      "Best validation loss (reached after 33 epochs): 1.7671646361239255\n",
      "\n",
      "Training time: 0.26 minutes\n",
      "Total training time: 0.26 minutes\n",
      "Start training classifier\n",
      "\n",
      "\n",
      "Start Training\n",
      "\n"
     ]
    },
    {
     "name": "stderr",
     "output_type": "stream",
     "text": [
      " 82%|████████▏ | 41/50 [00:16<00:03,  2.47it/s]\n",
      "[I 2025-02-08 16:38:32,713] Trial 9 finished with value: 1.7671685787849127 and parameters: {'n_neurons_layer1': 1088, 'n_neurons_layer2': 1600, 'learning_rate': 0.0004526476059473802, 'dropout': 0.30000000000000004}. Best is trial 5 with value: 1.7669644023291766.\n"
     ]
    },
    {
     "name": "stdout",
     "output_type": "stream",
     "text": [
      "Stopped training using EarlyStopping at epoch 42\n",
      "\n",
      "**Finished training**\n",
      "\n",
      "Best validation loss (reached after 32 epochs): 1.7671685787849127\n",
      "\n",
      "Training time: 0.28 minutes\n",
      "Total training time: 0.28 minutes\n",
      "Start training classifier\n",
      "\n",
      "\n",
      "Start Training\n",
      "\n"
     ]
    },
    {
     "name": "stderr",
     "output_type": "stream",
     "text": [
      "100%|██████████| 50/50 [00:19<00:00,  2.56it/s]\n",
      "[I 2025-02-08 16:38:52,301] Trial 10 finished with value: 1.7664154707454145 and parameters: {'n_neurons_layer1': 1280, 'n_neurons_layer2': 1792, 'learning_rate': 0.0012872273261673832, 'dropout': 0.2}. Best is trial 10 with value: 1.7664154707454145.\n"
     ]
    },
    {
     "name": "stdout",
     "output_type": "stream",
     "text": [
      "\n",
      "**Finished training**\n",
      "\n",
      "Best validation loss (reached after 41 epochs): 1.7664154707454145\n",
      "\n",
      "Training time: 0.33 minutes\n",
      "Total training time: 0.33 minutes\n",
      "Start training classifier\n",
      "\n",
      "\n",
      "Start Training\n",
      "\n"
     ]
    },
    {
     "name": "stderr",
     "output_type": "stream",
     "text": [
      " 54%|█████▍    | 27/50 [00:10<00:09,  2.47it/s]\n",
      "[I 2025-02-08 16:39:03,319] Trial 11 finished with value: 1.7666987660340965 and parameters: {'n_neurons_layer1': 1408, 'n_neurons_layer2': 1920, 'learning_rate': 0.0015479883029115328, 'dropout': 0.2}. Best is trial 10 with value: 1.7664154707454145.\n"
     ]
    },
    {
     "name": "stdout",
     "output_type": "stream",
     "text": [
      "Stopped training using EarlyStopping at epoch 28\n",
      "\n",
      "**Finished training**\n",
      "\n",
      "Best validation loss (reached after 18 epochs): 1.7666987660340965\n",
      "\n",
      "Training time: 0.18 minutes\n",
      "Total training time: 0.18 minutes\n",
      "Start training classifier\n",
      "\n",
      "\n",
      "Start Training\n",
      "\n"
     ]
    },
    {
     "name": "stderr",
     "output_type": "stream",
     "text": [
      " 40%|████      | 20/50 [00:08<00:12,  2.37it/s]\n",
      "[I 2025-02-08 16:39:11,860] Trial 12 finished with value: 1.7672183870337903 and parameters: {'n_neurons_layer1': 1856, 'n_neurons_layer2': 1984, 'learning_rate': 0.0017297033590891286, 'dropout': 0.1}. Best is trial 10 with value: 1.7664154707454145.\n"
     ]
    },
    {
     "name": "stdout",
     "output_type": "stream",
     "text": [
      "Stopped training using EarlyStopping at epoch 21\n",
      "\n",
      "**Finished training**\n",
      "\n",
      "Best validation loss (reached after 11 epochs): 1.7672183870337903\n",
      "\n",
      "Training time: 0.14 minutes\n",
      "Total training time: 0.14 minutes\n",
      "Start training classifier\n",
      "\n",
      "\n",
      "Start Training\n",
      "\n"
     ]
    },
    {
     "name": "stderr",
     "output_type": "stream",
     "text": [
      " 54%|█████▍    | 27/50 [00:10<00:09,  2.49it/s]\n",
      "[I 2025-02-08 16:39:22,775] Trial 13 finished with value: 1.7667031304910779 and parameters: {'n_neurons_layer1': 1408, 'n_neurons_layer2': 2048, 'learning_rate': 0.0016376407442038863, 'dropout': 0.2}. Best is trial 10 with value: 1.7664154707454145.\n"
     ]
    },
    {
     "name": "stdout",
     "output_type": "stream",
     "text": [
      "Stopped training using EarlyStopping at epoch 28\n",
      "\n",
      "**Finished training**\n",
      "\n",
      "Best validation loss (reached after 18 epochs): 1.7667031304910779\n",
      "\n",
      "Training time: 0.18 minutes\n",
      "Total training time: 0.18 minutes\n",
      "Start training classifier\n",
      "\n",
      "\n",
      "Start Training\n",
      "\n"
     ]
    },
    {
     "name": "stderr",
     "output_type": "stream",
     "text": [
      " 68%|██████▊   | 34/50 [00:12<00:05,  2.69it/s]\n",
      "[I 2025-02-08 16:39:35,458] Trial 14 finished with value: 1.7669978983700276 and parameters: {'n_neurons_layer1': 512, 'n_neurons_layer2': 1728, 'learning_rate': 0.009898377600885041, 'dropout': 0.1}. Best is trial 10 with value: 1.7664154707454145.\n"
     ]
    },
    {
     "name": "stdout",
     "output_type": "stream",
     "text": [
      "Stopped training using EarlyStopping at epoch 35\n",
      "\n",
      "**Finished training**\n",
      "\n",
      "Best validation loss (reached after 25 epochs): 1.7669978983700276\n",
      "\n",
      "Training time: 0.21 minutes\n",
      "Total training time: 0.21 minutes\n",
      "Start training classifier\n",
      "\n",
      "\n",
      "Start Training\n",
      "\n"
     ]
    },
    {
     "name": "stderr",
     "output_type": "stream",
     "text": [
      " 40%|████      | 20/50 [00:08<00:13,  2.29it/s]\n",
      "[I 2025-02-08 16:39:44,257] Trial 15 finished with value: 1.7671000204980374 and parameters: {'n_neurons_layer1': 1792, 'n_neurons_layer2': 1728, 'learning_rate': 0.0012285947198040928, 'dropout': 0.0}. Best is trial 10 with value: 1.7664154707454145.\n"
     ]
    },
    {
     "name": "stdout",
     "output_type": "stream",
     "text": [
      "Stopped training using EarlyStopping at epoch 21\n",
      "\n",
      "**Finished training**\n",
      "\n",
      "Best validation loss (reached after 11 epochs): 1.7671000204980374\n",
      "\n",
      "Training time: 0.15 minutes\n",
      "Total training time: 0.15 minutes\n",
      "Start training classifier\n",
      "\n",
      "\n",
      "Start Training\n",
      "\n"
     ]
    },
    {
     "name": "stderr",
     "output_type": "stream",
     "text": [
      " 40%|████      | 20/50 [00:07<00:11,  2.60it/s]\n",
      "[I 2025-02-08 16:39:52,009] Trial 16 finished with value: 1.7670642633922398 and parameters: {'n_neurons_layer1': 1280, 'n_neurons_layer2': 1472, 'learning_rate': 0.003754614085109735, 'dropout': 0.2}. Best is trial 10 with value: 1.7664154707454145.\n"
     ]
    },
    {
     "name": "stdout",
     "output_type": "stream",
     "text": [
      "Stopped training using EarlyStopping at epoch 21\n",
      "\n",
      "**Finished training**\n",
      "\n",
      "Best validation loss (reached after 11 epochs): 1.7670642633922398\n",
      "\n",
      "Training time: 0.13 minutes\n",
      "Total training time: 0.13 minutes\n",
      "Start training classifier\n",
      "\n",
      "\n",
      "Start Training\n",
      "\n"
     ]
    },
    {
     "name": "stderr",
     "output_type": "stream",
     "text": [
      " 66%|██████▌   | 33/50 [00:13<00:06,  2.43it/s]\n",
      "[I 2025-02-08 16:40:05,665] Trial 17 finished with value: 1.7671219061128796 and parameters: {'n_neurons_layer1': 1664, 'n_neurons_layer2': 1856, 'learning_rate': 0.00021037038626399877, 'dropout': 0.1}. Best is trial 10 with value: 1.7664154707454145.\n"
     ]
    },
    {
     "name": "stdout",
     "output_type": "stream",
     "text": [
      "Stopped training using EarlyStopping at epoch 34\n",
      "\n",
      "**Finished training**\n",
      "\n",
      "Best validation loss (reached after 24 epochs): 1.7671219061128796\n",
      "\n",
      "Training time: 0.23 minutes\n",
      "Total training time: 0.23 minutes\n",
      "Start training classifier\n",
      "\n",
      "\n",
      "Start Training\n",
      "\n"
     ]
    },
    {
     "name": "stderr",
     "output_type": "stream",
     "text": [
      " 56%|█████▌    | 28/50 [00:09<00:07,  2.82it/s]\n",
      "[I 2025-02-08 16:40:15,650] Trial 18 finished with value: 1.7670861055143177 and parameters: {'n_neurons_layer1': 576, 'n_neurons_layer2': 1280, 'learning_rate': 0.0035677306466168246, 'dropout': 0.2}. Best is trial 10 with value: 1.7664154707454145.\n"
     ]
    },
    {
     "name": "stdout",
     "output_type": "stream",
     "text": [
      "Stopped training using EarlyStopping at epoch 29\n",
      "\n",
      "**Finished training**\n",
      "\n",
      "Best validation loss (reached after 19 epochs): 1.7670861055143177\n",
      "\n",
      "Training time: 0.17 minutes\n",
      "Total training time: 0.17 minutes\n",
      "Start training classifier\n",
      "\n",
      "\n",
      "Start Training\n",
      "\n"
     ]
    },
    {
     "name": "stderr",
     "output_type": "stream",
     "text": [
      " 68%|██████▊   | 34/50 [00:12<00:05,  2.68it/s]\n",
      "[I 2025-02-08 16:40:28,386] Trial 19 finished with value: 1.7665548267774285 and parameters: {'n_neurons_layer1': 1152, 'n_neurons_layer2': 832, 'learning_rate': 0.0008690414634111963, 'dropout': 0.30000000000000004}. Best is trial 10 with value: 1.7664154707454145.\n"
     ]
    },
    {
     "name": "stdout",
     "output_type": "stream",
     "text": [
      "Stopped training using EarlyStopping at epoch 35\n",
      "\n",
      "**Finished training**\n",
      "\n",
      "Best validation loss (reached after 25 epochs): 1.7665548267774285\n",
      "\n",
      "Training time: 0.21 minutes\n",
      "Total training time: 0.21 minutes\n",
      "Start training classifier\n",
      "\n",
      "\n",
      "Start Training\n",
      "\n"
     ]
    },
    {
     "name": "stderr",
     "output_type": "stream",
     "text": [
      "100%|██████████| 50/50 [00:18<00:00,  2.71it/s]\n",
      "[I 2025-02-08 16:40:46,882] Trial 20 finished with value: 1.769059707224369 and parameters: {'n_neurons_layer1': 1088, 'n_neurons_layer2': 768, 'learning_rate': 0.0001620132516588221, 'dropout': 0.5}. Best is trial 10 with value: 1.7664154707454145.\n"
     ]
    },
    {
     "name": "stdout",
     "output_type": "stream",
     "text": [
      "\n",
      "**Finished training**\n",
      "\n",
      "Best validation loss (reached after 48 epochs): 1.769059707224369\n",
      "\n",
      "Training time: 0.31 minutes\n",
      "Total training time: 0.31 minutes\n",
      "Start training classifier\n",
      "\n",
      "\n",
      "Start Training\n",
      "\n"
     ]
    },
    {
     "name": "stderr",
     "output_type": "stream",
     "text": [
      " 72%|███████▏  | 36/50 [00:13<00:05,  2.70it/s]\n",
      "[I 2025-02-08 16:41:00,259] Trial 21 finished with value: 1.7669251835905015 and parameters: {'n_neurons_layer1': 1344, 'n_neurons_layer2': 768, 'learning_rate': 0.0006588417400929951, 'dropout': 0.30000000000000004}. Best is trial 10 with value: 1.7664154707454145.\n"
     ]
    },
    {
     "name": "stdout",
     "output_type": "stream",
     "text": [
      "Stopped training using EarlyStopping at epoch 37\n",
      "\n",
      "**Finished training**\n",
      "\n",
      "Best validation loss (reached after 27 epochs): 1.7669251835905015\n",
      "\n",
      "Training time: 0.22 minutes\n",
      "Total training time: 0.22 minutes\n",
      "Start training classifier\n",
      "\n",
      "\n",
      "Start Training\n",
      "\n"
     ]
    },
    {
     "name": "stderr",
     "output_type": "stream",
     "text": [
      "100%|██████████| 50/50 [00:18<00:00,  2.66it/s]\n",
      "[I 2025-02-08 16:41:19,110] Trial 22 finished with value: 1.7667355204932391 and parameters: {'n_neurons_layer1': 1600, 'n_neurons_layer2': 1024, 'learning_rate': 0.0009556072552922745, 'dropout': 0.2}. Best is trial 10 with value: 1.7664154707454145.\n"
     ]
    },
    {
     "name": "stdout",
     "output_type": "stream",
     "text": [
      "\n",
      "**Finished training**\n",
      "\n",
      "Best validation loss (reached after 42 epochs): 1.7667355204932391\n",
      "\n",
      "Training time: 0.31 minutes\n",
      "Total training time: 0.31 minutes\n",
      "Start training classifier\n",
      "\n",
      "\n",
      "Start Training\n",
      "\n"
     ]
    },
    {
     "name": "stderr",
     "output_type": "stream",
     "text": [
      " 48%|████▊     | 24/50 [00:09<00:10,  2.40it/s]\n",
      "[I 2025-02-08 16:41:29,172] Trial 23 finished with value: 1.7665409166365862 and parameters: {'n_neurons_layer1': 1152, 'n_neurons_layer2': 1856, 'learning_rate': 0.0021596148744057945, 'dropout': 0.30000000000000004}. Best is trial 10 with value: 1.7664154707454145.\n"
     ]
    },
    {
     "name": "stdout",
     "output_type": "stream",
     "text": [
      "Stopped training using EarlyStopping at epoch 25\n",
      "\n",
      "**Finished training**\n",
      "\n",
      "Best validation loss (reached after 15 epochs): 1.7665409166365862\n",
      "\n",
      "Training time: 0.17 minutes\n",
      "Total training time: 0.17 minutes\n",
      "Start training classifier\n",
      "\n",
      "\n",
      "Start Training\n",
      "\n"
     ]
    },
    {
     "name": "stderr",
     "output_type": "stream",
     "text": [
      " 46%|████▌     | 23/50 [00:09<00:10,  2.54it/s]\n",
      "[I 2025-02-08 16:41:38,285] Trial 24 finished with value: 1.7668339470401406 and parameters: {'n_neurons_layer1': 704, 'n_neurons_layer2': 1536, 'learning_rate': 0.0025793023893284734, 'dropout': 0.4}. Best is trial 10 with value: 1.7664154707454145.\n"
     ]
    },
    {
     "name": "stdout",
     "output_type": "stream",
     "text": [
      "Stopped training using EarlyStopping at epoch 24\n",
      "\n",
      "**Finished training**\n",
      "\n",
      "Best validation loss (reached after 14 epochs): 1.7668339470401406\n",
      "\n",
      "Training time: 0.15 minutes\n",
      "Total training time: 0.15 minutes\n",
      "Start training classifier\n",
      "\n",
      "\n",
      "Start Training\n",
      "\n"
     ]
    },
    {
     "name": "stderr",
     "output_type": "stream",
     "text": [
      " 78%|███████▊  | 39/50 [00:15<00:04,  2.48it/s]\n",
      "[I 2025-02-08 16:41:54,092] Trial 25 finished with value: 1.767086383048445 and parameters: {'n_neurons_layer1': 1152, 'n_neurons_layer2': 1728, 'learning_rate': 0.005405075834516362, 'dropout': 0.30000000000000004}. Best is trial 10 with value: 1.7664154707454145.\n"
     ]
    },
    {
     "name": "stdout",
     "output_type": "stream",
     "text": [
      "Stopped training using EarlyStopping at epoch 40\n",
      "\n",
      "**Finished training**\n",
      "\n",
      "Best validation loss (reached after 30 epochs): 1.767086383048445\n",
      "\n",
      "Training time: 0.26 minutes\n",
      "Total training time: 0.26 minutes\n",
      "Start training classifier\n",
      "\n",
      "\n",
      "Start Training\n",
      "\n"
     ]
    },
    {
     "name": "stderr",
     "output_type": "stream",
     "text": [
      " 84%|████████▍ | 42/50 [00:15<00:02,  2.74it/s]\n",
      "[I 2025-02-08 16:42:09,462] Trial 26 finished with value: 1.767016443796456 and parameters: {'n_neurons_layer1': 960, 'n_neurons_layer2': 896, 'learning_rate': 0.0004937320193390492, 'dropout': 0.30000000000000004}. Best is trial 10 with value: 1.7664154707454145.\n"
     ]
    },
    {
     "name": "stdout",
     "output_type": "stream",
     "text": [
      "Stopped training using EarlyStopping at epoch 43\n",
      "\n",
      "**Finished training**\n",
      "\n",
      "Best validation loss (reached after 33 epochs): 1.767016443796456\n",
      "\n",
      "Training time: 0.26 minutes\n",
      "Total training time: 0.26 minutes\n",
      "Start training classifier\n",
      "\n",
      "\n",
      "Start Training\n",
      "\n"
     ]
    },
    {
     "name": "stderr",
     "output_type": "stream",
     "text": [
      " 66%|██████▌   | 33/50 [00:11<00:05,  2.87it/s]\n",
      "[I 2025-02-08 16:42:21,016] Trial 27 finished with value: 1.766856587678194 and parameters: {'n_neurons_layer1': 704, 'n_neurons_layer2': 1344, 'learning_rate': 0.002330111505327765, 'dropout': 0.4}. Best is trial 10 with value: 1.7664154707454145.\n"
     ]
    },
    {
     "name": "stdout",
     "output_type": "stream",
     "text": [
      "Stopped training using EarlyStopping at epoch 34\n",
      "\n",
      "**Finished training**\n",
      "\n",
      "Best validation loss (reached after 24 epochs): 1.766856587678194\n",
      "\n",
      "Training time: 0.19 minutes\n",
      "Total training time: 0.19 minutes\n",
      "Start training classifier\n",
      "\n",
      "\n",
      "Start Training\n",
      "\n"
     ]
    },
    {
     "name": "stderr",
     "output_type": "stream",
     "text": [
      " 54%|█████▍    | 27/50 [00:09<00:08,  2.86it/s]\n",
      "[I 2025-02-08 16:42:30,502] Trial 28 finished with value: 1.7671512241475285 and parameters: {'n_neurons_layer1': 1216, 'n_neurons_layer2': 640, 'learning_rate': 0.0009280663198095125, 'dropout': 0.30000000000000004}. Best is trial 10 with value: 1.7664154707454145.\n"
     ]
    },
    {
     "name": "stdout",
     "output_type": "stream",
     "text": [
      "Stopped training using EarlyStopping at epoch 28\n",
      "\n",
      "**Finished training**\n",
      "\n",
      "Best validation loss (reached after 18 epochs): 1.7671512241475285\n",
      "\n",
      "Training time: 0.16 minutes\n",
      "Total training time: 0.16 minutes\n",
      "Start training classifier\n",
      "\n",
      "\n",
      "Start Training\n",
      "\n"
     ]
    },
    {
     "name": "stderr",
     "output_type": "stream",
     "text": [
      "100%|██████████| 50/50 [00:16<00:00,  3.11it/s]\n",
      "[I 2025-02-08 16:42:46,611] Trial 29 finished with value: 1.7693127057515086 and parameters: {'n_neurons_layer1': 1024, 'n_neurons_layer2': 1152, 'learning_rate': 0.00011260877805359955, 'dropout': 0.5}. Best is trial 10 with value: 1.7664154707454145.\n"
     ]
    },
    {
     "name": "stdout",
     "output_type": "stream",
     "text": [
      "\n",
      "**Finished training**\n",
      "\n",
      "Best validation loss (reached after 48 epochs): 1.7693127057515086\n",
      "\n",
      "Training time: 0.27 minutes\n",
      "Total training time: 0.27 minutes\n",
      "Start training classifier\n",
      "\n",
      "\n",
      "Start Training\n",
      "\n"
     ]
    },
    {
     "name": "stderr",
     "output_type": "stream",
     "text": [
      "100%|██████████| 50/50 [00:17<00:00,  2.80it/s]\n",
      "[I 2025-02-08 16:43:04,514] Trial 30 finished with value: 1.7669384227134288 and parameters: {'n_neurons_layer1': 1984, 'n_neurons_layer2': 1792, 'learning_rate': 0.0056808505781739795, 'dropout': 0.4}. Best is trial 10 with value: 1.7664154707454145.\n"
     ]
    },
    {
     "name": "stdout",
     "output_type": "stream",
     "text": [
      "\n",
      "**Finished training**\n",
      "\n",
      "Best validation loss (reached after 41 epochs): 1.7669384227134288\n",
      "\n",
      "Training time: 0.30 minutes\n",
      "Total training time: 0.30 minutes\n",
      "Start training classifier\n",
      "\n",
      "\n",
      "Start Training\n",
      "\n"
     ]
    },
    {
     "name": "stderr",
     "output_type": "stream",
     "text": [
      " 54%|█████▍    | 27/50 [00:09<00:07,  2.90it/s]\n",
      "[I 2025-02-08 16:43:13,906] Trial 31 finished with value: 1.7667268511839211 and parameters: {'n_neurons_layer1': 1408, 'n_neurons_layer2': 1920, 'learning_rate': 0.0014892371070710638, 'dropout': 0.2}. Best is trial 10 with value: 1.7664154707454145.\n"
     ]
    },
    {
     "name": "stdout",
     "output_type": "stream",
     "text": [
      "Stopped training using EarlyStopping at epoch 28\n",
      "\n",
      "**Finished training**\n",
      "\n",
      "Best validation loss (reached after 18 epochs): 1.7667268511839211\n",
      "\n",
      "Training time: 0.16 minutes\n",
      "Total training time: 0.16 minutes\n",
      "Start training classifier\n",
      "\n",
      "\n",
      "Start Training\n",
      "\n"
     ]
    },
    {
     "name": "stderr",
     "output_type": "stream",
     "text": [
      " 54%|█████▍    | 27/50 [00:09<00:08,  2.86it/s]\n",
      "[I 2025-02-08 16:43:23,417] Trial 32 finished with value: 1.767024145554751 and parameters: {'n_neurons_layer1': 1536, 'n_neurons_layer2': 2048, 'learning_rate': 0.0021740367977094144, 'dropout': 0.2}. Best is trial 10 with value: 1.7664154707454145.\n"
     ]
    },
    {
     "name": "stdout",
     "output_type": "stream",
     "text": [
      "Stopped training using EarlyStopping at epoch 28\n",
      "\n",
      "**Finished training**\n",
      "\n",
      "Best validation loss (reached after 18 epochs): 1.767024145554751\n",
      "\n",
      "Training time: 0.16 minutes\n",
      "Total training time: 0.16 minutes\n",
      "Start training classifier\n",
      "\n",
      "\n",
      "Start Training\n",
      "\n"
     ]
    },
    {
     "name": "stderr",
     "output_type": "stream",
     "text": [
      "100%|██████████| 50/50 [00:17<00:00,  2.87it/s]\n",
      "[I 2025-02-08 16:43:40,920] Trial 33 finished with value: 1.7738960119895637 and parameters: {'n_neurons_layer1': 1280, 'n_neurons_layer2': 1664, 'learning_rate': 1.1197433171205714e-05, 'dropout': 0.1}. Best is trial 10 with value: 1.7664154707454145.\n"
     ]
    },
    {
     "name": "stdout",
     "output_type": "stream",
     "text": [
      "\n",
      "**Finished training**\n",
      "\n",
      "Best validation loss (reached after 44 epochs): 1.7738960119895637\n",
      "\n",
      "Training time: 0.29 minutes\n",
      "Total training time: 0.29 minutes\n",
      "Start training classifier\n",
      "\n",
      "\n",
      "Start Training\n",
      "\n"
     ]
    },
    {
     "name": "stderr",
     "output_type": "stream",
     "text": [
      " 64%|██████▍   | 32/50 [00:12<00:06,  2.60it/s]\n",
      "[I 2025-02-08 16:43:53,288] Trial 34 finished with value: 1.7669440788216888 and parameters: {'n_neurons_layer1': 1472, 'n_neurons_layer2': 1920, 'learning_rate': 0.00031543349058746686, 'dropout': 0.30000000000000004}. Best is trial 10 with value: 1.7664154707454145.\n"
     ]
    },
    {
     "name": "stdout",
     "output_type": "stream",
     "text": [
      "Stopped training using EarlyStopping at epoch 33\n",
      "\n",
      "**Finished training**\n",
      "\n",
      "Best validation loss (reached after 23 epochs): 1.7669440788216888\n",
      "\n",
      "Training time: 0.20 minutes\n",
      "Total training time: 0.21 minutes\n",
      "Start training classifier\n",
      "\n",
      "\n",
      "Start Training\n",
      "\n"
     ]
    },
    {
     "name": "stderr",
     "output_type": "stream",
     "text": [
      " 54%|█████▍    | 27/50 [00:09<00:08,  2.77it/s]\n",
      "[I 2025-02-08 16:44:03,106] Trial 35 finished with value: 1.7667589659802616 and parameters: {'n_neurons_layer1': 1344, 'n_neurons_layer2': 1472, 'learning_rate': 0.0005967578989024205, 'dropout': 0.2}. Best is trial 10 with value: 1.7664154707454145.\n"
     ]
    },
    {
     "name": "stdout",
     "output_type": "stream",
     "text": [
      "Stopped training using EarlyStopping at epoch 28\n",
      "\n",
      "**Finished training**\n",
      "\n",
      "Best validation loss (reached after 18 epochs): 1.7667589659802616\n",
      "\n",
      "Training time: 0.16 minutes\n",
      "Total training time: 0.16 minutes\n",
      "Start training classifier\n",
      "\n",
      "\n",
      "Start Training\n",
      "\n"
     ]
    },
    {
     "name": "stderr",
     "output_type": "stream",
     "text": [
      " 72%|███████▏  | 36/50 [00:13<00:05,  2.68it/s]\n",
      "[I 2025-02-08 16:44:16,632] Trial 36 finished with value: 1.766531120147556 and parameters: {'n_neurons_layer1': 1728, 'n_neurons_layer2': 1856, 'learning_rate': 0.0010738255465579521, 'dropout': 0.4}. Best is trial 10 with value: 1.7664154707454145.\n"
     ]
    },
    {
     "name": "stdout",
     "output_type": "stream",
     "text": [
      "Stopped training using EarlyStopping at epoch 37\n",
      "\n",
      "**Finished training**\n",
      "\n",
      "Best validation loss (reached after 27 epochs): 1.766531120147556\n",
      "\n",
      "Training time: 0.22 minutes\n",
      "Total training time: 0.22 minutes\n",
      "Start training classifier\n",
      "\n",
      "\n",
      "Start Training\n",
      "\n"
     ]
    },
    {
     "name": "stderr",
     "output_type": "stream",
     "text": [
      " 50%|█████     | 25/50 [00:08<00:08,  2.97it/s]\n",
      "[I 2025-02-08 16:44:25,101] Trial 37 finished with value: 1.7670354355126618 and parameters: {'n_neurons_layer1': 1728, 'n_neurons_layer2': 576, 'learning_rate': 0.0010461250405996141, 'dropout': 0.4}. Best is trial 10 with value: 1.7664154707454145.\n"
     ]
    },
    {
     "name": "stdout",
     "output_type": "stream",
     "text": [
      "Stopped training using EarlyStopping at epoch 26\n",
      "\n",
      "**Finished training**\n",
      "\n",
      "Best validation loss (reached after 16 epochs): 1.7670354355126618\n",
      "\n",
      "Training time: 0.14 minutes\n",
      "Total training time: 0.14 minutes\n",
      "Start training classifier\n",
      "\n",
      "\n",
      "Start Training\n",
      "\n"
     ]
    },
    {
     "name": "stderr",
     "output_type": "stream",
     "text": [
      " 80%|████████  | 40/50 [00:14<00:03,  2.72it/s]\n",
      "[I 2025-02-08 16:44:39,895] Trial 38 finished with value: 1.7675897900946438 and parameters: {'n_neurons_layer1': 1984, 'n_neurons_layer2': 896, 'learning_rate': 0.0002612904608267682, 'dropout': 0.5}. Best is trial 10 with value: 1.7664154707454145.\n"
     ]
    },
    {
     "name": "stdout",
     "output_type": "stream",
     "text": [
      "Stopped training using EarlyStopping at epoch 41\n",
      "\n",
      "**Finished training**\n",
      "\n",
      "Best validation loss (reached after 31 epochs): 1.7675897900946438\n",
      "\n",
      "Training time: 0.25 minutes\n",
      "Total training time: 0.25 minutes\n",
      "Start training classifier\n",
      "\n",
      "\n",
      "Start Training\n",
      "\n"
     ]
    },
    {
     "name": "stderr",
     "output_type": "stream",
     "text": [
      "100%|██████████| 50/50 [00:15<00:00,  3.25it/s]\n",
      "[I 2025-02-08 16:44:55,336] Trial 39 finished with value: 1.7673724254593253 and parameters: {'n_neurons_layer1': 832, 'n_neurons_layer2': 256, 'learning_rate': 0.0007372656470210319, 'dropout': 0.4}. Best is trial 10 with value: 1.7664154707454145.\n"
     ]
    },
    {
     "name": "stdout",
     "output_type": "stream",
     "text": [
      "\n",
      "**Finished training**\n",
      "\n",
      "Best validation loss (reached after 42 epochs): 1.7673724254593253\n",
      "\n",
      "Training time: 0.26 minutes\n",
      "Total training time: 0.26 minutes\n",
      "Start training classifier\n",
      "\n",
      "\n",
      "Start Training\n",
      "\n"
     ]
    },
    {
     "name": "stderr",
     "output_type": "stream",
     "text": [
      " 60%|██████    | 30/50 [00:10<00:07,  2.73it/s]\n",
      "[I 2025-02-08 16:45:06,387] Trial 40 finished with value: 1.7679881255142391 and parameters: {'n_neurons_layer1': 1856, 'n_neurons_layer2': 1216, 'learning_rate': 0.0028091264614229353, 'dropout': 0.4}. Best is trial 10 with value: 1.7664154707454145.\n"
     ]
    },
    {
     "name": "stdout",
     "output_type": "stream",
     "text": [
      "Stopped training using EarlyStopping at epoch 31\n",
      "\n",
      "**Finished training**\n",
      "\n",
      "Best validation loss (reached after 21 epochs): 1.7679881255142391\n",
      "\n",
      "Training time: 0.18 minutes\n",
      "Total training time: 0.18 minutes\n",
      "Start training classifier\n",
      "\n",
      "\n",
      "Start Training\n",
      "\n"
     ]
    },
    {
     "name": "stderr",
     "output_type": "stream",
     "text": [
      " 62%|██████▏   | 31/50 [00:11<00:06,  2.75it/s]\n",
      "[I 2025-02-08 16:45:17,731] Trial 41 finished with value: 1.7669411145150662 and parameters: {'n_neurons_layer1': 1216, 'n_neurons_layer2': 1792, 'learning_rate': 0.001255363747648046, 'dropout': 0.30000000000000004}. Best is trial 10 with value: 1.7664154707454145.\n"
     ]
    },
    {
     "name": "stdout",
     "output_type": "stream",
     "text": [
      "Stopped training using EarlyStopping at epoch 32\n",
      "\n",
      "**Finished training**\n",
      "\n",
      "Best validation loss (reached after 22 epochs): 1.7669411145150662\n",
      "\n",
      "Training time: 0.19 minutes\n",
      "Total training time: 0.19 minutes\n",
      "Start training classifier\n",
      "\n",
      "\n",
      "Start Training\n",
      "\n"
     ]
    },
    {
     "name": "stderr",
     "output_type": "stream",
     "text": [
      " 54%|█████▍    | 27/50 [00:10<00:08,  2.61it/s]\n",
      "[I 2025-02-08 16:45:28,158] Trial 42 finished with value: 1.7664915640838443 and parameters: {'n_neurons_layer1': 1472, 'n_neurons_layer2': 1920, 'learning_rate': 0.001953217892249259, 'dropout': 0.30000000000000004}. Best is trial 10 with value: 1.7664154707454145.\n"
     ]
    },
    {
     "name": "stdout",
     "output_type": "stream",
     "text": [
      "Stopped training using EarlyStopping at epoch 28\n",
      "\n",
      "**Finished training**\n",
      "\n",
      "Best validation loss (reached after 18 epochs): 1.7664915640838443\n",
      "\n",
      "Training time: 0.17 minutes\n",
      "Total training time: 0.17 minutes\n",
      "Start training classifier\n",
      "\n",
      "\n",
      "Start Training\n",
      "\n"
     ]
    },
    {
     "name": "stderr",
     "output_type": "stream",
     "text": [
      " 80%|████████  | 40/50 [00:14<00:03,  2.71it/s]\n",
      "[I 2025-02-08 16:45:42,999] Trial 43 finished with value: 1.7670344999991356 and parameters: {'n_neurons_layer1': 1536, 'n_neurons_layer2': 1856, 'learning_rate': 0.0042896150319295945, 'dropout': 0.30000000000000004}. Best is trial 10 with value: 1.7664154707454145.\n"
     ]
    },
    {
     "name": "stdout",
     "output_type": "stream",
     "text": [
      "Stopped training using EarlyStopping at epoch 41\n",
      "\n",
      "**Finished training**\n",
      "\n",
      "Best validation loss (reached after 31 epochs): 1.7670344999991356\n",
      "\n",
      "Training time: 0.25 minutes\n",
      "Total training time: 0.25 minutes\n",
      "Start training classifier\n",
      "\n",
      "\n",
      "Start Training\n",
      "\n"
     ]
    },
    {
     "name": "stderr",
     "output_type": "stream",
     "text": [
      " 44%|████▍     | 22/50 [00:07<00:10,  2.77it/s]\n",
      "[I 2025-02-08 16:45:51,009] Trial 44 finished with value: 1.7667719877324999 and parameters: {'n_neurons_layer1': 1024, 'n_neurons_layer2': 1600, 'learning_rate': 0.0018584341140700528, 'dropout': 0.30000000000000004}. Best is trial 10 with value: 1.7664154707454145.\n"
     ]
    },
    {
     "name": "stdout",
     "output_type": "stream",
     "text": [
      "Stopped training using EarlyStopping at epoch 23\n",
      "\n",
      "**Finished training**\n",
      "\n",
      "Best validation loss (reached after 13 epochs): 1.7667719877324999\n",
      "\n",
      "Training time: 0.13 minutes\n",
      "Total training time: 0.13 minutes\n",
      "Start training classifier\n",
      "\n",
      "\n",
      "Start Training\n",
      "\n"
     ]
    },
    {
     "name": "stderr",
     "output_type": "stream",
     "text": [
      " 50%|█████     | 25/50 [00:09<00:09,  2.67it/s]\n",
      "[I 2025-02-08 16:46:00,449] Trial 45 finished with value: 1.7673410045914353 and parameters: {'n_neurons_layer1': 1152, 'n_neurons_layer2': 2048, 'learning_rate': 0.00047303292791273105, 'dropout': 0.4}. Best is trial 10 with value: 1.7664154707454145.\n"
     ]
    },
    {
     "name": "stdout",
     "output_type": "stream",
     "text": [
      "Stopped training using EarlyStopping at epoch 26\n",
      "\n",
      "**Finished training**\n",
      "\n",
      "Best validation loss (reached after 16 epochs): 1.7673410045914353\n",
      "\n",
      "Training time: 0.16 minutes\n",
      "Total training time: 0.16 minutes\n",
      "Start training classifier\n",
      "\n",
      "\n",
      "Start Training\n",
      "\n"
     ]
    },
    {
     "name": "stderr",
     "output_type": "stream",
     "text": [
      "100%|██████████| 50/50 [00:17<00:00,  2.85it/s]\n",
      "[I 2025-02-08 16:46:18,041] Trial 46 finished with value: 1.7666457824409008 and parameters: {'n_neurons_layer1': 1728, 'n_neurons_layer2': 1600, 'learning_rate': 0.0011284420373431716, 'dropout': 0.30000000000000004}. Best is trial 10 with value: 1.7664154707454145.\n"
     ]
    },
    {
     "name": "stdout",
     "output_type": "stream",
     "text": [
      "\n",
      "**Finished training**\n",
      "\n",
      "Best validation loss (reached after 45 epochs): 1.7666457824409008\n",
      "\n",
      "Training time: 0.29 minutes\n",
      "Total training time: 0.29 minutes\n",
      "Start training classifier\n",
      "\n",
      "\n",
      "Start Training\n",
      "\n"
     ]
    },
    {
     "name": "stderr",
     "output_type": "stream",
     "text": [
      " 40%|████      | 20/50 [00:08<00:12,  2.38it/s]\n",
      "[I 2025-02-08 16:46:26,534] Trial 47 finished with value: 1.7666704943403602 and parameters: {'n_neurons_layer1': 1472, 'n_neurons_layer2': 1408, 'learning_rate': 0.0027149325016639653, 'dropout': 0.4}. Best is trial 10 with value: 1.7664154707454145.\n"
     ]
    },
    {
     "name": "stdout",
     "output_type": "stream",
     "text": [
      "Stopped training using EarlyStopping at epoch 21\n",
      "\n",
      "**Finished training**\n",
      "\n",
      "Best validation loss (reached after 11 epochs): 1.7666704943403602\n",
      "\n",
      "Training time: 0.14 minutes\n",
      "Total training time: 0.14 minutes\n",
      "Start training classifier\n",
      "\n",
      "\n",
      "Start Training\n",
      "\n"
     ]
    },
    {
     "name": "stderr",
     "output_type": "stream",
     "text": [
      " 58%|█████▊    | 29/50 [00:12<00:09,  2.27it/s]\n",
      "[I 2025-02-08 16:46:39,388] Trial 48 finished with value: 1.7672871818765998 and parameters: {'n_neurons_layer1': 896, 'n_neurons_layer2': 1984, 'learning_rate': 0.006459288656547162, 'dropout': 0.30000000000000004}. Best is trial 10 with value: 1.7664154707454145.\n"
     ]
    },
    {
     "name": "stdout",
     "output_type": "stream",
     "text": [
      "Stopped training using EarlyStopping at epoch 30\n",
      "\n",
      "**Finished training**\n",
      "\n",
      "Best validation loss (reached after 20 epochs): 1.7672871818765998\n",
      "\n",
      "Training time: 0.21 minutes\n",
      "Total training time: 0.21 minutes\n",
      "Start training classifier\n",
      "\n",
      "\n",
      "Start Training\n",
      "\n"
     ]
    },
    {
     "name": "stderr",
     "output_type": "stream",
     "text": [
      " 54%|█████▍    | 27/50 [00:11<00:10,  2.25it/s]\n",
      "[I 2025-02-08 16:46:51,453] Trial 49 finished with value: 1.7667604726739228 and parameters: {'n_neurons_layer1': 1600, 'n_neurons_layer2': 1856, 'learning_rate': 0.0014633386035982458, 'dropout': 0.2}. Best is trial 10 with value: 1.7664154707454145.\n"
     ]
    },
    {
     "name": "stdout",
     "output_type": "stream",
     "text": [
      "Stopped training using EarlyStopping at epoch 28\n",
      "\n",
      "**Finished training**\n",
      "\n",
      "Best validation loss (reached after 18 epochs): 1.7667604726739228\n",
      "\n",
      "Training time: 0.20 minutes\n",
      "Total training time: 0.20 minutes\n",
      "Start training classifier\n",
      "\n",
      "\n",
      "Start Training\n",
      "\n"
     ]
    },
    {
     "name": "stderr",
     "output_type": "stream",
     "text": [
      " 84%|████████▍ | 42/50 [00:14<00:02,  2.84it/s]\n",
      "[I 2025-02-08 16:47:06,336] Trial 50 finished with value: 1.7667065345682205 and parameters: {'n_neurons_layer1': 1280, 'n_neurons_layer2': 896, 'learning_rate': 0.00034716676454672675, 'dropout': 0.1}. Best is trial 10 with value: 1.7664154707454145.\n"
     ]
    },
    {
     "name": "stdout",
     "output_type": "stream",
     "text": [
      "Stopped training using EarlyStopping at epoch 43\n",
      "\n",
      "**Finished training**\n",
      "\n",
      "Best validation loss (reached after 33 epochs): 1.7667065345682205\n",
      "\n",
      "Training time: 0.25 minutes\n",
      "Total training time: 0.25 minutes\n",
      "Start training classifier\n",
      "\n",
      "\n",
      "Start Training\n",
      "\n"
     ]
    },
    {
     "name": "stderr",
     "output_type": "stream",
     "text": [
      " 54%|█████▍    | 27/50 [00:10<00:08,  2.67it/s]\n",
      "[I 2025-02-08 16:47:16,568] Trial 51 finished with value: 1.7669734975323081 and parameters: {'n_neurons_layer1': 1728, 'n_neurons_layer2': 1664, 'learning_rate': 0.0011452337540726121, 'dropout': 0.30000000000000004}. Best is trial 10 with value: 1.7664154707454145.\n"
     ]
    },
    {
     "name": "stdout",
     "output_type": "stream",
     "text": [
      "Stopped training using EarlyStopping at epoch 28\n",
      "\n",
      "**Finished training**\n",
      "\n",
      "Best validation loss (reached after 18 epochs): 1.7669734975323081\n",
      "\n",
      "Training time: 0.17 minutes\n",
      "Total training time: 0.17 minutes\n",
      "Start training classifier\n",
      "\n",
      "\n",
      "Start Training\n",
      "\n"
     ]
    },
    {
     "name": "stderr",
     "output_type": "stream",
     "text": [
      " 68%|██████▊   | 34/50 [00:12<00:05,  2.67it/s]\n",
      "[I 2025-02-08 16:47:29,367] Trial 52 finished with value: 1.7666728030890226 and parameters: {'n_neurons_layer1': 1856, 'n_neurons_layer2': 1600, 'learning_rate': 0.0008179414615879225, 'dropout': 0.30000000000000004}. Best is trial 10 with value: 1.7664154707454145.\n"
     ]
    },
    {
     "name": "stdout",
     "output_type": "stream",
     "text": [
      "Stopped training using EarlyStopping at epoch 35\n",
      "\n",
      "**Finished training**\n",
      "\n",
      "Best validation loss (reached after 25 epochs): 1.7666728030890226\n",
      "\n",
      "Training time: 0.21 minutes\n",
      "Total training time: 0.21 minutes\n",
      "Start training classifier\n",
      "\n",
      "\n",
      "Start Training\n",
      "\n"
     ]
    },
    {
     "name": "stderr",
     "output_type": "stream",
     "text": [
      " 78%|███████▊  | 39/50 [00:13<00:03,  2.82it/s]\n",
      "[I 2025-02-08 16:47:43,241] Trial 53 finished with value: 1.76737423222512 and parameters: {'n_neurons_layer1': 128, 'n_neurons_layer2': 1792, 'learning_rate': 0.001853993606701518, 'dropout': 0.30000000000000004}. Best is trial 10 with value: 1.7664154707454145.\n"
     ]
    },
    {
     "name": "stdout",
     "output_type": "stream",
     "text": [
      "Stopped training using EarlyStopping at epoch 40\n",
      "\n",
      "**Finished training**\n",
      "\n",
      "Best validation loss (reached after 30 epochs): 1.76737423222512\n",
      "\n",
      "Training time: 0.23 minutes\n",
      "Total training time: 0.23 minutes\n",
      "Start training classifier\n",
      "\n",
      "\n",
      "Start Training\n",
      "\n"
     ]
    },
    {
     "name": "stderr",
     "output_type": "stream",
     "text": [
      "100%|██████████| 50/50 [00:18<00:00,  2.68it/s]\n",
      "[I 2025-02-08 16:48:01,965] Trial 54 finished with value: 1.7666404006071388 and parameters: {'n_neurons_layer1': 1664, 'n_neurons_layer2': 1984, 'learning_rate': 0.0006134511978174919, 'dropout': 0.2}. Best is trial 10 with value: 1.7664154707454145.\n"
     ]
    },
    {
     "name": "stdout",
     "output_type": "stream",
     "text": [
      "\n",
      "**Finished training**\n",
      "\n",
      "Best validation loss (reached after 43 epochs): 1.7666404006071388\n",
      "\n",
      "Training time: 0.31 minutes\n",
      "Total training time: 0.31 minutes\n",
      "Start training classifier\n",
      "\n",
      "\n",
      "Start Training\n",
      "\n"
     ]
    },
    {
     "name": "stderr",
     "output_type": "stream",
     "text": [
      " 66%|██████▌   | 33/50 [00:13<00:06,  2.53it/s]\n",
      "[I 2025-02-08 16:48:15,086] Trial 55 finished with value: 1.7667292178608478 and parameters: {'n_neurons_layer1': 2048, 'n_neurons_layer2': 1984, 'learning_rate': 0.00081988891838674, 'dropout': 0.2}. Best is trial 10 with value: 1.7664154707454145.\n"
     ]
    },
    {
     "name": "stdout",
     "output_type": "stream",
     "text": [
      "Stopped training using EarlyStopping at epoch 34\n",
      "\n",
      "**Finished training**\n",
      "\n",
      "Best validation loss (reached after 24 epochs): 1.7667292178608478\n",
      "\n",
      "Training time: 0.22 minutes\n",
      "Total training time: 0.22 minutes\n",
      "Start training classifier\n",
      "\n",
      "\n",
      "Start Training\n",
      "\n"
     ]
    },
    {
     "name": "stderr",
     "output_type": "stream",
     "text": [
      "100%|██████████| 50/50 [00:18<00:00,  2.71it/s]\n",
      "[I 2025-02-08 16:48:33,621] Trial 56 finished with value: 1.7686163052916526 and parameters: {'n_neurons_layer1': 1472, 'n_neurons_layer2': 1920, 'learning_rate': 5.109432416468872e-05, 'dropout': 0.2}. Best is trial 10 with value: 1.7664154707454145.\n"
     ]
    },
    {
     "name": "stdout",
     "output_type": "stream",
     "text": [
      "\n",
      "**Finished training**\n",
      "\n",
      "Best validation loss (reached after 50 epochs): 1.7686163052916526\n",
      "\n",
      "Training time: 0.31 minutes\n",
      "Total training time: 0.31 minutes\n",
      "Start training classifier\n",
      "\n",
      "\n",
      "Start Training\n",
      "\n"
     ]
    },
    {
     "name": "stderr",
     "output_type": "stream",
     "text": [
      " 64%|██████▍   | 32/50 [00:11<00:06,  2.75it/s]\n",
      "[I 2025-02-08 16:48:45,318] Trial 57 finished with value: 1.7667843646369874 and parameters: {'n_neurons_layer1': 1344, 'n_neurons_layer2': 2048, 'learning_rate': 0.000583865273972929, 'dropout': 0.1}. Best is trial 10 with value: 1.7664154707454145.\n"
     ]
    },
    {
     "name": "stdout",
     "output_type": "stream",
     "text": [
      "Stopped training using EarlyStopping at epoch 33\n",
      "\n",
      "**Finished training**\n",
      "\n",
      "Best validation loss (reached after 23 epochs): 1.7667843646369874\n",
      "\n",
      "Training time: 0.19 minutes\n",
      "Total training time: 0.19 minutes\n",
      "Start training classifier\n",
      "\n",
      "\n",
      "Start Training\n",
      "\n"
     ]
    },
    {
     "name": "stderr",
     "output_type": "stream",
     "text": [
      "100%|██████████| 50/50 [00:17<00:00,  2.83it/s]\n",
      "[I 2025-02-08 16:49:03,035] Trial 58 finished with value: 1.7665853575803339 and parameters: {'n_neurons_layer1': 1152, 'n_neurons_layer2': 1728, 'learning_rate': 0.000413842509303434, 'dropout': 0.2}. Best is trial 10 with value: 1.7664154707454145.\n"
     ]
    },
    {
     "name": "stdout",
     "output_type": "stream",
     "text": [
      "\n",
      "**Finished training**\n",
      "\n",
      "Best validation loss (reached after 50 epochs): 1.7665853575803339\n",
      "\n",
      "Training time: 0.29 minutes\n",
      "Total training time: 0.29 minutes\n",
      "Start training classifier\n",
      "\n",
      "\n",
      "Start Training\n",
      "\n"
     ]
    },
    {
     "name": "stderr",
     "output_type": "stream",
     "text": [
      "100%|██████████| 50/50 [00:17<00:00,  2.86it/s]\n",
      "[I 2025-02-08 16:49:20,566] Trial 59 finished with value: 1.7670000931248069 and parameters: {'n_neurons_layer1': 1152, 'n_neurons_layer2': 1728, 'learning_rate': 0.00016763130551980784, 'dropout': 0.0}. Best is trial 10 with value: 1.7664154707454145.\n"
     ]
    },
    {
     "name": "stdout",
     "output_type": "stream",
     "text": [
      "\n",
      "**Finished training**\n",
      "\n",
      "Best validation loss (reached after 50 epochs): 1.7670000931248069\n",
      "\n",
      "Training time: 0.29 minutes\n",
      "Total training time: 0.29 minutes\n",
      "Start training classifier\n",
      "\n",
      "\n",
      "Start Training\n",
      "\n"
     ]
    },
    {
     "name": "stderr",
     "output_type": "stream",
     "text": [
      " 84%|████████▍ | 42/50 [00:15<00:02,  2.79it/s]\n",
      "[I 2025-02-08 16:49:35,688] Trial 60 finished with value: 1.7671418179757894 and parameters: {'n_neurons_layer1': 1088, 'n_neurons_layer2': 640, 'learning_rate': 0.0004254835118448342, 'dropout': 0.2}. Best is trial 10 with value: 1.7664154707454145.\n"
     ]
    },
    {
     "name": "stdout",
     "output_type": "stream",
     "text": [
      "Stopped training using EarlyStopping at epoch 43\n",
      "\n",
      "**Finished training**\n",
      "\n",
      "Best validation loss (reached after 33 epochs): 1.7671418179757894\n",
      "\n",
      "Training time: 0.25 minutes\n",
      "Total training time: 0.25 minutes\n",
      "Start training classifier\n",
      "\n",
      "\n",
      "Start Training\n",
      "\n"
     ]
    },
    {
     "name": "stderr",
     "output_type": "stream",
     "text": [
      " 68%|██████▊   | 34/50 [00:12<00:05,  2.70it/s]\n",
      "[I 2025-02-08 16:49:48,348] Trial 61 finished with value: 1.7667362905107438 and parameters: {'n_neurons_layer1': 960, 'n_neurons_layer2': 1856, 'learning_rate': 0.0006928319464161499, 'dropout': 0.2}. Best is trial 10 with value: 1.7664154707454145.\n"
     ]
    },
    {
     "name": "stdout",
     "output_type": "stream",
     "text": [
      "Stopped training using EarlyStopping at epoch 35\n",
      "\n",
      "**Finished training**\n",
      "\n",
      "Best validation loss (reached after 25 epochs): 1.7667362905107438\n",
      "\n",
      "Training time: 0.21 minutes\n",
      "Total training time: 0.21 minutes\n",
      "Start training classifier\n",
      "\n",
      "\n",
      "Start Training\n",
      "\n"
     ]
    },
    {
     "name": "stderr",
     "output_type": "stream",
     "text": [
      " 78%|███████▊  | 39/50 [00:14<00:04,  2.67it/s]\n",
      "[I 2025-02-08 16:50:03,046] Trial 62 finished with value: 1.7669932070188223 and parameters: {'n_neurons_layer1': 1664, 'n_neurons_layer2': 1984, 'learning_rate': 0.0032237807798987336, 'dropout': 0.2}. Best is trial 10 with value: 1.7664154707454145.\n"
     ]
    },
    {
     "name": "stdout",
     "output_type": "stream",
     "text": [
      "Stopped training using EarlyStopping at epoch 40\n",
      "\n",
      "**Finished training**\n",
      "\n",
      "Best validation loss (reached after 30 epochs): 1.7669932070188223\n",
      "\n",
      "Training time: 0.24 minutes\n",
      "Total training time: 0.24 minutes\n",
      "Start training classifier\n",
      "\n",
      "\n",
      "Start Training\n",
      "\n"
     ]
    },
    {
     "name": "stderr",
     "output_type": "stream",
     "text": [
      " 48%|████▊     | 24/50 [00:08<00:09,  2.74it/s]\n",
      "[I 2025-02-08 16:50:11,890] Trial 63 finished with value: 1.7670357525348663 and parameters: {'n_neurons_layer1': 1344, 'n_neurons_layer2': 1792, 'learning_rate': 0.0020303627393963085, 'dropout': 0.2}. Best is trial 10 with value: 1.7664154707454145.\n"
     ]
    },
    {
     "name": "stdout",
     "output_type": "stream",
     "text": [
      "Stopped training using EarlyStopping at epoch 25\n",
      "\n",
      "**Finished training**\n",
      "\n",
      "Best validation loss (reached after 15 epochs): 1.7670357525348663\n",
      "\n",
      "Training time: 0.15 minutes\n",
      "Total training time: 0.15 minutes\n",
      "Start training classifier\n",
      "\n",
      "\n",
      "Start Training\n",
      "\n"
     ]
    },
    {
     "name": "stderr",
     "output_type": "stream",
     "text": [
      " 40%|████      | 20/50 [00:07<00:10,  2.73it/s]\n",
      "[I 2025-02-08 16:50:19,293] Trial 64 finished with value: 1.7669109161943197 and parameters: {'n_neurons_layer1': 1216, 'n_neurons_layer2': 1664, 'learning_rate': 0.0014757588124310467, 'dropout': 0.5}. Best is trial 10 with value: 1.7664154707454145.\n"
     ]
    },
    {
     "name": "stdout",
     "output_type": "stream",
     "text": [
      "Stopped training using EarlyStopping at epoch 21\n",
      "\n",
      "**Finished training**\n",
      "\n",
      "Best validation loss (reached after 11 epochs): 1.7669109161943197\n",
      "\n",
      "Training time: 0.12 minutes\n",
      "Total training time: 0.12 minutes\n",
      "Start training classifier\n",
      "\n",
      "\n",
      "Start Training\n",
      "\n"
     ]
    },
    {
     "name": "stderr",
     "output_type": "stream",
     "text": [
      " 80%|████████  | 40/50 [00:15<00:03,  2.64it/s]\n",
      "[I 2025-02-08 16:50:34,541] Trial 65 finished with value: 1.7667534716427327 and parameters: {'n_neurons_layer1': 1536, 'n_neurons_layer2': 1856, 'learning_rate': 0.0005420980185275212, 'dropout': 0.2}. Best is trial 10 with value: 1.7664154707454145.\n"
     ]
    },
    {
     "name": "stdout",
     "output_type": "stream",
     "text": [
      "Stopped training using EarlyStopping at epoch 41\n",
      "\n",
      "**Finished training**\n",
      "\n",
      "Best validation loss (reached after 31 epochs): 1.7667534716427327\n",
      "\n",
      "Training time: 0.25 minutes\n",
      "Total training time: 0.25 minutes\n",
      "Start training classifier\n",
      "\n",
      "\n",
      "Start Training\n",
      "\n"
     ]
    },
    {
     "name": "stderr",
     "output_type": "stream",
     "text": [
      " 40%|████      | 20/50 [00:06<00:10,  2.92it/s]\n",
      "[I 2025-02-08 16:50:41,454] Trial 66 finished with value: 1.7675997979938984 and parameters: {'n_neurons_layer1': 1408, 'n_neurons_layer2': 1088, 'learning_rate': 0.00437929228701387, 'dropout': 0.30000000000000004}. Best is trial 10 with value: 1.7664154707454145.\n"
     ]
    },
    {
     "name": "stdout",
     "output_type": "stream",
     "text": [
      "Stopped training using EarlyStopping at epoch 21\n",
      "\n",
      "**Finished training**\n",
      "\n",
      "Best validation loss (reached after 11 epochs): 1.7675997979938984\n",
      "\n",
      "Training time: 0.11 minutes\n",
      "Total training time: 0.11 minutes\n",
      "Start training classifier\n",
      "\n",
      "\n",
      "Start Training\n",
      "\n"
     ]
    },
    {
     "name": "stderr",
     "output_type": "stream",
     "text": [
      " 46%|████▌     | 23/50 [00:08<00:09,  2.73it/s]\n",
      "[I 2025-02-08 16:50:49,941] Trial 67 finished with value: 1.7668794278055429 and parameters: {'n_neurons_layer1': 1152, 'n_neurons_layer2': 1920, 'learning_rate': 0.0013653456201230985, 'dropout': 0.1}. Best is trial 10 with value: 1.7664154707454145.\n"
     ]
    },
    {
     "name": "stdout",
     "output_type": "stream",
     "text": [
      "Stopped training using EarlyStopping at epoch 24\n",
      "\n",
      "**Finished training**\n",
      "\n",
      "Best validation loss (reached after 14 epochs): 1.7668794278055429\n",
      "\n",
      "Training time: 0.14 minutes\n",
      "Total training time: 0.14 minutes\n",
      "Start training classifier\n",
      "\n",
      "\n",
      "Start Training\n",
      "\n"
     ]
    },
    {
     "name": "stderr",
     "output_type": "stream",
     "text": [
      " 80%|████████  | 40/50 [00:14<00:03,  2.73it/s]\n",
      "[I 2025-02-08 16:51:04,670] Trial 68 finished with value: 1.7671366153284906 and parameters: {'n_neurons_layer1': 1664, 'n_neurons_layer2': 1728, 'learning_rate': 0.0002692291691725313, 'dropout': 0.30000000000000004}. Best is trial 10 with value: 1.7664154707454145.\n"
     ]
    },
    {
     "name": "stdout",
     "output_type": "stream",
     "text": [
      "Stopped training using EarlyStopping at epoch 41\n",
      "\n",
      "**Finished training**\n",
      "\n",
      "Best validation loss (reached after 31 epochs): 1.7671366153284906\n",
      "\n",
      "Training time: 0.24 minutes\n",
      "Total training time: 0.24 minutes\n",
      "Start training classifier\n",
      "\n",
      "\n",
      "Start Training\n",
      "\n"
     ]
    },
    {
     "name": "stderr",
     "output_type": "stream",
     "text": [
      " 54%|█████▍    | 27/50 [00:09<00:08,  2.87it/s]\n",
      "[I 2025-02-08 16:51:14,148] Trial 69 finished with value: 1.7669236408546567 and parameters: {'n_neurons_layer1': 960, 'n_neurons_layer2': 960, 'learning_rate': 0.0009075979892426304, 'dropout': 0.2}. Best is trial 10 with value: 1.7664154707454145.\n"
     ]
    },
    {
     "name": "stdout",
     "output_type": "stream",
     "text": [
      "Stopped training using EarlyStopping at epoch 28\n",
      "\n",
      "**Finished training**\n",
      "\n",
      "Best validation loss (reached after 18 epochs): 1.7669236408546567\n",
      "\n",
      "Training time: 0.16 minutes\n",
      "Total training time: 0.16 minutes\n",
      "Start training classifier\n",
      "\n",
      "\n",
      "Start Training\n",
      "\n"
     ]
    },
    {
     "name": "stderr",
     "output_type": "stream",
     "text": [
      " 84%|████████▍ | 42/50 [00:15<00:03,  2.66it/s]\n",
      "[I 2025-02-08 16:51:30,000] Trial 70 finished with value: 1.766912696324289 and parameters: {'n_neurons_layer1': 1280, 'n_neurons_layer2': 1536, 'learning_rate': 0.00040051371367895466, 'dropout': 0.2}. Best is trial 10 with value: 1.7664154707454145.\n"
     ]
    },
    {
     "name": "stdout",
     "output_type": "stream",
     "text": [
      "Stopped training using EarlyStopping at epoch 43\n",
      "\n",
      "**Finished training**\n",
      "\n",
      "Best validation loss (reached after 33 epochs): 1.766912696324289\n",
      "\n",
      "Training time: 0.26 minutes\n",
      "Total training time: 0.26 minutes\n",
      "Start training classifier\n",
      "\n",
      "\n",
      "Start Training\n",
      "\n"
     ]
    },
    {
     "name": "stderr",
     "output_type": "stream",
     "text": [
      " 46%|████▌     | 23/50 [00:08<00:10,  2.56it/s]\n",
      "[I 2025-02-08 16:51:39,067] Trial 71 finished with value: 1.7667548819445074 and parameters: {'n_neurons_layer1': 1792, 'n_neurons_layer2': 1984, 'learning_rate': 0.0010699898208273776, 'dropout': 0.30000000000000004}. Best is trial 10 with value: 1.7664154707454145.\n"
     ]
    },
    {
     "name": "stdout",
     "output_type": "stream",
     "text": [
      "Stopped training using EarlyStopping at epoch 24\n",
      "\n",
      "**Finished training**\n",
      "\n",
      "Best validation loss (reached after 14 epochs): 1.7667548819445074\n",
      "\n",
      "Training time: 0.15 minutes\n",
      "Total training time: 0.15 minutes\n",
      "Start training classifier\n",
      "\n",
      "\n",
      "Start Training\n",
      "\n"
     ]
    },
    {
     "name": "stderr",
     "output_type": "stream",
     "text": [
      " 54%|█████▍    | 27/50 [00:09<00:08,  2.73it/s]\n",
      "[I 2025-02-08 16:51:49,018] Trial 72 finished with value: 1.766726748738438 and parameters: {'n_neurons_layer1': 1920, 'n_neurons_layer2': 1600, 'learning_rate': 0.001136974706629515, 'dropout': 0.30000000000000004}. Best is trial 10 with value: 1.7664154707454145.\n"
     ]
    },
    {
     "name": "stdout",
     "output_type": "stream",
     "text": [
      "Stopped training using EarlyStopping at epoch 28\n",
      "\n",
      "**Finished training**\n",
      "\n",
      "Best validation loss (reached after 18 epochs): 1.766726748738438\n",
      "\n",
      "Training time: 0.16 minutes\n",
      "Total training time: 0.16 minutes\n",
      "Start training classifier\n",
      "\n",
      "\n",
      "Start Training\n",
      "\n"
     ]
    },
    {
     "name": "stderr",
     "output_type": "stream",
     "text": [
      " 44%|████▍     | 22/50 [00:08<00:10,  2.55it/s]\n",
      "[I 2025-02-08 16:51:57,714] Trial 73 finished with value: 1.7670993897132576 and parameters: {'n_neurons_layer1': 1792, 'n_neurons_layer2': 1792, 'learning_rate': 0.0006447316435364737, 'dropout': 0.30000000000000004}. Best is trial 10 with value: 1.7664154707454145.\n"
     ]
    },
    {
     "name": "stdout",
     "output_type": "stream",
     "text": [
      "Stopped training using EarlyStopping at epoch 23\n",
      "\n",
      "**Finished training**\n",
      "\n",
      "Best validation loss (reached after 13 epochs): 1.7670993897132576\n",
      "\n",
      "Training time: 0.14 minutes\n",
      "Total training time: 0.14 minutes\n",
      "Start training classifier\n",
      "\n",
      "\n",
      "Start Training\n",
      "\n"
     ]
    },
    {
     "name": "stderr",
     "output_type": "stream",
     "text": [
      " 62%|██████▏   | 31/50 [00:11<00:06,  2.77it/s]\n",
      "[I 2025-02-08 16:52:08,972] Trial 74 finished with value: 1.76714275944978 and parameters: {'n_neurons_layer1': 1664, 'n_neurons_layer2': 1664, 'learning_rate': 0.0021368057165661956, 'dropout': 0.4}. Best is trial 10 with value: 1.7664154707454145.\n"
     ]
    },
    {
     "name": "stdout",
     "output_type": "stream",
     "text": [
      "Stopped training using EarlyStopping at epoch 32\n",
      "\n",
      "**Finished training**\n",
      "\n",
      "Best validation loss (reached after 22 epochs): 1.76714275944978\n",
      "\n",
      "Training time: 0.19 minutes\n",
      "Total training time: 0.19 minutes\n",
      "Start training classifier\n",
      "\n",
      "\n",
      "Start Training\n",
      "\n"
     ]
    },
    {
     "name": "stderr",
     "output_type": "stream",
     "text": [
      " 42%|████▏     | 21/50 [00:07<00:11,  2.63it/s]\n",
      "[I 2025-02-08 16:52:17,040] Trial 75 finished with value: 1.766748869884759 and parameters: {'n_neurons_layer1': 1728, 'n_neurons_layer2': 1856, 'learning_rate': 0.0015659887996490101, 'dropout': 0.30000000000000004}. Best is trial 10 with value: 1.7664154707454145.\n"
     ]
    },
    {
     "name": "stdout",
     "output_type": "stream",
     "text": [
      "Stopped training using EarlyStopping at epoch 22\n",
      "\n",
      "**Finished training**\n",
      "\n",
      "Best validation loss (reached after 12 epochs): 1.766748869884759\n",
      "\n",
      "Training time: 0.13 minutes\n",
      "Total training time: 0.13 minutes\n",
      "Start training classifier\n",
      "\n",
      "\n",
      "Start Training\n",
      "\n"
     ]
    },
    {
     "name": "stderr",
     "output_type": "stream",
     "text": [
      " 68%|██████▊   | 34/50 [00:12<00:05,  2.79it/s]\n",
      "[I 2025-02-08 16:52:29,288] Trial 76 finished with value: 1.7669507848098873 and parameters: {'n_neurons_layer1': 1408, 'n_neurons_layer2': 1536, 'learning_rate': 0.0009042407359888381, 'dropout': 0.4}. Best is trial 10 with value: 1.7664154707454145.\n"
     ]
    },
    {
     "name": "stdout",
     "output_type": "stream",
     "text": [
      "Stopped training using EarlyStopping at epoch 35\n",
      "\n",
      "**Finished training**\n",
      "\n",
      "Best validation loss (reached after 25 epochs): 1.7669507848098873\n",
      "\n",
      "Training time: 0.20 minutes\n",
      "Total training time: 0.20 minutes\n",
      "Start training classifier\n",
      "\n",
      "\n",
      "Start Training\n",
      "\n"
     ]
    },
    {
     "name": "stderr",
     "output_type": "stream",
     "text": [
      "100%|██████████| 50/50 [00:17<00:00,  2.86it/s]\n",
      "[I 2025-02-08 16:52:46,845] Trial 77 finished with value: 1.7676508568227292 and parameters: {'n_neurons_layer1': 1600, 'n_neurons_layer2': 832, 'learning_rate': 0.00021505795298531612, 'dropout': 0.30000000000000004}. Best is trial 10 with value: 1.7664154707454145.\n"
     ]
    },
    {
     "name": "stdout",
     "output_type": "stream",
     "text": [
      "\n",
      "**Finished training**\n",
      "\n",
      "Best validation loss (reached after 50 epochs): 1.7676508568227292\n",
      "\n",
      "Training time: 0.29 minutes\n",
      "Total training time: 0.29 minutes\n",
      "Start training classifier\n",
      "\n",
      "\n",
      "Start Training\n",
      "\n"
     ]
    },
    {
     "name": "stderr",
     "output_type": "stream",
     "text": [
      " 92%|█████████▏| 46/50 [00:16<00:01,  2.75it/s]\n",
      "[I 2025-02-08 16:53:03,627] Trial 78 finished with value: 1.7666951950639487 and parameters: {'n_neurons_layer1': 1024, 'n_neurons_layer2': 1920, 'learning_rate': 0.0007144191043946504, 'dropout': 0.2}. Best is trial 10 with value: 1.7664154707454145.\n"
     ]
    },
    {
     "name": "stdout",
     "output_type": "stream",
     "text": [
      "Stopped training using EarlyStopping at epoch 47\n",
      "\n",
      "**Finished training**\n",
      "\n",
      "Best validation loss (reached after 37 epochs): 1.7666951950639487\n",
      "\n",
      "Training time: 0.28 minutes\n",
      "Total training time: 0.28 minutes\n",
      "Start training classifier\n",
      "\n",
      "\n",
      "Start Training\n",
      "\n"
     ]
    },
    {
     "name": "stderr",
     "output_type": "stream",
     "text": [
      " 58%|█████▊    | 29/50 [00:11<00:08,  2.62it/s]\n",
      "[I 2025-02-08 16:53:14,794] Trial 79 finished with value: 1.7674383335746824 and parameters: {'n_neurons_layer1': 1536, 'n_neurons_layer2': 1728, 'learning_rate': 0.0025522627100635262, 'dropout': 0.30000000000000004}. Best is trial 10 with value: 1.7664154707454145.\n"
     ]
    },
    {
     "name": "stdout",
     "output_type": "stream",
     "text": [
      "Stopped training using EarlyStopping at epoch 30\n",
      "\n",
      "**Finished training**\n",
      "\n",
      "Best validation loss (reached after 20 epochs): 1.7674383335746824\n",
      "\n",
      "Training time: 0.18 minutes\n",
      "Total training time: 0.19 minutes\n",
      "Start training classifier\n",
      "\n",
      "\n",
      "Start Training\n",
      "\n"
     ]
    },
    {
     "name": "stderr",
     "output_type": "stream",
     "text": [
      " 84%|████████▍ | 42/50 [00:15<00:02,  2.78it/s]\n",
      "[I 2025-02-08 16:53:29,996] Trial 80 finished with value: 1.767246463149786 and parameters: {'n_neurons_layer1': 1088, 'n_neurons_layer2': 2048, 'learning_rate': 0.00031159271037154747, 'dropout': 0.4}. Best is trial 10 with value: 1.7664154707454145.\n"
     ]
    },
    {
     "name": "stdout",
     "output_type": "stream",
     "text": [
      "Stopped training using EarlyStopping at epoch 43\n",
      "\n",
      "**Finished training**\n",
      "\n",
      "Best validation loss (reached after 33 epochs): 1.767246463149786\n",
      "\n",
      "Training time: 0.25 minutes\n",
      "Total training time: 0.25 minutes\n",
      "Start training classifier\n",
      "\n",
      "\n",
      "Start Training\n",
      "\n"
     ]
    },
    {
     "name": "stderr",
     "output_type": "stream",
     "text": [
      " 42%|████▏     | 21/50 [00:07<00:10,  2.71it/s]\n",
      "[I 2025-02-08 16:53:37,826] Trial 81 finished with value: 1.7672159482724965 and parameters: {'n_neurons_layer1': 1472, 'n_neurons_layer2': 1408, 'learning_rate': 0.0030528642287243153, 'dropout': 0.4}. Best is trial 10 with value: 1.7664154707454145.\n"
     ]
    },
    {
     "name": "stdout",
     "output_type": "stream",
     "text": [
      "Stopped training using EarlyStopping at epoch 22\n",
      "\n",
      "**Finished training**\n",
      "\n",
      "Best validation loss (reached after 12 epochs): 1.7672159482724965\n",
      "\n",
      "Training time: 0.13 minutes\n",
      "Total training time: 0.13 minutes\n",
      "Start training classifier\n",
      "\n",
      "\n",
      "Start Training\n",
      "\n"
     ]
    },
    {
     "name": "stderr",
     "output_type": "stream",
     "text": [
      " 40%|████      | 20/50 [00:07<00:11,  2.72it/s]\n",
      "[I 2025-02-08 16:53:45,243] Trial 82 finished with value: 1.7672542464919387 and parameters: {'n_neurons_layer1': 1216, 'n_neurons_layer2': 1408, 'learning_rate': 0.0024076907077564226, 'dropout': 0.4}. Best is trial 10 with value: 1.7664154707454145.\n"
     ]
    },
    {
     "name": "stdout",
     "output_type": "stream",
     "text": [
      "Stopped training using EarlyStopping at epoch 21\n",
      "\n",
      "**Finished training**\n",
      "\n",
      "Best validation loss (reached after 11 epochs): 1.7672542464919387\n",
      "\n",
      "Training time: 0.12 minutes\n",
      "Total training time: 0.12 minutes\n",
      "Start training classifier\n",
      "\n",
      "\n",
      "Start Training\n",
      "\n"
     ]
    },
    {
     "name": "stderr",
     "output_type": "stream",
     "text": [
      " 84%|████████▍ | 42/50 [00:15<00:03,  2.66it/s]\n",
      "[I 2025-02-08 16:54:01,101] Trial 83 finished with value: 1.7669757594354452 and parameters: {'n_neurons_layer1': 1472, 'n_neurons_layer2': 1792, 'learning_rate': 0.003933746882847144, 'dropout': 0.5}. Best is trial 10 with value: 1.7664154707454145.\n"
     ]
    },
    {
     "name": "stdout",
     "output_type": "stream",
     "text": [
      "Stopped training using EarlyStopping at epoch 43\n",
      "\n",
      "**Finished training**\n",
      "\n",
      "Best validation loss (reached after 33 epochs): 1.7669757594354452\n",
      "\n",
      "Training time: 0.26 minutes\n",
      "Total training time: 0.26 minutes\n",
      "Start training classifier\n",
      "\n",
      "\n",
      "Start Training\n",
      "\n"
     ]
    },
    {
     "name": "stderr",
     "output_type": "stream",
     "text": [
      " 46%|████▌     | 23/50 [00:08<00:10,  2.67it/s]\n",
      "[I 2025-02-08 16:54:09,773] Trial 84 finished with value: 1.7673599749803544 and parameters: {'n_neurons_layer1': 1600, 'n_neurons_layer2': 1472, 'learning_rate': 0.00177633862231035, 'dropout': 0.30000000000000004}. Best is trial 10 with value: 1.7664154707454145.\n"
     ]
    },
    {
     "name": "stdout",
     "output_type": "stream",
     "text": [
      "Stopped training using EarlyStopping at epoch 24\n",
      "\n",
      "**Finished training**\n",
      "\n",
      "Best validation loss (reached after 14 epochs): 1.7673599749803544\n",
      "\n",
      "Training time: 0.14 minutes\n",
      "Total training time: 0.14 minutes\n",
      "Start training classifier\n",
      "\n",
      "\n",
      "Start Training\n",
      "\n"
     ]
    },
    {
     "name": "stderr",
     "output_type": "stream",
     "text": [
      " 68%|██████▊   | 34/50 [00:11<00:05,  2.87it/s]\n",
      "[I 2025-02-08 16:54:21,696] Trial 85 finished with value: 1.7669032990001141 and parameters: {'n_neurons_layer1': 1344, 'n_neurons_layer2': 1280, 'learning_rate': 0.0013402677712688938, 'dropout': 0.4}. Best is trial 10 with value: 1.7664154707454145.\n"
     ]
    },
    {
     "name": "stdout",
     "output_type": "stream",
     "text": [
      "Stopped training using EarlyStopping at epoch 35\n",
      "\n",
      "**Finished training**\n",
      "\n",
      "Best validation loss (reached after 25 epochs): 1.7669032990001141\n",
      "\n",
      "Training time: 0.20 minutes\n",
      "Total training time: 0.20 minutes\n",
      "Start training classifier\n",
      "\n",
      "\n",
      "Start Training\n",
      "\n"
     ]
    },
    {
     "name": "stderr",
     "output_type": "stream",
     "text": [
      " 54%|█████▍    | 27/50 [00:09<00:08,  2.70it/s]\n",
      "[I 2025-02-08 16:54:31,759] Trial 86 finished with value: 1.7670526564121247 and parameters: {'n_neurons_layer1': 1280, 'n_neurons_layer2': 1664, 'learning_rate': 0.0005055777731556216, 'dropout': 0.2}. Best is trial 10 with value: 1.7664154707454145.\n"
     ]
    },
    {
     "name": "stdout",
     "output_type": "stream",
     "text": [
      "Stopped training using EarlyStopping at epoch 28\n",
      "\n",
      "**Finished training**\n",
      "\n",
      "Best validation loss (reached after 18 epochs): 1.7670526564121247\n",
      "\n",
      "Training time: 0.17 minutes\n",
      "Total training time: 0.17 minutes\n",
      "Start training classifier\n",
      "\n",
      "\n",
      "Start Training\n",
      "\n"
     ]
    },
    {
     "name": "stderr",
     "output_type": "stream",
     "text": [
      " 72%|███████▏  | 36/50 [00:13<00:05,  2.65it/s]\n",
      "[I 2025-02-08 16:54:45,411] Trial 87 finished with value: 1.766973414644599 and parameters: {'n_neurons_layer1': 1792, 'n_neurons_layer2': 1536, 'learning_rate': 0.000998610856333547, 'dropout': 0.30000000000000004}. Best is trial 10 with value: 1.7664154707454145.\n"
     ]
    },
    {
     "name": "stdout",
     "output_type": "stream",
     "text": [
      "Stopped training using EarlyStopping at epoch 37\n",
      "\n",
      "**Finished training**\n",
      "\n",
      "Best validation loss (reached after 27 epochs): 1.766973414644599\n",
      "\n",
      "Training time: 0.23 minutes\n",
      "Total training time: 0.23 minutes\n",
      "Start training classifier\n",
      "\n",
      "\n",
      "Start Training\n",
      "\n"
     ]
    },
    {
     "name": "stderr",
     "output_type": "stream",
     "text": [
      "100%|██████████| 50/50 [00:15<00:00,  3.15it/s]\n",
      "[I 2025-02-08 16:55:01,339] Trial 88 finished with value: 1.766584053914994 and parameters: {'n_neurons_layer1': 1920, 'n_neurons_layer2': 512, 'learning_rate': 0.0011947683210454607, 'dropout': 0.2}. Best is trial 10 with value: 1.7664154707454145.\n"
     ]
    },
    {
     "name": "stdout",
     "output_type": "stream",
     "text": [
      "\n",
      "**Finished training**\n",
      "\n",
      "Best validation loss (reached after 41 epochs): 1.766584053914994\n",
      "\n",
      "Training time: 0.26 minutes\n",
      "Total training time: 0.26 minutes\n",
      "Start training classifier\n",
      "\n",
      "\n",
      "Start Training\n",
      "\n"
     ]
    },
    {
     "name": "stderr",
     "output_type": "stream",
     "text": [
      " 54%|█████▍    | 27/50 [00:08<00:07,  3.11it/s]\n",
      "[I 2025-02-08 16:55:10,090] Trial 89 finished with value: 1.7670932031236588 and parameters: {'n_neurons_layer1': 1920, 'n_neurons_layer2': 384, 'learning_rate': 0.0012278991437511776, 'dropout': 0.2}. Best is trial 10 with value: 1.7664154707454145.\n"
     ]
    },
    {
     "name": "stdout",
     "output_type": "stream",
     "text": [
      "Stopped training using EarlyStopping at epoch 28\n",
      "\n",
      "**Finished training**\n",
      "\n",
      "Best validation loss (reached after 18 epochs): 1.7670932031236588\n",
      "\n",
      "Training time: 0.14 minutes\n",
      "Total training time: 0.15 minutes\n",
      "Start training classifier\n",
      "\n",
      "\n",
      "Start Training\n",
      "\n"
     ]
    },
    {
     "name": "stderr",
     "output_type": "stream",
     "text": [
      " 80%|████████  | 40/50 [00:13<00:03,  3.00it/s]\n",
      "[I 2025-02-08 16:55:23,505] Trial 90 finished with value: 1.7668918736279011 and parameters: {'n_neurons_layer1': 1920, 'n_neurons_layer2': 512, 'learning_rate': 0.000791058617562288, 'dropout': 0.2}. Best is trial 10 with value: 1.7664154707454145.\n"
     ]
    },
    {
     "name": "stdout",
     "output_type": "stream",
     "text": [
      "Stopped training using EarlyStopping at epoch 41\n",
      "\n",
      "**Finished training**\n",
      "\n",
      "Best validation loss (reached after 31 epochs): 1.7668918736279011\n",
      "\n",
      "Training time: 0.22 minutes\n",
      "Total training time: 0.22 minutes\n",
      "Start training classifier\n",
      "\n",
      "\n",
      "Start Training\n",
      "\n"
     ]
    },
    {
     "name": "stderr",
     "output_type": "stream",
     "text": [
      " 52%|█████▏    | 26/50 [00:08<00:08,  2.95it/s]\n",
      "[I 2025-02-08 16:55:32,369] Trial 91 finished with value: 1.7676579147577285 and parameters: {'n_neurons_layer1': 1728, 'n_neurons_layer2': 192, 'learning_rate': 0.0016221358957747838, 'dropout': 0.2}. Best is trial 10 with value: 1.7664154707454145.\n"
     ]
    },
    {
     "name": "stdout",
     "output_type": "stream",
     "text": [
      "Stopped training using EarlyStopping at epoch 27\n",
      "\n",
      "**Finished training**\n",
      "\n",
      "Best validation loss (reached after 17 epochs): 1.7676579147577285\n",
      "\n",
      "Training time: 0.15 minutes\n",
      "Total training time: 0.15 minutes\n",
      "Start training classifier\n",
      "\n",
      "\n",
      "Start Training\n",
      "\n"
     ]
    },
    {
     "name": "stderr",
     "output_type": "stream",
     "text": [
      "100%|██████████| 50/50 [00:16<00:00,  3.12it/s]\n",
      "[I 2025-02-08 16:55:48,433] Trial 92 finished with value: 1.7670652853325008 and parameters: {'n_neurons_layer1': 1152, 'n_neurons_layer2': 128, 'learning_rate': 0.0018131463815367497, 'dropout': 0.1}. Best is trial 10 with value: 1.7664154707454145.\n"
     ]
    },
    {
     "name": "stdout",
     "output_type": "stream",
     "text": [
      "\n",
      "**Finished training**\n",
      "\n",
      "Best validation loss (reached after 45 epochs): 1.7670652853325008\n",
      "\n",
      "Training time: 0.27 minutes\n",
      "Total training time: 0.27 minutes\n",
      "Start training classifier\n",
      "\n",
      "\n",
      "Start Training\n",
      "\n"
     ]
    },
    {
     "name": "stderr",
     "output_type": "stream",
     "text": [
      " 58%|█████▊    | 29/50 [00:10<00:07,  2.79it/s]\n",
      "[I 2025-02-08 16:55:58,895] Trial 93 finished with value: 1.7672039934433996 and parameters: {'n_neurons_layer1': 1856, 'n_neurons_layer2': 640, 'learning_rate': 0.002795898888654147, 'dropout': 0.2}. Best is trial 10 with value: 1.7664154707454145.\n"
     ]
    },
    {
     "name": "stdout",
     "output_type": "stream",
     "text": [
      "Stopped training using EarlyStopping at epoch 30\n",
      "\n",
      "**Finished training**\n",
      "\n",
      "Best validation loss (reached after 20 epochs): 1.7672039934433996\n",
      "\n",
      "Training time: 0.17 minutes\n",
      "Total training time: 0.17 minutes\n",
      "Start training classifier\n",
      "\n",
      "\n",
      "Start Training\n",
      "\n"
     ]
    },
    {
     "name": "stderr",
     "output_type": "stream",
     "text": [
      " 54%|█████▍    | 27/50 [00:09<00:08,  2.84it/s]\n",
      "[I 2025-02-08 16:56:08,474] Trial 94 finished with value: 1.7668323451653123 and parameters: {'n_neurons_layer1': 2048, 'n_neurons_layer2': 448, 'learning_rate': 0.0020590395428296154, 'dropout': 0.4}. Best is trial 10 with value: 1.7664154707454145.\n"
     ]
    },
    {
     "name": "stdout",
     "output_type": "stream",
     "text": [
      "Stopped training using EarlyStopping at epoch 28\n",
      "\n",
      "**Finished training**\n",
      "\n",
      "Best validation loss (reached after 18 epochs): 1.7668323451653123\n",
      "\n",
      "Training time: 0.16 minutes\n",
      "Total training time: 0.16 minutes\n",
      "Start training classifier\n",
      "\n",
      "\n",
      "Start Training\n",
      "\n"
     ]
    },
    {
     "name": "stderr",
     "output_type": "stream",
     "text": [
      "100%|██████████| 50/50 [00:18<00:00,  2.73it/s]\n",
      "[I 2025-02-08 16:56:26,874] Trial 95 finished with value: 1.766587490774691 and parameters: {'n_neurons_layer1': 1664, 'n_neurons_layer2': 1920, 'learning_rate': 0.0005968450058739822, 'dropout': 0.30000000000000004}. Best is trial 10 with value: 1.7664154707454145.\n"
     ]
    },
    {
     "name": "stdout",
     "output_type": "stream",
     "text": [
      "\n",
      "**Finished training**\n",
      "\n",
      "Best validation loss (reached after 41 epochs): 1.766587490774691\n",
      "\n",
      "Training time: 0.31 minutes\n",
      "Total training time: 0.31 minutes\n",
      "Start training classifier\n",
      "\n",
      "\n",
      "Start Training\n",
      "\n"
     ]
    },
    {
     "name": "stderr",
     "output_type": "stream",
     "text": [
      " 64%|██████▍   | 32/50 [00:12<00:07,  2.57it/s]\n",
      "[I 2025-02-08 16:56:39,435] Trial 96 finished with value: 1.7667895714752375 and parameters: {'n_neurons_layer1': 1728, 'n_neurons_layer2': 1920, 'learning_rate': 0.0005443447430414062, 'dropout': 0.30000000000000004}. Best is trial 10 with value: 1.7664154707454145.\n"
     ]
    },
    {
     "name": "stdout",
     "output_type": "stream",
     "text": [
      "Stopped training using EarlyStopping at epoch 33\n",
      "\n",
      "**Finished training**\n",
      "\n",
      "Best validation loss (reached after 23 epochs): 1.7667895714752375\n",
      "\n",
      "Training time: 0.21 minutes\n",
      "Total training time: 0.21 minutes\n",
      "Start training classifier\n",
      "\n",
      "\n",
      "Start Training\n",
      "\n"
     ]
    },
    {
     "name": "stderr",
     "output_type": "stream",
     "text": [
      " 52%|█████▏    | 26/50 [00:09<00:09,  2.65it/s]\n",
      "[I 2025-02-08 16:56:49,340] Trial 97 finished with value: 1.7672789178788662 and parameters: {'n_neurons_layer1': 1664, 'n_neurons_layer2': 1984, 'learning_rate': 0.0003828513265347581, 'dropout': 0.30000000000000004}. Best is trial 10 with value: 1.7664154707454145.\n"
     ]
    },
    {
     "name": "stdout",
     "output_type": "stream",
     "text": [
      "Stopped training using EarlyStopping at epoch 27\n",
      "\n",
      "**Finished training**\n",
      "\n",
      "Best validation loss (reached after 17 epochs): 1.7672789178788662\n",
      "\n",
      "Training time: 0.16 minutes\n",
      "Total training time: 0.16 minutes\n",
      "Start training classifier\n",
      "\n",
      "\n",
      "Start Training\n",
      "\n"
     ]
    },
    {
     "name": "stderr",
     "output_type": "stream",
     "text": [
      " 84%|████████▍ | 42/50 [00:14<00:02,  2.89it/s]\n",
      "[I 2025-02-08 16:57:03,938] Trial 98 finished with value: 1.7671788337640464 and parameters: {'n_neurons_layer1': 1088, 'n_neurons_layer2': 768, 'learning_rate': 0.0006218636204414889, 'dropout': 0.30000000000000004}. Best is trial 10 with value: 1.7664154707454145.\n"
     ]
    },
    {
     "name": "stdout",
     "output_type": "stream",
     "text": [
      "Stopped training using EarlyStopping at epoch 43\n",
      "\n",
      "**Finished training**\n",
      "\n",
      "Best validation loss (reached after 33 epochs): 1.7671788337640464\n",
      "\n",
      "Training time: 0.24 minutes\n",
      "Total training time: 0.24 minutes\n",
      "Start training classifier\n",
      "\n",
      "\n",
      "Start Training\n",
      "\n"
     ]
    },
    {
     "name": "stderr",
     "output_type": "stream",
     "text": [
      " 84%|████████▍ | 42/50 [00:16<00:03,  2.58it/s]\n",
      "[I 2025-02-08 16:57:20,299] Trial 99 finished with value: 1.7667552563361824 and parameters: {'n_neurons_layer1': 1856, 'n_neurons_layer2': 1984, 'learning_rate': 0.00045122805006718984, 'dropout': 0.2}. Best is trial 10 with value: 1.7664154707454145.\n"
     ]
    },
    {
     "name": "stdout",
     "output_type": "stream",
     "text": [
      "Stopped training using EarlyStopping at epoch 43\n",
      "\n",
      "**Finished training**\n",
      "\n",
      "Best validation loss (reached after 33 epochs): 1.7667552563361824\n",
      "\n",
      "Training time: 0.27 minutes\n",
      "Total training time: 0.27 minutes\n",
      "Number of finished trials:  100\n",
      "Best trial:\n",
      "  Value:  1.7664154707454145\n",
      "  Params: \n",
      "    n_neurons_layer1: 1280\n",
      "    n_neurons_layer2: 1792\n",
      "    learning_rate: 0.0012872273261673832\n",
      "    dropout: 0.2\n",
      "Start training classifier\n",
      "\n",
      "\n",
      "Start Training\n",
      "\n"
     ]
    },
    {
     "name": "stderr",
     "output_type": "stream",
     "text": [
      "  2%|▏         | 1/50 [00:00<00:17,  2.76it/s]"
     ]
    },
    {
     "name": "stdout",
     "output_type": "stream",
     "text": [
      "Epoch 1 | Training loss: 2.6398 | Training Accuracy: 0.025483630952380952 | Validation loss: 2.6389 | Validation Accuracy: 0.00234375\n"
     ]
    },
    {
     "name": "stderr",
     "output_type": "stream",
     "text": [
      "  4%|▍         | 2/50 [00:00<00:17,  2.75it/s]"
     ]
    },
    {
     "name": "stdout",
     "output_type": "stream",
     "text": [
      "Epoch 2 | Training loss: 1.8478 | Training Accuracy: 0.9352678571428571 | Validation loss: 1.7744 | Validation Accuracy: 0.98046875\n"
     ]
    },
    {
     "name": "stderr",
     "output_type": "stream",
     "text": [
      "  6%|▌         | 3/50 [00:01<00:17,  2.75it/s]"
     ]
    },
    {
     "name": "stdout",
     "output_type": "stream",
     "text": [
      "Epoch 3 | Training loss: 1.7683 | Training Accuracy: 0.9875372023809523 | Validation loss: 1.7724 | Validation Accuracy: 0.98359375\n"
     ]
    },
    {
     "name": "stderr",
     "output_type": "stream",
     "text": [
      "  8%|▊         | 4/50 [00:01<00:16,  2.74it/s]"
     ]
    },
    {
     "name": "stdout",
     "output_type": "stream",
     "text": [
      "Epoch 4 | Training loss: 1.7660 | Training Accuracy: 0.9897693452380952 | Validation loss: 1.7707 | Validation Accuracy: 0.984375\n"
     ]
    },
    {
     "name": "stderr",
     "output_type": "stream",
     "text": [
      " 10%|█         | 5/50 [00:01<00:16,  2.77it/s]"
     ]
    },
    {
     "name": "stdout",
     "output_type": "stream",
     "text": [
      "Epoch 5 | Training loss: 1.7652 | Training Accuracy: 0.9905133928571429 | Validation loss: 1.7692 | Validation Accuracy: 0.98515625\n"
     ]
    },
    {
     "name": "stderr",
     "output_type": "stream",
     "text": [
      " 12%|█▏        | 6/50 [00:02<00:15,  2.80it/s]"
     ]
    },
    {
     "name": "stdout",
     "output_type": "stream",
     "text": [
      "Epoch 6 | Training loss: 1.7640 | Training Accuracy: 0.9910714285714286 | Validation loss: 1.7710 | Validation Accuracy: 0.984375\n"
     ]
    },
    {
     "name": "stderr",
     "output_type": "stream",
     "text": [
      " 14%|█▍        | 7/50 [00:02<00:15,  2.81it/s]"
     ]
    },
    {
     "name": "stdout",
     "output_type": "stream",
     "text": [
      "Epoch 7 | Training loss: 1.7633 | Training Accuracy: 0.9918154761904762 | Validation loss: 1.7681 | Validation Accuracy: 0.9875\n"
     ]
    },
    {
     "name": "stderr",
     "output_type": "stream",
     "text": [
      " 16%|█▌        | 8/50 [00:02<00:16,  2.53it/s]"
     ]
    },
    {
     "name": "stdout",
     "output_type": "stream",
     "text": [
      "Epoch 8 | Training loss: 1.7638 | Training Accuracy: 0.9914434523809523 | Validation loss: 1.7692 | Validation Accuracy: 0.9875\n"
     ]
    },
    {
     "name": "stderr",
     "output_type": "stream",
     "text": [
      " 18%|█▊        | 9/50 [00:03<00:16,  2.56it/s]"
     ]
    },
    {
     "name": "stdout",
     "output_type": "stream",
     "text": [
      "Epoch 9 | Training loss: 1.7624 | Training Accuracy: 0.9925595238095238 | Validation loss: 1.7674 | Validation Accuracy: 0.98828125\n"
     ]
    },
    {
     "name": "stderr",
     "output_type": "stream",
     "text": [
      " 20%|██        | 10/50 [00:03<00:14,  2.68it/s]"
     ]
    },
    {
     "name": "stdout",
     "output_type": "stream",
     "text": [
      "Epoch 10 | Training loss: 1.7628 | Training Accuracy: 0.9921875 | Validation loss: 1.7677 | Validation Accuracy: 0.98828125\n"
     ]
    },
    {
     "name": "stderr",
     "output_type": "stream",
     "text": [
      " 22%|██▏       | 11/50 [00:04<00:14,  2.77it/s]"
     ]
    },
    {
     "name": "stdout",
     "output_type": "stream",
     "text": [
      "Epoch 11 | Training loss: 1.7621 | Training Accuracy: 0.9931175595238095 | Validation loss: 1.7681 | Validation Accuracy: 0.9875\n"
     ]
    },
    {
     "name": "stderr",
     "output_type": "stream",
     "text": [
      " 24%|██▍       | 12/50 [00:04<00:13,  2.82it/s]"
     ]
    },
    {
     "name": "stdout",
     "output_type": "stream",
     "text": [
      "Epoch 12 | Training loss: 1.7624 | Training Accuracy: 0.9927455357142857 | Validation loss: 1.7681 | Validation Accuracy: 0.9875\n"
     ]
    },
    {
     "name": "stderr",
     "output_type": "stream",
     "text": [
      " 26%|██▌       | 13/50 [00:04<00:13,  2.73it/s]"
     ]
    },
    {
     "name": "stdout",
     "output_type": "stream",
     "text": [
      "Epoch 13 | Training loss: 1.7623 | Training Accuracy: 0.9931175595238095 | Validation loss: 1.7676 | Validation Accuracy: 0.98828125\n"
     ]
    },
    {
     "name": "stderr",
     "output_type": "stream",
     "text": [
      " 28%|██▊       | 14/50 [00:05<00:13,  2.76it/s]"
     ]
    },
    {
     "name": "stdout",
     "output_type": "stream",
     "text": [
      "Epoch 14 | Training loss: 1.7622 | Training Accuracy: 0.9929315476190477 | Validation loss: 1.7672 | Validation Accuracy: 0.9890625\n"
     ]
    },
    {
     "name": "stderr",
     "output_type": "stream",
     "text": [
      " 30%|███       | 15/50 [00:05<00:12,  2.83it/s]"
     ]
    },
    {
     "name": "stdout",
     "output_type": "stream",
     "text": [
      "Epoch 15 | Training loss: 1.7621 | Training Accuracy: 0.9929315476190477 | Validation loss: 1.7679 | Validation Accuracy: 0.98828125\n"
     ]
    },
    {
     "name": "stderr",
     "output_type": "stream",
     "text": [
      " 32%|███▏      | 16/50 [00:05<00:12,  2.80it/s]"
     ]
    },
    {
     "name": "stdout",
     "output_type": "stream",
     "text": [
      "Epoch 16 | Training loss: 1.7616 | Training Accuracy: 0.9936755952380952 | Validation loss: 1.7675 | Validation Accuracy: 0.9890625\n"
     ]
    },
    {
     "name": "stderr",
     "output_type": "stream",
     "text": [
      " 34%|███▍      | 17/50 [00:06<00:12,  2.73it/s]"
     ]
    },
    {
     "name": "stdout",
     "output_type": "stream",
     "text": [
      "Epoch 17 | Training loss: 1.7621 | Training Accuracy: 0.9931175595238095 | Validation loss: 1.7671 | Validation Accuracy: 0.98828125\n"
     ]
    },
    {
     "name": "stderr",
     "output_type": "stream",
     "text": [
      " 36%|███▌      | 18/50 [00:06<00:11,  2.81it/s]"
     ]
    },
    {
     "name": "stdout",
     "output_type": "stream",
     "text": [
      "Epoch 18 | Training loss: 1.7616 | Training Accuracy: 0.9936755952380952 | Validation loss: 1.7677 | Validation Accuracy: 0.98828125\n"
     ]
    },
    {
     "name": "stderr",
     "output_type": "stream",
     "text": [
      " 38%|███▊      | 19/50 [00:06<00:10,  2.85it/s]"
     ]
    },
    {
     "name": "stdout",
     "output_type": "stream",
     "text": [
      "Epoch 19 | Training loss: 1.7617 | Training Accuracy: 0.9936755952380952 | Validation loss: 1.7671 | Validation Accuracy: 0.9890625\n"
     ]
    },
    {
     "name": "stderr",
     "output_type": "stream",
     "text": [
      " 40%|████      | 20/50 [00:07<00:10,  2.85it/s]"
     ]
    },
    {
     "name": "stdout",
     "output_type": "stream",
     "text": [
      "Epoch 20 | Training loss: 1.7628 | Training Accuracy: 0.9921875 | Validation loss: 1.7680 | Validation Accuracy: 0.9875\n"
     ]
    },
    {
     "name": "stderr",
     "output_type": "stream",
     "text": [
      " 42%|████▏     | 21/50 [00:07<00:10,  2.89it/s]"
     ]
    },
    {
     "name": "stdout",
     "output_type": "stream",
     "text": [
      "Epoch 21 | Training loss: 1.7621 | Training Accuracy: 0.9929315476190477 | Validation loss: 1.7675 | Validation Accuracy: 0.9875\n"
     ]
    },
    {
     "name": "stderr",
     "output_type": "stream",
     "text": [
      " 44%|████▍     | 22/50 [00:07<00:09,  2.85it/s]"
     ]
    },
    {
     "name": "stdout",
     "output_type": "stream",
     "text": [
      "Epoch 22 | Training loss: 1.7618 | Training Accuracy: 0.9933035714285714 | Validation loss: 1.7683 | Validation Accuracy: 0.98671875\n"
     ]
    },
    {
     "name": "stderr",
     "output_type": "stream",
     "text": [
      " 46%|████▌     | 23/50 [00:08<00:09,  2.85it/s]"
     ]
    },
    {
     "name": "stdout",
     "output_type": "stream",
     "text": [
      "Epoch 23 | Training loss: 1.7610 | Training Accuracy: 0.9942336309523809 | Validation loss: 1.7675 | Validation Accuracy: 0.98828125\n"
     ]
    },
    {
     "name": "stderr",
     "output_type": "stream",
     "text": [
      " 48%|████▊     | 24/50 [00:08<00:09,  2.86it/s]"
     ]
    },
    {
     "name": "stdout",
     "output_type": "stream",
     "text": [
      "Epoch 24 | Training loss: 1.7615 | Training Accuracy: 0.9944196428571429 | Validation loss: 1.7692 | Validation Accuracy: 0.9859375\n"
     ]
    },
    {
     "name": "stderr",
     "output_type": "stream",
     "text": [
      " 50%|█████     | 25/50 [00:08<00:08,  2.90it/s]"
     ]
    },
    {
     "name": "stdout",
     "output_type": "stream",
     "text": [
      "Epoch 25 | Training loss: 1.7620 | Training Accuracy: 0.9931175595238095 | Validation loss: 1.7673 | Validation Accuracy: 0.9875\n"
     ]
    },
    {
     "name": "stderr",
     "output_type": "stream",
     "text": [
      " 52%|█████▏    | 26/50 [00:09<00:08,  2.85it/s]"
     ]
    },
    {
     "name": "stdout",
     "output_type": "stream",
     "text": [
      "Epoch 26 | Training loss: 1.7622 | Training Accuracy: 0.9927455357142857 | Validation loss: 1.7680 | Validation Accuracy: 0.9875\n"
     ]
    },
    {
     "name": "stderr",
     "output_type": "stream",
     "text": [
      " 54%|█████▍    | 27/50 [00:09<00:08,  2.78it/s]"
     ]
    },
    {
     "name": "stdout",
     "output_type": "stream",
     "text": [
      "Epoch 27 | Training loss: 1.7613 | Training Accuracy: 0.9940476190476191 | Validation loss: 1.7668 | Validation Accuracy: 0.98828125\n"
     ]
    },
    {
     "name": "stderr",
     "output_type": "stream",
     "text": [
      " 56%|█████▌    | 28/50 [00:10<00:07,  2.84it/s]"
     ]
    },
    {
     "name": "stdout",
     "output_type": "stream",
     "text": [
      "Epoch 28 | Training loss: 1.7615 | Training Accuracy: 0.9933035714285714 | Validation loss: 1.7675 | Validation Accuracy: 0.98828125\n"
     ]
    },
    {
     "name": "stderr",
     "output_type": "stream",
     "text": [
      " 58%|█████▊    | 29/50 [00:10<00:07,  2.87it/s]"
     ]
    },
    {
     "name": "stdout",
     "output_type": "stream",
     "text": [
      "Epoch 29 | Training loss: 1.7617 | Training Accuracy: 0.9931175595238095 | Validation loss: 1.7679 | Validation Accuracy: 0.9875\n"
     ]
    },
    {
     "name": "stderr",
     "output_type": "stream",
     "text": [
      " 60%|██████    | 30/50 [00:10<00:07,  2.85it/s]"
     ]
    },
    {
     "name": "stdout",
     "output_type": "stream",
     "text": [
      "Epoch 30 | Training loss: 1.7611 | Training Accuracy: 0.9938616071428571 | Validation loss: 1.7674 | Validation Accuracy: 0.98828125\n"
     ]
    },
    {
     "name": "stderr",
     "output_type": "stream",
     "text": [
      " 62%|██████▏   | 31/50 [00:11<00:06,  2.80it/s]"
     ]
    },
    {
     "name": "stdout",
     "output_type": "stream",
     "text": [
      "Epoch 31 | Training loss: 1.7612 | Training Accuracy: 0.9940476190476191 | Validation loss: 1.7677 | Validation Accuracy: 0.9875\n"
     ]
    },
    {
     "name": "stderr",
     "output_type": "stream",
     "text": [
      " 64%|██████▍   | 32/50 [00:11<00:06,  2.72it/s]"
     ]
    },
    {
     "name": "stdout",
     "output_type": "stream",
     "text": [
      "Epoch 32 | Training loss: 1.7610 | Training Accuracy: 0.9940476190476191 | Validation loss: 1.7666 | Validation Accuracy: 0.98984375\n"
     ]
    },
    {
     "name": "stderr",
     "output_type": "stream",
     "text": [
      " 66%|██████▌   | 33/50 [00:11<00:06,  2.74it/s]"
     ]
    },
    {
     "name": "stdout",
     "output_type": "stream",
     "text": [
      "Epoch 33 | Training loss: 1.7607 | Training Accuracy: 0.9946056547619048 | Validation loss: 1.7673 | Validation Accuracy: 0.98828125\n"
     ]
    },
    {
     "name": "stderr",
     "output_type": "stream",
     "text": [
      " 68%|██████▊   | 34/50 [00:12<00:05,  2.77it/s]"
     ]
    },
    {
     "name": "stdout",
     "output_type": "stream",
     "text": [
      "Epoch 34 | Training loss: 1.7608 | Training Accuracy: 0.9946056547619048 | Validation loss: 1.7682 | Validation Accuracy: 0.9875\n"
     ]
    },
    {
     "name": "stderr",
     "output_type": "stream",
     "text": [
      " 70%|███████   | 35/50 [00:12<00:05,  2.75it/s]"
     ]
    },
    {
     "name": "stdout",
     "output_type": "stream",
     "text": [
      "Epoch 35 | Training loss: 1.7606 | Training Accuracy: 0.9946056547619048 | Validation loss: 1.7678 | Validation Accuracy: 0.9875\n"
     ]
    },
    {
     "name": "stderr",
     "output_type": "stream",
     "text": [
      " 72%|███████▏  | 36/50 [00:12<00:04,  2.82it/s]"
     ]
    },
    {
     "name": "stdout",
     "output_type": "stream",
     "text": [
      "Epoch 36 | Training loss: 1.7613 | Training Accuracy: 0.9934895833333334 | Validation loss: 1.7679 | Validation Accuracy: 0.98828125\n"
     ]
    },
    {
     "name": "stderr",
     "output_type": "stream",
     "text": [
      " 74%|███████▍  | 37/50 [00:13<00:04,  2.87it/s]"
     ]
    },
    {
     "name": "stdout",
     "output_type": "stream",
     "text": [
      "Epoch 37 | Training loss: 1.7608 | Training Accuracy: 0.9946056547619048 | Validation loss: 1.7674 | Validation Accuracy: 0.98828125\n"
     ]
    },
    {
     "name": "stderr",
     "output_type": "stream",
     "text": [
      " 76%|███████▌  | 38/50 [00:13<00:04,  2.86it/s]"
     ]
    },
    {
     "name": "stdout",
     "output_type": "stream",
     "text": [
      "Epoch 38 | Training loss: 1.7604 | Training Accuracy: 0.9947916666666666 | Validation loss: 1.7670 | Validation Accuracy: 0.98984375\n"
     ]
    },
    {
     "name": "stderr",
     "output_type": "stream",
     "text": [
      " 78%|███████▊  | 39/50 [00:13<00:03,  2.90it/s]"
     ]
    },
    {
     "name": "stdout",
     "output_type": "stream",
     "text": [
      "Epoch 39 | Training loss: 1.7607 | Training Accuracy: 0.9944196428571429 | Validation loss: 1.7675 | Validation Accuracy: 0.9875\n"
     ]
    },
    {
     "name": "stderr",
     "output_type": "stream",
     "text": [
      " 80%|████████  | 40/50 [00:14<00:03,  2.93it/s]"
     ]
    },
    {
     "name": "stdout",
     "output_type": "stream",
     "text": [
      "Epoch 40 | Training loss: 1.7606 | Training Accuracy: 0.9944196428571429 | Validation loss: 1.7679 | Validation Accuracy: 0.98671875\n"
     ]
    },
    {
     "name": "stderr",
     "output_type": "stream",
     "text": [
      " 82%|████████▏ | 41/50 [00:14<00:03,  2.84it/s]"
     ]
    },
    {
     "name": "stdout",
     "output_type": "stream",
     "text": [
      "Epoch 41 | Training loss: 1.7605 | Training Accuracy: 0.9946056547619048 | Validation loss: 1.7664 | Validation Accuracy: 0.98984375\n"
     ]
    },
    {
     "name": "stderr",
     "output_type": "stream",
     "text": [
      " 84%|████████▍ | 42/50 [00:14<00:02,  2.88it/s]"
     ]
    },
    {
     "name": "stdout",
     "output_type": "stream",
     "text": [
      "Epoch 42 | Training loss: 1.7603 | Training Accuracy: 0.9949776785714286 | Validation loss: 1.7664 | Validation Accuracy: 0.98984375\n"
     ]
    },
    {
     "name": "stderr",
     "output_type": "stream",
     "text": [
      " 86%|████████▌ | 43/50 [00:15<00:02,  2.90it/s]"
     ]
    },
    {
     "name": "stdout",
     "output_type": "stream",
     "text": [
      "Epoch 43 | Training loss: 1.7600 | Training Accuracy: 0.9953497023809523 | Validation loss: 1.7670 | Validation Accuracy: 0.9890625\n"
     ]
    },
    {
     "name": "stderr",
     "output_type": "stream",
     "text": [
      " 88%|████████▊ | 44/50 [00:15<00:02,  2.87it/s]"
     ]
    },
    {
     "name": "stdout",
     "output_type": "stream",
     "text": [
      "Epoch 44 | Training loss: 1.7599 | Training Accuracy: 0.9951636904761905 | Validation loss: 1.7667 | Validation Accuracy: 0.98984375\n"
     ]
    },
    {
     "name": "stderr",
     "output_type": "stream",
     "text": [
      " 90%|█████████ | 45/50 [00:16<00:01,  2.86it/s]"
     ]
    },
    {
     "name": "stdout",
     "output_type": "stream",
     "text": [
      "Epoch 45 | Training loss: 1.7604 | Training Accuracy: 0.9947916666666666 | Validation loss: 1.7664 | Validation Accuracy: 0.98984375\n"
     ]
    },
    {
     "name": "stderr",
     "output_type": "stream",
     "text": [
      " 92%|█████████▏| 46/50 [00:16<00:01,  2.91it/s]"
     ]
    },
    {
     "name": "stdout",
     "output_type": "stream",
     "text": [
      "Epoch 46 | Training loss: 1.7605 | Training Accuracy: 0.9947916666666666 | Validation loss: 1.7665 | Validation Accuracy: 0.98984375\n"
     ]
    },
    {
     "name": "stderr",
     "output_type": "stream",
     "text": [
      " 94%|█████████▍| 47/50 [00:16<00:01,  2.92it/s]"
     ]
    },
    {
     "name": "stdout",
     "output_type": "stream",
     "text": [
      "Epoch 47 | Training loss: 1.7604 | Training Accuracy: 0.9946056547619048 | Validation loss: 1.7666 | Validation Accuracy: 0.98984375\n"
     ]
    },
    {
     "name": "stderr",
     "output_type": "stream",
     "text": [
      " 96%|█████████▌| 48/50 [00:17<00:00,  2.92it/s]"
     ]
    },
    {
     "name": "stdout",
     "output_type": "stream",
     "text": [
      "Epoch 48 | Training loss: 1.7603 | Training Accuracy: 0.9947916666666666 | Validation loss: 1.7665 | Validation Accuracy: 0.98984375\n"
     ]
    },
    {
     "name": "stderr",
     "output_type": "stream",
     "text": [
      " 98%|█████████▊| 49/50 [00:17<00:00,  2.93it/s]"
     ]
    },
    {
     "name": "stdout",
     "output_type": "stream",
     "text": [
      "Epoch 49 | Training loss: 1.7599 | Training Accuracy: 0.9946056547619048 | Validation loss: 1.7665 | Validation Accuracy: 0.98984375\n"
     ]
    },
    {
     "name": "stderr",
     "output_type": "stream",
     "text": [
      "100%|██████████| 50/50 [00:17<00:00,  2.82it/s]"
     ]
    },
    {
     "name": "stdout",
     "output_type": "stream",
     "text": [
      "Epoch 50 | Training loss: 1.7603 | Training Accuracy: 0.9947916666666666 | Validation loss: 1.7665 | Validation Accuracy: 0.98984375\n",
      "\n",
      "**Finished training**\n",
      "\n",
      "Best validation loss (reached after 41 epochs): 1.7664154707454145\n",
      "\n",
      "Training time: 0.30 minutes\n",
      "Total training time: 0.30 minutes\n"
     ]
    },
    {
     "name": "stderr",
     "output_type": "stream",
     "text": [
      "\n"
     ]
    }
   ],
   "source": [
    "CELLULAR.train(adata=adata_train, train_classifier=True, target_key=\"cell_type\", batch_key=\"patientID\")"
   ]
  },
  {
   "cell_type": "markdown",
   "metadata": {},
   "source": [
    "## Predict on test data"
   ]
  },
  {
   "cell_type": "markdown",
   "metadata": {},
   "source": [
    "Next, we want to make predictions using the model.<br>\n",
    "It will retrieve the information from *trained_models/* to make predictions.<br>\n",
    "To run predict one needs to provide Anndata."
   ]
  },
  {
   "cell_type": "code",
   "execution_count": 5,
   "metadata": {},
   "outputs": [
    {
     "name": "stderr",
     "output_type": "stream",
     "text": [
      "c:\\Users\\user\\Documents\\GitHub\\testing_CELLULAR\\venv\\lib\\site-packages\\anndata\\_core\\anndata.py:1906: UserWarning: Observation names are not unique. To make them unique, call `.obs_names_make_unique`.\n",
      "  utils.warn_names_duplicates(\"obs\")\n"
     ]
    }
   ],
   "source": [
    "predictions = CELLULAR.predict(adata=adata_test, use_classifier=True)"
   ]
  },
  {
   "cell_type": "markdown",
   "metadata": {},
   "source": [
    "## Analyze performance"
   ]
  },
  {
   "cell_type": "markdown",
   "metadata": {},
   "source": [
    "Here we just quickly evaluate performance on testing dataset. <br>\n",
    "We can see how it achieves high accuracy, showing how it's able to generalize to new data. "
   ]
  },
  {
   "cell_type": "code",
   "execution_count": 6,
   "metadata": {},
   "outputs": [
    {
     "name": "stdout",
     "output_type": "stream",
     "text": [
      "Accuracy: 0.9877479579929989\n",
      "Balanced Accuracy: 0.9817567280756015\n",
      "F1 Score: 0.9877057230662571\n"
     ]
    }
   ],
   "source": [
    "adata_test.obs[\"prediction\"] = predictions\n",
    "\n",
    "# Extract the unique labels\n",
    "unique_labels1 = np.unique(adata_test.obs[\"cell_type\"])\n",
    "unique_labels2 = np.unique(adata_test.obs[\"prediction\"])\n",
    "unique_labels = np.unique(np.concatenate([unique_labels1,unique_labels2]))\n",
    "np.random.shuffle(unique_labels)\n",
    "\n",
    "# Convert string labels to numerical labels\n",
    "label_encoder_temp = LabelEncoder()\n",
    "label_encoder_temp.fit(unique_labels)\n",
    "y_true = label_encoder_temp.transform(adata_test.obs[\"cell_type\"])\n",
    "y_pred = label_encoder_temp.transform(adata_test.obs[\"prediction\"])\n",
    "\n",
    "# Calculate accuracy\n",
    "accuracy = accuracy_score(y_true, y_pred)\n",
    "print(\"Accuracy:\", accuracy)\n",
    "\n",
    "# Calculate balanced accuracy\n",
    "balanced_accuracy = balanced_accuracy_score(y_true, y_pred)\n",
    "print(\"Balanced Accuracy:\", balanced_accuracy)\n",
    "\n",
    "# Calculate F1 score\n",
    "f1 = f1_score(y_true, y_pred, average='weighted')\n",
    "print(\"F1 Score:\", f1)"
   ]
  },
  {
   "cell_type": "markdown",
   "metadata": {},
   "source": [
    "## Novel cell type detection"
   ]
  },
  {
   "cell_type": "markdown",
   "metadata": {},
   "source": [
    "Detect whether there could be a novel cell type in the dataset. <br>\n",
    "This detection is based on looking at the minimum likelihood of any prediction. If it's below the specified threshold, then this suggests that there's a novel cell type present. "
   ]
  },
  {
   "cell_type": "code",
   "execution_count": 7,
   "metadata": {},
   "outputs": [
    {
     "name": "stderr",
     "output_type": "stream",
     "text": [
      "c:\\Users\\user\\Documents\\GitHub\\testing_CELLULAR\\venv\\lib\\site-packages\\anndata\\_core\\anndata.py:1906: UserWarning: Observation names are not unique. To make them unique, call `.obs_names_make_unique`.\n",
      "  utils.warn_names_duplicates(\"obs\")\n"
     ]
    },
    {
     "name": "stdout",
     "output_type": "stream",
     "text": [
      "Minimum likelihood was 0.4710, which is higher than the threshold value of 0.25\n",
      "Can't confidently state whether or not there could be a novel cell type in the data or not\n"
     ]
    }
   ],
   "source": [
    "CELLULAR.novel_cell_type_detection(adata=adata_test)"
   ]
  }
 ],
 "metadata": {
  "kernelspec": {
   "display_name": "venv",
   "language": "python",
   "name": "python3"
  },
  "language_info": {
   "codemirror_mode": {
    "name": "ipython",
    "version": 3
   },
   "file_extension": ".py",
   "mimetype": "text/x-python",
   "name": "python",
   "nbconvert_exporter": "python",
   "pygments_lexer": "ipython3",
   "version": "3.10.5"
  }
 },
 "nbformat": 4,
 "nbformat_minor": 2
}
