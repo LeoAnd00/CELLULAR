{
 "cells": [
  {
   "cell_type": "markdown",
   "metadata": {},
   "source": [
    "# Classification Tutorial"
   ]
  },
  {
   "cell_type": "markdown",
   "metadata": {},
   "source": [
    "This is a tutorial notebook for how to use the package to train a classifier and make predictions"
   ]
  },
  {
   "cell_type": "code",
   "execution_count": 1,
   "metadata": {},
   "outputs": [
    {
     "name": "stderr",
     "output_type": "stream",
     "text": [
      "c:\\Users\\user\\Documents\\GitHub\\MT_test_repo\\env\\lib\\site-packages\\tqdm\\auto.py:21: TqdmWarning: IProgress not found. Please update jupyter and ipywidgets. See https://ipywidgets.readthedocs.io/en/stable/user_install.html\n",
      "  from .autonotebook import tqdm as notebook_tqdm\n"
     ]
    }
   ],
   "source": [
    "# Load required packages\n",
    "import scanpy as sc\n",
    "from sklearn.model_selection import StratifiedKFold\n",
    "from sklearn.preprocessing import LabelEncoder\n",
    "from sklearn.metrics import accuracy_score, f1_score, balanced_accuracy_score\n",
    "import numpy as np\n",
    "\n",
    "import sys\n",
    "sys.path.append('../') # Add parent directory to path, since it contains the CELLULAR package\n",
    "import CELLULAR"
   ]
  },
  {
   "cell_type": "markdown",
   "metadata": {},
   "source": [
    "## Read data"
   ]
  },
  {
   "cell_type": "markdown",
   "metadata": {},
   "source": [
    "Start by reading Anndata and split it into a training set and a testing set. <br>\n",
    "It's worth noting that adata.X, containing the counts, should be normalized. If this isn't the case, there's a implemented normalization function in the package. Simply run *CELLULAR.log1p_normalize(adata)* to apply scale factor and log1p normalize adata.X."
   ]
  },
  {
   "cell_type": "code",
   "execution_count": 2,
   "metadata": {},
   "outputs": [
    {
     "name": "stderr",
     "output_type": "stream",
     "text": [
      "c:\\Users\\user\\Documents\\GitHub\\MT_test_repo\\env\\lib\\site-packages\\anndata\\__init__.py:51: FutureWarning: `anndata.read` is deprecated, use `anndata.read_h5ad` instead. `ad.read` will be removed in mid 2024.\n",
      "  warnings.warn(\n",
      "c:\\Users\\user\\Documents\\GitHub\\MT_test_repo\\env\\lib\\site-packages\\anndata\\_core\\anndata.py:1906: UserWarning: Observation names are not unique. To make them unique, call `.obs_names_make_unique`.\n",
      "  utils.warn_names_duplicates(\"obs\")\n",
      "c:\\Users\\user\\Documents\\GitHub\\MT_test_repo\\env\\lib\\site-packages\\anndata\\_core\\anndata.py:1906: UserWarning: Observation names are not unique. To make them unique, call `.obs_names_make_unique`.\n",
      "  utils.warn_names_duplicates(\"obs\")\n"
     ]
    }
   ],
   "source": [
    "adata = sc.read(\"data/Baron.h5ad\", cache=True)\n",
    "\n",
    "### Split data for training and testing\n",
    "\n",
    "# Initialize Stratified K-Fold\n",
    "stratified_kfold = StratifiedKFold(n_splits=5, shuffle=True, random_state=42)\n",
    "\n",
    "# Take the first fold\n",
    "adata_train = adata.copy()\n",
    "adata_test = adata.copy()\n",
    "for train_index, test_index in stratified_kfold.split(adata.X, adata.obs[\"cell_type\"]):\n",
    "    adata_train = adata_train[train_index, :].copy()\n",
    "    adata_test = adata_test[test_index, :].copy()\n",
    "    break # Break to get the first fold"
   ]
  },
  {
   "cell_type": "code",
   "execution_count": 3,
   "metadata": {},
   "outputs": [
    {
     "name": "stdout",
     "output_type": "stream",
     "text": [
      "Train data contains 6855 cells and 14322 genes\n",
      "Test data contains 1714 cells and 14322 genes\n"
     ]
    }
   ],
   "source": [
    "print(f\"Train data contains {adata_train.X.shape[0]} cells and {adata_train.X.shape[1]} genes\")\n",
    "print(f\"Test data contains {adata_test.X.shape[0]} cells and {adata_test.X.shape[1]} genes\")"
   ]
  },
  {
   "cell_type": "markdown",
   "metadata": {},
   "source": [
    "## Train model"
   ]
  },
  {
   "cell_type": "markdown",
   "metadata": {},
   "source": [
    "Next, we want to train the model. This can simply be achieved by running the following line. <br>\n",
    "Once trained it will save all the information needed to make predictions using the model under *trained_models/*.<br>\n",
    "One needs to give the model the training Anndata, the target key in adata.obs that contains cell type information, and the batch key in adata.obs that contains the batch effect information. <br>\n",
    "For this dataset, patient ID is the batch effect of interest."
   ]
  },
  {
   "cell_type": "code",
   "execution_count": 4,
   "metadata": {},
   "outputs": [
    {
     "name": "stderr",
     "output_type": "stream",
     "text": [
      "c:\\Users\\user\\Documents\\GitHub\\MT_test_repo\\env\\lib\\site-packages\\anndata\\_core\\anndata.py:1906: UserWarning: Observation names are not unique. To make them unique, call `.obs_names_make_unique`.\n",
      "  utils.warn_names_duplicates(\"obs\")\n",
      "c:\\Users\\user\\Documents\\GitHub\\MT_test_repo\\env\\lib\\site-packages\\scanpy\\preprocessing\\_highly_variable_genes.py:258: FutureWarning: The default of observed=False is deprecated and will be changed to True in a future version of pandas. Pass observed=False to retain current behavior or observed=True to adopt the future default and silence this warning.\n",
      "  disp_grouped = df.groupby(\"mean_bin\")[\"dispersions\"]\n",
      "c:\\Users\\user\\Documents\\GitHub\\MT_test_repo\\env\\lib\\site-packages\\anndata\\_core\\anndata.py:1906: UserWarning: Observation names are not unique. To make them unique, call `.obs_names_make_unique`.\n",
      "  utils.warn_names_duplicates(\"obs\")\n",
      "c:\\Users\\user\\Documents\\GitHub\\MT_test_repo\\env\\lib\\site-packages\\anndata\\_core\\anndata.py:1906: UserWarning: Observation names are not unique. To make them unique, call `.obs_names_make_unique`.\n",
      "  utils.warn_names_duplicates(\"obs\")\n",
      "c:\\Users\\user\\Documents\\GitHub\\MT_test_repo\\env\\lib\\site-packages\\numpy\\core\\fromnumeric.py:3504: RuntimeWarning: Mean of empty slice.\n",
      "  return _methods._mean(a, axis=axis, dtype=dtype,\n",
      "c:\\Users\\user\\Documents\\GitHub\\MT_test_repo\\env\\lib\\site-packages\\numpy\\core\\_methods.py:121: RuntimeWarning: invalid value encountered in divide\n",
      "  ret = um.true_divide(\n",
      "c:\\Users\\user\\Documents\\GitHub\\MT_test_repo\\env\\lib\\site-packages\\anndata\\_core\\anndata.py:1906: UserWarning: Observation names are not unique. To make them unique, call `.obs_names_make_unique`.\n",
      "  utils.warn_names_duplicates(\"obs\")\n",
      "c:\\Users\\user\\Documents\\GitHub\\MT_test_repo\\env\\lib\\site-packages\\scanpy\\preprocessing\\_highly_variable_genes.py:258: FutureWarning: The default of observed=False is deprecated and will be changed to True in a future version of pandas. Pass observed=False to retain current behavior or observed=True to adopt the future default and silence this warning.\n",
      "  disp_grouped = df.groupby(\"mean_bin\")[\"dispersions\"]\n",
      "c:\\Users\\user\\Documents\\GitHub\\MT_test_repo\\env\\lib\\site-packages\\anndata\\_core\\anndata.py:1906: UserWarning: Observation names are not unique. To make them unique, call `.obs_names_make_unique`.\n",
      "  utils.warn_names_duplicates(\"obs\")\n",
      "c:\\Users\\user\\Documents\\GitHub\\MT_test_repo\\env\\lib\\site-packages\\anndata\\_core\\anndata.py:1906: UserWarning: Observation names are not unique. To make them unique, call `.obs_names_make_unique`.\n",
      "  utils.warn_names_duplicates(\"obs\")\n",
      "c:\\Users\\user\\Documents\\GitHub\\MT_test_repo\\env\\lib\\site-packages\\numpy\\core\\fromnumeric.py:3504: RuntimeWarning: Mean of empty slice.\n",
      "  return _methods._mean(a, axis=axis, dtype=dtype,\n",
      "c:\\Users\\user\\Documents\\GitHub\\MT_test_repo\\env\\lib\\site-packages\\numpy\\core\\_methods.py:121: RuntimeWarning: invalid value encountered in divide\n",
      "  ret = um.true_divide(\n",
      "c:\\Users\\user\\Documents\\GitHub\\MT_test_repo\\env\\lib\\site-packages\\anndata\\_core\\anndata.py:1906: UserWarning: Observation names are not unique. To make them unique, call `.obs_names_make_unique`.\n",
      "  utils.warn_names_duplicates(\"obs\")\n"
     ]
    },
    {
     "name": "stdout",
     "output_type": "stream",
     "text": [
      "Number of parameters: 2558600\n",
      "\n",
      "Start Training\n",
      "\n"
     ]
    },
    {
     "name": "stderr",
     "output_type": "stream",
     "text": [
      "  2%|▏         | 1/50 [00:25<20:55, 25.62s/it]"
     ]
    },
    {
     "name": "stdout",
     "output_type": "stream",
     "text": [
      "Epoch 1 | Training loss: 0.7264 | Validation loss: 0.5434\n"
     ]
    },
    {
     "name": "stderr",
     "output_type": "stream",
     "text": [
      "  4%|▍         | 2/50 [00:49<19:31, 24.40s/it]"
     ]
    },
    {
     "name": "stdout",
     "output_type": "stream",
     "text": [
      "Epoch 2 | Training loss: 0.3885 | Validation loss: 0.2353\n"
     ]
    },
    {
     "name": "stderr",
     "output_type": "stream",
     "text": [
      "  6%|▌         | 3/50 [01:14<19:16, 24.61s/it]"
     ]
    },
    {
     "name": "stdout",
     "output_type": "stream",
     "text": [
      "Epoch 3 | Training loss: 0.3331 | Validation loss: 0.2105\n"
     ]
    },
    {
     "name": "stderr",
     "output_type": "stream",
     "text": [
      "  8%|▊         | 4/50 [01:37<18:27, 24.08s/it]"
     ]
    },
    {
     "name": "stdout",
     "output_type": "stream",
     "text": [
      "Epoch 4 | Training loss: 0.2086 | Validation loss: 0.1814\n"
     ]
    },
    {
     "name": "stderr",
     "output_type": "stream",
     "text": [
      " 10%|█         | 5/50 [02:01<18:13, 24.29s/it]"
     ]
    },
    {
     "name": "stdout",
     "output_type": "stream",
     "text": [
      "Epoch 5 | Training loss: 0.2258 | Validation loss: 0.1789\n"
     ]
    },
    {
     "name": "stderr",
     "output_type": "stream",
     "text": [
      " 12%|█▏        | 6/50 [02:24<17:20, 23.66s/it]"
     ]
    },
    {
     "name": "stdout",
     "output_type": "stream",
     "text": [
      "Epoch 6 | Training loss: 0.2370 | Validation loss: 0.1628\n"
     ]
    },
    {
     "name": "stderr",
     "output_type": "stream",
     "text": [
      " 14%|█▍        | 7/50 [02:48<17:10, 23.96s/it]"
     ]
    },
    {
     "name": "stdout",
     "output_type": "stream",
     "text": [
      "Epoch 7 | Training loss: 0.2202 | Validation loss: 0.1596\n"
     ]
    },
    {
     "name": "stderr",
     "output_type": "stream",
     "text": [
      " 16%|█▌        | 8/50 [03:12<16:38, 23.77s/it]"
     ]
    },
    {
     "name": "stdout",
     "output_type": "stream",
     "text": [
      "Epoch 8 | Training loss: 0.1643 | Validation loss: 0.1390\n"
     ]
    },
    {
     "name": "stderr",
     "output_type": "stream",
     "text": [
      " 18%|█▊        | 9/50 [03:39<16:55, 24.77s/it]"
     ]
    },
    {
     "name": "stdout",
     "output_type": "stream",
     "text": [
      "Epoch 9 | Training loss: 0.1288 | Validation loss: 0.1350\n"
     ]
    },
    {
     "name": "stderr",
     "output_type": "stream",
     "text": [
      " 20%|██        | 10/50 [04:03<16:22, 24.56s/it]"
     ]
    },
    {
     "name": "stdout",
     "output_type": "stream",
     "text": [
      "Epoch 10 | Training loss: 0.1318 | Validation loss: 0.1333\n"
     ]
    },
    {
     "name": "stderr",
     "output_type": "stream",
     "text": [
      " 22%|██▏       | 11/50 [04:27<15:47, 24.30s/it]"
     ]
    },
    {
     "name": "stdout",
     "output_type": "stream",
     "text": [
      "Epoch 11 | Training loss: 0.1201 | Validation loss: 0.1317\n"
     ]
    },
    {
     "name": "stderr",
     "output_type": "stream",
     "text": [
      " 24%|██▍       | 12/50 [04:50<15:13, 24.04s/it]"
     ]
    },
    {
     "name": "stdout",
     "output_type": "stream",
     "text": [
      "Epoch 12 | Training loss: 0.1118 | Validation loss: 0.1293\n"
     ]
    },
    {
     "name": "stderr",
     "output_type": "stream",
     "text": [
      " 26%|██▌       | 13/50 [05:26<17:05, 27.71s/it]"
     ]
    },
    {
     "name": "stdout",
     "output_type": "stream",
     "text": [
      "Epoch 13 | Training loss: 0.1081 | Validation loss: 0.1287\n"
     ]
    },
    {
     "name": "stderr",
     "output_type": "stream",
     "text": [
      " 28%|██▊       | 14/50 [05:54<16:37, 27.71s/it]"
     ]
    },
    {
     "name": "stdout",
     "output_type": "stream",
     "text": [
      "Epoch 14 | Training loss: 0.1137 | Validation loss: 0.1289\n"
     ]
    },
    {
     "name": "stderr",
     "output_type": "stream",
     "text": [
      " 30%|███       | 15/50 [06:26<16:54, 28.99s/it]"
     ]
    },
    {
     "name": "stdout",
     "output_type": "stream",
     "text": [
      "Epoch 15 | Training loss: 0.1011 | Validation loss: 0.1278\n"
     ]
    },
    {
     "name": "stderr",
     "output_type": "stream",
     "text": [
      " 32%|███▏      | 16/50 [06:54<16:20, 28.83s/it]"
     ]
    },
    {
     "name": "stdout",
     "output_type": "stream",
     "text": [
      "Epoch 16 | Training loss: 0.1075 | Validation loss: 0.1280\n"
     ]
    },
    {
     "name": "stderr",
     "output_type": "stream",
     "text": [
      " 34%|███▍      | 17/50 [07:25<16:09, 29.38s/it]"
     ]
    },
    {
     "name": "stdout",
     "output_type": "stream",
     "text": [
      "Epoch 17 | Training loss: 0.1111 | Validation loss: 0.1272\n"
     ]
    },
    {
     "name": "stderr",
     "output_type": "stream",
     "text": [
      " 36%|███▌      | 18/50 [07:52<15:17, 28.67s/it]"
     ]
    },
    {
     "name": "stdout",
     "output_type": "stream",
     "text": [
      "Epoch 18 | Training loss: 0.1017 | Validation loss: 0.1271\n"
     ]
    },
    {
     "name": "stderr",
     "output_type": "stream",
     "text": [
      " 38%|███▊      | 19/50 [08:25<15:32, 30.07s/it]"
     ]
    },
    {
     "name": "stdout",
     "output_type": "stream",
     "text": [
      "Epoch 19 | Training loss: 0.1035 | Validation loss: 0.1274\n"
     ]
    },
    {
     "name": "stderr",
     "output_type": "stream",
     "text": [
      " 40%|████      | 20/50 [08:52<14:31, 29.04s/it]"
     ]
    },
    {
     "name": "stdout",
     "output_type": "stream",
     "text": [
      "Epoch 20 | Training loss: 0.1044 | Validation loss: 0.1280\n"
     ]
    },
    {
     "name": "stderr",
     "output_type": "stream",
     "text": [
      " 42%|████▏     | 21/50 [09:19<13:44, 28.44s/it]"
     ]
    },
    {
     "name": "stdout",
     "output_type": "stream",
     "text": [
      "Epoch 21 | Training loss: 0.1156 | Validation loss: 0.1278\n"
     ]
    },
    {
     "name": "stderr",
     "output_type": "stream",
     "text": [
      " 44%|████▍     | 22/50 [09:46<13:00, 27.89s/it]"
     ]
    },
    {
     "name": "stdout",
     "output_type": "stream",
     "text": [
      "Epoch 22 | Training loss: 0.1077 | Validation loss: 0.1283\n"
     ]
    },
    {
     "name": "stderr",
     "output_type": "stream",
     "text": [
      " 46%|████▌     | 23/50 [10:13<12:31, 27.84s/it]"
     ]
    },
    {
     "name": "stdout",
     "output_type": "stream",
     "text": [
      "Epoch 23 | Training loss: 0.1097 | Validation loss: 0.1272\n"
     ]
    },
    {
     "name": "stderr",
     "output_type": "stream",
     "text": [
      " 48%|████▊     | 24/50 [10:40<11:51, 27.35s/it]"
     ]
    },
    {
     "name": "stdout",
     "output_type": "stream",
     "text": [
      "Epoch 24 | Training loss: 0.1154 | Validation loss: 0.1289\n"
     ]
    },
    {
     "name": "stderr",
     "output_type": "stream",
     "text": [
      " 50%|█████     | 25/50 [11:09<11:36, 27.87s/it]"
     ]
    },
    {
     "name": "stdout",
     "output_type": "stream",
     "text": [
      "Epoch 25 | Training loss: 0.1032 | Validation loss: 0.1278\n"
     ]
    },
    {
     "name": "stderr",
     "output_type": "stream",
     "text": [
      " 52%|█████▏    | 26/50 [11:35<11:01, 27.57s/it]"
     ]
    },
    {
     "name": "stdout",
     "output_type": "stream",
     "text": [
      "Epoch 26 | Training loss: 0.1098 | Validation loss: 0.1289\n"
     ]
    },
    {
     "name": "stderr",
     "output_type": "stream",
     "text": [
      " 54%|█████▍    | 27/50 [12:06<10:53, 28.42s/it]"
     ]
    },
    {
     "name": "stdout",
     "output_type": "stream",
     "text": [
      "Epoch 27 | Training loss: 0.1042 | Validation loss: 0.1285\n"
     ]
    },
    {
     "name": "stderr",
     "output_type": "stream",
     "text": [
      " 56%|█████▌    | 28/50 [12:33<10:15, 28.00s/it]"
     ]
    },
    {
     "name": "stdout",
     "output_type": "stream",
     "text": [
      "Epoch 28 | Training loss: 0.1084 | Validation loss: 0.1274\n"
     ]
    },
    {
     "name": "stderr",
     "output_type": "stream",
     "text": [
      " 58%|█████▊    | 29/50 [13:01<09:47, 27.97s/it]"
     ]
    },
    {
     "name": "stdout",
     "output_type": "stream",
     "text": [
      "Epoch 29 | Training loss: 0.1034 | Validation loss: 0.1278\n"
     ]
    },
    {
     "name": "stderr",
     "output_type": "stream",
     "text": [
      " 60%|██████    | 30/50 [13:27<09:06, 27.31s/it]"
     ]
    },
    {
     "name": "stdout",
     "output_type": "stream",
     "text": [
      "Epoch 30 | Training loss: 0.1071 | Validation loss: 0.1281\n"
     ]
    },
    {
     "name": "stderr",
     "output_type": "stream",
     "text": [
      " 62%|██████▏   | 31/50 [13:59<09:05, 28.71s/it]"
     ]
    },
    {
     "name": "stdout",
     "output_type": "stream",
     "text": [
      "Epoch 31 | Training loss: 0.1014 | Validation loss: 0.1279\n"
     ]
    },
    {
     "name": "stderr",
     "output_type": "stream",
     "text": [
      " 64%|██████▍   | 32/50 [14:25<08:26, 28.12s/it]"
     ]
    },
    {
     "name": "stdout",
     "output_type": "stream",
     "text": [
      "Epoch 32 | Training loss: 0.0990 | Validation loss: 0.1279\n"
     ]
    },
    {
     "name": "stderr",
     "output_type": "stream",
     "text": [
      " 66%|██████▌   | 33/50 [14:53<07:56, 28.02s/it]"
     ]
    },
    {
     "name": "stdout",
     "output_type": "stream",
     "text": [
      "Epoch 33 | Training loss: 0.1052 | Validation loss: 0.1289\n"
     ]
    },
    {
     "name": "stderr",
     "output_type": "stream",
     "text": [
      " 68%|██████▊   | 34/50 [15:20<07:23, 27.69s/it]"
     ]
    },
    {
     "name": "stdout",
     "output_type": "stream",
     "text": [
      "Epoch 34 | Training loss: 0.1092 | Validation loss: 0.1298\n"
     ]
    },
    {
     "name": "stderr",
     "output_type": "stream",
     "text": [
      " 70%|███████   | 35/50 [15:47<06:51, 27.45s/it]"
     ]
    },
    {
     "name": "stdout",
     "output_type": "stream",
     "text": [
      "Epoch 35 | Training loss: 0.1034 | Validation loss: 0.1294\n"
     ]
    },
    {
     "name": "stderr",
     "output_type": "stream",
     "text": [
      " 72%|███████▏  | 36/50 [16:14<06:23, 27.39s/it]"
     ]
    },
    {
     "name": "stdout",
     "output_type": "stream",
     "text": [
      "Epoch 36 | Training loss: 0.0994 | Validation loss: 0.1305\n"
     ]
    },
    {
     "name": "stderr",
     "output_type": "stream",
     "text": [
      " 74%|███████▍  | 37/50 [16:41<05:53, 27.17s/it]"
     ]
    },
    {
     "name": "stdout",
     "output_type": "stream",
     "text": [
      "Epoch 37 | Training loss: 0.1028 | Validation loss: 0.1292\n"
     ]
    },
    {
     "name": "stderr",
     "output_type": "stream",
     "text": [
      " 74%|███████▍  | 37/50 [17:08<06:01, 27.81s/it]\n",
      "[I 2024-04-02 11:35:20,400] A new study created in memory with name: no-name-6c9525a5-97c1-4186-8bf0-2a9dd199b64e\n"
     ]
    },
    {
     "name": "stdout",
     "output_type": "stream",
     "text": [
      "Epoch 38 | Training loss: 0.1087 | Validation loss: 0.1309\n",
      "Stopped training using EarlyStopping at epoch 38\n",
      "\n",
      "**Finished training**\n",
      "\n",
      "Best validation loss (reached after 18 epochs): 0.12706802673637868\n",
      "\n",
      "Training time: 17.15 minutes\n",
      "Total training time: 17.20 minutes\n",
      "\n",
      "Start training classifier\n",
      "\n",
      "\n",
      "Start Training\n",
      "\n"
     ]
    },
    {
     "name": "stderr",
     "output_type": "stream",
     "text": [
      " 80%|████████  | 40/50 [00:14<00:03,  2.68it/s]\n",
      "[I 2024-04-02 11:35:35,380] Trial 0 finished with value: 1.767646827083081 and parameters: {'n_neurons_layer1': 1344, 'n_neurons_layer2': 1920, 'learning_rate': 0.00019492596936168533, 'dropout': 0.2}. Best is trial 0 with value: 1.767646827083081.\n"
     ]
    },
    {
     "name": "stdout",
     "output_type": "stream",
     "text": [
      "Stopped training using EarlyStopping at epoch 41\n",
      "\n",
      "**Finished training**\n",
      "\n",
      "Best validation loss (reached after 31 epochs): 1.767646827083081\n",
      "\n",
      "Training time: 0.25 minutes\n",
      "Total training time: 0.25 minutes\n",
      "Start training classifier\n",
      "\n",
      "\n",
      "Start Training\n",
      "\n"
     ]
    },
    {
     "name": "stderr",
     "output_type": "stream",
     "text": [
      "100%|██████████| 50/50 [00:16<00:00,  3.09it/s]\n",
      "[I 2024-04-02 11:35:51,581] Trial 1 finished with value: 1.7760560475289822 and parameters: {'n_neurons_layer1': 512, 'n_neurons_layer2': 1792, 'learning_rate': 5.7657083586696606e-05, 'dropout': 0.5}. Best is trial 0 with value: 1.767646827083081.\n"
     ]
    },
    {
     "name": "stdout",
     "output_type": "stream",
     "text": [
      "\n",
      "**Finished training**\n",
      "\n",
      "Best validation loss (reached after 47 epochs): 1.7760560475289822\n",
      "\n",
      "Training time: 0.27 minutes\n",
      "Total training time: 0.27 minutes\n",
      "Start training classifier\n",
      "\n",
      "\n",
      "Start Training\n",
      "\n"
     ]
    },
    {
     "name": "stderr",
     "output_type": "stream",
     "text": [
      "100%|██████████| 50/50 [00:16<00:00,  2.98it/s]\n",
      "[I 2024-04-02 11:36:08,405] Trial 2 finished with value: 1.7675664805807174 and parameters: {'n_neurons_layer1': 960, 'n_neurons_layer2': 1280, 'learning_rate': 0.0001359027061542077, 'dropout': 0.0}. Best is trial 2 with value: 1.7675664805807174.\n"
     ]
    },
    {
     "name": "stdout",
     "output_type": "stream",
     "text": [
      "\n",
      "**Finished training**\n",
      "\n",
      "Best validation loss (reached after 41 epochs): 1.7675664805807174\n",
      "\n",
      "Training time: 0.28 minutes\n",
      "Total training time: 0.28 minutes\n",
      "Start training classifier\n",
      "\n",
      "\n",
      "Start Training\n",
      "\n"
     ]
    },
    {
     "name": "stderr",
     "output_type": "stream",
     "text": [
      "100%|██████████| 50/50 [00:16<00:00,  2.96it/s]\n",
      "[I 2024-04-02 11:36:25,356] Trial 3 finished with value: 1.7985070325434207 and parameters: {'n_neurons_layer1': 640, 'n_neurons_layer2': 1088, 'learning_rate': 1.0518004547819715e-05, 'dropout': 0.5}. Best is trial 2 with value: 1.7675664805807174.\n"
     ]
    },
    {
     "name": "stdout",
     "output_type": "stream",
     "text": [
      "\n",
      "**Finished training**\n",
      "\n",
      "Best validation loss (reached after 48 epochs): 1.7985070325434207\n",
      "\n",
      "Training time: 0.28 minutes\n",
      "Total training time: 0.28 minutes\n",
      "Start training classifier\n",
      "\n",
      "\n",
      "Start Training\n",
      "\n"
     ]
    },
    {
     "name": "stderr",
     "output_type": "stream",
     "text": [
      " 54%|█████▍    | 27/50 [00:09<00:07,  2.97it/s]\n",
      "[I 2024-04-02 11:36:34,465] Trial 4 finished with value: 1.7670980275608599 and parameters: {'n_neurons_layer1': 384, 'n_neurons_layer2': 1344, 'learning_rate': 0.0015847834453984186, 'dropout': 0.5}. Best is trial 4 with value: 1.7670980275608599.\n"
     ]
    },
    {
     "name": "stdout",
     "output_type": "stream",
     "text": [
      "Stopped training using EarlyStopping at epoch 28\n",
      "\n",
      "**Finished training**\n",
      "\n",
      "Best validation loss (reached after 18 epochs): 1.7670980275608599\n",
      "\n",
      "Training time: 0.15 minutes\n",
      "Total training time: 0.15 minutes\n",
      "Start training classifier\n",
      "\n",
      "\n",
      "Start Training\n",
      "\n"
     ]
    },
    {
     "name": "stderr",
     "output_type": "stream",
     "text": [
      " 98%|█████████▊| 49/50 [00:19<00:00,  2.51it/s]\n",
      "[I 2024-04-02 11:36:54,053] Trial 5 finished with value: 1.7694255921058357 and parameters: {'n_neurons_layer1': 1792, 'n_neurons_layer2': 1984, 'learning_rate': 2.4880005552011398e-05, 'dropout': 0.2}. Best is trial 4 with value: 1.7670980275608599.\n"
     ]
    },
    {
     "name": "stdout",
     "output_type": "stream",
     "text": [
      "Stopped training using EarlyStopping at epoch 50\n",
      "\n",
      "**Finished training**\n",
      "\n",
      "Best validation loss (reached after 40 epochs): 1.7694255921058357\n",
      "\n",
      "Training time: 0.33 minutes\n",
      "Total training time: 0.33 minutes\n",
      "Start training classifier\n",
      "\n",
      "\n",
      "Start Training\n",
      "\n"
     ]
    },
    {
     "name": "stderr",
     "output_type": "stream",
     "text": [
      " 66%|██████▌   | 33/50 [00:11<00:06,  2.80it/s]\n",
      "[I 2024-04-02 11:37:05,876] Trial 6 finished with value: 1.767433262988925 and parameters: {'n_neurons_layer1': 1600, 'n_neurons_layer2': 1536, 'learning_rate': 0.00025876240256771175, 'dropout': 0.4}. Best is trial 4 with value: 1.7670980275608599.\n"
     ]
    },
    {
     "name": "stdout",
     "output_type": "stream",
     "text": [
      "Stopped training using EarlyStopping at epoch 34\n",
      "\n",
      "**Finished training**\n",
      "\n",
      "Best validation loss (reached after 24 epochs): 1.767433262988925\n",
      "\n",
      "Training time: 0.20 minutes\n",
      "Total training time: 0.20 minutes\n",
      "Start training classifier\n",
      "\n",
      "\n",
      "Start Training\n",
      "\n"
     ]
    },
    {
     "name": "stderr",
     "output_type": "stream",
     "text": [
      " 62%|██████▏   | 31/50 [00:12<00:07,  2.53it/s]\n",
      "[I 2024-04-02 11:37:18,175] Trial 7 finished with value: 1.7684207459911705 and parameters: {'n_neurons_layer1': 1856, 'n_neurons_layer2': 2048, 'learning_rate': 0.004074893208850154, 'dropout': 0.4}. Best is trial 4 with value: 1.7670980275608599.\n"
     ]
    },
    {
     "name": "stdout",
     "output_type": "stream",
     "text": [
      "Stopped training using EarlyStopping at epoch 32\n",
      "\n",
      "**Finished training**\n",
      "\n",
      "Best validation loss (reached after 22 epochs): 1.7684207459911705\n",
      "\n",
      "Training time: 0.20 minutes\n",
      "Total training time: 0.20 minutes\n",
      "Start training classifier\n",
      "\n",
      "\n",
      "Start Training\n",
      "\n"
     ]
    },
    {
     "name": "stderr",
     "output_type": "stream",
     "text": [
      " 50%|█████     | 25/50 [00:07<00:07,  3.22it/s]\n",
      "[I 2024-04-02 11:37:25,956] Trial 8 finished with value: 1.7745088166557252 and parameters: {'n_neurons_layer1': 64, 'n_neurons_layer2': 1664, 'learning_rate': 0.004282378444052539, 'dropout': 0.5}. Best is trial 4 with value: 1.7670980275608599.\n"
     ]
    },
    {
     "name": "stdout",
     "output_type": "stream",
     "text": [
      "Stopped training using EarlyStopping at epoch 26\n",
      "\n",
      "**Finished training**\n",
      "\n",
      "Best validation loss (reached after 16 epochs): 1.7745088166557252\n",
      "\n",
      "Training time: 0.13 minutes\n",
      "Total training time: 0.13 minutes\n",
      "Start training classifier\n",
      "\n",
      "\n",
      "Start Training\n",
      "\n"
     ]
    },
    {
     "name": "stderr",
     "output_type": "stream",
     "text": [
      " 72%|███████▏  | 36/50 [00:12<00:05,  2.79it/s]\n",
      "[I 2024-04-02 11:37:38,919] Trial 9 finished with value: 1.7679003652185201 and parameters: {'n_neurons_layer1': 1664, 'n_neurons_layer2': 1408, 'learning_rate': 0.0001487738547519588, 'dropout': 0.1}. Best is trial 4 with value: 1.7670980275608599.\n"
     ]
    },
    {
     "name": "stdout",
     "output_type": "stream",
     "text": [
      "Stopped training using EarlyStopping at epoch 37\n",
      "\n",
      "**Finished training**\n",
      "\n",
      "Best validation loss (reached after 27 epochs): 1.7679003652185201\n",
      "\n",
      "Training time: 0.22 minutes\n",
      "Total training time: 0.22 minutes\n",
      "Start training classifier\n",
      "\n",
      "\n",
      "Start Training\n",
      "\n"
     ]
    },
    {
     "name": "stderr",
     "output_type": "stream",
     "text": [
      "100%|██████████| 50/50 [00:14<00:00,  3.36it/s]\n",
      "[I 2024-04-02 11:37:53,835] Trial 10 finished with value: 1.7690722060389816 and parameters: {'n_neurons_layer1': 128, 'n_neurons_layer2': 320, 'learning_rate': 0.001050867694644707, 'dropout': 0.30000000000000004}. Best is trial 4 with value: 1.7670980275608599.\n"
     ]
    },
    {
     "name": "stdout",
     "output_type": "stream",
     "text": [
      "\n",
      "**Finished training**\n",
      "\n",
      "Best validation loss (reached after 50 epochs): 1.7690722060389816\n",
      "\n",
      "Training time: 0.25 minutes\n",
      "Total training time: 0.25 minutes\n",
      "Start training classifier\n",
      "\n",
      "\n",
      "Start Training\n",
      "\n"
     ]
    },
    {
     "name": "stderr",
     "output_type": "stream",
     "text": [
      " 62%|██████▏   | 31/50 [00:11<00:06,  2.78it/s]\n",
      "[I 2024-04-02 11:38:05,029] Trial 11 finished with value: 1.7673512881621718 and parameters: {'n_neurons_layer1': 1280, 'n_neurons_layer2': 576, 'learning_rate': 0.0006675153938803997, 'dropout': 0.4}. Best is trial 4 with value: 1.7670980275608599.\n"
     ]
    },
    {
     "name": "stdout",
     "output_type": "stream",
     "text": [
      "Stopped training using EarlyStopping at epoch 32\n",
      "\n",
      "**Finished training**\n",
      "\n",
      "Best validation loss (reached after 22 epochs): 1.7673512881621718\n",
      "\n",
      "Training time: 0.19 minutes\n",
      "Total training time: 0.19 minutes\n",
      "Start training classifier\n",
      "\n",
      "\n",
      "Start Training\n",
      "\n"
     ]
    },
    {
     "name": "stderr",
     "output_type": "stream",
     "text": [
      " 60%|██████    | 30/50 [00:10<00:06,  2.91it/s]\n",
      "[I 2024-04-02 11:38:15,396] Trial 12 finished with value: 1.7672532013617457 and parameters: {'n_neurons_layer1': 1024, 'n_neurons_layer2': 576, 'learning_rate': 0.0010025446060213682, 'dropout': 0.4}. Best is trial 4 with value: 1.7670980275608599.\n"
     ]
    },
    {
     "name": "stdout",
     "output_type": "stream",
     "text": [
      "Stopped training using EarlyStopping at epoch 31\n",
      "\n",
      "**Finished training**\n",
      "\n",
      "Best validation loss (reached after 21 epochs): 1.7672532013617457\n",
      "\n",
      "Training time: 0.17 minutes\n",
      "Total training time: 0.17 minutes\n",
      "Start training classifier\n",
      "\n",
      "\n",
      "Start Training\n",
      "\n"
     ]
    },
    {
     "name": "stderr",
     "output_type": "stream",
     "text": [
      " 54%|█████▍    | 27/50 [00:09<00:07,  2.89it/s]\n",
      "[I 2024-04-02 11:38:24,781] Trial 13 finished with value: 1.7670004479587078 and parameters: {'n_neurons_layer1': 832, 'n_neurons_layer2': 704, 'learning_rate': 0.0014004606950867187, 'dropout': 0.30000000000000004}. Best is trial 13 with value: 1.7670004479587078.\n"
     ]
    },
    {
     "name": "stdout",
     "output_type": "stream",
     "text": [
      "Stopped training using EarlyStopping at epoch 28\n",
      "\n",
      "**Finished training**\n",
      "\n",
      "Best validation loss (reached after 18 epochs): 1.7670004479587078\n",
      "\n",
      "Training time: 0.16 minutes\n",
      "Total training time: 0.16 minutes\n",
      "Start training classifier\n",
      "\n",
      "\n",
      "Start Training\n",
      "\n"
     ]
    },
    {
     "name": "stderr",
     "output_type": "stream",
     "text": [
      " 46%|████▌     | 23/50 [00:07<00:09,  2.97it/s]\n",
      "[I 2024-04-02 11:38:32,581] Trial 14 finished with value: 1.7670711746439338 and parameters: {'n_neurons_layer1': 576, 'n_neurons_layer2': 832, 'learning_rate': 0.0020600407022523044, 'dropout': 0.30000000000000004}. Best is trial 13 with value: 1.7670004479587078.\n"
     ]
    },
    {
     "name": "stdout",
     "output_type": "stream",
     "text": [
      "Stopped training using EarlyStopping at epoch 24\n",
      "\n",
      "**Finished training**\n",
      "\n",
      "Best validation loss (reached after 14 epochs): 1.7670711746439338\n",
      "\n",
      "Training time: 0.13 minutes\n",
      "Total training time: 0.13 minutes\n",
      "Start training classifier\n",
      "\n",
      "\n",
      "Start Training\n",
      "\n"
     ]
    },
    {
     "name": "stderr",
     "output_type": "stream",
     "text": [
      " 54%|█████▍    | 27/50 [00:09<00:07,  2.93it/s]\n",
      "[I 2024-04-02 11:38:41,841] Trial 15 finished with value: 1.767480807285756 and parameters: {'n_neurons_layer1': 768, 'n_neurons_layer2': 768, 'learning_rate': 0.0072927967692334615, 'dropout': 0.30000000000000004}. Best is trial 13 with value: 1.7670004479587078.\n"
     ]
    },
    {
     "name": "stdout",
     "output_type": "stream",
     "text": [
      "Stopped training using EarlyStopping at epoch 28\n",
      "\n",
      "**Finished training**\n",
      "\n",
      "Best validation loss (reached after 18 epochs): 1.767480807285756\n",
      "\n",
      "Training time: 0.15 minutes\n",
      "Total training time: 0.15 minutes\n",
      "Start training classifier\n",
      "\n",
      "\n",
      "Start Training\n",
      "\n"
     ]
    },
    {
     "name": "stderr",
     "output_type": "stream",
     "text": [
      " 54%|█████▍    | 27/50 [00:09<00:07,  2.88it/s]\n",
      "[I 2024-04-02 11:38:51,279] Trial 16 finished with value: 1.766889890562743 and parameters: {'n_neurons_layer1': 320, 'n_neurons_layer2': 896, 'learning_rate': 0.002303989124908444, 'dropout': 0.2}. Best is trial 16 with value: 1.766889890562743.\n"
     ]
    },
    {
     "name": "stdout",
     "output_type": "stream",
     "text": [
      "Stopped training using EarlyStopping at epoch 28\n",
      "\n",
      "**Finished training**\n",
      "\n",
      "Best validation loss (reached after 18 epochs): 1.766889890562743\n",
      "\n",
      "Training time: 0.16 minutes\n",
      "Total training time: 0.16 minutes\n",
      "Start training classifier\n",
      "\n",
      "\n",
      "Start Training\n",
      "\n"
     ]
    },
    {
     "name": "stderr",
     "output_type": "stream",
     "text": [
      " 46%|████▌     | 23/50 [00:07<00:08,  3.10it/s]\n",
      "[I 2024-04-02 11:38:58,742] Trial 17 finished with value: 1.7685294473543762 and parameters: {'n_neurons_layer1': 256, 'n_neurons_layer2': 64, 'learning_rate': 0.009694810788943261, 'dropout': 0.1}. Best is trial 16 with value: 1.766889890562743.\n"
     ]
    },
    {
     "name": "stdout",
     "output_type": "stream",
     "text": [
      "Stopped training using EarlyStopping at epoch 24\n",
      "\n",
      "**Finished training**\n",
      "\n",
      "Best validation loss (reached after 14 epochs): 1.7685294473543762\n",
      "\n",
      "Training time: 0.12 minutes\n",
      "Total training time: 0.12 minutes\n",
      "Start training classifier\n",
      "\n",
      "\n",
      "Start Training\n",
      "\n"
     ]
    },
    {
     "name": "stderr",
     "output_type": "stream",
     "text": [
      "100%|██████████| 50/50 [00:16<00:00,  3.04it/s]\n",
      "[I 2024-04-02 11:39:15,230] Trial 18 finished with value: 1.7674567545764148 and parameters: {'n_neurons_layer1': 832, 'n_neurons_layer2': 1024, 'learning_rate': 0.000486624198316984, 'dropout': 0.1}. Best is trial 16 with value: 1.766889890562743.\n"
     ]
    },
    {
     "name": "stdout",
     "output_type": "stream",
     "text": [
      "\n",
      "**Finished training**\n",
      "\n",
      "Best validation loss (reached after 42 epochs): 1.7674567545764148\n",
      "\n",
      "Training time: 0.27 minutes\n",
      "Total training time: 0.27 minutes\n",
      "Start training classifier\n",
      "\n",
      "\n",
      "Start Training\n",
      "\n"
     ]
    },
    {
     "name": "stderr",
     "output_type": "stream",
     "text": [
      " 54%|█████▍    | 27/50 [00:08<00:07,  3.04it/s]\n",
      "[I 2024-04-02 11:39:24,160] Trial 19 finished with value: 1.766771196667105 and parameters: {'n_neurons_layer1': 1216, 'n_neurons_layer2': 384, 'learning_rate': 0.0025727073616612795, 'dropout': 0.2}. Best is trial 19 with value: 1.766771196667105.\n"
     ]
    },
    {
     "name": "stdout",
     "output_type": "stream",
     "text": [
      "Stopped training using EarlyStopping at epoch 28\n",
      "\n",
      "**Finished training**\n",
      "\n",
      "Best validation loss (reached after 18 epochs): 1.766771196667105\n",
      "\n",
      "Training time: 0.15 minutes\n",
      "Total training time: 0.15 minutes\n",
      "Start training classifier\n",
      "\n",
      "\n",
      "Start Training\n",
      "\n"
     ]
    },
    {
     "name": "stderr",
     "output_type": "stream",
     "text": [
      " 68%|██████▊   | 34/50 [00:11<00:05,  2.95it/s]\n",
      "[I 2024-04-02 11:39:35,740] Trial 20 finished with value: 1.7674826836213469 and parameters: {'n_neurons_layer1': 1280, 'n_neurons_layer2': 192, 'learning_rate': 0.003024220233940573, 'dropout': 0.0}. Best is trial 19 with value: 1.766771196667105.\n"
     ]
    },
    {
     "name": "stdout",
     "output_type": "stream",
     "text": [
      "Stopped training using EarlyStopping at epoch 35\n",
      "\n",
      "**Finished training**\n",
      "\n",
      "Best validation loss (reached after 25 epochs): 1.7674826836213469\n",
      "\n",
      "Training time: 0.19 minutes\n",
      "Total training time: 0.19 minutes\n",
      "Start training classifier\n",
      "\n",
      "\n",
      "Start Training\n",
      "\n"
     ]
    },
    {
     "name": "stderr",
     "output_type": "stream",
     "text": [
      " 54%|█████▍    | 27/50 [00:08<00:07,  3.04it/s]\n",
      "[I 2024-04-02 11:39:44,681] Trial 21 finished with value: 1.7667103639803827 and parameters: {'n_neurons_layer1': 1216, 'n_neurons_layer2': 448, 'learning_rate': 0.0019626324856273645, 'dropout': 0.2}. Best is trial 21 with value: 1.7667103639803827.\n"
     ]
    },
    {
     "name": "stdout",
     "output_type": "stream",
     "text": [
      "Stopped training using EarlyStopping at epoch 28\n",
      "\n",
      "**Finished training**\n",
      "\n",
      "Best validation loss (reached after 18 epochs): 1.7667103639803827\n",
      "\n",
      "Training time: 0.15 minutes\n",
      "Total training time: 0.15 minutes\n",
      "Start training classifier\n",
      "\n",
      "\n",
      "Start Training\n",
      "\n"
     ]
    },
    {
     "name": "stderr",
     "output_type": "stream",
     "text": [
      " 54%|█████▍    | 27/50 [00:08<00:07,  3.08it/s]\n",
      "[I 2024-04-02 11:39:53,503] Trial 22 finished with value: 1.7677147010341288 and parameters: {'n_neurons_layer1': 1408, 'n_neurons_layer2': 320, 'learning_rate': 0.002564770259029601, 'dropout': 0.2}. Best is trial 21 with value: 1.7667103639803827.\n"
     ]
    },
    {
     "name": "stdout",
     "output_type": "stream",
     "text": [
      "Stopped training using EarlyStopping at epoch 28\n",
      "\n",
      "**Finished training**\n",
      "\n",
      "Best validation loss (reached after 18 epochs): 1.7677147010341288\n",
      "\n",
      "Training time: 0.15 minutes\n",
      "Total training time: 0.15 minutes\n",
      "Start training classifier\n",
      "\n",
      "\n",
      "Start Training\n",
      "\n"
     ]
    },
    {
     "name": "stderr",
     "output_type": "stream",
     "text": [
      "100%|██████████| 50/50 [00:15<00:00,  3.17it/s]\n",
      "[I 2024-04-02 11:40:09,336] Trial 23 finished with value: 1.7673364334739745 and parameters: {'n_neurons_layer1': 1152, 'n_neurons_layer2': 448, 'learning_rate': 0.0005228872643227377, 'dropout': 0.2}. Best is trial 21 with value: 1.7667103639803827.\n"
     ]
    },
    {
     "name": "stdout",
     "output_type": "stream",
     "text": [
      "\n",
      "**Finished training**\n",
      "\n",
      "Best validation loss (reached after 41 epochs): 1.7673364334739745\n",
      "\n",
      "Training time: 0.26 minutes\n",
      "Total training time: 0.26 minutes\n",
      "Start training classifier\n",
      "\n",
      "\n",
      "Start Training\n",
      "\n"
     ]
    },
    {
     "name": "stderr",
     "output_type": "stream",
     "text": [
      " 32%|███▏      | 16/50 [00:06<00:12,  2.63it/s]\n",
      "[I 2024-04-02 11:40:15,490] Trial 24 finished with value: 1.7688084083609283 and parameters: {'n_neurons_layer1': 2048, 'n_neurons_layer2': 1024, 'learning_rate': 0.004149643829025108, 'dropout': 0.1}. Best is trial 21 with value: 1.7667103639803827.\n"
     ]
    },
    {
     "name": "stdout",
     "output_type": "stream",
     "text": [
      "Stopped training using EarlyStopping at epoch 17\n",
      "\n",
      "**Finished training**\n",
      "\n",
      "Best validation loss (reached after 7 epochs): 1.7688084083609283\n",
      "\n",
      "Training time: 0.10 minutes\n",
      "Total training time: 0.10 minutes\n",
      "Start training classifier\n",
      "\n",
      "\n",
      "Start Training\n",
      "\n"
     ]
    },
    {
     "name": "stderr",
     "output_type": "stream",
     "text": [
      " 72%|███████▏  | 36/50 [00:12<00:04,  2.98it/s]\n",
      "[I 2024-04-02 11:40:27,618] Trial 25 finished with value: 1.7683202628046275 and parameters: {'n_neurons_layer1': 1472, 'n_neurons_layer2': 64, 'learning_rate': 0.006190149849128025, 'dropout': 0.2}. Best is trial 21 with value: 1.7667103639803827.\n"
     ]
    },
    {
     "name": "stdout",
     "output_type": "stream",
     "text": [
      "Stopped training using EarlyStopping at epoch 37\n",
      "\n",
      "**Finished training**\n",
      "\n",
      "Best validation loss (reached after 27 epochs): 1.7683202628046275\n",
      "\n",
      "Training time: 0.20 minutes\n",
      "Total training time: 0.20 minutes\n",
      "Start training classifier\n",
      "\n",
      "\n",
      "Start Training\n",
      "\n"
     ]
    },
    {
     "name": "stderr",
     "output_type": "stream",
     "text": [
      " 54%|█████▍    | 27/50 [00:08<00:07,  3.07it/s]\n",
      "[I 2024-04-02 11:40:36,460] Trial 26 finished with value: 1.767300737462938 and parameters: {'n_neurons_layer1': 1024, 'n_neurons_layer2': 448, 'learning_rate': 0.0009079127200216067, 'dropout': 0.1}. Best is trial 21 with value: 1.7667103639803827.\n"
     ]
    },
    {
     "name": "stdout",
     "output_type": "stream",
     "text": [
      "Stopped training using EarlyStopping at epoch 28\n",
      "\n",
      "**Finished training**\n",
      "\n",
      "Best validation loss (reached after 18 epochs): 1.767300737462938\n",
      "\n",
      "Training time: 0.15 minutes\n",
      "Total training time: 0.15 minutes\n",
      "Start training classifier\n",
      "\n",
      "\n",
      "Start Training\n",
      "\n"
     ]
    },
    {
     "name": "stderr",
     "output_type": "stream",
     "text": [
      " 54%|█████▍    | 27/50 [00:09<00:07,  2.93it/s]\n",
      "[I 2024-04-02 11:40:45,749] Trial 27 finished with value: 1.767380755022168 and parameters: {'n_neurons_layer1': 1216, 'n_neurons_layer2': 640, 'learning_rate': 0.0019630497431558924, 'dropout': 0.2}. Best is trial 21 with value: 1.7667103639803827.\n"
     ]
    },
    {
     "name": "stdout",
     "output_type": "stream",
     "text": [
      "Stopped training using EarlyStopping at epoch 28\n",
      "\n",
      "**Finished training**\n",
      "\n",
      "Best validation loss (reached after 18 epochs): 1.767380755022168\n",
      "\n",
      "Training time: 0.15 minutes\n",
      "Total training time: 0.15 minutes\n",
      "Start training classifier\n",
      "\n",
      "\n",
      "Start Training\n",
      "\n"
     ]
    },
    {
     "name": "stderr",
     "output_type": "stream",
     "text": [
      " 80%|████████  | 40/50 [00:13<00:03,  2.92it/s]\n",
      "[I 2024-04-02 11:40:59,524] Trial 28 finished with value: 1.7674571984447538 and parameters: {'n_neurons_layer1': 1152, 'n_neurons_layer2': 832, 'learning_rate': 0.00037318231475501226, 'dropout': 0.30000000000000004}. Best is trial 21 with value: 1.7667103639803827.\n"
     ]
    },
    {
     "name": "stdout",
     "output_type": "stream",
     "text": [
      "Stopped training using EarlyStopping at epoch 41\n",
      "\n",
      "**Finished training**\n",
      "\n",
      "Best validation loss (reached after 31 epochs): 1.7674571984447538\n",
      "\n",
      "Training time: 0.23 minutes\n",
      "Total training time: 0.23 minutes\n",
      "Start training classifier\n",
      "\n",
      "\n",
      "Start Training\n",
      "\n"
     ]
    },
    {
     "name": "stderr",
     "output_type": "stream",
     "text": [
      " 42%|████▏     | 21/50 [00:06<00:09,  3.01it/s]\n",
      "[I 2024-04-02 11:41:06,557] Trial 29 finished with value: 1.7673649723641573 and parameters: {'n_neurons_layer1': 1600, 'n_neurons_layer2': 384, 'learning_rate': 0.0032067694716058017, 'dropout': 0.2}. Best is trial 21 with value: 1.7667103639803827.\n"
     ]
    },
    {
     "name": "stdout",
     "output_type": "stream",
     "text": [
      "Stopped training using EarlyStopping at epoch 22\n",
      "\n",
      "**Finished training**\n",
      "\n",
      "Best validation loss (reached after 12 epochs): 1.7673649723641573\n",
      "\n",
      "Training time: 0.12 minutes\n",
      "Total training time: 0.12 minutes\n",
      "Start training classifier\n",
      "\n",
      "\n",
      "Start Training\n",
      "\n"
     ]
    },
    {
     "name": "stderr",
     "output_type": "stream",
     "text": [
      " 62%|██████▏   | 31/50 [00:11<00:07,  2.69it/s]\n",
      "[I 2024-04-02 11:41:18,152] Trial 30 finished with value: 1.767401853390038 and parameters: {'n_neurons_layer1': 1472, 'n_neurons_layer2': 1152, 'learning_rate': 0.005758318594265168, 'dropout': 0.1}. Best is trial 21 with value: 1.7667103639803827.\n"
     ]
    },
    {
     "name": "stdout",
     "output_type": "stream",
     "text": [
      "Stopped training using EarlyStopping at epoch 32\n",
      "\n",
      "**Finished training**\n",
      "\n",
      "Best validation loss (reached after 22 epochs): 1.767401853390038\n",
      "\n",
      "Training time: 0.19 minutes\n",
      "Total training time: 0.19 minutes\n",
      "Start training classifier\n",
      "\n",
      "\n",
      "Start Training\n",
      "\n"
     ]
    },
    {
     "name": "stderr",
     "output_type": "stream",
     "text": [
      " 54%|█████▍    | 27/50 [00:09<00:07,  2.89it/s]\n",
      "[I 2024-04-02 11:41:27,536] Trial 31 finished with value: 1.7666842309758066 and parameters: {'n_neurons_layer1': 896, 'n_neurons_layer2': 768, 'learning_rate': 0.0008942216401432444, 'dropout': 0.30000000000000004}. Best is trial 31 with value: 1.7666842309758066.\n"
     ]
    },
    {
     "name": "stdout",
     "output_type": "stream",
     "text": [
      "Stopped training using EarlyStopping at epoch 28\n",
      "\n",
      "**Finished training**\n",
      "\n",
      "Best validation loss (reached after 18 epochs): 1.7666842309758066\n",
      "\n",
      "Training time: 0.16 minutes\n",
      "Total training time: 0.16 minutes\n",
      "Start training classifier\n",
      "\n",
      "\n",
      "Start Training\n",
      "\n"
     ]
    },
    {
     "name": "stderr",
     "output_type": "stream",
     "text": [
      " 54%|█████▍    | 27/50 [00:09<00:07,  2.98it/s]\n",
      "[I 2024-04-02 11:41:36,655] Trial 32 finished with value: 1.7672549357637763 and parameters: {'n_neurons_layer1': 384, 'n_neurons_layer2': 960, 'learning_rate': 0.0013187154745629176, 'dropout': 0.30000000000000004}. Best is trial 31 with value: 1.7666842309758066.\n"
     ]
    },
    {
     "name": "stdout",
     "output_type": "stream",
     "text": [
      "Stopped training using EarlyStopping at epoch 28\n",
      "\n",
      "**Finished training**\n",
      "\n",
      "Best validation loss (reached after 18 epochs): 1.7672549357637763\n",
      "\n",
      "Training time: 0.15 minutes\n",
      "Total training time: 0.15 minutes\n",
      "Start training classifier\n",
      "\n",
      "\n",
      "Start Training\n",
      "\n"
     ]
    },
    {
     "name": "stderr",
     "output_type": "stream",
     "text": [
      " 66%|██████▌   | 33/50 [00:10<00:05,  3.08it/s]\n",
      "[I 2024-04-02 11:41:47,415] Trial 33 finished with value: 1.7677193526178598 and parameters: {'n_neurons_layer1': 704, 'n_neurons_layer2': 512, 'learning_rate': 0.0006550103546605875, 'dropout': 0.2}. Best is trial 31 with value: 1.7666842309758066.\n"
     ]
    },
    {
     "name": "stdout",
     "output_type": "stream",
     "text": [
      "Stopped training using EarlyStopping at epoch 34\n",
      "\n",
      "**Finished training**\n",
      "\n",
      "Best validation loss (reached after 24 epochs): 1.7677193526178598\n",
      "\n",
      "Training time: 0.18 minutes\n",
      "Total training time: 0.18 minutes\n",
      "Start training classifier\n",
      "\n",
      "\n",
      "Start Training\n",
      "\n"
     ]
    },
    {
     "name": "stderr",
     "output_type": "stream",
     "text": [
      " 62%|██████▏   | 31/50 [00:10<00:06,  2.85it/s]\n",
      "[I 2024-04-02 11:41:58,363] Trial 34 finished with value: 1.767180202808231 and parameters: {'n_neurons_layer1': 960, 'n_neurons_layer2': 896, 'learning_rate': 0.0023515254317718814, 'dropout': 0.30000000000000004}. Best is trial 31 with value: 1.7666842309758066.\n"
     ]
    },
    {
     "name": "stdout",
     "output_type": "stream",
     "text": [
      "Stopped training using EarlyStopping at epoch 32\n",
      "\n",
      "**Finished training**\n",
      "\n",
      "Best validation loss (reached after 22 epochs): 1.767180202808231\n",
      "\n",
      "Training time: 0.18 minutes\n",
      "Total training time: 0.18 minutes\n",
      "Start training classifier\n",
      "\n",
      "\n",
      "Start Training\n",
      "\n"
     ]
    },
    {
     "name": "stderr",
     "output_type": "stream",
     "text": [
      "100%|██████████| 50/50 [00:15<00:00,  3.23it/s]\n",
      "[I 2024-04-02 11:42:13,893] Trial 35 finished with value: 1.7845746276900172 and parameters: {'n_neurons_layer1': 384, 'n_neurons_layer2': 192, 'learning_rate': 9.039613865560353e-05, 'dropout': 0.0}. Best is trial 31 with value: 1.7666842309758066.\n"
     ]
    },
    {
     "name": "stdout",
     "output_type": "stream",
     "text": [
      "\n",
      "**Finished training**\n",
      "\n",
      "Best validation loss (reached after 50 epochs): 1.7845746276900172\n",
      "\n",
      "Training time: 0.26 minutes\n",
      "Total training time: 0.26 minutes\n",
      "Start training classifier\n",
      "\n",
      "\n",
      "Start Training\n",
      "\n"
     ]
    },
    {
     "name": "stderr",
     "output_type": "stream",
     "text": [
      "100%|██████████| 50/50 [00:16<00:00,  2.96it/s]\n",
      "[I 2024-04-02 11:42:30,860] Trial 36 finished with value: 1.7676674026995898 and parameters: {'n_neurons_layer1': 896, 'n_neurons_layer2': 1152, 'learning_rate': 0.0002603415294981223, 'dropout': 0.2}. Best is trial 31 with value: 1.7666842309758066.\n"
     ]
    },
    {
     "name": "stdout",
     "output_type": "stream",
     "text": [
      "\n",
      "**Finished training**\n",
      "\n",
      "Best validation loss (reached after 50 epochs): 1.7676674026995898\n",
      "\n",
      "Training time: 0.28 minutes\n",
      "Total training time: 0.28 minutes\n",
      "Start training classifier\n",
      "\n",
      "\n",
      "Start Training\n",
      "\n"
     ]
    },
    {
     "name": "stderr",
     "output_type": "stream",
     "text": [
      " 44%|████▍     | 22/50 [00:07<00:09,  2.94it/s]\n",
      "[I 2024-04-02 11:42:38,406] Trial 37 finished with value: 1.7670944538898765 and parameters: {'n_neurons_layer1': 512, 'n_neurons_layer2': 704, 'learning_rate': 0.0015723043199133847, 'dropout': 0.2}. Best is trial 31 with value: 1.7666842309758066.\n"
     ]
    },
    {
     "name": "stdout",
     "output_type": "stream",
     "text": [
      "Stopped training using EarlyStopping at epoch 23\n",
      "\n",
      "**Finished training**\n",
      "\n",
      "Best validation loss (reached after 13 epochs): 1.7670944538898765\n",
      "\n",
      "Training time: 0.12 minutes\n",
      "Total training time: 0.13 minutes\n",
      "Start training classifier\n",
      "\n",
      "\n",
      "Start Training\n",
      "\n"
     ]
    },
    {
     "name": "stderr",
     "output_type": "stream",
     "text": [
      " 64%|██████▍   | 32/50 [00:11<00:06,  2.88it/s]\n",
      "[I 2024-04-02 11:42:49,572] Trial 38 finished with value: 1.7680676407180727 and parameters: {'n_neurons_layer1': 1088, 'n_neurons_layer2': 256, 'learning_rate': 0.0007534082291987584, 'dropout': 0.30000000000000004}. Best is trial 31 with value: 1.7666842309758066.\n"
     ]
    },
    {
     "name": "stdout",
     "output_type": "stream",
     "text": [
      "Stopped training using EarlyStopping at epoch 33\n",
      "\n",
      "**Finished training**\n",
      "\n",
      "Best validation loss (reached after 23 epochs): 1.7680676407180727\n",
      "\n",
      "Training time: 0.19 minutes\n",
      "Total training time: 0.19 minutes\n",
      "Start training classifier\n",
      "\n",
      "\n",
      "Start Training\n",
      "\n"
     ]
    },
    {
     "name": "stderr",
     "output_type": "stream",
     "text": [
      " 52%|█████▏    | 26/50 [00:08<00:08,  2.92it/s]\n",
      "[I 2024-04-02 11:42:58,535] Trial 39 finished with value: 1.7676270491443575 and parameters: {'n_neurons_layer1': 704, 'n_neurons_layer2': 1216, 'learning_rate': 0.0003951443774863458, 'dropout': 0.4}. Best is trial 31 with value: 1.7666842309758066.\n"
     ]
    },
    {
     "name": "stdout",
     "output_type": "stream",
     "text": [
      "Stopped training using EarlyStopping at epoch 27\n",
      "\n",
      "**Finished training**\n",
      "\n",
      "Best validation loss (reached after 17 epochs): 1.7676270491443575\n",
      "\n",
      "Training time: 0.15 minutes\n",
      "Total training time: 0.15 minutes\n",
      "Start training classifier\n",
      "\n",
      "\n",
      "Start Training\n",
      "\n"
     ]
    },
    {
     "name": "stderr",
     "output_type": "stream",
     "text": [
      "100%|██████████| 50/50 [00:16<00:00,  2.96it/s]\n",
      "[I 2024-04-02 11:43:15,473] Trial 40 finished with value: 1.7729670352302491 and parameters: {'n_neurons_layer1': 1344, 'n_neurons_layer2': 640, 'learning_rate': 3.746713666974444e-05, 'dropout': 0.2}. Best is trial 31 with value: 1.7666842309758066.\n"
     ]
    },
    {
     "name": "stdout",
     "output_type": "stream",
     "text": [
      "\n",
      "**Finished training**\n",
      "\n",
      "Best validation loss (reached after 44 epochs): 1.7729670352302491\n",
      "\n",
      "Training time: 0.28 minutes\n",
      "Total training time: 0.28 minutes\n",
      "Start training classifier\n",
      "\n",
      "\n",
      "Start Training\n",
      "\n"
     ]
    },
    {
     "name": "stderr",
     "output_type": "stream",
     "text": [
      " 54%|█████▍    | 27/50 [00:09<00:07,  2.96it/s]\n",
      "[I 2024-04-02 11:43:24,652] Trial 41 finished with value: 1.7668872624635696 and parameters: {'n_neurons_layer1': 896, 'n_neurons_layer2': 704, 'learning_rate': 0.0013551518368910141, 'dropout': 0.30000000000000004}. Best is trial 31 with value: 1.7666842309758066.\n"
     ]
    },
    {
     "name": "stdout",
     "output_type": "stream",
     "text": [
      "Stopped training using EarlyStopping at epoch 28\n",
      "\n",
      "**Finished training**\n",
      "\n",
      "Best validation loss (reached after 18 epochs): 1.7668872624635696\n",
      "\n",
      "Training time: 0.15 minutes\n",
      "Total training time: 0.15 minutes\n",
      "Start training classifier\n",
      "\n",
      "\n",
      "Start Training\n",
      "\n"
     ]
    },
    {
     "name": "stderr",
     "output_type": "stream",
     "text": [
      " 50%|█████     | 25/50 [00:08<00:08,  2.81it/s]\n",
      "[I 2024-04-02 11:43:33,596] Trial 42 finished with value: 1.7671667827293276 and parameters: {'n_neurons_layer1': 960, 'n_neurons_layer2': 896, 'learning_rate': 0.0017078818530292727, 'dropout': 0.30000000000000004}. Best is trial 31 with value: 1.7666842309758066.\n"
     ]
    },
    {
     "name": "stdout",
     "output_type": "stream",
     "text": [
      "Stopped training using EarlyStopping at epoch 26\n",
      "\n",
      "**Finished training**\n",
      "\n",
      "Best validation loss (reached after 16 epochs): 1.7671667827293276\n",
      "\n",
      "Training time: 0.15 minutes\n",
      "Total training time: 0.15 minutes\n",
      "Start training classifier\n",
      "\n",
      "\n",
      "Start Training\n",
      "\n"
     ]
    },
    {
     "name": "stderr",
     "output_type": "stream",
     "text": [
      " 48%|████▊     | 24/50 [00:07<00:08,  3.11it/s]\n",
      "[I 2024-04-02 11:43:41,362] Trial 43 finished with value: 1.766981425974518 and parameters: {'n_neurons_layer1': 192, 'n_neurons_layer2': 512, 'learning_rate': 0.003261119543088782, 'dropout': 0.2}. Best is trial 31 with value: 1.7666842309758066.\n"
     ]
    },
    {
     "name": "stdout",
     "output_type": "stream",
     "text": [
      "Stopped training using EarlyStopping at epoch 25\n",
      "\n",
      "**Finished training**\n",
      "\n",
      "Best validation loss (reached after 15 epochs): 1.766981425974518\n",
      "\n",
      "Training time: 0.13 minutes\n",
      "Total training time: 0.13 minutes\n",
      "Start training classifier\n",
      "\n",
      "\n",
      "Start Training\n",
      "\n"
     ]
    },
    {
     "name": "stderr",
     "output_type": "stream",
     "text": [
      " 48%|████▊     | 24/50 [00:08<00:09,  2.68it/s]\n",
      "[I 2024-04-02 11:43:50,400] Trial 44 finished with value: 1.7666121384128928 and parameters: {'n_neurons_layer1': 1088, 'n_neurons_layer2': 1856, 'learning_rate': 0.0010577383216737153, 'dropout': 0.30000000000000004}. Best is trial 44 with value: 1.7666121384128928.\n"
     ]
    },
    {
     "name": "stdout",
     "output_type": "stream",
     "text": [
      "Stopped training using EarlyStopping at epoch 25\n",
      "\n",
      "**Finished training**\n",
      "\n",
      "Best validation loss (reached after 15 epochs): 1.7666121384128928\n",
      "\n",
      "Training time: 0.15 minutes\n",
      "Total training time: 0.15 minutes\n",
      "Start training classifier\n",
      "\n",
      "\n",
      "Start Training\n",
      "\n"
     ]
    },
    {
     "name": "stderr",
     "output_type": "stream",
     "text": [
      " 48%|████▊     | 24/50 [00:08<00:09,  2.72it/s]\n",
      "[I 2024-04-02 11:43:59,300] Trial 45 finished with value: 1.7671908726915717 and parameters: {'n_neurons_layer1': 1088, 'n_neurons_layer2': 1920, 'learning_rate': 0.0011229992040869758, 'dropout': 0.4}. Best is trial 44 with value: 1.7666121384128928.\n"
     ]
    },
    {
     "name": "stdout",
     "output_type": "stream",
     "text": [
      "Stopped training using EarlyStopping at epoch 25\n",
      "\n",
      "**Finished training**\n",
      "\n",
      "Best validation loss (reached after 15 epochs): 1.7671908726915717\n",
      "\n",
      "Training time: 0.15 minutes\n",
      "Total training time: 0.15 minutes\n",
      "Start training classifier\n",
      "\n",
      "\n",
      "Start Training\n",
      "\n"
     ]
    },
    {
     "name": "stderr",
     "output_type": "stream",
     "text": [
      " 32%|███▏      | 16/50 [00:06<00:12,  2.62it/s]\n",
      "[I 2024-04-02 11:44:05,477] Trial 46 finished with value: 1.7675007135607301 and parameters: {'n_neurons_layer1': 1216, 'n_neurons_layer2': 1664, 'learning_rate': 0.0007386438029055289, 'dropout': 0.30000000000000004}. Best is trial 44 with value: 1.7666121384128928.\n"
     ]
    },
    {
     "name": "stdout",
     "output_type": "stream",
     "text": [
      "Stopped training using EarlyStopping at epoch 17\n",
      "\n",
      "**Finished training**\n",
      "\n",
      "Best validation loss (reached after 7 epochs): 1.7675007135607301\n",
      "\n",
      "Training time: 0.10 minutes\n",
      "Total training time: 0.10 minutes\n",
      "Start training classifier\n",
      "\n",
      "\n",
      "Start Training\n",
      "\n"
     ]
    },
    {
     "name": "stderr",
     "output_type": "stream",
     "text": [
      " 70%|███████   | 35/50 [00:12<00:05,  2.86it/s]\n",
      "[I 2024-04-02 11:44:17,784] Trial 47 finished with value: 1.7666382974013686 and parameters: {'n_neurons_layer1': 896, 'n_neurons_layer2': 1408, 'learning_rate': 0.001259720637116511, 'dropout': 0.4}. Best is trial 44 with value: 1.7666121384128928.\n"
     ]
    },
    {
     "name": "stdout",
     "output_type": "stream",
     "text": [
      "Stopped training using EarlyStopping at epoch 36\n",
      "\n",
      "**Finished training**\n",
      "\n",
      "Best validation loss (reached after 26 epochs): 1.7666382974013686\n",
      "\n",
      "Training time: 0.20 minutes\n",
      "Total training time: 0.20 minutes\n",
      "Start training classifier\n",
      "\n",
      "\n",
      "Start Training\n",
      "\n"
     ]
    },
    {
     "name": "stderr",
     "output_type": "stream",
     "text": [
      "100%|██████████| 50/50 [00:18<00:00,  2.71it/s]\n",
      "[I 2024-04-02 11:44:36,299] Trial 48 finished with value: 1.7816421112045646 and parameters: {'n_neurons_layer1': 1344, 'n_neurons_layer2': 1536, 'learning_rate': 1.0030121036953547e-05, 'dropout': 0.5}. Best is trial 44 with value: 1.7666121384128928.\n"
     ]
    },
    {
     "name": "stdout",
     "output_type": "stream",
     "text": [
      "\n",
      "**Finished training**\n",
      "\n",
      "Best validation loss (reached after 44 epochs): 1.7816421112045646\n",
      "\n",
      "Training time: 0.31 minutes\n",
      "Total training time: 0.31 minutes\n",
      "Start training classifier\n",
      "\n",
      "\n",
      "Start Training\n",
      "\n"
     ]
    },
    {
     "name": "stderr",
     "output_type": "stream",
     "text": [
      " 80%|████████  | 40/50 [00:13<00:03,  2.91it/s]\n",
      "[I 2024-04-02 11:44:50,087] Trial 49 finished with value: 1.769080583844334 and parameters: {'n_neurons_layer1': 576, 'n_neurons_layer2': 1792, 'learning_rate': 0.00017722495013551242, 'dropout': 0.4}. Best is trial 44 with value: 1.7666121384128928.\n"
     ]
    },
    {
     "name": "stdout",
     "output_type": "stream",
     "text": [
      "Stopped training using EarlyStopping at epoch 41\n",
      "\n",
      "**Finished training**\n",
      "\n",
      "Best validation loss (reached after 31 epochs): 1.769080583844334\n",
      "\n",
      "Training time: 0.23 minutes\n",
      "Total training time: 0.23 minutes\n",
      "Start training classifier\n",
      "\n",
      "\n",
      "Start Training\n",
      "\n"
     ]
    },
    {
     "name": "stderr",
     "output_type": "stream",
     "text": [
      " 80%|████████  | 40/50 [00:13<00:03,  2.88it/s]\n",
      "[I 2024-04-02 11:45:04,026] Trial 50 finished with value: 1.7671746615320445 and parameters: {'n_neurons_layer1': 832, 'n_neurons_layer2': 1408, 'learning_rate': 0.0005489146296747579, 'dropout': 0.5}. Best is trial 44 with value: 1.7666121384128928.\n"
     ]
    },
    {
     "name": "stdout",
     "output_type": "stream",
     "text": [
      "Stopped training using EarlyStopping at epoch 41\n",
      "\n",
      "**Finished training**\n",
      "\n",
      "Best validation loss (reached after 31 epochs): 1.7671746615320445\n",
      "\n",
      "Training time: 0.23 minutes\n",
      "Total training time: 0.23 minutes\n",
      "Start training classifier\n",
      "\n",
      "\n",
      "Start Training\n",
      "\n"
     ]
    },
    {
     "name": "stderr",
     "output_type": "stream",
     "text": [
      " 40%|████      | 20/50 [00:07<00:10,  2.78it/s]\n",
      "[I 2024-04-02 11:45:11,300] Trial 51 finished with value: 1.7667768065817655 and parameters: {'n_neurons_layer1': 896, 'n_neurons_layer2': 1920, 'learning_rate': 0.001233393447634395, 'dropout': 0.4}. Best is trial 44 with value: 1.7666121384128928.\n"
     ]
    },
    {
     "name": "stdout",
     "output_type": "stream",
     "text": [
      "Stopped training using EarlyStopping at epoch 21\n",
      "\n",
      "**Finished training**\n",
      "\n",
      "Best validation loss (reached after 11 epochs): 1.7667768065817655\n",
      "\n",
      "Training time: 0.12 minutes\n",
      "Total training time: 0.12 minutes\n",
      "Start training classifier\n",
      "\n",
      "\n",
      "Start Training\n",
      "\n"
     ]
    },
    {
     "name": "stderr",
     "output_type": "stream",
     "text": [
      " 60%|██████    | 30/50 [00:11<00:07,  2.70it/s]\n",
      "[I 2024-04-02 11:45:22,506] Trial 52 finished with value: 1.7669240672141313 and parameters: {'n_neurons_layer1': 1024, 'n_neurons_layer2': 2048, 'learning_rate': 0.0009402780951374986, 'dropout': 0.4}. Best is trial 44 with value: 1.7666121384128928.\n"
     ]
    },
    {
     "name": "stdout",
     "output_type": "stream",
     "text": [
      "Stopped training using EarlyStopping at epoch 31\n",
      "\n",
      "**Finished training**\n",
      "\n",
      "Best validation loss (reached after 21 epochs): 1.7669240672141313\n",
      "\n",
      "Training time: 0.19 minutes\n",
      "Total training time: 0.19 minutes\n",
      "Start training classifier\n",
      "\n",
      "\n",
      "Start Training\n",
      "\n"
     ]
    },
    {
     "name": "stderr",
     "output_type": "stream",
     "text": [
      " 44%|████▍     | 22/50 [00:08<00:10,  2.68it/s]\n",
      "[I 2024-04-02 11:45:30,779] Trial 53 finished with value: 1.766614377964288 and parameters: {'n_neurons_layer1': 1152, 'n_neurons_layer2': 1792, 'learning_rate': 0.0018335299992226824, 'dropout': 0.4}. Best is trial 44 with value: 1.7666121384128928.\n"
     ]
    },
    {
     "name": "stdout",
     "output_type": "stream",
     "text": [
      "Stopped training using EarlyStopping at epoch 23\n",
      "\n",
      "**Finished training**\n",
      "\n",
      "Best validation loss (reached after 13 epochs): 1.766614377964288\n",
      "\n",
      "Training time: 0.14 minutes\n",
      "Total training time: 0.14 minutes\n",
      "Start training classifier\n",
      "\n",
      "\n",
      "Start Training\n",
      "\n"
     ]
    },
    {
     "name": "stderr",
     "output_type": "stream",
     "text": [
      " 62%|██████▏   | 31/50 [00:11<00:06,  2.76it/s]\n",
      "[I 2024-04-02 11:45:42,096] Trial 54 finished with value: 1.7679497645236553 and parameters: {'n_neurons_layer1': 1152, 'n_neurons_layer2': 1792, 'learning_rate': 0.004982158884652697, 'dropout': 0.4}. Best is trial 44 with value: 1.7666121384128928.\n"
     ]
    },
    {
     "name": "stdout",
     "output_type": "stream",
     "text": [
      "Stopped training using EarlyStopping at epoch 32\n",
      "\n",
      "**Finished training**\n",
      "\n",
      "Best validation loss (reached after 22 epochs): 1.7679497645236553\n",
      "\n",
      "Training time: 0.19 minutes\n",
      "Total training time: 0.19 minutes\n",
      "Start training classifier\n",
      "\n",
      "\n",
      "Start Training\n",
      "\n"
     ]
    },
    {
     "name": "stderr",
     "output_type": "stream",
     "text": [
      " 42%|████▏     | 21/50 [00:07<00:10,  2.66it/s]\n",
      "[I 2024-04-02 11:45:50,077] Trial 55 finished with value: 1.7674735375680029 and parameters: {'n_neurons_layer1': 1280, 'n_neurons_layer2': 1664, 'learning_rate': 0.0026637149866840675, 'dropout': 0.4}. Best is trial 44 with value: 1.7666121384128928.\n"
     ]
    },
    {
     "name": "stdout",
     "output_type": "stream",
     "text": [
      "Stopped training using EarlyStopping at epoch 22\n",
      "\n",
      "**Finished training**\n",
      "\n",
      "Best validation loss (reached after 12 epochs): 1.7674735375680029\n",
      "\n",
      "Training time: 0.13 minutes\n",
      "Total training time: 0.13 minutes\n",
      "Start training classifier\n",
      "\n",
      "\n",
      "Start Training\n",
      "\n"
     ]
    },
    {
     "name": "stderr",
     "output_type": "stream",
     "text": [
      " 52%|█████▏    | 26/50 [00:09<00:08,  2.77it/s]\n",
      "[I 2024-04-02 11:45:59,549] Trial 56 finished with value: 1.7669600622728467 and parameters: {'n_neurons_layer1': 1216, 'n_neurons_layer2': 1600, 'learning_rate': 0.0018275698652641646, 'dropout': 0.30000000000000004}. Best is trial 44 with value: 1.7666121384128928.\n"
     ]
    },
    {
     "name": "stdout",
     "output_type": "stream",
     "text": [
      "Stopped training using EarlyStopping at epoch 27\n",
      "\n",
      "**Finished training**\n",
      "\n",
      "Best validation loss (reached after 17 epochs): 1.7669600622728467\n",
      "\n",
      "Training time: 0.16 minutes\n",
      "Total training time: 0.16 minutes\n",
      "Start training classifier\n",
      "\n",
      "\n",
      "Start Training\n",
      "\n"
     ]
    },
    {
     "name": "stderr",
     "output_type": "stream",
     "text": [
      " 80%|████████  | 40/50 [00:14<00:03,  2.74it/s]\n",
      "[I 2024-04-02 11:46:14,239] Trial 57 finished with value: 1.766811462584883 and parameters: {'n_neurons_layer1': 1472, 'n_neurons_layer2': 1408, 'learning_rate': 0.0008384965713409836, 'dropout': 0.5}. Best is trial 44 with value: 1.7666121384128928.\n"
     ]
    },
    {
     "name": "stdout",
     "output_type": "stream",
     "text": [
      "Stopped training using EarlyStopping at epoch 41\n",
      "\n",
      "**Finished training**\n",
      "\n",
      "Best validation loss (reached after 31 epochs): 1.766811462584883\n",
      "\n",
      "Training time: 0.24 minutes\n",
      "Total training time: 0.24 minutes\n",
      "Start training classifier\n",
      "\n",
      "\n",
      "Start Training\n",
      "\n"
     ]
    },
    {
     "name": "stderr",
     "output_type": "stream",
     "text": [
      " 54%|█████▍    | 27/50 [00:09<00:08,  2.84it/s]\n",
      "[I 2024-04-02 11:46:23,819] Trial 58 finished with value: 1.7672538152895867 and parameters: {'n_neurons_layer1': 768, 'n_neurons_layer2': 1280, 'learning_rate': 0.003269062105959103, 'dropout': 0.4}. Best is trial 44 with value: 1.7666121384128928.\n"
     ]
    },
    {
     "name": "stdout",
     "output_type": "stream",
     "text": [
      "Stopped training using EarlyStopping at epoch 28\n",
      "\n",
      "**Finished training**\n",
      "\n",
      "Best validation loss (reached after 18 epochs): 1.7672538152895867\n",
      "\n",
      "Training time: 0.16 minutes\n",
      "Total training time: 0.16 minutes\n",
      "Start training classifier\n",
      "\n",
      "\n",
      "Start Training\n",
      "\n"
     ]
    },
    {
     "name": "stderr",
     "output_type": "stream",
     "text": [
      " 32%|███▏      | 16/50 [00:05<00:12,  2.71it/s]\n",
      "[I 2024-04-02 11:46:29,796] Trial 59 finished with value: 1.7675371552817523 and parameters: {'n_neurons_layer1': 1088, 'n_neurons_layer2': 1536, 'learning_rate': 0.001979886838643004, 'dropout': 0.30000000000000004}. Best is trial 44 with value: 1.7666121384128928.\n"
     ]
    },
    {
     "name": "stdout",
     "output_type": "stream",
     "text": [
      "Stopped training using EarlyStopping at epoch 17\n",
      "\n",
      "**Finished training**\n",
      "\n",
      "Best validation loss (reached after 7 epochs): 1.7675371552817523\n",
      "\n",
      "Training time: 0.10 minutes\n",
      "Total training time: 0.10 minutes\n",
      "Start training classifier\n",
      "\n",
      "\n",
      "Start Training\n",
      "\n"
     ]
    },
    {
     "name": "stderr",
     "output_type": "stream",
     "text": [
      " 80%|████████  | 40/50 [00:14<00:03,  2.71it/s]\n",
      "[I 2024-04-02 11:46:44,621] Trial 60 finished with value: 1.7675367014482617 and parameters: {'n_neurons_layer1': 1344, 'n_neurons_layer2': 1792, 'learning_rate': 0.007479296718856714, 'dropout': 0.5}. Best is trial 44 with value: 1.7666121384128928.\n"
     ]
    },
    {
     "name": "stdout",
     "output_type": "stream",
     "text": [
      "Stopped training using EarlyStopping at epoch 41\n",
      "\n",
      "**Finished training**\n",
      "\n",
      "Best validation loss (reached after 31 epochs): 1.7675367014482617\n",
      "\n",
      "Training time: 0.25 minutes\n",
      "Total training time: 0.25 minutes\n",
      "Start training classifier\n",
      "\n",
      "\n",
      "Start Training\n",
      "\n"
     ]
    },
    {
     "name": "stderr",
     "output_type": "stream",
     "text": [
      " 60%|██████    | 30/50 [00:10<00:07,  2.79it/s]\n",
      "[I 2024-04-02 11:46:55,449] Trial 61 finished with value: 1.7667291460558772 and parameters: {'n_neurons_layer1': 960, 'n_neurons_layer2': 1920, 'learning_rate': 0.0011188722721390575, 'dropout': 0.4}. Best is trial 44 with value: 1.7666121384128928.\n"
     ]
    },
    {
     "name": "stdout",
     "output_type": "stream",
     "text": [
      "Stopped training using EarlyStopping at epoch 31\n",
      "\n",
      "**Finished training**\n",
      "\n",
      "Best validation loss (reached after 21 epochs): 1.7667291460558772\n",
      "\n",
      "Training time: 0.18 minutes\n",
      "Total training time: 0.18 minutes\n",
      "Start training classifier\n",
      "\n",
      "\n",
      "Start Training\n",
      "\n"
     ]
    },
    {
     "name": "stderr",
     "output_type": "stream",
     "text": [
      " 76%|███████▌  | 38/50 [00:13<00:04,  2.78it/s]\n",
      "[I 2024-04-02 11:47:09,185] Trial 62 finished with value: 1.7670232174918055 and parameters: {'n_neurons_layer1': 1024, 'n_neurons_layer2': 1984, 'learning_rate': 0.0010384671782601971, 'dropout': 0.4}. Best is trial 44 with value: 1.7666121384128928.\n"
     ]
    },
    {
     "name": "stdout",
     "output_type": "stream",
     "text": [
      "Stopped training using EarlyStopping at epoch 39\n",
      "\n",
      "**Finished training**\n",
      "\n",
      "Best validation loss (reached after 29 epochs): 1.7670232174918055\n",
      "\n",
      "Training time: 0.23 minutes\n",
      "Total training time: 0.23 minutes\n",
      "Start training classifier\n",
      "\n",
      "\n",
      "Start Training\n",
      "\n"
     ]
    },
    {
     "name": "stderr",
     "output_type": "stream",
     "text": [
      " 52%|█████▏    | 26/50 [00:09<00:08,  2.78it/s]\n",
      "[I 2024-04-02 11:47:18,615] Trial 63 finished with value: 1.7669365026056767 and parameters: {'n_neurons_layer1': 960, 'n_neurons_layer2': 1856, 'learning_rate': 0.0016453204402002066, 'dropout': 0.4}. Best is trial 44 with value: 1.7666121384128928.\n"
     ]
    },
    {
     "name": "stdout",
     "output_type": "stream",
     "text": [
      "Stopped training using EarlyStopping at epoch 27\n",
      "\n",
      "**Finished training**\n",
      "\n",
      "Best validation loss (reached after 17 epochs): 1.7669365026056767\n",
      "\n",
      "Training time: 0.16 minutes\n",
      "Total training time: 0.16 minutes\n",
      "Start training classifier\n",
      "\n",
      "\n",
      "Start Training\n",
      "\n"
     ]
    },
    {
     "name": "stderr",
     "output_type": "stream",
     "text": [
      " 52%|█████▏    | 26/50 [00:09<00:08,  2.77it/s]\n",
      "[I 2024-04-02 11:47:28,065] Trial 64 finished with value: 1.767540006712079 and parameters: {'n_neurons_layer1': 1152, 'n_neurons_layer2': 1728, 'learning_rate': 0.003823817905433447, 'dropout': 0.30000000000000004}. Best is trial 44 with value: 1.7666121384128928.\n"
     ]
    },
    {
     "name": "stdout",
     "output_type": "stream",
     "text": [
      "Stopped training using EarlyStopping at epoch 27\n",
      "\n",
      "**Finished training**\n",
      "\n",
      "Best validation loss (reached after 17 epochs): 1.767540006712079\n",
      "\n",
      "Training time: 0.16 minutes\n",
      "Total training time: 0.16 minutes\n",
      "Start training classifier\n",
      "\n",
      "\n",
      "Start Training\n",
      "\n"
     ]
    },
    {
     "name": "stderr",
     "output_type": "stream",
     "text": [
      " 68%|██████▊   | 34/50 [00:11<00:05,  2.86it/s]\n",
      "[I 2024-04-02 11:47:40,010] Trial 65 finished with value: 1.7674345392733812 and parameters: {'n_neurons_layer1': 768, 'n_neurons_layer2': 2048, 'learning_rate': 0.00243128066280185, 'dropout': 0.5}. Best is trial 44 with value: 1.7666121384128928.\n"
     ]
    },
    {
     "name": "stdout",
     "output_type": "stream",
     "text": [
      "Stopped training using EarlyStopping at epoch 35\n",
      "\n",
      "**Finished training**\n",
      "\n",
      "Best validation loss (reached after 25 epochs): 1.7674345392733812\n",
      "\n",
      "Training time: 0.20 minutes\n",
      "Total training time: 0.20 minutes\n",
      "Start training classifier\n",
      "\n",
      "\n",
      "Start Training\n",
      "\n"
     ]
    },
    {
     "name": "stderr",
     "output_type": "stream",
     "text": [
      " 84%|████████▍ | 42/50 [00:15<00:02,  2.79it/s]\n",
      "[I 2024-04-02 11:47:55,128] Trial 66 finished with value: 1.7670818445272745 and parameters: {'n_neurons_layer1': 960, 'n_neurons_layer2': 1856, 'learning_rate': 0.0005697392059887239, 'dropout': 0.1}. Best is trial 44 with value: 1.7666121384128928.\n"
     ]
    },
    {
     "name": "stdout",
     "output_type": "stream",
     "text": [
      "Stopped training using EarlyStopping at epoch 43\n",
      "\n",
      "**Finished training**\n",
      "\n",
      "Best validation loss (reached after 33 epochs): 1.7670818445272745\n",
      "\n",
      "Training time: 0.25 minutes\n",
      "Total training time: 0.25 minutes\n",
      "Start training classifier\n",
      "\n",
      "\n",
      "Start Training\n",
      "\n"
     ]
    },
    {
     "name": "stderr",
     "output_type": "stream",
     "text": [
      " 60%|██████    | 30/50 [00:10<00:06,  2.99it/s]\n",
      "[I 2024-04-02 11:48:05,217] Trial 67 finished with value: 1.7674195228144527 and parameters: {'n_neurons_layer1': 1216, 'n_neurons_layer2': 384, 'learning_rate': 0.0014295901309562004, 'dropout': 0.30000000000000004}. Best is trial 44 with value: 1.7666121384128928.\n"
     ]
    },
    {
     "name": "stdout",
     "output_type": "stream",
     "text": [
      "Stopped training using EarlyStopping at epoch 31\n",
      "\n",
      "**Finished training**\n",
      "\n",
      "Best validation loss (reached after 21 epochs): 1.7674195228144527\n",
      "\n",
      "Training time: 0.17 minutes\n",
      "Total training time: 0.17 minutes\n",
      "Start training classifier\n",
      "\n",
      "\n",
      "Start Training\n",
      "\n"
     ]
    },
    {
     "name": "stderr",
     "output_type": "stream",
     "text": [
      " 52%|█████▏    | 26/50 [00:09<00:08,  2.81it/s]\n",
      "[I 2024-04-02 11:48:14,541] Trial 68 finished with value: 1.7675878784619272 and parameters: {'n_neurons_layer1': 640, 'n_neurons_layer2': 1472, 'learning_rate': 0.0004293866098311898, 'dropout': 0.2}. Best is trial 44 with value: 1.7666121384128928.\n"
     ]
    },
    {
     "name": "stdout",
     "output_type": "stream",
     "text": [
      "Stopped training using EarlyStopping at epoch 27\n",
      "\n",
      "**Finished training**\n",
      "\n",
      "Best validation loss (reached after 17 epochs): 1.7675878784619272\n",
      "\n",
      "Training time: 0.15 minutes\n",
      "Total training time: 0.15 minutes\n",
      "Start training classifier\n",
      "\n",
      "\n",
      "Start Training\n",
      "\n"
     ]
    },
    {
     "name": "stderr",
     "output_type": "stream",
     "text": [
      " 66%|██████▌   | 33/50 [00:12<00:06,  2.64it/s]\n",
      "[I 2024-04-02 11:48:27,117] Trial 69 finished with value: 1.7671250228770077 and parameters: {'n_neurons_layer1': 1600, 'n_neurons_layer2': 1984, 'learning_rate': 0.00028970969753716456, 'dropout': 0.4}. Best is trial 44 with value: 1.7666121384128928.\n"
     ]
    },
    {
     "name": "stdout",
     "output_type": "stream",
     "text": [
      "Stopped training using EarlyStopping at epoch 34\n",
      "\n",
      "**Finished training**\n",
      "\n",
      "Best validation loss (reached after 24 epochs): 1.7671250228770077\n",
      "\n",
      "Training time: 0.21 minutes\n",
      "Total training time: 0.21 minutes\n",
      "Start training classifier\n",
      "\n",
      "\n",
      "Start Training\n",
      "\n"
     ]
    },
    {
     "name": "stderr",
     "output_type": "stream",
     "text": [
      "100%|██████████| 50/50 [00:15<00:00,  3.22it/s]\n",
      "[I 2024-04-02 11:48:42,722] Trial 70 finished with value: 1.7679744192399085 and parameters: {'n_neurons_layer1': 1408, 'n_neurons_layer2': 128, 'learning_rate': 0.0011425214071821748, 'dropout': 0.4}. Best is trial 44 with value: 1.7666121384128928.\n"
     ]
    },
    {
     "name": "stdout",
     "output_type": "stream",
     "text": [
      "\n",
      "**Finished training**\n",
      "\n",
      "Best validation loss (reached after 41 epochs): 1.7679744192399085\n",
      "\n",
      "Training time: 0.26 minutes\n",
      "Total training time: 0.26 minutes\n",
      "Start training classifier\n",
      "\n",
      "\n",
      "Start Training\n",
      "\n"
     ]
    },
    {
     "name": "stderr",
     "output_type": "stream",
     "text": [
      " 40%|████      | 20/50 [00:07<00:11,  2.68it/s]\n",
      "[I 2024-04-02 11:48:50,265] Trial 71 finished with value: 1.766514533292502 and parameters: {'n_neurons_layer1': 896, 'n_neurons_layer2': 1920, 'learning_rate': 0.0013569636449655862, 'dropout': 0.4}. Best is trial 71 with value: 1.766514533292502.\n"
     ]
    },
    {
     "name": "stdout",
     "output_type": "stream",
     "text": [
      "Stopped training using EarlyStopping at epoch 21\n",
      "\n",
      "**Finished training**\n",
      "\n",
      "Best validation loss (reached after 11 epochs): 1.766514533292502\n",
      "\n",
      "Training time: 0.12 minutes\n",
      "Total training time: 0.12 minutes\n",
      "Start training classifier\n",
      "\n",
      "\n",
      "Start Training\n",
      "\n"
     ]
    },
    {
     "name": "stderr",
     "output_type": "stream",
     "text": [
      " 54%|█████▍    | 27/50 [00:09<00:08,  2.78it/s]\n",
      "[I 2024-04-02 11:49:00,053] Trial 72 finished with value: 1.7669373763725162 and parameters: {'n_neurons_layer1': 832, 'n_neurons_layer2': 1728, 'learning_rate': 0.001971432476290888, 'dropout': 0.4}. Best is trial 71 with value: 1.766514533292502.\n"
     ]
    },
    {
     "name": "stdout",
     "output_type": "stream",
     "text": [
      "Stopped training using EarlyStopping at epoch 28\n",
      "\n",
      "**Finished training**\n",
      "\n",
      "Best validation loss (reached after 18 epochs): 1.7669373763725162\n",
      "\n",
      "Training time: 0.16 minutes\n",
      "Total training time: 0.16 minutes\n",
      "Start training classifier\n",
      "\n",
      "\n",
      "Start Training\n",
      "\n"
     ]
    },
    {
     "name": "stderr",
     "output_type": "stream",
     "text": [
      " 60%|██████    | 30/50 [00:10<00:07,  2.77it/s]\n",
      "[I 2024-04-02 11:49:10,942] Trial 73 finished with value: 1.7666589502245187 and parameters: {'n_neurons_layer1': 896, 'n_neurons_layer2': 1856, 'learning_rate': 0.0008744951259343007, 'dropout': 0.4}. Best is trial 71 with value: 1.766514533292502.\n"
     ]
    },
    {
     "name": "stdout",
     "output_type": "stream",
     "text": [
      "Stopped training using EarlyStopping at epoch 31\n",
      "\n",
      "**Finished training**\n",
      "\n",
      "Best validation loss (reached after 21 epochs): 1.7666589502245187\n",
      "\n",
      "Training time: 0.18 minutes\n",
      "Total training time: 0.18 minutes\n",
      "Start training classifier\n",
      "\n",
      "\n",
      "Start Training\n",
      "\n"
     ]
    },
    {
     "name": "stderr",
     "output_type": "stream",
     "text": [
      " 54%|█████▍    | 27/50 [00:09<00:08,  2.72it/s]\n",
      "[I 2024-04-02 11:49:20,953] Trial 74 finished with value: 1.766862897761166 and parameters: {'n_neurons_layer1': 896, 'n_neurons_layer2': 1856, 'learning_rate': 0.0006348383664762985, 'dropout': 0.4}. Best is trial 71 with value: 1.766514533292502.\n"
     ]
    },
    {
     "name": "stdout",
     "output_type": "stream",
     "text": [
      "Stopped training using EarlyStopping at epoch 28\n",
      "\n",
      "**Finished training**\n",
      "\n",
      "Best validation loss (reached after 18 epochs): 1.766862897761166\n",
      "\n",
      "Training time: 0.17 minutes\n",
      "Total training time: 0.17 minutes\n",
      "Start training classifier\n",
      "\n",
      "\n",
      "Start Training\n",
      "\n"
     ]
    },
    {
     "name": "stderr",
     "output_type": "stream",
     "text": [
      " 46%|████▌     | 23/50 [00:08<00:10,  2.65it/s]\n",
      "[I 2024-04-02 11:49:29,753] Trial 75 finished with value: 1.7673152767121791 and parameters: {'n_neurons_layer1': 1088, 'n_neurons_layer2': 1984, 'learning_rate': 0.0008787257920238639, 'dropout': 0.4}. Best is trial 71 with value: 1.766514533292502.\n"
     ]
    },
    {
     "name": "stdout",
     "output_type": "stream",
     "text": [
      "Stopped training using EarlyStopping at epoch 24\n",
      "\n",
      "**Finished training**\n",
      "\n",
      "Best validation loss (reached after 14 epochs): 1.7673152767121791\n",
      "\n",
      "Training time: 0.14 minutes\n",
      "Total training time: 0.15 minutes\n",
      "Start training classifier\n",
      "\n",
      "\n",
      "Start Training\n",
      "\n"
     ]
    },
    {
     "name": "stderr",
     "output_type": "stream",
     "text": [
      " 54%|█████▍    | 27/50 [00:09<00:08,  2.84it/s]\n",
      "[I 2024-04-02 11:49:39,328] Trial 76 finished with value: 1.7671536060981452 and parameters: {'n_neurons_layer1': 704, 'n_neurons_layer2': 1728, 'learning_rate': 0.000762720418795177, 'dropout': 0.4}. Best is trial 71 with value: 1.766514533292502.\n"
     ]
    },
    {
     "name": "stdout",
     "output_type": "stream",
     "text": [
      "Stopped training using EarlyStopping at epoch 28\n",
      "\n",
      "**Finished training**\n",
      "\n",
      "Best validation loss (reached after 18 epochs): 1.7671536060981452\n",
      "\n",
      "Training time: 0.16 minutes\n",
      "Total training time: 0.16 minutes\n",
      "Start training classifier\n",
      "\n",
      "\n",
      "Start Training\n",
      "\n"
     ]
    },
    {
     "name": "stderr",
     "output_type": "stream",
     "text": [
      "100%|██████████| 50/50 [00:18<00:00,  2.75it/s]\n",
      "[I 2024-04-02 11:49:57,560] Trial 77 finished with value: 1.780796723254025 and parameters: {'n_neurons_layer1': 832, 'n_neurons_layer2': 1920, 'learning_rate': 1.5184689653433171e-05, 'dropout': 0.5}. Best is trial 71 with value: 1.766514533292502.\n"
     ]
    },
    {
     "name": "stdout",
     "output_type": "stream",
     "text": [
      "\n",
      "**Finished training**\n",
      "\n",
      "Best validation loss (reached after 47 epochs): 1.780796723254025\n",
      "\n",
      "Training time: 0.30 minutes\n",
      "Total training time: 0.30 minutes\n",
      "Start training classifier\n",
      "\n",
      "\n",
      "Start Training\n",
      "\n"
     ]
    },
    {
     "name": "stderr",
     "output_type": "stream",
     "text": [
      " 46%|████▌     | 23/50 [00:09<00:10,  2.53it/s]\n",
      "[I 2024-04-02 11:50:06,717] Trial 78 finished with value: 1.766922344826162 and parameters: {'n_neurons_layer1': 1024, 'n_neurons_layer2': 1600, 'learning_rate': 0.0014332111165493678, 'dropout': 0.30000000000000004}. Best is trial 71 with value: 1.766514533292502.\n"
     ]
    },
    {
     "name": "stdout",
     "output_type": "stream",
     "text": [
      "Stopped training using EarlyStopping at epoch 24\n",
      "\n",
      "**Finished training**\n",
      "\n",
      "Best validation loss (reached after 14 epochs): 1.766922344826162\n",
      "\n",
      "Training time: 0.15 minutes\n",
      "Total training time: 0.15 minutes\n",
      "Start training classifier\n",
      "\n",
      "\n",
      "Start Training\n",
      "\n"
     ]
    },
    {
     "name": "stderr",
     "output_type": "stream",
     "text": [
      " 42%|████▏     | 21/50 [00:08<00:11,  2.62it/s]\n",
      "[I 2024-04-02 11:50:14,805] Trial 79 finished with value: 1.7674015354365111 and parameters: {'n_neurons_layer1': 960, 'n_neurons_layer2': 1920, 'learning_rate': 0.00114065663254866, 'dropout': 0.4}. Best is trial 71 with value: 1.766514533292502.\n"
     ]
    },
    {
     "name": "stdout",
     "output_type": "stream",
     "text": [
      "Stopped training using EarlyStopping at epoch 22\n",
      "\n",
      "**Finished training**\n",
      "\n",
      "Best validation loss (reached after 12 epochs): 1.7674015354365111\n",
      "\n",
      "Training time: 0.13 minutes\n",
      "Total training time: 0.13 minutes\n",
      "Start training classifier\n",
      "\n",
      "\n",
      "Start Training\n",
      "\n"
     ]
    },
    {
     "name": "stderr",
     "output_type": "stream",
     "text": [
      " 54%|█████▍    | 27/50 [00:09<00:08,  2.83it/s]\n",
      "[I 2024-04-02 11:50:24,396] Trial 80 finished with value: 1.7668140993453563 and parameters: {'n_neurons_layer1': 640, 'n_neurons_layer2': 1984, 'learning_rate': 0.0009838202522335392, 'dropout': 0.4}. Best is trial 71 with value: 1.766514533292502.\n"
     ]
    },
    {
     "name": "stdout",
     "output_type": "stream",
     "text": [
      "Stopped training using EarlyStopping at epoch 28\n",
      "\n",
      "**Finished training**\n",
      "\n",
      "Best validation loss (reached after 18 epochs): 1.7668140993453563\n",
      "\n",
      "Training time: 0.16 minutes\n",
      "Total training time: 0.16 minutes\n",
      "Start training classifier\n",
      "\n",
      "\n",
      "Start Training\n",
      "\n"
     ]
    },
    {
     "name": "stderr",
     "output_type": "stream",
     "text": [
      " 52%|█████▏    | 26/50 [00:09<00:08,  2.77it/s]\n",
      "[I 2024-04-02 11:50:33,851] Trial 81 finished with value: 1.7669563552364707 and parameters: {'n_neurons_layer1': 896, 'n_neurons_layer2': 1856, 'learning_rate': 0.00222496099872028, 'dropout': 0.2}. Best is trial 71 with value: 1.766514533292502.\n"
     ]
    },
    {
     "name": "stdout",
     "output_type": "stream",
     "text": [
      "Stopped training using EarlyStopping at epoch 27\n",
      "\n",
      "**Finished training**\n",
      "\n",
      "Best validation loss (reached after 17 epochs): 1.7669563552364707\n",
      "\n",
      "Training time: 0.16 minutes\n",
      "Total training time: 0.16 minutes\n",
      "Start training classifier\n",
      "\n",
      "\n",
      "Start Training\n",
      "\n"
     ]
    },
    {
     "name": "stderr",
     "output_type": "stream",
     "text": [
      " 44%|████▍     | 22/50 [00:07<00:09,  2.97it/s]\n",
      "[I 2024-04-02 11:50:41,322] Trial 82 finished with value: 1.7673476692289114 and parameters: {'n_neurons_layer1': 1152, 'n_neurons_layer2': 448, 'learning_rate': 0.0029210825296630766, 'dropout': 0.30000000000000004}. Best is trial 71 with value: 1.766514533292502.\n"
     ]
    },
    {
     "name": "stdout",
     "output_type": "stream",
     "text": [
      "Stopped training using EarlyStopping at epoch 23\n",
      "\n",
      "**Finished training**\n",
      "\n",
      "Best validation loss (reached after 13 epochs): 1.7673476692289114\n",
      "\n",
      "Training time: 0.12 minutes\n",
      "Total training time: 0.12 minutes\n",
      "Start training classifier\n",
      "\n",
      "\n",
      "Start Training\n",
      "\n"
     ]
    },
    {
     "name": "stderr",
     "output_type": "stream",
     "text": [
      " 46%|████▌     | 23/50 [00:07<00:09,  2.96it/s]\n",
      "[I 2024-04-02 11:50:49,147] Trial 83 finished with value: 1.7673355411738156 and parameters: {'n_neurons_layer1': 1280, 'n_neurons_layer2': 320, 'learning_rate': 0.0016779244112887647, 'dropout': 0.2}. Best is trial 71 with value: 1.766514533292502.\n"
     ]
    },
    {
     "name": "stdout",
     "output_type": "stream",
     "text": [
      "Stopped training using EarlyStopping at epoch 24\n",
      "\n",
      "**Finished training**\n",
      "\n",
      "Best validation loss (reached after 14 epochs): 1.7673355411738156\n",
      "\n",
      "Training time: 0.13 minutes\n",
      "Total training time: 0.13 minutes\n",
      "Start training classifier\n",
      "\n",
      "\n",
      "Start Training\n",
      "\n"
     ]
    },
    {
     "name": "stderr",
     "output_type": "stream",
     "text": [
      " 58%|█████▊    | 29/50 [00:09<00:07,  2.90it/s]\n",
      "[I 2024-04-02 11:50:59,196] Trial 84 finished with value: 1.7670780138112605 and parameters: {'n_neurons_layer1': 1024, 'n_neurons_layer2': 768, 'learning_rate': 0.0012786292531382318, 'dropout': 0.4}. Best is trial 71 with value: 1.766514533292502.\n"
     ]
    },
    {
     "name": "stdout",
     "output_type": "stream",
     "text": [
      "Stopped training using EarlyStopping at epoch 30\n",
      "\n",
      "**Finished training**\n",
      "\n",
      "Best validation loss (reached after 20 epochs): 1.7670780138112605\n",
      "\n",
      "Training time: 0.17 minutes\n",
      "Total training time: 0.17 minutes\n",
      "Start training classifier\n",
      "\n",
      "\n",
      "Start Training\n",
      "\n"
     ]
    },
    {
     "name": "stderr",
     "output_type": "stream",
     "text": [
      "100%|██████████| 50/50 [00:16<00:00,  3.02it/s]\n",
      "[I 2024-04-02 11:51:15,786] Trial 85 finished with value: 1.767781964223832 and parameters: {'n_neurons_layer1': 768, 'n_neurons_layer2': 576, 'learning_rate': 0.0003370572121551938, 'dropout': 0.2}. Best is trial 71 with value: 1.766514533292502.\n"
     ]
    },
    {
     "name": "stdout",
     "output_type": "stream",
     "text": [
      "\n",
      "**Finished training**\n",
      "\n",
      "Best validation loss (reached after 50 epochs): 1.767781964223832\n",
      "\n",
      "Training time: 0.28 minutes\n",
      "Total training time: 0.28 minutes\n",
      "Start training classifier\n",
      "\n",
      "\n",
      "Start Training\n",
      "\n"
     ]
    },
    {
     "name": "stderr",
     "output_type": "stream",
     "text": [
      " 62%|██████▏   | 31/50 [00:11<00:06,  2.73it/s]\n",
      "[I 2024-04-02 11:51:27,202] Trial 86 finished with value: 1.7677575976587832 and parameters: {'n_neurons_layer1': 1088, 'n_neurons_layer2': 2048, 'learning_rate': 0.003996088791705669, 'dropout': 0.30000000000000004}. Best is trial 71 with value: 1.766514533292502.\n"
     ]
    },
    {
     "name": "stdout",
     "output_type": "stream",
     "text": [
      "Stopped training using EarlyStopping at epoch 32\n",
      "\n",
      "**Finished training**\n",
      "\n",
      "Best validation loss (reached after 22 epochs): 1.7677575976587832\n",
      "\n",
      "Training time: 0.19 minutes\n",
      "Total training time: 0.19 minutes\n",
      "Start training classifier\n",
      "\n",
      "\n",
      "Start Training\n",
      "\n"
     ]
    },
    {
     "name": "stderr",
     "output_type": "stream",
     "text": [
      "100%|██████████| 50/50 [00:16<00:00,  2.96it/s]\n",
      "[I 2024-04-02 11:51:44,148] Trial 87 finished with value: 1.7673437683843076 and parameters: {'n_neurons_layer1': 896, 'n_neurons_layer2': 1088, 'learning_rate': 0.0004633572218930869, 'dropout': 0.4}. Best is trial 71 with value: 1.766514533292502.\n"
     ]
    },
    {
     "name": "stdout",
     "output_type": "stream",
     "text": [
      "\n",
      "**Finished training**\n",
      "\n",
      "Best validation loss (reached after 42 epochs): 1.7673437683843076\n",
      "\n",
      "Training time: 0.28 minutes\n",
      "Total training time: 0.28 minutes\n",
      "Start training classifier\n",
      "\n",
      "\n",
      "Start Training\n",
      "\n"
     ]
    },
    {
     "name": "stderr",
     "output_type": "stream",
     "text": [
      " 46%|████▌     | 23/50 [00:07<00:08,  3.13it/s]\n",
      "[I 2024-04-02 11:51:51,564] Trial 88 finished with value: 1.767993857897818 and parameters: {'n_neurons_layer1': 1216, 'n_neurons_layer2': 256, 'learning_rate': 0.00149297402085338, 'dropout': 0.30000000000000004}. Best is trial 71 with value: 1.766514533292502.\n"
     ]
    },
    {
     "name": "stdout",
     "output_type": "stream",
     "text": [
      "Stopped training using EarlyStopping at epoch 24\n",
      "\n",
      "**Finished training**\n",
      "\n",
      "Best validation loss (reached after 14 epochs): 1.767993857897818\n",
      "\n",
      "Training time: 0.12 minutes\n",
      "Total training time: 0.12 minutes\n",
      "Start training classifier\n",
      "\n",
      "\n",
      "Start Training\n",
      "\n"
     ]
    },
    {
     "name": "stderr",
     "output_type": "stream",
     "text": [
      " 58%|█████▊    | 29/50 [00:10<00:07,  2.74it/s]\n",
      "[I 2024-04-02 11:52:02,233] Trial 89 finished with value: 1.7669373834505677 and parameters: {'n_neurons_layer1': 1152, 'n_neurons_layer2': 1792, 'learning_rate': 0.0021301334743221156, 'dropout': 0.4}. Best is trial 71 with value: 1.766514533292502.\n"
     ]
    },
    {
     "name": "stdout",
     "output_type": "stream",
     "text": [
      "Stopped training using EarlyStopping at epoch 30\n",
      "\n",
      "**Finished training**\n",
      "\n",
      "Best validation loss (reached after 20 epochs): 1.7669373834505677\n",
      "\n",
      "Training time: 0.18 minutes\n",
      "Total training time: 0.18 minutes\n",
      "Start training classifier\n",
      "\n",
      "\n",
      "Start Training\n",
      "\n"
     ]
    },
    {
     "name": "stderr",
     "output_type": "stream",
     "text": [
      " 66%|██████▌   | 33/50 [00:11<00:06,  2.78it/s]\n",
      "[I 2024-04-02 11:52:14,192] Trial 90 finished with value: 1.7667639660649002 and parameters: {'n_neurons_layer1': 960, 'n_neurons_layer2': 1920, 'learning_rate': 0.0006320973480159438, 'dropout': 0.5}. Best is trial 71 with value: 1.766514533292502.\n"
     ]
    },
    {
     "name": "stdout",
     "output_type": "stream",
     "text": [
      "Stopped training using EarlyStopping at epoch 34\n",
      "\n",
      "**Finished training**\n",
      "\n",
      "Best validation loss (reached after 24 epochs): 1.7667639660649002\n",
      "\n",
      "Training time: 0.20 minutes\n",
      "Total training time: 0.20 minutes\n",
      "Start training classifier\n",
      "\n",
      "\n",
      "Start Training\n",
      "\n"
     ]
    },
    {
     "name": "stderr",
     "output_type": "stream",
     "text": [
      " 66%|██████▌   | 33/50 [00:11<00:06,  2.80it/s]\n",
      "[I 2024-04-02 11:52:26,063] Trial 91 finished with value: 1.7666655467823147 and parameters: {'n_neurons_layer1': 960, 'n_neurons_layer2': 1920, 'learning_rate': 0.0006411848834719975, 'dropout': 0.5}. Best is trial 71 with value: 1.766514533292502.\n"
     ]
    },
    {
     "name": "stdout",
     "output_type": "stream",
     "text": [
      "Stopped training using EarlyStopping at epoch 34\n",
      "\n",
      "**Finished training**\n",
      "\n",
      "Best validation loss (reached after 24 epochs): 1.7666655467823147\n",
      "\n",
      "Training time: 0.20 minutes\n",
      "Total training time: 0.20 minutes\n",
      "Start training classifier\n",
      "\n",
      "\n",
      "Start Training\n",
      "\n"
     ]
    },
    {
     "name": "stderr",
     "output_type": "stream",
     "text": [
      " 66%|██████▌   | 33/50 [00:11<00:06,  2.76it/s]\n",
      "[I 2024-04-02 11:52:38,077] Trial 92 finished with value: 1.7665542450733482 and parameters: {'n_neurons_layer1': 960, 'n_neurons_layer2': 1920, 'learning_rate': 0.0005636063316333677, 'dropout': 0.5}. Best is trial 71 with value: 1.766514533292502.\n"
     ]
    },
    {
     "name": "stdout",
     "output_type": "stream",
     "text": [
      "Stopped training using EarlyStopping at epoch 34\n",
      "\n",
      "**Finished training**\n",
      "\n",
      "Best validation loss (reached after 24 epochs): 1.7665542450733482\n",
      "\n",
      "Training time: 0.20 minutes\n",
      "Total training time: 0.20 minutes\n",
      "Start training classifier\n",
      "\n",
      "\n",
      "Start Training\n",
      "\n"
     ]
    },
    {
     "name": "stderr",
     "output_type": "stream",
     "text": [
      " 54%|█████▍    | 27/50 [00:09<00:08,  2.81it/s]\n",
      "[I 2024-04-02 11:52:47,765] Trial 93 finished with value: 1.766990504041314 and parameters: {'n_neurons_layer1': 832, 'n_neurons_layer2': 1664, 'learning_rate': 0.000780255676490395, 'dropout': 0.5}. Best is trial 71 with value: 1.766514533292502.\n"
     ]
    },
    {
     "name": "stdout",
     "output_type": "stream",
     "text": [
      "Stopped training using EarlyStopping at epoch 28\n",
      "\n",
      "**Finished training**\n",
      "\n",
      "Best validation loss (reached after 18 epochs): 1.766990504041314\n",
      "\n",
      "Training time: 0.16 minutes\n",
      "Total training time: 0.16 minutes\n",
      "Start training classifier\n",
      "\n",
      "\n",
      "Start Training\n",
      "\n"
     ]
    },
    {
     "name": "stderr",
     "output_type": "stream",
     "text": [
      " 60%|██████    | 30/50 [00:11<00:07,  2.72it/s]\n",
      "[I 2024-04-02 11:52:58,853] Trial 94 finished with value: 1.7670748077332974 and parameters: {'n_neurons_layer1': 1024, 'n_neurons_layer2': 1856, 'learning_rate': 0.0006702400567322137, 'dropout': 0.5}. Best is trial 71 with value: 1.766514533292502.\n"
     ]
    },
    {
     "name": "stdout",
     "output_type": "stream",
     "text": [
      "Stopped training using EarlyStopping at epoch 31\n",
      "\n",
      "**Finished training**\n",
      "\n",
      "Best validation loss (reached after 21 epochs): 1.7670748077332974\n",
      "\n",
      "Training time: 0.18 minutes\n",
      "Total training time: 0.18 minutes\n",
      "Start training classifier\n",
      "\n",
      "\n",
      "Start Training\n",
      "\n"
     ]
    },
    {
     "name": "stderr",
     "output_type": "stream",
     "text": [
      " 54%|█████▍    | 27/50 [00:09<00:08,  2.78it/s]\n",
      "[I 2024-04-02 11:53:08,625] Trial 95 finished with value: 1.7669530715793371 and parameters: {'n_neurons_layer1': 832, 'n_neurons_layer2': 1728, 'learning_rate': 0.000904626178292651, 'dropout': 0.5}. Best is trial 71 with value: 1.766514533292502.\n"
     ]
    },
    {
     "name": "stdout",
     "output_type": "stream",
     "text": [
      "Stopped training using EarlyStopping at epoch 28\n",
      "\n",
      "**Finished training**\n",
      "\n",
      "Best validation loss (reached after 18 epochs): 1.7669530715793371\n",
      "\n",
      "Training time: 0.16 minutes\n",
      "Total training time: 0.16 minutes\n",
      "Start training classifier\n",
      "\n",
      "\n",
      "Start Training\n",
      "\n"
     ]
    },
    {
     "name": "stderr",
     "output_type": "stream",
     "text": [
      " 76%|███████▌  | 38/50 [00:13<00:04,  2.85it/s]\n",
      "[I 2024-04-02 11:53:22,018] Trial 96 finished with value: 1.7671900399029254 and parameters: {'n_neurons_layer1': 704, 'n_neurons_layer2': 2048, 'learning_rate': 0.0005706846971027825, 'dropout': 0.5}. Best is trial 71 with value: 1.766514533292502.\n"
     ]
    },
    {
     "name": "stdout",
     "output_type": "stream",
     "text": [
      "Stopped training using EarlyStopping at epoch 39\n",
      "\n",
      "**Finished training**\n",
      "\n",
      "Best validation loss (reached after 29 epochs): 1.7671900399029254\n",
      "\n",
      "Training time: 0.22 minutes\n",
      "Total training time: 0.22 minutes\n",
      "Start training classifier\n",
      "\n",
      "\n",
      "Start Training\n",
      "\n"
     ]
    },
    {
     "name": "stderr",
     "output_type": "stream",
     "text": [
      " 54%|█████▍    | 27/50 [00:10<00:08,  2.70it/s]\n",
      "[I 2024-04-02 11:53:32,108] Trial 97 finished with value: 1.7667527227662503 and parameters: {'n_neurons_layer1': 1088, 'n_neurons_layer2': 1920, 'learning_rate': 0.0010604744215138623, 'dropout': 0.5}. Best is trial 71 with value: 1.766514533292502.\n"
     ]
    },
    {
     "name": "stdout",
     "output_type": "stream",
     "text": [
      "Stopped training using EarlyStopping at epoch 28\n",
      "\n",
      "**Finished training**\n",
      "\n",
      "Best validation loss (reached after 18 epochs): 1.7667527227662503\n",
      "\n",
      "Training time: 0.17 minutes\n",
      "Total training time: 0.17 minutes\n",
      "Start training classifier\n",
      "\n",
      "\n",
      "Start Training\n",
      "\n"
     ]
    },
    {
     "name": "stderr",
     "output_type": "stream",
     "text": [
      " 68%|██████▊   | 34/50 [00:12<00:05,  2.73it/s]\n",
      "[I 2024-04-02 11:53:44,612] Trial 98 finished with value: 1.7671467930078506 and parameters: {'n_neurons_layer1': 960, 'n_neurons_layer2': 1984, 'learning_rate': 0.0005017576573652832, 'dropout': 0.5}. Best is trial 71 with value: 1.766514533292502.\n"
     ]
    },
    {
     "name": "stdout",
     "output_type": "stream",
     "text": [
      "Stopped training using EarlyStopping at epoch 35\n",
      "\n",
      "**Finished training**\n",
      "\n",
      "Best validation loss (reached after 25 epochs): 1.7671467930078506\n",
      "\n",
      "Training time: 0.21 minutes\n",
      "Total training time: 0.21 minutes\n",
      "Start training classifier\n",
      "\n",
      "\n",
      "Start Training\n",
      "\n"
     ]
    },
    {
     "name": "stderr",
     "output_type": "stream",
     "text": [
      " 44%|████▍     | 22/50 [00:07<00:10,  2.76it/s]\n",
      "[I 2024-04-02 11:53:52,668] Trial 99 finished with value: 1.7671575388871132 and parameters: {'n_neurons_layer1': 896, 'n_neurons_layer2': 1792, 'learning_rate': 0.0012519943244227467, 'dropout': 0.5}. Best is trial 71 with value: 1.766514533292502.\n"
     ]
    },
    {
     "name": "stdout",
     "output_type": "stream",
     "text": [
      "Stopped training using EarlyStopping at epoch 23\n",
      "\n",
      "**Finished training**\n",
      "\n",
      "Best validation loss (reached after 13 epochs): 1.7671575388871132\n",
      "\n",
      "Training time: 0.13 minutes\n",
      "Total training time: 0.13 minutes\n",
      "Number of finished trials:  100\n",
      "Best trial:\n",
      "  Value:  1.766514533292502\n",
      "  Params: \n",
      "    n_neurons_layer1: 896\n",
      "    n_neurons_layer2: 1920\n",
      "    learning_rate: 0.0013569636449655862\n",
      "    dropout: 0.4\n",
      "Start training classifier\n",
      "\n",
      "\n",
      "Start Training\n",
      "\n"
     ]
    },
    {
     "name": "stderr",
     "output_type": "stream",
     "text": [
      "  2%|▏         | 1/50 [00:00<00:20,  2.39it/s]"
     ]
    },
    {
     "name": "stdout",
     "output_type": "stream",
     "text": [
      "Epoch 1 | Training loss: 2.6477 | Training Accuracy: 0.01488095238095238 | Validation loss: 2.6435 | Validation Accuracy: 0.00234375\n"
     ]
    },
    {
     "name": "stderr",
     "output_type": "stream",
     "text": [
      "  4%|▍         | 2/50 [00:00<00:18,  2.54it/s]"
     ]
    },
    {
     "name": "stdout",
     "output_type": "stream",
     "text": [
      "Epoch 2 | Training loss: 1.8807 | Training Accuracy: 0.9274553571428571 | Validation loss: 1.7779 | Validation Accuracy: 0.97578125\n"
     ]
    },
    {
     "name": "stderr",
     "output_type": "stream",
     "text": [
      "  6%|▌         | 3/50 [00:01<00:17,  2.61it/s]"
     ]
    },
    {
     "name": "stdout",
     "output_type": "stream",
     "text": [
      "Epoch 3 | Training loss: 1.7722 | Training Accuracy: 0.9827008928571429 | Validation loss: 1.7758 | Validation Accuracy: 0.9796875\n"
     ]
    },
    {
     "name": "stderr",
     "output_type": "stream",
     "text": [
      "  8%|▊         | 4/50 [00:01<00:17,  2.65it/s]"
     ]
    },
    {
     "name": "stdout",
     "output_type": "stream",
     "text": [
      "Epoch 4 | Training loss: 1.7720 | Training Accuracy: 0.9830729166666666 | Validation loss: 1.7757 | Validation Accuracy: 0.978125\n"
     ]
    },
    {
     "name": "stderr",
     "output_type": "stream",
     "text": [
      " 10%|█         | 5/50 [00:01<00:17,  2.61it/s]"
     ]
    },
    {
     "name": "stdout",
     "output_type": "stream",
     "text": [
      "Epoch 5 | Training loss: 1.7715 | Training Accuracy: 0.9834449404761905 | Validation loss: 1.7752 | Validation Accuracy: 0.97890625\n"
     ]
    },
    {
     "name": "stderr",
     "output_type": "stream",
     "text": [
      " 12%|█▏        | 6/50 [00:02<00:16,  2.62it/s]"
     ]
    },
    {
     "name": "stdout",
     "output_type": "stream",
     "text": [
      "Epoch 6 | Training loss: 1.7683 | Training Accuracy: 0.9869791666666666 | Validation loss: 1.7716 | Validation Accuracy: 0.9828125\n"
     ]
    },
    {
     "name": "stderr",
     "output_type": "stream",
     "text": [
      " 14%|█▍        | 7/50 [00:02<00:16,  2.67it/s]"
     ]
    },
    {
     "name": "stdout",
     "output_type": "stream",
     "text": [
      "Epoch 7 | Training loss: 1.7653 | Training Accuracy: 0.9901413690476191 | Validation loss: 1.7686 | Validation Accuracy: 0.98671875\n"
     ]
    },
    {
     "name": "stderr",
     "output_type": "stream",
     "text": [
      " 16%|█▌        | 8/50 [00:03<00:15,  2.73it/s]"
     ]
    },
    {
     "name": "stdout",
     "output_type": "stream",
     "text": [
      "Epoch 8 | Training loss: 1.7653 | Training Accuracy: 0.9905133928571429 | Validation loss: 1.7703 | Validation Accuracy: 0.98359375\n"
     ]
    },
    {
     "name": "stderr",
     "output_type": "stream",
     "text": [
      " 18%|█▊        | 9/50 [00:03<00:14,  2.75it/s]"
     ]
    },
    {
     "name": "stdout",
     "output_type": "stream",
     "text": [
      "Epoch 9 | Training loss: 1.7647 | Training Accuracy: 0.9905133928571429 | Validation loss: 1.7686 | Validation Accuracy: 0.9859375\n"
     ]
    },
    {
     "name": "stderr",
     "output_type": "stream",
     "text": [
      " 20%|██        | 10/50 [00:03<00:14,  2.79it/s]"
     ]
    },
    {
     "name": "stdout",
     "output_type": "stream",
     "text": [
      "Epoch 10 | Training loss: 1.7645 | Training Accuracy: 0.9906994047619048 | Validation loss: 1.7689 | Validation Accuracy: 0.9859375\n"
     ]
    },
    {
     "name": "stderr",
     "output_type": "stream",
     "text": [
      " 22%|██▏       | 11/50 [00:04<00:14,  2.78it/s]"
     ]
    },
    {
     "name": "stdout",
     "output_type": "stream",
     "text": [
      "Epoch 11 | Training loss: 1.7634 | Training Accuracy: 0.9918154761904762 | Validation loss: 1.7665 | Validation Accuracy: 0.98984375\n"
     ]
    },
    {
     "name": "stderr",
     "output_type": "stream",
     "text": [
      " 24%|██▍       | 12/50 [00:04<00:13,  2.75it/s]"
     ]
    },
    {
     "name": "stdout",
     "output_type": "stream",
     "text": [
      "Epoch 12 | Training loss: 1.7630 | Training Accuracy: 0.9920014880952381 | Validation loss: 1.7671 | Validation Accuracy: 0.9890625\n"
     ]
    },
    {
     "name": "stderr",
     "output_type": "stream",
     "text": [
      " 26%|██▌       | 13/50 [00:04<00:13,  2.80it/s]"
     ]
    },
    {
     "name": "stdout",
     "output_type": "stream",
     "text": [
      "Epoch 13 | Training loss: 1.7632 | Training Accuracy: 0.9920014880952381 | Validation loss: 1.7684 | Validation Accuracy: 0.98671875\n"
     ]
    },
    {
     "name": "stderr",
     "output_type": "stream",
     "text": [
      " 28%|██▊       | 14/50 [00:05<00:12,  2.82it/s]"
     ]
    },
    {
     "name": "stdout",
     "output_type": "stream",
     "text": [
      "Epoch 14 | Training loss: 1.7637 | Training Accuracy: 0.9912574404761905 | Validation loss: 1.7676 | Validation Accuracy: 0.98828125\n"
     ]
    },
    {
     "name": "stderr",
     "output_type": "stream",
     "text": [
      " 30%|███       | 15/50 [00:05<00:12,  2.84it/s]"
     ]
    },
    {
     "name": "stdout",
     "output_type": "stream",
     "text": [
      "Epoch 15 | Training loss: 1.7631 | Training Accuracy: 0.9921875 | Validation loss: 1.7703 | Validation Accuracy: 0.9859375\n"
     ]
    },
    {
     "name": "stderr",
     "output_type": "stream",
     "text": [
      " 32%|███▏      | 16/50 [00:05<00:11,  2.84it/s]"
     ]
    },
    {
     "name": "stdout",
     "output_type": "stream",
     "text": [
      "Epoch 16 | Training loss: 1.7633 | Training Accuracy: 0.9920014880952381 | Validation loss: 1.7682 | Validation Accuracy: 0.98671875\n"
     ]
    },
    {
     "name": "stderr",
     "output_type": "stream",
     "text": [
      " 34%|███▍      | 17/50 [00:06<00:11,  2.87it/s]"
     ]
    },
    {
     "name": "stdout",
     "output_type": "stream",
     "text": [
      "Epoch 17 | Training loss: 1.7638 | Training Accuracy: 0.9916294642857143 | Validation loss: 1.7689 | Validation Accuracy: 0.9859375\n"
     ]
    },
    {
     "name": "stderr",
     "output_type": "stream",
     "text": [
      " 36%|███▌      | 18/50 [00:06<00:12,  2.65it/s]"
     ]
    },
    {
     "name": "stdout",
     "output_type": "stream",
     "text": [
      "Epoch 18 | Training loss: 1.7627 | Training Accuracy: 0.9925595238095238 | Validation loss: 1.7675 | Validation Accuracy: 0.9890625\n"
     ]
    },
    {
     "name": "stderr",
     "output_type": "stream",
     "text": [
      " 38%|███▊      | 19/50 [00:07<00:11,  2.66it/s]"
     ]
    },
    {
     "name": "stdout",
     "output_type": "stream",
     "text": [
      "Epoch 19 | Training loss: 1.7633 | Training Accuracy: 0.9916294642857143 | Validation loss: 1.7685 | Validation Accuracy: 0.9890625\n"
     ]
    },
    {
     "name": "stderr",
     "output_type": "stream",
     "text": [
      " 40%|████      | 20/50 [00:07<00:10,  2.74it/s]"
     ]
    },
    {
     "name": "stdout",
     "output_type": "stream",
     "text": [
      "Epoch 20 | Training loss: 1.7636 | Training Accuracy: 0.9918154761904762 | Validation loss: 1.7695 | Validation Accuracy: 0.98671875\n"
     ]
    },
    {
     "name": "stderr",
     "output_type": "stream",
     "text": [
      " 40%|████      | 20/50 [00:07<00:11,  2.60it/s]"
     ]
    },
    {
     "name": "stdout",
     "output_type": "stream",
     "text": [
      "Epoch 21 | Training loss: 1.7630 | Training Accuracy: 0.9927455357142857 | Validation loss: 1.7668 | Validation Accuracy: 0.9890625\n",
      "Stopped training using EarlyStopping at epoch 21\n",
      "\n",
      "**Finished training**\n",
      "\n",
      "Best validation loss (reached after 11 epochs): 1.766514533292502\n",
      "\n",
      "Training time: 0.13 minutes\n",
      "Total training time: 0.13 minutes\n"
     ]
    },
    {
     "name": "stderr",
     "output_type": "stream",
     "text": [
      "\n"
     ]
    }
   ],
   "source": [
    "CELLULAR.train(adata=adata_train, train_classifier=True, target_key=\"cell_type\", batch_key=\"patientID\")"
   ]
  },
  {
   "cell_type": "markdown",
   "metadata": {},
   "source": [
    "## Predict on test data"
   ]
  },
  {
   "cell_type": "markdown",
   "metadata": {},
   "source": [
    "Next, we want to make predictions using the model.<br>\n",
    "It will retrieve the information from *trained_models/* to make predictions.<br>\n",
    "To run predict one needs to provide Anndata."
   ]
  },
  {
   "cell_type": "code",
   "execution_count": 5,
   "metadata": {},
   "outputs": [
    {
     "name": "stderr",
     "output_type": "stream",
     "text": [
      "c:\\Users\\user\\Documents\\GitHub\\MT_test_repo\\env\\lib\\site-packages\\anndata\\_core\\anndata.py:1906: UserWarning: Observation names are not unique. To make them unique, call `.obs_names_make_unique`.\n",
      "  utils.warn_names_duplicates(\"obs\")\n"
     ]
    }
   ],
   "source": [
    "predictions = CELLULAR.predict(adata=adata_test, use_classifier=True)"
   ]
  },
  {
   "cell_type": "markdown",
   "metadata": {},
   "source": [
    "## Analyze performance"
   ]
  },
  {
   "cell_type": "markdown",
   "metadata": {},
   "source": [
    "Here we just quickly evaluate performance on testing dataset. <br>\n",
    "We can see how it achieves high accuracy, showing how it's able to generalize to new data. "
   ]
  },
  {
   "cell_type": "code",
   "execution_count": 6,
   "metadata": {},
   "outputs": [
    {
     "name": "stdout",
     "output_type": "stream",
     "text": [
      "Accuracy: 0.9900816802800467\n",
      "Balanced Accuracy: 0.9867240204049218\n",
      "F1 Score: 0.9900970820127314\n"
     ]
    }
   ],
   "source": [
    "adata_test.obs[\"prediction\"] = predictions\n",
    "\n",
    "# Extract the unique labels\n",
    "unique_labels1 = np.unique(adata_test.obs[\"cell_type\"])\n",
    "unique_labels2 = np.unique(adata_test.obs[\"prediction\"])\n",
    "unique_labels = np.unique(np.concatenate([unique_labels1,unique_labels2]))\n",
    "np.random.shuffle(unique_labels)\n",
    "\n",
    "# Convert string labels to numerical labels\n",
    "label_encoder_temp = LabelEncoder()\n",
    "label_encoder_temp.fit(unique_labels)\n",
    "y_true = label_encoder_temp.transform(adata_test.obs[\"cell_type\"])\n",
    "y_pred = label_encoder_temp.transform(adata_test.obs[\"prediction\"])\n",
    "\n",
    "# Calculate accuracy\n",
    "accuracy = accuracy_score(y_true, y_pred)\n",
    "print(\"Accuracy:\", accuracy)\n",
    "\n",
    "# Calculate balanced accuracy\n",
    "balanced_accuracy = balanced_accuracy_score(y_true, y_pred)\n",
    "print(\"Balanced Accuracy:\", balanced_accuracy)\n",
    "\n",
    "# Calculate F1 score\n",
    "f1 = f1_score(y_true, y_pred, average='weighted')\n",
    "print(\"F1 Score:\", f1)"
   ]
  },
  {
   "cell_type": "markdown",
   "metadata": {},
   "source": [
    "## Novel cell type detection"
   ]
  },
  {
   "cell_type": "markdown",
   "metadata": {},
   "source": [
    "Detect whether there could be a novel cell type in the dataset. <br>\n",
    "This detection is based on looking at the minimum likelihood of any prediction. If it's below the specified threshold, then this suggests that there's a novel cell type present. "
   ]
  },
  {
   "cell_type": "code",
   "execution_count": 7,
   "metadata": {},
   "outputs": [
    {
     "name": "stderr",
     "output_type": "stream",
     "text": [
      "c:\\Users\\user\\Documents\\GitHub\\MT_test_repo\\env\\lib\\site-packages\\anndata\\_core\\anndata.py:1906: UserWarning: Observation names are not unique. To make them unique, call `.obs_names_make_unique`.\n",
      "  utils.warn_names_duplicates(\"obs\")\n"
     ]
    },
    {
     "name": "stdout",
     "output_type": "stream",
     "text": [
      "Minimum likelihood was 0.4479, which is higher than the threshold value of 0.22\n",
      "Can't confidently state whether or not there could be a novel cell type in the data or not\n"
     ]
    }
   ],
   "source": [
    "CELLULAR.novel_cell_type_detection(adata=adata_test)"
   ]
  }
 ],
 "metadata": {
  "kernelspec": {
   "display_name": "env",
   "language": "python",
   "name": "python3"
  },
  "language_info": {
   "codemirror_mode": {
    "name": "ipython",
    "version": 3
   },
   "file_extension": ".py",
   "mimetype": "text/x-python",
   "name": "python",
   "nbconvert_exporter": "python",
   "pygments_lexer": "ipython3",
   "version": "3.10.5"
  }
 },
 "nbformat": 4,
 "nbformat_minor": 2
}
