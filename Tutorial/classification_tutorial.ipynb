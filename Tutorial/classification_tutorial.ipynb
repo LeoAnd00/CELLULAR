{
 "cells": [
  {
   "cell_type": "markdown",
   "metadata": {},
   "source": [
    "# Classification Tutorial"
   ]
  },
  {
   "cell_type": "markdown",
   "metadata": {},
   "source": [
    "This is a tutorial notebook for how to use the package to train a classifier and make predictions"
   ]
  },
  {
   "cell_type": "code",
   "execution_count": 1,
   "metadata": {},
   "outputs": [
    {
     "name": "stderr",
     "output_type": "stream",
     "text": [
      "c:\\Users\\user\\Documents\\GitHub\\MT_test_repo\\env\\lib\\site-packages\\tqdm\\auto.py:21: TqdmWarning: IProgress not found. Please update jupyter and ipywidgets. See https://ipywidgets.readthedocs.io/en/stable/user_install.html\n",
      "  from .autonotebook import tqdm as notebook_tqdm\n"
     ]
    }
   ],
   "source": [
    "# Load required packages\n",
    "import scanpy as sc\n",
    "from sklearn.model_selection import StratifiedKFold\n",
    "from sklearn.preprocessing import LabelEncoder\n",
    "from sklearn.metrics import accuracy_score, f1_score, balanced_accuracy_score\n",
    "import numpy as np\n",
    "\n",
    "import sys\n",
    "sys.path.append('../') # Add parent directory to path, since it contains the scNear package\n",
    "import scNear"
   ]
  },
  {
   "cell_type": "markdown",
   "metadata": {},
   "source": [
    "## Read data"
   ]
  },
  {
   "cell_type": "markdown",
   "metadata": {},
   "source": [
    "Start by reading Anndata and split it into a training set and a testing set. <br>\n",
    "It's worth noting that adata.X, containing the counts, should be normalized. If this isn't the case, there's a implemented normalization function in the package. Simply run *scNear.log1p_normalize(adata)* to apply scale factor and log1p normalize adata.X."
   ]
  },
  {
   "cell_type": "code",
   "execution_count": 2,
   "metadata": {},
   "outputs": [
    {
     "name": "stderr",
     "output_type": "stream",
     "text": [
      "c:\\Users\\user\\Documents\\GitHub\\MT_test_repo\\env\\lib\\site-packages\\anndata\\__init__.py:51: FutureWarning: `anndata.read` is deprecated, use `anndata.read_h5ad` instead. `ad.read` will be removed in mid 2024.\n",
      "  warnings.warn(\n",
      "c:\\Users\\user\\Documents\\GitHub\\MT_test_repo\\env\\lib\\site-packages\\anndata\\_core\\anndata.py:1906: UserWarning: Observation names are not unique. To make them unique, call `.obs_names_make_unique`.\n",
      "  utils.warn_names_duplicates(\"obs\")\n",
      "c:\\Users\\user\\Documents\\GitHub\\MT_test_repo\\env\\lib\\site-packages\\anndata\\_core\\anndata.py:1906: UserWarning: Observation names are not unique. To make them unique, call `.obs_names_make_unique`.\n",
      "  utils.warn_names_duplicates(\"obs\")\n"
     ]
    }
   ],
   "source": [
    "adata = sc.read(\"data/Baron.h5ad\", cache=True)\n",
    "\n",
    "### Split data for training and testing\n",
    "\n",
    "# Initialize Stratified K-Fold\n",
    "stratified_kfold = StratifiedKFold(n_splits=5, shuffle=True, random_state=42)\n",
    "\n",
    "# Take the first fold\n",
    "adata_train = adata.copy()\n",
    "adata_test = adata.copy()\n",
    "for train_index, test_index in stratified_kfold.split(adata.X, adata.obs[\"cell_type\"]):\n",
    "    adata_train = adata_train[train_index, :].copy()\n",
    "    adata_test = adata_test[test_index, :].copy()\n",
    "    break # Break to get the first fold"
   ]
  },
  {
   "cell_type": "code",
   "execution_count": 3,
   "metadata": {},
   "outputs": [
    {
     "name": "stdout",
     "output_type": "stream",
     "text": [
      "Train data contains 6855 cells and 14322 genes\n",
      "Test data contains 1714 cells and 14322 genes\n"
     ]
    }
   ],
   "source": [
    "print(f\"Train data contains {adata_train.X.shape[0]} cells and {adata_train.X.shape[1]} genes\")\n",
    "print(f\"Test data contains {adata_test.X.shape[0]} cells and {adata_test.X.shape[1]} genes\")"
   ]
  },
  {
   "cell_type": "markdown",
   "metadata": {},
   "source": [
    "## Train model"
   ]
  },
  {
   "cell_type": "markdown",
   "metadata": {},
   "source": [
    "Next, we want to train the model. This can simply be achieved by running the following line. <br>\n",
    "Once trained it will save all the information needed to make predictions using the model under *trained_models/*.<br>\n",
    "One needs to give the model the training Anndata, the target key in adata.obs that contains cell type information, and the batch key in adata.obs that contains the batch effect information. <br>\n",
    "For this dataset, patient ID is the batch effect of interest."
   ]
  },
  {
   "cell_type": "code",
   "execution_count": 4,
   "metadata": {},
   "outputs": [
    {
     "name": "stderr",
     "output_type": "stream",
     "text": [
      "c:\\Users\\user\\Documents\\GitHub\\MT_test_repo\\env\\lib\\site-packages\\anndata\\_core\\anndata.py:1906: UserWarning: Observation names are not unique. To make them unique, call `.obs_names_make_unique`.\n",
      "  utils.warn_names_duplicates(\"obs\")\n",
      "c:\\Users\\user\\Documents\\GitHub\\MT_test_repo\\env\\lib\\site-packages\\scanpy\\preprocessing\\_highly_variable_genes.py:258: FutureWarning: The default of observed=False is deprecated and will be changed to True in a future version of pandas. Pass observed=False to retain current behavior or observed=True to adopt the future default and silence this warning.\n",
      "  disp_grouped = df.groupby(\"mean_bin\")[\"dispersions\"]\n",
      "c:\\Users\\user\\Documents\\GitHub\\MT_test_repo\\env\\lib\\site-packages\\anndata\\_core\\anndata.py:1906: UserWarning: Observation names are not unique. To make them unique, call `.obs_names_make_unique`.\n",
      "  utils.warn_names_duplicates(\"obs\")\n",
      "c:\\Users\\user\\Documents\\GitHub\\MT_test_repo\\env\\lib\\site-packages\\anndata\\_core\\anndata.py:1906: UserWarning: Observation names are not unique. To make them unique, call `.obs_names_make_unique`.\n",
      "  utils.warn_names_duplicates(\"obs\")\n",
      "c:\\Users\\user\\Documents\\GitHub\\MT_test_repo\\env\\lib\\site-packages\\numpy\\core\\fromnumeric.py:3504: RuntimeWarning: Mean of empty slice.\n",
      "  return _methods._mean(a, axis=axis, dtype=dtype,\n",
      "c:\\Users\\user\\Documents\\GitHub\\MT_test_repo\\env\\lib\\site-packages\\numpy\\core\\_methods.py:121: RuntimeWarning: invalid value encountered in divide\n",
      "  ret = um.true_divide(\n",
      "c:\\Users\\user\\Documents\\GitHub\\MT_test_repo\\env\\lib\\site-packages\\anndata\\_core\\anndata.py:1906: UserWarning: Observation names are not unique. To make them unique, call `.obs_names_make_unique`.\n",
      "  utils.warn_names_duplicates(\"obs\")\n",
      "c:\\Users\\user\\Documents\\GitHub\\MT_test_repo\\env\\lib\\site-packages\\scanpy\\preprocessing\\_highly_variable_genes.py:258: FutureWarning: The default of observed=False is deprecated and will be changed to True in a future version of pandas. Pass observed=False to retain current behavior or observed=True to adopt the future default and silence this warning.\n",
      "  disp_grouped = df.groupby(\"mean_bin\")[\"dispersions\"]\n",
      "c:\\Users\\user\\Documents\\GitHub\\MT_test_repo\\env\\lib\\site-packages\\anndata\\_core\\anndata.py:1906: UserWarning: Observation names are not unique. To make them unique, call `.obs_names_make_unique`.\n",
      "  utils.warn_names_duplicates(\"obs\")\n",
      "c:\\Users\\user\\Documents\\GitHub\\MT_test_repo\\env\\lib\\site-packages\\anndata\\_core\\anndata.py:1906: UserWarning: Observation names are not unique. To make them unique, call `.obs_names_make_unique`.\n",
      "  utils.warn_names_duplicates(\"obs\")\n",
      "c:\\Users\\user\\Documents\\GitHub\\MT_test_repo\\env\\lib\\site-packages\\numpy\\core\\fromnumeric.py:3504: RuntimeWarning: Mean of empty slice.\n",
      "  return _methods._mean(a, axis=axis, dtype=dtype,\n",
      "c:\\Users\\user\\Documents\\GitHub\\MT_test_repo\\env\\lib\\site-packages\\numpy\\core\\_methods.py:121: RuntimeWarning: invalid value encountered in divide\n",
      "  ret = um.true_divide(\n",
      "c:\\Users\\user\\Documents\\GitHub\\MT_test_repo\\env\\lib\\site-packages\\anndata\\_core\\anndata.py:1906: UserWarning: Observation names are not unique. To make them unique, call `.obs_names_make_unique`.\n",
      "  utils.warn_names_duplicates(\"obs\")\n"
     ]
    },
    {
     "name": "stdout",
     "output_type": "stream",
     "text": [
      "Number of parameters: 2558600\n",
      "\n",
      "Start Training\n",
      "\n"
     ]
    },
    {
     "name": "stderr",
     "output_type": "stream",
     "text": [
      "  2%|▏         | 1/50 [00:25<20:48, 25.48s/it]"
     ]
    },
    {
     "name": "stdout",
     "output_type": "stream",
     "text": [
      "Epoch 1 | Training loss: 0.7264 | Validation loss: 0.5434\n"
     ]
    },
    {
     "name": "stderr",
     "output_type": "stream",
     "text": [
      "  4%|▍         | 2/50 [00:49<19:39, 24.57s/it]"
     ]
    },
    {
     "name": "stdout",
     "output_type": "stream",
     "text": [
      "Epoch 2 | Training loss: 0.3884 | Validation loss: 0.2353\n"
     ]
    },
    {
     "name": "stderr",
     "output_type": "stream",
     "text": [
      "  6%|▌         | 3/50 [01:12<18:51, 24.08s/it]"
     ]
    },
    {
     "name": "stdout",
     "output_type": "stream",
     "text": [
      "Epoch 3 | Training loss: 0.3330 | Validation loss: 0.2102\n"
     ]
    },
    {
     "name": "stderr",
     "output_type": "stream",
     "text": [
      "  8%|▊         | 4/50 [01:36<18:20, 23.92s/it]"
     ]
    },
    {
     "name": "stdout",
     "output_type": "stream",
     "text": [
      "Epoch 4 | Training loss: 0.2085 | Validation loss: 0.1813\n"
     ]
    },
    {
     "name": "stderr",
     "output_type": "stream",
     "text": [
      " 10%|█         | 5/50 [02:00<17:55, 23.91s/it]"
     ]
    },
    {
     "name": "stdout",
     "output_type": "stream",
     "text": [
      "Epoch 5 | Training loss: 0.2252 | Validation loss: 0.1794\n"
     ]
    },
    {
     "name": "stderr",
     "output_type": "stream",
     "text": [
      " 12%|█▏        | 6/50 [02:23<17:22, 23.69s/it]"
     ]
    },
    {
     "name": "stdout",
     "output_type": "stream",
     "text": [
      "Epoch 6 | Training loss: 0.2335 | Validation loss: 0.1615\n"
     ]
    },
    {
     "name": "stderr",
     "output_type": "stream",
     "text": [
      " 14%|█▍        | 7/50 [02:49<17:21, 24.21s/it]"
     ]
    },
    {
     "name": "stdout",
     "output_type": "stream",
     "text": [
      "Epoch 7 | Training loss: 0.2145 | Validation loss: 0.1591\n"
     ]
    },
    {
     "name": "stderr",
     "output_type": "stream",
     "text": [
      " 16%|█▌        | 8/50 [03:13<16:58, 24.24s/it]"
     ]
    },
    {
     "name": "stdout",
     "output_type": "stream",
     "text": [
      "Epoch 8 | Training loss: 0.1648 | Validation loss: 0.1391\n"
     ]
    },
    {
     "name": "stderr",
     "output_type": "stream",
     "text": [
      " 18%|█▊        | 9/50 [03:36<16:25, 24.04s/it]"
     ]
    },
    {
     "name": "stdout",
     "output_type": "stream",
     "text": [
      "Epoch 9 | Training loss: 0.1282 | Validation loss: 0.1357\n"
     ]
    },
    {
     "name": "stderr",
     "output_type": "stream",
     "text": [
      " 20%|██        | 10/50 [04:01<16:05, 24.14s/it]"
     ]
    },
    {
     "name": "stdout",
     "output_type": "stream",
     "text": [
      "Epoch 10 | Training loss: 0.1322 | Validation loss: 0.1339\n"
     ]
    },
    {
     "name": "stderr",
     "output_type": "stream",
     "text": [
      " 22%|██▏       | 11/50 [04:24<15:35, 24.00s/it]"
     ]
    },
    {
     "name": "stdout",
     "output_type": "stream",
     "text": [
      "Epoch 11 | Training loss: 0.1212 | Validation loss: 0.1315\n"
     ]
    },
    {
     "name": "stderr",
     "output_type": "stream",
     "text": [
      " 24%|██▍       | 12/50 [04:48<15:09, 23.92s/it]"
     ]
    },
    {
     "name": "stdout",
     "output_type": "stream",
     "text": [
      "Epoch 12 | Training loss: 0.1126 | Validation loss: 0.1295\n"
     ]
    },
    {
     "name": "stderr",
     "output_type": "stream",
     "text": [
      " 26%|██▌       | 13/50 [05:13<14:51, 24.09s/it]"
     ]
    },
    {
     "name": "stdout",
     "output_type": "stream",
     "text": [
      "Epoch 13 | Training loss: 0.1088 | Validation loss: 0.1286\n"
     ]
    },
    {
     "name": "stderr",
     "output_type": "stream",
     "text": [
      " 28%|██▊       | 14/50 [05:37<14:34, 24.29s/it]"
     ]
    },
    {
     "name": "stdout",
     "output_type": "stream",
     "text": [
      "Epoch 14 | Training loss: 0.1137 | Validation loss: 0.1287\n"
     ]
    },
    {
     "name": "stderr",
     "output_type": "stream",
     "text": [
      " 30%|███       | 15/50 [06:03<14:28, 24.80s/it]"
     ]
    },
    {
     "name": "stdout",
     "output_type": "stream",
     "text": [
      "Epoch 15 | Training loss: 0.1003 | Validation loss: 0.1276\n"
     ]
    },
    {
     "name": "stderr",
     "output_type": "stream",
     "text": [
      " 32%|███▏      | 16/50 [06:27<13:48, 24.36s/it]"
     ]
    },
    {
     "name": "stdout",
     "output_type": "stream",
     "text": [
      "Epoch 16 | Training loss: 0.1073 | Validation loss: 0.1277\n"
     ]
    },
    {
     "name": "stderr",
     "output_type": "stream",
     "text": [
      " 34%|███▍      | 17/50 [06:51<13:23, 24.34s/it]"
     ]
    },
    {
     "name": "stdout",
     "output_type": "stream",
     "text": [
      "Epoch 17 | Training loss: 0.1110 | Validation loss: 0.1269\n"
     ]
    },
    {
     "name": "stderr",
     "output_type": "stream",
     "text": [
      " 36%|███▌      | 18/50 [07:15<12:59, 24.35s/it]"
     ]
    },
    {
     "name": "stdout",
     "output_type": "stream",
     "text": [
      "Epoch 18 | Training loss: 0.1015 | Validation loss: 0.1269\n"
     ]
    },
    {
     "name": "stderr",
     "output_type": "stream",
     "text": [
      " 38%|███▊      | 19/50 [07:40<12:33, 24.31s/it]"
     ]
    },
    {
     "name": "stdout",
     "output_type": "stream",
     "text": [
      "Epoch 19 | Training loss: 0.1036 | Validation loss: 0.1270\n"
     ]
    },
    {
     "name": "stderr",
     "output_type": "stream",
     "text": [
      " 40%|████      | 20/50 [08:03<12:01, 24.04s/it]"
     ]
    },
    {
     "name": "stdout",
     "output_type": "stream",
     "text": [
      "Epoch 20 | Training loss: 0.1043 | Validation loss: 0.1277\n"
     ]
    },
    {
     "name": "stderr",
     "output_type": "stream",
     "text": [
      " 42%|████▏     | 21/50 [08:27<11:33, 23.92s/it]"
     ]
    },
    {
     "name": "stdout",
     "output_type": "stream",
     "text": [
      "Epoch 21 | Training loss: 0.1156 | Validation loss: 0.1274\n"
     ]
    },
    {
     "name": "stderr",
     "output_type": "stream",
     "text": [
      " 44%|████▍     | 22/50 [08:51<11:08, 23.89s/it]"
     ]
    },
    {
     "name": "stdout",
     "output_type": "stream",
     "text": [
      "Epoch 22 | Training loss: 0.1077 | Validation loss: 0.1279\n"
     ]
    },
    {
     "name": "stderr",
     "output_type": "stream",
     "text": [
      " 46%|████▌     | 23/50 [09:14<10:44, 23.86s/it]"
     ]
    },
    {
     "name": "stdout",
     "output_type": "stream",
     "text": [
      "Epoch 23 | Training loss: 0.1095 | Validation loss: 0.1270\n"
     ]
    },
    {
     "name": "stderr",
     "output_type": "stream",
     "text": [
      " 48%|████▊     | 24/50 [09:40<10:35, 24.44s/it]"
     ]
    },
    {
     "name": "stdout",
     "output_type": "stream",
     "text": [
      "Epoch 24 | Training loss: 0.1153 | Validation loss: 0.1289\n"
     ]
    },
    {
     "name": "stderr",
     "output_type": "stream",
     "text": [
      " 50%|█████     | 25/50 [10:08<10:37, 25.49s/it]"
     ]
    },
    {
     "name": "stdout",
     "output_type": "stream",
     "text": [
      "Epoch 25 | Training loss: 0.1032 | Validation loss: 0.1273\n"
     ]
    },
    {
     "name": "stderr",
     "output_type": "stream",
     "text": [
      " 52%|█████▏    | 26/50 [10:36<10:26, 26.12s/it]"
     ]
    },
    {
     "name": "stdout",
     "output_type": "stream",
     "text": [
      "Epoch 26 | Training loss: 0.1097 | Validation loss: 0.1288\n"
     ]
    },
    {
     "name": "stderr",
     "output_type": "stream",
     "text": [
      " 54%|█████▍    | 27/50 [11:04<10:16, 26.82s/it]"
     ]
    },
    {
     "name": "stdout",
     "output_type": "stream",
     "text": [
      "Epoch 27 | Training loss: 0.1041 | Validation loss: 0.1280\n"
     ]
    },
    {
     "name": "stderr",
     "output_type": "stream",
     "text": [
      " 56%|█████▌    | 28/50 [11:33<10:06, 27.55s/it]"
     ]
    },
    {
     "name": "stdout",
     "output_type": "stream",
     "text": [
      "Epoch 28 | Training loss: 0.1085 | Validation loss: 0.1270\n"
     ]
    },
    {
     "name": "stderr",
     "output_type": "stream",
     "text": [
      " 58%|█████▊    | 29/50 [12:01<09:40, 27.63s/it]"
     ]
    },
    {
     "name": "stdout",
     "output_type": "stream",
     "text": [
      "Epoch 29 | Training loss: 0.1034 | Validation loss: 0.1285\n"
     ]
    },
    {
     "name": "stderr",
     "output_type": "stream",
     "text": [
      " 60%|██████    | 30/50 [12:28<09:08, 27.42s/it]"
     ]
    },
    {
     "name": "stdout",
     "output_type": "stream",
     "text": [
      "Epoch 30 | Training loss: 0.1071 | Validation loss: 0.1277\n"
     ]
    },
    {
     "name": "stderr",
     "output_type": "stream",
     "text": [
      " 62%|██████▏   | 31/50 [12:53<08:26, 26.68s/it]"
     ]
    },
    {
     "name": "stdout",
     "output_type": "stream",
     "text": [
      "Epoch 31 | Training loss: 0.1012 | Validation loss: 0.1285\n"
     ]
    },
    {
     "name": "stderr",
     "output_type": "stream",
     "text": [
      " 64%|██████▍   | 32/50 [13:19<07:56, 26.47s/it]"
     ]
    },
    {
     "name": "stdout",
     "output_type": "stream",
     "text": [
      "Epoch 32 | Training loss: 0.0990 | Validation loss: 0.1280\n"
     ]
    },
    {
     "name": "stderr",
     "output_type": "stream",
     "text": [
      " 66%|██████▌   | 33/50 [13:44<07:23, 26.08s/it]"
     ]
    },
    {
     "name": "stdout",
     "output_type": "stream",
     "text": [
      "Epoch 33 | Training loss: 0.1052 | Validation loss: 0.1284\n"
     ]
    },
    {
     "name": "stderr",
     "output_type": "stream",
     "text": [
      " 68%|██████▊   | 34/50 [14:13<07:08, 26.78s/it]"
     ]
    },
    {
     "name": "stdout",
     "output_type": "stream",
     "text": [
      "Epoch 34 | Training loss: 0.1093 | Validation loss: 0.1295\n"
     ]
    },
    {
     "name": "stderr",
     "output_type": "stream",
     "text": [
      " 70%|███████   | 35/50 [14:38<06:34, 26.28s/it]"
     ]
    },
    {
     "name": "stdout",
     "output_type": "stream",
     "text": [
      "Epoch 35 | Training loss: 0.1035 | Validation loss: 0.1291\n"
     ]
    },
    {
     "name": "stderr",
     "output_type": "stream",
     "text": [
      " 72%|███████▏  | 36/50 [15:03<06:04, 26.05s/it]"
     ]
    },
    {
     "name": "stdout",
     "output_type": "stream",
     "text": [
      "Epoch 36 | Training loss: 0.0995 | Validation loss: 0.1303\n"
     ]
    },
    {
     "name": "stderr",
     "output_type": "stream",
     "text": [
      " 74%|███████▍  | 37/50 [15:28<05:34, 25.76s/it]"
     ]
    },
    {
     "name": "stdout",
     "output_type": "stream",
     "text": [
      "Epoch 37 | Training loss: 0.1029 | Validation loss: 0.1291\n"
     ]
    },
    {
     "name": "stderr",
     "output_type": "stream",
     "text": [
      " 74%|███████▍  | 37/50 [15:55<05:35, 25.83s/it]\n",
      "[I 2024-03-28 16:49:32,186] A new study created in memory with name: no-name-39233287-7daa-4fdf-94e5-ddac4014e276\n"
     ]
    },
    {
     "name": "stdout",
     "output_type": "stream",
     "text": [
      "Epoch 38 | Training loss: 0.1085 | Validation loss: 0.1304\n",
      "Stopped training using EarlyStopping at epoch 38\n",
      "\n",
      "**Finished training**\n",
      "\n",
      "Best validation loss (reached after 18 epochs): 0.1268677169457078\n",
      "\n",
      "Training time: 15.93 minutes\n",
      "Total training time: 15.96 minutes\n",
      "\n",
      "Start training classifier\n",
      "\n",
      "\n",
      "Start Training\n",
      "\n"
     ]
    },
    {
     "name": "stderr",
     "output_type": "stream",
     "text": [
      "100%|██████████| 50/50 [00:17<00:00,  2.78it/s]\n",
      "[I 2024-03-28 16:49:50,213] Trial 0 finished with value: 1.7745723742991686 and parameters: {'n_neurons_layer1': 1920, 'n_neurons_layer2': 1536, 'learning_rate': 1.3146198736345197e-05, 'dropout': 0.4}. Best is trial 0 with value: 1.7745723742991686.\n"
     ]
    },
    {
     "name": "stdout",
     "output_type": "stream",
     "text": [
      "\n",
      "**Finished training**\n",
      "\n",
      "Best validation loss (reached after 44 epochs): 1.7745723742991686\n",
      "\n",
      "Training time: 0.30 minutes\n",
      "Total training time: 0.30 minutes\n",
      "Start training classifier\n",
      "\n",
      "\n",
      "Start Training\n",
      "\n"
     ]
    },
    {
     "name": "stderr",
     "output_type": "stream",
     "text": [
      " 60%|██████    | 30/50 [00:09<00:06,  3.22it/s]\n",
      "[I 2024-03-28 16:49:59,590] Trial 1 finished with value: 1.7671862599439918 and parameters: {'n_neurons_layer1': 832, 'n_neurons_layer2': 1984, 'learning_rate': 0.003598672403005116, 'dropout': 0.0}. Best is trial 1 with value: 1.7671862599439918.\n"
     ]
    },
    {
     "name": "stdout",
     "output_type": "stream",
     "text": [
      "Stopped training using EarlyStopping at epoch 31\n",
      "\n",
      "**Finished training**\n",
      "\n",
      "Best validation loss (reached after 21 epochs): 1.7671862599439918\n",
      "\n",
      "Training time: 0.16 minutes\n",
      "Total training time: 0.16 minutes\n",
      "Start training classifier\n",
      "\n",
      "\n",
      "Start Training\n",
      "\n"
     ]
    },
    {
     "name": "stderr",
     "output_type": "stream",
     "text": [
      " 54%|█████▍    | 27/50 [00:09<00:08,  2.84it/s]\n",
      "[I 2024-03-28 16:50:09,155] Trial 2 finished with value: 1.7667963632382453 and parameters: {'n_neurons_layer1': 1536, 'n_neurons_layer2': 1856, 'learning_rate': 0.0005858364850894128, 'dropout': 0.30000000000000004}. Best is trial 2 with value: 1.7667963632382453.\n"
     ]
    },
    {
     "name": "stdout",
     "output_type": "stream",
     "text": [
      "Stopped training using EarlyStopping at epoch 28\n",
      "\n",
      "**Finished training**\n",
      "\n",
      "Best validation loss (reached after 18 epochs): 1.7667963632382453\n",
      "\n",
      "Training time: 0.16 minutes\n",
      "Total training time: 0.16 minutes\n",
      "Start training classifier\n",
      "\n",
      "\n",
      "Start Training\n",
      "\n"
     ]
    },
    {
     "name": "stderr",
     "output_type": "stream",
     "text": [
      "100%|██████████| 50/50 [00:15<00:00,  3.17it/s]\n",
      "[I 2024-03-28 16:50:24,950] Trial 3 finished with value: 1.7807193075306713 and parameters: {'n_neurons_layer1': 1088, 'n_neurons_layer2': 768, 'learning_rate': 1.2719094880715748e-05, 'dropout': 0.1}. Best is trial 2 with value: 1.7667963632382453.\n"
     ]
    },
    {
     "name": "stdout",
     "output_type": "stream",
     "text": [
      "\n",
      "**Finished training**\n",
      "\n",
      "Best validation loss (reached after 44 epochs): 1.7807193075306713\n",
      "\n",
      "Training time: 0.26 minutes\n",
      "Total training time: 0.26 minutes\n",
      "Start training classifier\n",
      "\n",
      "\n",
      "Start Training\n",
      "\n"
     ]
    },
    {
     "name": "stderr",
     "output_type": "stream",
     "text": [
      "100%|██████████| 50/50 [00:15<00:00,  3.13it/s]\n",
      "[I 2024-03-28 16:50:40,951] Trial 4 finished with value: 1.7734771646559238 and parameters: {'n_neurons_layer1': 1792, 'n_neurons_layer2': 768, 'learning_rate': 2.3974031835095494e-05, 'dropout': 0.2}. Best is trial 2 with value: 1.7667963632382453.\n"
     ]
    },
    {
     "name": "stdout",
     "output_type": "stream",
     "text": [
      "\n",
      "**Finished training**\n",
      "\n",
      "Best validation loss (reached after 44 epochs): 1.7734771646559238\n",
      "\n",
      "Training time: 0.27 minutes\n",
      "Total training time: 0.27 minutes\n",
      "Start training classifier\n",
      "\n",
      "\n",
      "Start Training\n",
      "\n"
     ]
    },
    {
     "name": "stderr",
     "output_type": "stream",
     "text": [
      " 42%|████▏     | 21/50 [00:06<00:09,  3.14it/s]\n",
      "[I 2024-03-28 16:50:47,666] Trial 5 finished with value: 1.7669005755335092 and parameters: {'n_neurons_layer1': 1152, 'n_neurons_layer2': 768, 'learning_rate': 0.00313462070024358, 'dropout': 0.30000000000000004}. Best is trial 2 with value: 1.7667963632382453.\n"
     ]
    },
    {
     "name": "stdout",
     "output_type": "stream",
     "text": [
      "Stopped training using EarlyStopping at epoch 22\n",
      "\n",
      "**Finished training**\n",
      "\n",
      "Best validation loss (reached after 12 epochs): 1.7669005755335092\n",
      "\n",
      "Training time: 0.11 minutes\n",
      "Total training time: 0.11 minutes\n",
      "Start training classifier\n",
      "\n",
      "\n",
      "Start Training\n",
      "\n"
     ]
    },
    {
     "name": "stderr",
     "output_type": "stream",
     "text": [
      " 60%|██████    | 30/50 [00:08<00:05,  3.37it/s]\n",
      "[I 2024-03-28 16:50:56,587] Trial 6 finished with value: 1.767346478253603 and parameters: {'n_neurons_layer1': 192, 'n_neurons_layer2': 1536, 'learning_rate': 0.007377995013554756, 'dropout': 0.0}. Best is trial 2 with value: 1.7667963632382453.\n"
     ]
    },
    {
     "name": "stdout",
     "output_type": "stream",
     "text": [
      "Stopped training using EarlyStopping at epoch 31\n",
      "\n",
      "**Finished training**\n",
      "\n",
      "Best validation loss (reached after 21 epochs): 1.767346478253603\n",
      "\n",
      "Training time: 0.15 minutes\n",
      "Total training time: 0.15 minutes\n",
      "Start training classifier\n",
      "\n",
      "\n",
      "Start Training\n",
      "\n"
     ]
    },
    {
     "name": "stderr",
     "output_type": "stream",
     "text": [
      "100%|██████████| 50/50 [00:14<00:00,  3.49it/s]\n",
      "[I 2024-03-28 16:51:10,937] Trial 7 finished with value: 1.784383526071906 and parameters: {'n_neurons_layer1': 64, 'n_neurons_layer2': 704, 'learning_rate': 8.20476460682043e-05, 'dropout': 0.2}. Best is trial 2 with value: 1.7667963632382453.\n"
     ]
    },
    {
     "name": "stdout",
     "output_type": "stream",
     "text": [
      "\n",
      "**Finished training**\n",
      "\n",
      "Best validation loss (reached after 47 epochs): 1.784383526071906\n",
      "\n",
      "Training time: 0.24 minutes\n",
      "Total training time: 0.24 minutes\n",
      "Start training classifier\n",
      "\n",
      "\n",
      "Start Training\n",
      "\n"
     ]
    },
    {
     "name": "stderr",
     "output_type": "stream",
     "text": [
      " 44%|████▍     | 22/50 [00:07<00:10,  2.78it/s]\n",
      "[I 2024-03-28 16:51:18,924] Trial 8 finished with value: 1.7666677420958876 and parameters: {'n_neurons_layer1': 1408, 'n_neurons_layer2': 2048, 'learning_rate': 0.0009590004963079906, 'dropout': 0.2}. Best is trial 8 with value: 1.7666677420958876.\n"
     ]
    },
    {
     "name": "stdout",
     "output_type": "stream",
     "text": [
      "Stopped training using EarlyStopping at epoch 23\n",
      "\n",
      "**Finished training**\n",
      "\n",
      "Best validation loss (reached after 13 epochs): 1.7666677420958876\n",
      "\n",
      "Training time: 0.13 minutes\n",
      "Total training time: 0.13 minutes\n",
      "Start training classifier\n",
      "\n",
      "\n",
      "Start Training\n",
      "\n"
     ]
    },
    {
     "name": "stderr",
     "output_type": "stream",
     "text": [
      " 52%|█████▏    | 26/50 [00:08<00:07,  3.04it/s]\n",
      "[I 2024-03-28 16:51:27,545] Trial 9 finished with value: 1.7667336265556515 and parameters: {'n_neurons_layer1': 1536, 'n_neurons_layer2': 1152, 'learning_rate': 0.003093586526379851, 'dropout': 0.5}. Best is trial 8 with value: 1.7666677420958876.\n"
     ]
    },
    {
     "name": "stdout",
     "output_type": "stream",
     "text": [
      "Stopped training using EarlyStopping at epoch 27\n",
      "\n",
      "**Finished training**\n",
      "\n",
      "Best validation loss (reached after 17 epochs): 1.7667336265556515\n",
      "\n",
      "Training time: 0.14 minutes\n",
      "Total training time: 0.14 minutes\n",
      "Start training classifier\n",
      "\n",
      "\n",
      "Start Training\n",
      "\n"
     ]
    },
    {
     "name": "stderr",
     "output_type": "stream",
     "text": [
      " 66%|██████▌   | 33/50 [00:09<00:04,  3.42it/s]\n",
      "[I 2024-03-28 16:51:37,257] Trial 10 finished with value: 1.7681443754583597 and parameters: {'n_neurons_layer1': 640, 'n_neurons_layer2': 320, 'learning_rate': 0.00044721369180571717, 'dropout': 0.1}. Best is trial 8 with value: 1.7666677420958876.\n"
     ]
    },
    {
     "name": "stdout",
     "output_type": "stream",
     "text": [
      "Stopped training using EarlyStopping at epoch 34\n",
      "\n",
      "**Finished training**\n",
      "\n",
      "Best validation loss (reached after 24 epochs): 1.7681443754583597\n",
      "\n",
      "Training time: 0.16 minutes\n",
      "Total training time: 0.16 minutes\n",
      "Start training classifier\n",
      "\n",
      "\n",
      "Start Training\n",
      "\n"
     ]
    },
    {
     "name": "stderr",
     "output_type": "stream",
     "text": [
      " 44%|████▍     | 22/50 [00:07<00:09,  3.11it/s]\n",
      "[I 2024-03-28 16:51:44,400] Trial 11 finished with value: 1.766544990800321 and parameters: {'n_neurons_layer1': 1408, 'n_neurons_layer2': 1280, 'learning_rate': 0.0012589564346976384, 'dropout': 0.5}. Best is trial 11 with value: 1.766544990800321.\n"
     ]
    },
    {
     "name": "stdout",
     "output_type": "stream",
     "text": [
      "Stopped training using EarlyStopping at epoch 23\n",
      "\n",
      "**Finished training**\n",
      "\n",
      "Best validation loss (reached after 13 epochs): 1.766544990800321\n",
      "\n",
      "Training time: 0.12 minutes\n",
      "Total training time: 0.12 minutes\n",
      "Start training classifier\n",
      "\n",
      "\n",
      "Start Training\n",
      "\n"
     ]
    },
    {
     "name": "stderr",
     "output_type": "stream",
     "text": [
      " 44%|████▍     | 22/50 [00:07<00:09,  3.07it/s]\n",
      "[I 2024-03-28 16:51:51,628] Trial 12 finished with value: 1.7669339338317513 and parameters: {'n_neurons_layer1': 1408, 'n_neurons_layer2': 1408, 'learning_rate': 0.0008750751945496969, 'dropout': 0.5}. Best is trial 11 with value: 1.766544990800321.\n"
     ]
    },
    {
     "name": "stdout",
     "output_type": "stream",
     "text": [
      "Stopped training using EarlyStopping at epoch 23\n",
      "\n",
      "**Finished training**\n",
      "\n",
      "Best validation loss (reached after 13 epochs): 1.7669339338317513\n",
      "\n",
      "Training time: 0.12 minutes\n",
      "Total training time: 0.12 minutes\n",
      "Start training classifier\n",
      "\n",
      "\n",
      "Start Training\n",
      "\n"
     ]
    },
    {
     "name": "stderr",
     "output_type": "stream",
     "text": [
      " 66%|██████▌   | 33/50 [00:12<00:06,  2.75it/s]\n",
      "[I 2024-03-28 16:52:03,702] Trial 13 finished with value: 1.7672596093267203 and parameters: {'n_neurons_layer1': 2048, 'n_neurons_layer2': 1792, 'learning_rate': 0.00021590017525112862, 'dropout': 0.4}. Best is trial 11 with value: 1.766544990800321.\n"
     ]
    },
    {
     "name": "stdout",
     "output_type": "stream",
     "text": [
      "Stopped training using EarlyStopping at epoch 34\n",
      "\n",
      "**Finished training**\n",
      "\n",
      "Best validation loss (reached after 24 epochs): 1.7672596093267203\n",
      "\n",
      "Training time: 0.20 minutes\n",
      "Total training time: 0.20 minutes\n",
      "Start training classifier\n",
      "\n",
      "\n",
      "Start Training\n",
      "\n"
     ]
    },
    {
     "name": "stderr",
     "output_type": "stream",
     "text": [
      "100%|██████████| 50/50 [00:14<00:00,  3.41it/s]\n",
      "[I 2024-03-28 16:52:18,414] Trial 14 finished with value: 1.7696922760456801 and parameters: {'n_neurons_layer1': 1344, 'n_neurons_layer2': 64, 'learning_rate': 0.0011487378928082556, 'dropout': 0.4}. Best is trial 11 with value: 1.766544990800321.\n"
     ]
    },
    {
     "name": "stdout",
     "output_type": "stream",
     "text": [
      "\n",
      "**Finished training**\n",
      "\n",
      "Best validation loss (reached after 41 epochs): 1.7696922760456801\n",
      "\n",
      "Training time: 0.24 minutes\n",
      "Total training time: 0.24 minutes\n",
      "Start training classifier\n",
      "\n",
      "\n",
      "Start Training\n",
      "\n"
     ]
    },
    {
     "name": "stderr",
     "output_type": "stream",
     "text": [
      "100%|██████████| 50/50 [00:15<00:00,  3.22it/s]\n",
      "[I 2024-03-28 16:52:34,011] Trial 15 finished with value: 1.769100739620626 and parameters: {'n_neurons_layer1': 768, 'n_neurons_layer2': 1216, 'learning_rate': 8.027639148729469e-05, 'dropout': 0.2}. Best is trial 11 with value: 1.766544990800321.\n"
     ]
    },
    {
     "name": "stdout",
     "output_type": "stream",
     "text": [
      "\n",
      "**Finished training**\n",
      "\n",
      "Best validation loss (reached after 41 epochs): 1.769100739620626\n",
      "\n",
      "Training time: 0.26 minutes\n",
      "Total training time: 0.26 minutes\n",
      "Start training classifier\n",
      "\n",
      "\n",
      "Start Training\n",
      "\n"
     ]
    },
    {
     "name": "stderr",
     "output_type": "stream",
     "text": [
      " 62%|██████▏   | 31/50 [00:10<00:06,  2.94it/s]\n",
      "[I 2024-03-28 16:52:44,610] Trial 16 finished with value: 1.7674784534610808 and parameters: {'n_neurons_layer1': 1600, 'n_neurons_layer2': 1728, 'learning_rate': 0.00020236134325187644, 'dropout': 0.1}. Best is trial 11 with value: 1.766544990800321.\n"
     ]
    },
    {
     "name": "stdout",
     "output_type": "stream",
     "text": [
      "Stopped training using EarlyStopping at epoch 32\n",
      "\n",
      "**Finished training**\n",
      "\n",
      "Best validation loss (reached after 22 epochs): 1.7674784534610808\n",
      "\n",
      "Training time: 0.18 minutes\n",
      "Total training time: 0.18 minutes\n",
      "Start training classifier\n",
      "\n",
      "\n",
      "Start Training\n",
      "\n"
     ]
    },
    {
     "name": "stderr",
     "output_type": "stream",
     "text": [
      " 66%|██████▌   | 33/50 [00:09<00:05,  3.34it/s]\n",
      "[I 2024-03-28 16:52:54,556] Trial 17 finished with value: 1.7669331119395792 and parameters: {'n_neurons_layer1': 448, 'n_neurons_layer2': 2048, 'learning_rate': 0.001325059328654565, 'dropout': 0.30000000000000004}. Best is trial 11 with value: 1.766544990800321.\n"
     ]
    },
    {
     "name": "stdout",
     "output_type": "stream",
     "text": [
      "Stopped training using EarlyStopping at epoch 34\n",
      "\n",
      "**Finished training**\n",
      "\n",
      "Best validation loss (reached after 24 epochs): 1.7669331119395792\n",
      "\n",
      "Training time: 0.16 minutes\n",
      "Total training time: 0.17 minutes\n",
      "Start training classifier\n",
      "\n",
      "\n",
      "Start Training\n",
      "\n"
     ]
    },
    {
     "name": "stderr",
     "output_type": "stream",
     "text": [
      " 68%|██████▊   | 34/50 [00:11<00:05,  2.93it/s]\n",
      "[I 2024-03-28 16:53:06,219] Trial 18 finished with value: 1.766770505718887 and parameters: {'n_neurons_layer1': 1216, 'n_neurons_layer2': 1024, 'learning_rate': 0.0019137430910724316, 'dropout': 0.5}. Best is trial 11 with value: 1.766544990800321.\n"
     ]
    },
    {
     "name": "stdout",
     "output_type": "stream",
     "text": [
      "Stopped training using EarlyStopping at epoch 35\n",
      "\n",
      "**Finished training**\n",
      "\n",
      "Best validation loss (reached after 25 epochs): 1.766770505718887\n",
      "\n",
      "Training time: 0.19 minutes\n",
      "Total training time: 0.19 minutes\n",
      "Start training classifier\n",
      "\n",
      "\n",
      "Start Training\n",
      "\n"
     ]
    },
    {
     "name": "stderr",
     "output_type": "stream",
     "text": [
      " 56%|█████▌    | 28/50 [00:09<00:07,  3.04it/s]\n",
      "[I 2024-03-28 16:53:15,488] Trial 19 finished with value: 1.7674025404267013 and parameters: {'n_neurons_layer1': 1792, 'n_neurons_layer2': 1344, 'learning_rate': 0.006251750937041644, 'dropout': 0.4}. Best is trial 11 with value: 1.766544990800321.\n"
     ]
    },
    {
     "name": "stdout",
     "output_type": "stream",
     "text": [
      "Stopped training using EarlyStopping at epoch 29\n",
      "\n",
      "**Finished training**\n",
      "\n",
      "Best validation loss (reached after 19 epochs): 1.7674025404267013\n",
      "\n",
      "Training time: 0.15 minutes\n",
      "Total training time: 0.15 minutes\n",
      "Start training classifier\n",
      "\n",
      "\n",
      "Start Training\n",
      "\n"
     ]
    },
    {
     "name": "stderr",
     "output_type": "stream",
     "text": [
      " 66%|██████▌   | 33/50 [00:09<00:04,  3.50it/s]\n",
      "[I 2024-03-28 16:53:24,976] Trial 20 finished with value: 1.7677611437626184 and parameters: {'n_neurons_layer1': 960, 'n_neurons_layer2': 960, 'learning_rate': 0.0002953901655661965, 'dropout': 0.30000000000000004}. Best is trial 11 with value: 1.766544990800321.\n"
     ]
    },
    {
     "name": "stdout",
     "output_type": "stream",
     "text": [
      "Stopped training using EarlyStopping at epoch 34\n",
      "\n",
      "**Finished training**\n",
      "\n",
      "Best validation loss (reached after 24 epochs): 1.7677611437626184\n",
      "\n",
      "Training time: 0.16 minutes\n",
      "Total training time: 0.16 minutes\n",
      "Start training classifier\n",
      "\n",
      "\n",
      "Start Training\n",
      "\n"
     ]
    },
    {
     "name": "stderr",
     "output_type": "stream",
     "text": [
      " 42%|████▏     | 21/50 [00:06<00:08,  3.25it/s]\n",
      "[I 2024-03-28 16:53:31,502] Trial 21 finished with value: 1.766824364848435 and parameters: {'n_neurons_layer1': 1600, 'n_neurons_layer2': 1152, 'learning_rate': 0.0025574207610530725, 'dropout': 0.5}. Best is trial 11 with value: 1.766544990800321.\n"
     ]
    },
    {
     "name": "stdout",
     "output_type": "stream",
     "text": [
      "Stopped training using EarlyStopping at epoch 22\n",
      "\n",
      "**Finished training**\n",
      "\n",
      "Best validation loss (reached after 12 epochs): 1.766824364848435\n",
      "\n",
      "Training time: 0.11 minutes\n",
      "Total training time: 0.11 minutes\n",
      "Start training classifier\n",
      "\n",
      "\n",
      "Start Training\n",
      "\n"
     ]
    },
    {
     "name": "stderr",
     "output_type": "stream",
     "text": [
      " 76%|███████▌  | 38/50 [00:10<00:03,  3.58it/s]\n",
      "[I 2024-03-28 16:53:42,181] Trial 22 finished with value: 1.7667364799417555 and parameters: {'n_neurons_layer1': 1408, 'n_neurons_layer2': 512, 'learning_rate': 0.004822382860442644, 'dropout': 0.5}. Best is trial 11 with value: 1.766544990800321.\n"
     ]
    },
    {
     "name": "stdout",
     "output_type": "stream",
     "text": [
      "Stopped training using EarlyStopping at epoch 39\n",
      "\n",
      "**Finished training**\n",
      "\n",
      "Best validation loss (reached after 29 epochs): 1.7667364799417555\n",
      "\n",
      "Training time: 0.18 minutes\n",
      "Total training time: 0.18 minutes\n",
      "Start training classifier\n",
      "\n",
      "\n",
      "Start Training\n",
      "\n"
     ]
    },
    {
     "name": "stderr",
     "output_type": "stream",
     "text": [
      " 42%|████▏     | 21/50 [00:08<00:12,  2.40it/s]\n",
      "[I 2024-03-28 16:53:51,005] Trial 23 finished with value: 1.7667298189364373 and parameters: {'n_neurons_layer1': 1728, 'n_neurons_layer2': 1600, 'learning_rate': 0.0015845784721606354, 'dropout': 0.4}. Best is trial 11 with value: 1.766544990800321.\n"
     ]
    },
    {
     "name": "stdout",
     "output_type": "stream",
     "text": [
      "Stopped training using EarlyStopping at epoch 22\n",
      "\n",
      "**Finished training**\n",
      "\n",
      "Best validation loss (reached after 12 epochs): 1.7667298189364373\n",
      "\n",
      "Training time: 0.15 minutes\n",
      "Total training time: 0.15 minutes\n",
      "Start training classifier\n",
      "\n",
      "\n",
      "Start Training\n",
      "\n"
     ]
    },
    {
     "name": "stderr",
     "output_type": "stream",
     "text": [
      " 64%|██████▍   | 32/50 [00:11<00:06,  2.70it/s]\n",
      "[I 2024-03-28 16:54:02,930] Trial 24 finished with value: 1.7668024154379964 and parameters: {'n_neurons_layer1': 1728, 'n_neurons_layer2': 1600, 'learning_rate': 0.0007659396195803102, 'dropout': 0.4}. Best is trial 11 with value: 1.766544990800321.\n"
     ]
    },
    {
     "name": "stdout",
     "output_type": "stream",
     "text": [
      "Stopped training using EarlyStopping at epoch 33\n",
      "\n",
      "**Finished training**\n",
      "\n",
      "Best validation loss (reached after 23 epochs): 1.7668024154379964\n",
      "\n",
      "Training time: 0.20 minutes\n",
      "Total training time: 0.20 minutes\n",
      "Start training classifier\n",
      "\n",
      "\n",
      "Start Training\n",
      "\n"
     ]
    },
    {
     "name": "stderr",
     "output_type": "stream",
     "text": [
      " 54%|█████▍    | 27/50 [00:09<00:08,  2.84it/s]\n",
      "[I 2024-03-28 16:54:12,516] Trial 25 finished with value: 1.7671437382698059 and parameters: {'n_neurons_layer1': 1280, 'n_neurons_layer2': 1664, 'learning_rate': 0.0014078770701378693, 'dropout': 0.2}. Best is trial 11 with value: 1.766544990800321.\n"
     ]
    },
    {
     "name": "stdout",
     "output_type": "stream",
     "text": [
      "Stopped training using EarlyStopping at epoch 28\n",
      "\n",
      "**Finished training**\n",
      "\n",
      "Best validation loss (reached after 18 epochs): 1.7671437382698059\n",
      "\n",
      "Training time: 0.16 minutes\n",
      "Total training time: 0.16 minutes\n",
      "Start training classifier\n",
      "\n",
      "\n",
      "Start Training\n",
      "\n"
     ]
    },
    {
     "name": "stderr",
     "output_type": "stream",
     "text": [
      "100%|██████████| 50/50 [00:19<00:00,  2.63it/s]\n",
      "[I 2024-03-28 16:54:31,644] Trial 26 finished with value: 1.76742596719414 and parameters: {'n_neurons_layer1': 1984, 'n_neurons_layer2': 1920, 'learning_rate': 0.009909334647466244, 'dropout': 0.4}. Best is trial 11 with value: 1.766544990800321.\n"
     ]
    },
    {
     "name": "stdout",
     "output_type": "stream",
     "text": [
      "\n",
      "**Finished training**\n",
      "\n",
      "Best validation loss (reached after 41 epochs): 1.76742596719414\n",
      "\n",
      "Training time: 0.32 minutes\n",
      "Total training time: 0.32 minutes\n",
      "Start training classifier\n",
      "\n",
      "\n",
      "Start Training\n",
      "\n"
     ]
    },
    {
     "name": "stderr",
     "output_type": "stream",
     "text": [
      " 66%|██████▌   | 33/50 [00:11<00:05,  2.85it/s]\n",
      "[I 2024-03-28 16:54:43,274] Trial 27 finished with value: 1.766961435135454 and parameters: {'n_neurons_layer1': 960, 'n_neurons_layer2': 1408, 'learning_rate': 0.0004411648112296207, 'dropout': 0.30000000000000004}. Best is trial 11 with value: 1.766544990800321.\n"
     ]
    },
    {
     "name": "stdout",
     "output_type": "stream",
     "text": [
      "Stopped training using EarlyStopping at epoch 34\n",
      "\n",
      "**Finished training**\n",
      "\n",
      "Best validation loss (reached after 24 epochs): 1.766961435135454\n",
      "\n",
      "Training time: 0.19 minutes\n",
      "Total training time: 0.19 minutes\n",
      "Start training classifier\n",
      "\n",
      "\n",
      "Start Training\n",
      "\n"
     ]
    },
    {
     "name": "stderr",
     "output_type": "stream",
     "text": [
      " 44%|████▍     | 22/50 [00:08<00:10,  2.65it/s]\n",
      "[I 2024-03-28 16:54:51,652] Trial 28 finished with value: 1.7668685554526746 and parameters: {'n_neurons_layer1': 1728, 'n_neurons_layer2': 1280, 'learning_rate': 0.001911129618683421, 'dropout': 0.5}. Best is trial 11 with value: 1.766544990800321.\n"
     ]
    },
    {
     "name": "stdout",
     "output_type": "stream",
     "text": [
      "Stopped training using EarlyStopping at epoch 23\n",
      "\n",
      "**Finished training**\n",
      "\n",
      "Best validation loss (reached after 13 epochs): 1.7668685554526746\n",
      "\n",
      "Training time: 0.14 minutes\n",
      "Total training time: 0.14 minutes\n",
      "Start training classifier\n",
      "\n",
      "\n",
      "Start Training\n",
      "\n"
     ]
    },
    {
     "name": "stderr",
     "output_type": "stream",
     "text": [
      " 80%|████████  | 40/50 [00:15<00:03,  2.60it/s]\n",
      "[I 2024-03-28 16:55:07,092] Trial 29 finished with value: 1.7682989571243524 and parameters: {'n_neurons_layer1': 1920, 'n_neurons_layer2': 1472, 'learning_rate': 9.363124403187256e-05, 'dropout': 0.4}. Best is trial 11 with value: 1.766544990800321.\n"
     ]
    },
    {
     "name": "stdout",
     "output_type": "stream",
     "text": [
      "Stopped training using EarlyStopping at epoch 41\n",
      "\n",
      "**Finished training**\n",
      "\n",
      "Best validation loss (reached after 31 epochs): 1.7682989571243524\n",
      "\n",
      "Training time: 0.26 minutes\n",
      "Total training time: 0.26 minutes\n",
      "Start training classifier\n",
      "\n",
      "\n",
      "Start Training\n",
      "\n"
     ]
    },
    {
     "name": "stderr",
     "output_type": "stream",
     "text": [
      " 62%|██████▏   | 31/50 [00:11<00:06,  2.72it/s]\n",
      "[I 2024-03-28 16:55:18,563] Trial 30 finished with value: 1.766759716719389 and parameters: {'n_neurons_layer1': 1472, 'n_neurons_layer2': 1728, 'learning_rate': 0.0007555247153338149, 'dropout': 0.1}. Best is trial 11 with value: 1.766544990800321.\n"
     ]
    },
    {
     "name": "stdout",
     "output_type": "stream",
     "text": [
      "Stopped training using EarlyStopping at epoch 32\n",
      "\n",
      "**Finished training**\n",
      "\n",
      "Best validation loss (reached after 22 epochs): 1.766759716719389\n",
      "\n",
      "Training time: 0.19 minutes\n",
      "Total training time: 0.19 minutes\n",
      "Start training classifier\n",
      "\n",
      "\n",
      "Start Training\n",
      "\n"
     ]
    },
    {
     "name": "stderr",
     "output_type": "stream",
     "text": [
      " 52%|█████▏    | 26/50 [00:08<00:08,  2.91it/s]\n",
      "[I 2024-03-28 16:55:27,568] Trial 31 finished with value: 1.7667074661701918 and parameters: {'n_neurons_layer1': 1600, 'n_neurons_layer2': 1088, 'learning_rate': 0.0025615719764205264, 'dropout': 0.5}. Best is trial 11 with value: 1.766544990800321.\n"
     ]
    },
    {
     "name": "stdout",
     "output_type": "stream",
     "text": [
      "Stopped training using EarlyStopping at epoch 27\n",
      "\n",
      "**Finished training**\n",
      "\n",
      "Best validation loss (reached after 17 epochs): 1.7667074661701918\n",
      "\n",
      "Training time: 0.15 minutes\n",
      "Total training time: 0.15 minutes\n",
      "Start training classifier\n",
      "\n",
      "\n",
      "Start Training\n",
      "\n"
     ]
    },
    {
     "name": "stderr",
     "output_type": "stream",
     "text": [
      " 66%|██████▌   | 33/50 [00:11<00:06,  2.76it/s]\n",
      "[I 2024-03-28 16:55:39,596] Trial 32 finished with value: 1.7664562488906086 and parameters: {'n_neurons_layer1': 1664, 'n_neurons_layer2': 960, 'learning_rate': 0.0020523900430250886, 'dropout': 0.5}. Best is trial 32 with value: 1.7664562488906086.\n"
     ]
    },
    {
     "name": "stdout",
     "output_type": "stream",
     "text": [
      "Stopped training using EarlyStopping at epoch 34\n",
      "\n",
      "**Finished training**\n",
      "\n",
      "Best validation loss (reached after 24 epochs): 1.7664562488906086\n",
      "\n",
      "Training time: 0.20 minutes\n",
      "Total training time: 0.20 minutes\n",
      "Start training classifier\n",
      "\n",
      "\n",
      "Start Training\n",
      "\n"
     ]
    },
    {
     "name": "stderr",
     "output_type": "stream",
     "text": [
      " 68%|██████▊   | 34/50 [00:12<00:05,  2.67it/s]\n",
      "[I 2024-03-28 16:55:52,413] Trial 33 finished with value: 1.7668327802792192 and parameters: {'n_neurons_layer1': 1280, 'n_neurons_layer2': 896, 'learning_rate': 0.004580577417005349, 'dropout': 0.5}. Best is trial 32 with value: 1.7664562488906086.\n"
     ]
    },
    {
     "name": "stdout",
     "output_type": "stream",
     "text": [
      "Stopped training using EarlyStopping at epoch 35\n",
      "\n",
      "**Finished training**\n",
      "\n",
      "Best validation loss (reached after 25 epochs): 1.7668327802792192\n",
      "\n",
      "Training time: 0.21 minutes\n",
      "Total training time: 0.21 minutes\n",
      "Start training classifier\n",
      "\n",
      "\n",
      "Start Training\n",
      "\n"
     ]
    },
    {
     "name": "stderr",
     "output_type": "stream",
     "text": [
      " 40%|████      | 20/50 [00:07<00:10,  2.73it/s]\n",
      "[I 2024-03-28 16:55:59,808] Trial 34 finished with value: 1.7671992962248624 and parameters: {'n_neurons_layer1': 1600, 'n_neurons_layer2': 640, 'learning_rate': 0.002392342208910658, 'dropout': 0.5}. Best is trial 32 with value: 1.7664562488906086.\n"
     ]
    },
    {
     "name": "stdout",
     "output_type": "stream",
     "text": [
      "Stopped training using EarlyStopping at epoch 21\n",
      "\n",
      "**Finished training**\n",
      "\n",
      "Best validation loss (reached after 11 epochs): 1.7671992962248624\n",
      "\n",
      "Training time: 0.12 minutes\n",
      "Total training time: 0.12 minutes\n",
      "Start training classifier\n",
      "\n",
      "\n",
      "Start Training\n",
      "\n"
     ]
    },
    {
     "name": "stderr",
     "output_type": "stream",
     "text": [
      " 68%|██████▊   | 34/50 [00:12<00:05,  2.78it/s]\n",
      "[I 2024-03-28 16:56:12,104] Trial 35 finished with value: 1.7671602837741376 and parameters: {'n_neurons_layer1': 1920, 'n_neurons_layer2': 512, 'learning_rate': 0.0008744569317657715, 'dropout': 0.5}. Best is trial 32 with value: 1.7664562488906086.\n"
     ]
    },
    {
     "name": "stdout",
     "output_type": "stream",
     "text": [
      "Stopped training using EarlyStopping at epoch 35\n",
      "\n",
      "**Finished training**\n",
      "\n",
      "Best validation loss (reached after 25 epochs): 1.7671602837741376\n",
      "\n",
      "Training time: 0.20 minutes\n",
      "Total training time: 0.20 minutes\n",
      "Start training classifier\n",
      "\n",
      "\n",
      "Start Training\n",
      "\n"
     ]
    },
    {
     "name": "stderr",
     "output_type": "stream",
     "text": [
      " 62%|██████▏   | 31/50 [00:11<00:07,  2.71it/s]\n",
      "[I 2024-03-28 16:56:23,599] Trial 36 finished with value: 1.7672861197032035 and parameters: {'n_neurons_layer1': 1088, 'n_neurons_layer2': 896, 'learning_rate': 0.00053397300056765, 'dropout': 0.2}. Best is trial 32 with value: 1.7664562488906086.\n"
     ]
    },
    {
     "name": "stdout",
     "output_type": "stream",
     "text": [
      "Stopped training using EarlyStopping at epoch 32\n",
      "\n",
      "**Finished training**\n",
      "\n",
      "Best validation loss (reached after 22 epochs): 1.7672861197032035\n",
      "\n",
      "Training time: 0.19 minutes\n",
      "Total training time: 0.19 minutes\n",
      "Start training classifier\n",
      "\n",
      "\n",
      "Start Training\n",
      "\n"
     ]
    },
    {
     "name": "stderr",
     "output_type": "stream",
     "text": [
      " 32%|███▏      | 16/50 [00:06<00:14,  2.40it/s]\n",
      "[I 2024-03-28 16:56:30,339] Trial 37 finished with value: 1.768048742879182 and parameters: {'n_neurons_layer1': 1472, 'n_neurons_layer2': 1088, 'learning_rate': 0.003971869232572692, 'dropout': 0.0}. Best is trial 32 with value: 1.7664562488906086.\n"
     ]
    },
    {
     "name": "stdout",
     "output_type": "stream",
     "text": [
      "Stopped training using EarlyStopping at epoch 17\n",
      "\n",
      "**Finished training**\n",
      "\n",
      "Best validation loss (reached after 7 epochs): 1.768048742879182\n",
      "\n",
      "Training time: 0.11 minutes\n",
      "Total training time: 0.11 minutes\n",
      "Start training classifier\n",
      "\n",
      "\n",
      "Start Training\n",
      "\n"
     ]
    },
    {
     "name": "stderr",
     "output_type": "stream",
     "text": [
      " 66%|██████▌   | 33/50 [00:13<00:06,  2.47it/s]\n",
      "[I 2024-03-28 16:56:43,786] Trial 38 finished with value: 1.7672679915092886 and parameters: {'n_neurons_layer1': 1856, 'n_neurons_layer2': 832, 'learning_rate': 0.0011386110957068627, 'dropout': 0.30000000000000004}. Best is trial 32 with value: 1.7664562488906086.\n"
     ]
    },
    {
     "name": "stdout",
     "output_type": "stream",
     "text": [
      "Stopped training using EarlyStopping at epoch 34\n",
      "\n",
      "**Finished training**\n",
      "\n",
      "Best validation loss (reached after 24 epochs): 1.7672679915092886\n",
      "\n",
      "Training time: 0.22 minutes\n",
      "Total training time: 0.22 minutes\n",
      "Start training classifier\n",
      "\n",
      "\n",
      "Start Training\n",
      "\n"
     ]
    },
    {
     "name": "stderr",
     "output_type": "stream",
     "text": [
      "100%|██████████| 50/50 [00:20<00:00,  2.44it/s]\n",
      "[I 2024-03-28 16:57:04,341] Trial 39 finished with value: 1.7750323263928294 and parameters: {'n_neurons_layer1': 1664, 'n_neurons_layer2': 1024, 'learning_rate': 1.865235338441658e-05, 'dropout': 0.4}. Best is trial 32 with value: 1.7664562488906086.\n"
     ]
    },
    {
     "name": "stdout",
     "output_type": "stream",
     "text": [
      "\n",
      "**Finished training**\n",
      "\n",
      "Best validation loss (reached after 44 epochs): 1.7750323263928294\n",
      "\n",
      "Training time: 0.34 minutes\n",
      "Total training time: 0.34 minutes\n",
      "Start training classifier\n",
      "\n",
      "\n",
      "Start Training\n",
      "\n"
     ]
    },
    {
     "name": "stderr",
     "output_type": "stream",
     "text": [
      " 44%|████▍     | 22/50 [00:08<00:10,  2.69it/s]\n",
      "[I 2024-03-28 16:57:12,592] Trial 40 finished with value: 1.7665949445217848 and parameters: {'n_neurons_layer1': 1152, 'n_neurons_layer2': 640, 'learning_rate': 0.0022132563891086266, 'dropout': 0.5}. Best is trial 32 with value: 1.7664562488906086.\n"
     ]
    },
    {
     "name": "stdout",
     "output_type": "stream",
     "text": [
      "Stopped training using EarlyStopping at epoch 23\n",
      "\n",
      "**Finished training**\n",
      "\n",
      "Best validation loss (reached after 13 epochs): 1.7665949445217848\n",
      "\n",
      "Training time: 0.14 minutes\n",
      "Total training time: 0.14 minutes\n",
      "Start training classifier\n",
      "\n",
      "\n",
      "Start Training\n",
      "\n"
     ]
    },
    {
     "name": "stderr",
     "output_type": "stream",
     "text": [
      " 60%|██████    | 30/50 [00:10<00:07,  2.81it/s]\n",
      "[I 2024-03-28 16:57:23,334] Trial 41 finished with value: 1.766642159689218 and parameters: {'n_neurons_layer1': 1216, 'n_neurons_layer2': 576, 'learning_rate': 0.002287471567221083, 'dropout': 0.5}. Best is trial 32 with value: 1.7664562488906086.\n"
     ]
    },
    {
     "name": "stdout",
     "output_type": "stream",
     "text": [
      "Stopped training using EarlyStopping at epoch 31\n",
      "\n",
      "**Finished training**\n",
      "\n",
      "Best validation loss (reached after 21 epochs): 1.766642159689218\n",
      "\n",
      "Training time: 0.18 minutes\n",
      "Total training time: 0.18 minutes\n",
      "Start training classifier\n",
      "\n",
      "\n",
      "Start Training\n",
      "\n"
     ]
    },
    {
     "name": "stderr",
     "output_type": "stream",
     "text": [
      " 60%|██████    | 30/50 [00:10<00:06,  2.88it/s]\n",
      "[I 2024-03-28 16:57:33,822] Trial 42 finished with value: 1.7670174708589912 and parameters: {'n_neurons_layer1': 1152, 'n_neurons_layer2': 384, 'learning_rate': 0.001999240014197331, 'dropout': 0.5}. Best is trial 32 with value: 1.7664562488906086.\n"
     ]
    },
    {
     "name": "stdout",
     "output_type": "stream",
     "text": [
      "Stopped training using EarlyStopping at epoch 31\n",
      "\n",
      "**Finished training**\n",
      "\n",
      "Best validation loss (reached after 21 epochs): 1.7670174708589912\n",
      "\n",
      "Training time: 0.17 minutes\n",
      "Total training time: 0.17 minutes\n",
      "Start training classifier\n",
      "\n",
      "\n",
      "Start Training\n",
      "\n"
     ]
    },
    {
     "name": "stderr",
     "output_type": "stream",
     "text": [
      " 52%|█████▏    | 26/50 [00:09<00:08,  2.76it/s]\n",
      "[I 2024-03-28 16:57:43,297] Trial 43 finished with value: 1.7672125060111283 and parameters: {'n_neurons_layer1': 960, 'n_neurons_layer2': 640, 'learning_rate': 0.0032983891550922625, 'dropout': 0.5}. Best is trial 32 with value: 1.7664562488906086.\n"
     ]
    },
    {
     "name": "stdout",
     "output_type": "stream",
     "text": [
      "Stopped training using EarlyStopping at epoch 27\n",
      "\n",
      "**Finished training**\n",
      "\n",
      "Best validation loss (reached after 17 epochs): 1.7672125060111283\n",
      "\n",
      "Training time: 0.16 minutes\n",
      "Total training time: 0.16 minutes\n",
      "Start training classifier\n",
      "\n",
      "\n",
      "Start Training\n",
      "\n"
     ]
    },
    {
     "name": "stderr",
     "output_type": "stream",
     "text": [
      "100%|██████████| 50/50 [00:16<00:00,  2.99it/s]\n",
      "[I 2024-03-28 16:58:00,104] Trial 44 finished with value: 1.767468050122261 and parameters: {'n_neurons_layer1': 1216, 'n_neurons_layer2': 192, 'learning_rate': 0.006079838793913373, 'dropout': 0.4}. Best is trial 32 with value: 1.7664562488906086.\n"
     ]
    },
    {
     "name": "stdout",
     "output_type": "stream",
     "text": [
      "\n",
      "**Finished training**\n",
      "\n",
      "Best validation loss (reached after 42 epochs): 1.767468050122261\n",
      "\n",
      "Training time: 0.28 minutes\n",
      "Total training time: 0.28 minutes\n",
      "Start training classifier\n",
      "\n",
      "\n",
      "Start Training\n",
      "\n"
     ]
    },
    {
     "name": "stderr",
     "output_type": "stream",
     "text": [
      " 66%|██████▌   | 33/50 [00:12<00:06,  2.66it/s]\n",
      "[I 2024-03-28 16:58:12,570] Trial 45 finished with value: 1.767492590751499 and parameters: {'n_neurons_layer1': 1344, 'n_neurons_layer2': 576, 'learning_rate': 0.0006238464263942606, 'dropout': 0.5}. Best is trial 32 with value: 1.7664562488906086.\n"
     ]
    },
    {
     "name": "stdout",
     "output_type": "stream",
     "text": [
      "Stopped training using EarlyStopping at epoch 34\n",
      "\n",
      "**Finished training**\n",
      "\n",
      "Best validation loss (reached after 24 epochs): 1.767492590751499\n",
      "\n",
      "Training time: 0.21 minutes\n",
      "Total training time: 0.21 minutes\n",
      "Start training classifier\n",
      "\n",
      "\n",
      "Start Training\n",
      "\n"
     ]
    },
    {
     "name": "stderr",
     "output_type": "stream",
     "text": [
      " 58%|█████▊    | 29/50 [00:10<00:07,  2.90it/s]\n",
      "[I 2024-03-28 16:58:22,647] Trial 46 finished with value: 1.767476707417518 and parameters: {'n_neurons_layer1': 768, 'n_neurons_layer2': 320, 'learning_rate': 0.0010035705347570827, 'dropout': 0.2}. Best is trial 32 with value: 1.7664562488906086.\n"
     ]
    },
    {
     "name": "stdout",
     "output_type": "stream",
     "text": [
      "Stopped training using EarlyStopping at epoch 30\n",
      "\n",
      "**Finished training**\n",
      "\n",
      "Best validation loss (reached after 20 epochs): 1.767476707417518\n",
      "\n",
      "Training time: 0.17 minutes\n",
      "Total training time: 0.17 minutes\n",
      "Start training classifier\n",
      "\n",
      "\n",
      "Start Training\n",
      "\n"
     ]
    },
    {
     "name": "stderr",
     "output_type": "stream",
     "text": [
      " 82%|████████▏ | 41/50 [00:14<00:03,  2.84it/s]\n",
      "[I 2024-03-28 16:58:37,165] Trial 47 finished with value: 1.7669943758286535 and parameters: {'n_neurons_layer1': 1088, 'n_neurons_layer2': 448, 'learning_rate': 0.0015058236827064722, 'dropout': 0.5}. Best is trial 32 with value: 1.7664562488906086.\n"
     ]
    },
    {
     "name": "stdout",
     "output_type": "stream",
     "text": [
      "Stopped training using EarlyStopping at epoch 42\n",
      "\n",
      "**Finished training**\n",
      "\n",
      "Best validation loss (reached after 32 epochs): 1.7669943758286535\n",
      "\n",
      "Training time: 0.24 minutes\n",
      "Total training time: 0.24 minutes\n",
      "Start training classifier\n",
      "\n",
      "\n",
      "Start Training\n",
      "\n"
     ]
    },
    {
     "name": "stderr",
     "output_type": "stream",
     "text": [
      "100%|██████████| 50/50 [00:18<00:00,  2.74it/s]\n",
      "[I 2024-03-28 16:58:55,506] Trial 48 finished with value: 1.7672903960570694 and parameters: {'n_neurons_layer1': 1472, 'n_neurons_layer2': 768, 'learning_rate': 0.0003505449826428045, 'dropout': 0.1}. Best is trial 32 with value: 1.7664562488906086.\n"
     ]
    },
    {
     "name": "stdout",
     "output_type": "stream",
     "text": [
      "\n",
      "**Finished training**\n",
      "\n",
      "Best validation loss (reached after 41 epochs): 1.7672903960570694\n",
      "\n",
      "Training time: 0.30 minutes\n",
      "Total training time: 0.31 minutes\n",
      "Start training classifier\n",
      "\n",
      "\n",
      "Start Training\n",
      "\n"
     ]
    },
    {
     "name": "stderr",
     "output_type": "stream",
     "text": [
      " 60%|██████    | 30/50 [00:10<00:07,  2.74it/s]\n",
      "[I 2024-03-28 16:59:06,519] Trial 49 finished with value: 1.7670456640422345 and parameters: {'n_neurons_layer1': 1344, 'n_neurons_layer2': 192, 'learning_rate': 0.0028389708691594347, 'dropout': 0.4}. Best is trial 32 with value: 1.7664562488906086.\n"
     ]
    },
    {
     "name": "stdout",
     "output_type": "stream",
     "text": [
      "Stopped training using EarlyStopping at epoch 31\n",
      "\n",
      "**Finished training**\n",
      "\n",
      "Best validation loss (reached after 21 epochs): 1.7670456640422345\n",
      "\n",
      "Training time: 0.18 minutes\n",
      "Total training time: 0.18 minutes\n",
      "Start training classifier\n",
      "\n",
      "\n",
      "Start Training\n",
      "\n"
     ]
    },
    {
     "name": "stderr",
     "output_type": "stream",
     "text": [
      " 66%|██████▌   | 33/50 [00:11<00:05,  2.90it/s]\n",
      "[I 2024-03-28 16:59:17,976] Trial 50 finished with value: 1.7662735514342784 and parameters: {'n_neurons_layer1': 576, 'n_neurons_layer2': 704, 'learning_rate': 0.003962069016134893, 'dropout': 0.5}. Best is trial 50 with value: 1.7662735514342784.\n"
     ]
    },
    {
     "name": "stdout",
     "output_type": "stream",
     "text": [
      "Stopped training using EarlyStopping at epoch 34\n",
      "\n",
      "**Finished training**\n",
      "\n",
      "Best validation loss (reached after 24 epochs): 1.7662735514342784\n",
      "\n",
      "Training time: 0.19 minutes\n",
      "Total training time: 0.19 minutes\n",
      "Start training classifier\n",
      "\n",
      "\n",
      "Start Training\n",
      "\n"
     ]
    },
    {
     "name": "stderr",
     "output_type": "stream",
     "text": [
      " 80%|████████  | 40/50 [00:13<00:03,  2.96it/s]\n",
      "[I 2024-03-28 16:59:31,561] Trial 51 finished with value: 1.7669322863221169 and parameters: {'n_neurons_layer1': 448, 'n_neurons_layer2': 704, 'learning_rate': 0.004123433224577517, 'dropout': 0.5}. Best is trial 50 with value: 1.7662735514342784.\n"
     ]
    },
    {
     "name": "stdout",
     "output_type": "stream",
     "text": [
      "Stopped training using EarlyStopping at epoch 41\n",
      "\n",
      "**Finished training**\n",
      "\n",
      "Best validation loss (reached after 31 epochs): 1.7669322863221169\n",
      "\n",
      "Training time: 0.23 minutes\n",
      "Total training time: 0.23 minutes\n",
      "Start training classifier\n",
      "\n",
      "\n",
      "Start Training\n",
      "\n"
     ]
    },
    {
     "name": "stderr",
     "output_type": "stream",
     "text": [
      " 68%|██████▊   | 34/50 [00:11<00:05,  3.03it/s]\n",
      "[I 2024-03-28 16:59:42,848] Trial 52 finished with value: 1.767045165412128 and parameters: {'n_neurons_layer1': 256, 'n_neurons_layer2': 832, 'learning_rate': 0.008829088956578978, 'dropout': 0.5}. Best is trial 50 with value: 1.7662735514342784.\n"
     ]
    },
    {
     "name": "stdout",
     "output_type": "stream",
     "text": [
      "Stopped training using EarlyStopping at epoch 35\n",
      "\n",
      "**Finished training**\n",
      "\n",
      "Best validation loss (reached after 25 epochs): 1.767045165412128\n",
      "\n",
      "Training time: 0.19 minutes\n",
      "Total training time: 0.19 minutes\n",
      "Start training classifier\n",
      "\n",
      "\n",
      "Start Training\n",
      "\n"
     ]
    },
    {
     "name": "stderr",
     "output_type": "stream",
     "text": [
      " 54%|█████▍    | 27/50 [00:09<00:08,  2.79it/s]\n",
      "[I 2024-03-28 16:59:52,574] Trial 53 finished with value: 1.7672451158054172 and parameters: {'n_neurons_layer1': 896, 'n_neurons_layer2': 640, 'learning_rate': 0.005504965115298668, 'dropout': 0.5}. Best is trial 50 with value: 1.7662735514342784.\n"
     ]
    },
    {
     "name": "stdout",
     "output_type": "stream",
     "text": [
      "Stopped training using EarlyStopping at epoch 28\n",
      "\n",
      "**Finished training**\n",
      "\n",
      "Best validation loss (reached after 18 epochs): 1.7672451158054172\n",
      "\n",
      "Training time: 0.16 minutes\n",
      "Total training time: 0.16 minutes\n",
      "Start training classifier\n",
      "\n",
      "\n",
      "Start Training\n",
      "\n"
     ]
    },
    {
     "name": "stderr",
     "output_type": "stream",
     "text": [
      " 84%|████████▍ | 42/50 [00:14<00:02,  2.82it/s]\n",
      "[I 2024-03-28 17:00:07,539] Trial 54 finished with value: 1.7668727358803153 and parameters: {'n_neurons_layer1': 640, 'n_neurons_layer2': 704, 'learning_rate': 0.0022109562221323655, 'dropout': 0.5}. Best is trial 50 with value: 1.7662735514342784.\n"
     ]
    },
    {
     "name": "stdout",
     "output_type": "stream",
     "text": [
      "Stopped training using EarlyStopping at epoch 43\n",
      "\n",
      "**Finished training**\n",
      "\n",
      "Best validation loss (reached after 33 epochs): 1.7668727358803153\n",
      "\n",
      "Training time: 0.25 minutes\n",
      "Total training time: 0.25 minutes\n",
      "Start training classifier\n",
      "\n",
      "\n",
      "Start Training\n",
      "\n"
     ]
    },
    {
     "name": "stderr",
     "output_type": "stream",
     "text": [
      " 44%|████▍     | 22/50 [00:08<00:11,  2.48it/s]\n",
      "[I 2024-03-28 17:00:16,481] Trial 55 finished with value: 1.7668950098566711 and parameters: {'n_neurons_layer1': 1216, 'n_neurons_layer2': 2048, 'learning_rate': 0.0016247863582093851, 'dropout': 0.4}. Best is trial 50 with value: 1.7662735514342784.\n"
     ]
    },
    {
     "name": "stdout",
     "output_type": "stream",
     "text": [
      "Stopped training using EarlyStopping at epoch 23\n",
      "\n",
      "**Finished training**\n",
      "\n",
      "Best validation loss (reached after 13 epochs): 1.7668950098566711\n",
      "\n",
      "Training time: 0.15 minutes\n",
      "Total training time: 0.15 minutes\n",
      "Start training classifier\n",
      "\n",
      "\n",
      "Start Training\n",
      "\n"
     ]
    },
    {
     "name": "stderr",
     "output_type": "stream",
     "text": [
      " 54%|█████▍    | 27/50 [00:09<00:08,  2.81it/s]\n",
      "[I 2024-03-28 17:00:26,140] Trial 56 finished with value: 1.7670657612383365 and parameters: {'n_neurons_layer1': 1024, 'n_neurons_layer2': 960, 'learning_rate': 0.0034196866327757835, 'dropout': 0.5}. Best is trial 50 with value: 1.7662735514342784.\n"
     ]
    },
    {
     "name": "stdout",
     "output_type": "stream",
     "text": [
      "Stopped training using EarlyStopping at epoch 28\n",
      "\n",
      "**Finished training**\n",
      "\n",
      "Best validation loss (reached after 18 epochs): 1.7670657612383365\n",
      "\n",
      "Training time: 0.16 minutes\n",
      "Total training time: 0.16 minutes\n",
      "Start training classifier\n",
      "\n",
      "\n",
      "Start Training\n",
      "\n"
     ]
    },
    {
     "name": "stderr",
     "output_type": "stream",
     "text": [
      " 66%|██████▌   | 33/50 [00:11<00:05,  2.94it/s]\n",
      "[I 2024-03-28 17:00:37,447] Trial 57 finished with value: 1.7670163872651756 and parameters: {'n_neurons_layer1': 1408, 'n_neurons_layer2': 512, 'learning_rate': 0.001078350217994544, 'dropout': 0.5}. Best is trial 50 with value: 1.7662735514342784.\n"
     ]
    },
    {
     "name": "stdout",
     "output_type": "stream",
     "text": [
      "Stopped training using EarlyStopping at epoch 34\n",
      "\n",
      "**Finished training**\n",
      "\n",
      "Best validation loss (reached after 24 epochs): 1.7670163872651756\n",
      "\n",
      "Training time: 0.19 minutes\n",
      "Total training time: 0.19 minutes\n",
      "Start training classifier\n",
      "\n",
      "\n",
      "Start Training\n",
      "\n"
     ]
    },
    {
     "name": "stderr",
     "output_type": "stream",
     "text": [
      " 50%|█████     | 25/50 [00:08<00:08,  2.82it/s]\n",
      "[I 2024-03-28 17:00:46,393] Trial 58 finished with value: 1.767415932752192 and parameters: {'n_neurons_layer1': 1152, 'n_neurons_layer2': 384, 'learning_rate': 0.0018026442111194144, 'dropout': 0.2}. Best is trial 50 with value: 1.7662735514342784.\n"
     ]
    },
    {
     "name": "stdout",
     "output_type": "stream",
     "text": [
      "Stopped training using EarlyStopping at epoch 26\n",
      "\n",
      "**Finished training**\n",
      "\n",
      "Best validation loss (reached after 16 epochs): 1.767415932752192\n",
      "\n",
      "Training time: 0.15 minutes\n",
      "Total training time: 0.15 minutes\n",
      "Start training classifier\n",
      "\n",
      "\n",
      "Start Training\n",
      "\n"
     ]
    },
    {
     "name": "stderr",
     "output_type": "stream",
     "text": [
      " 80%|████████  | 40/50 [00:13<00:03,  2.94it/s]\n",
      "[I 2024-03-28 17:01:00,075] Trial 59 finished with value: 1.7704656439833344 and parameters: {'n_neurons_layer1': 64, 'n_neurons_layer2': 1216, 'learning_rate': 0.0012735883305271733, 'dropout': 0.4}. Best is trial 50 with value: 1.7662735514342784.\n"
     ]
    },
    {
     "name": "stdout",
     "output_type": "stream",
     "text": [
      "Stopped training using EarlyStopping at epoch 41\n",
      "\n",
      "**Finished training**\n",
      "\n",
      "Best validation loss (reached after 31 epochs): 1.7704656439833344\n",
      "\n",
      "Training time: 0.23 minutes\n",
      "Total training time: 0.23 minutes\n",
      "Start training classifier\n",
      "\n",
      "\n",
      "Start Training\n",
      "\n"
     ]
    },
    {
     "name": "stderr",
     "output_type": "stream",
     "text": [
      " 40%|████      | 20/50 [00:07<00:11,  2.60it/s]\n",
      "[I 2024-03-28 17:01:07,851] Trial 60 finished with value: 1.7670130100101233 and parameters: {'n_neurons_layer1': 1536, 'n_neurons_layer2': 832, 'learning_rate': 0.003056494240600123, 'dropout': 0.30000000000000004}. Best is trial 50 with value: 1.7662735514342784.\n"
     ]
    },
    {
     "name": "stdout",
     "output_type": "stream",
     "text": [
      "Stopped training using EarlyStopping at epoch 21\n",
      "\n",
      "**Finished training**\n",
      "\n",
      "Best validation loss (reached after 11 epochs): 1.7670130100101233\n",
      "\n",
      "Training time: 0.13 minutes\n",
      "Total training time: 0.13 minutes\n",
      "Start training classifier\n",
      "\n",
      "\n",
      "Start Training\n",
      "\n"
     ]
    },
    {
     "name": "stderr",
     "output_type": "stream",
     "text": [
      " 40%|████      | 20/50 [00:07<00:11,  2.50it/s]\n",
      "[I 2024-03-28 17:01:15,917] Trial 61 finished with value: 1.7665313727222383 and parameters: {'n_neurons_layer1': 1536, 'n_neurons_layer2': 1088, 'learning_rate': 0.002432029438538347, 'dropout': 0.5}. Best is trial 50 with value: 1.7662735514342784.\n"
     ]
    },
    {
     "name": "stdout",
     "output_type": "stream",
     "text": [
      "Stopped training using EarlyStopping at epoch 21\n",
      "\n",
      "**Finished training**\n",
      "\n",
      "Best validation loss (reached after 11 epochs): 1.7665313727222383\n",
      "\n",
      "Training time: 0.13 minutes\n",
      "Total training time: 0.13 minutes\n",
      "Start training classifier\n",
      "\n",
      "\n",
      "Start Training\n",
      "\n"
     ]
    },
    {
     "name": "stderr",
     "output_type": "stream",
     "text": [
      " 56%|█████▌    | 28/50 [00:10<00:08,  2.69it/s]\n",
      "[I 2024-03-28 17:01:26,421] Trial 62 finished with value: 1.7678597833029925 and parameters: {'n_neurons_layer1': 1280, 'n_neurons_layer2': 960, 'learning_rate': 0.00665902462229903, 'dropout': 0.5}. Best is trial 50 with value: 1.7662735514342784.\n"
     ]
    },
    {
     "name": "stdout",
     "output_type": "stream",
     "text": [
      "Stopped training using EarlyStopping at epoch 29\n",
      "\n",
      "**Finished training**\n",
      "\n",
      "Best validation loss (reached after 19 epochs): 1.7678597833029925\n",
      "\n",
      "Training time: 0.17 minutes\n",
      "Total training time: 0.17 minutes\n",
      "Start training classifier\n",
      "\n",
      "\n",
      "Start Training\n",
      "\n"
     ]
    },
    {
     "name": "stderr",
     "output_type": "stream",
     "text": [
      " 52%|█████▏    | 26/50 [00:10<00:09,  2.56it/s]\n",
      "[I 2024-03-28 17:01:36,666] Trial 63 finished with value: 1.7665825349278748 and parameters: {'n_neurons_layer1': 1408, 'n_neurons_layer2': 1920, 'learning_rate': 0.0023249850050861293, 'dropout': 0.5}. Best is trial 50 with value: 1.7662735514342784.\n"
     ]
    },
    {
     "name": "stdout",
     "output_type": "stream",
     "text": [
      "Stopped training using EarlyStopping at epoch 27\n",
      "\n",
      "**Finished training**\n",
      "\n",
      "Best validation loss (reached after 17 epochs): 1.7665825349278748\n",
      "\n",
      "Training time: 0.17 minutes\n",
      "Total training time: 0.17 minutes\n",
      "Start training classifier\n",
      "\n",
      "\n",
      "Start Training\n",
      "\n"
     ]
    },
    {
     "name": "stderr",
     "output_type": "stream",
     "text": [
      " 62%|██████▏   | 31/50 [00:12<00:07,  2.56it/s]\n",
      "[I 2024-03-28 17:01:48,889] Trial 64 finished with value: 1.7674893578514457 and parameters: {'n_neurons_layer1': 1536, 'n_neurons_layer2': 1920, 'learning_rate': 0.003938255856588915, 'dropout': 0.5}. Best is trial 50 with value: 1.7662735514342784.\n"
     ]
    },
    {
     "name": "stdout",
     "output_type": "stream",
     "text": [
      "Stopped training using EarlyStopping at epoch 32\n",
      "\n",
      "**Finished training**\n",
      "\n",
      "Best validation loss (reached after 22 epochs): 1.7674893578514457\n",
      "\n",
      "Training time: 0.20 minutes\n",
      "Total training time: 0.20 minutes\n",
      "Start training classifier\n",
      "\n",
      "\n",
      "Start Training\n",
      "\n"
     ]
    },
    {
     "name": "stderr",
     "output_type": "stream",
     "text": [
      " 52%|█████▏    | 26/50 [00:09<00:08,  2.72it/s]\n",
      "[I 2024-03-28 17:01:58,520] Trial 65 finished with value: 1.7665077520534396 and parameters: {'n_neurons_layer1': 1664, 'n_neurons_layer2': 1280, 'learning_rate': 0.0022434907064822155, 'dropout': 0.5}. Best is trial 50 with value: 1.7662735514342784.\n"
     ]
    },
    {
     "name": "stdout",
     "output_type": "stream",
     "text": [
      "Stopped training using EarlyStopping at epoch 27\n",
      "\n",
      "**Finished training**\n",
      "\n",
      "Best validation loss (reached after 17 epochs): 1.7665077520534396\n",
      "\n",
      "Training time: 0.16 minutes\n",
      "Total training time: 0.16 minutes\n",
      "Start training classifier\n",
      "\n",
      "\n",
      "Start Training\n",
      "\n"
     ]
    },
    {
     "name": "stderr",
     "output_type": "stream",
     "text": [
      " 94%|█████████▍| 47/50 [00:17<00:01,  2.70it/s]\n",
      "[I 2024-03-28 17:02:16,022] Trial 66 finished with value: 1.7664462616667151 and parameters: {'n_neurons_layer1': 1664, 'n_neurons_layer2': 1344, 'learning_rate': 0.007931527276867606, 'dropout': 0.4}. Best is trial 50 with value: 1.7662735514342784.\n"
     ]
    },
    {
     "name": "stdout",
     "output_type": "stream",
     "text": [
      "Stopped training using EarlyStopping at epoch 48\n",
      "\n",
      "**Finished training**\n",
      "\n",
      "Best validation loss (reached after 38 epochs): 1.7664462616667151\n",
      "\n",
      "Training time: 0.29 minutes\n",
      "Total training time: 0.29 minutes\n",
      "Start training classifier\n",
      "\n",
      "\n",
      "Start Training\n",
      "\n"
     ]
    },
    {
     "name": "stderr",
     "output_type": "stream",
     "text": [
      " 72%|███████▏  | 36/50 [00:13<00:05,  2.72it/s]\n",
      "[I 2024-03-28 17:02:29,356] Trial 67 finished with value: 1.7670572978444397 and parameters: {'n_neurons_layer1': 1792, 'n_neurons_layer2': 1344, 'learning_rate': 0.008560453048080438, 'dropout': 0.4}. Best is trial 50 with value: 1.7662735514342784.\n"
     ]
    },
    {
     "name": "stdout",
     "output_type": "stream",
     "text": [
      "Stopped training using EarlyStopping at epoch 37\n",
      "\n",
      "**Finished training**\n",
      "\n",
      "Best validation loss (reached after 27 epochs): 1.7670572978444397\n",
      "\n",
      "Training time: 0.22 minutes\n",
      "Total training time: 0.22 minutes\n",
      "Start training classifier\n",
      "\n",
      "\n",
      "Start Training\n",
      "\n"
     ]
    },
    {
     "name": "stderr",
     "output_type": "stream",
     "text": [
      "100%|██████████| 50/50 [00:17<00:00,  2.79it/s]\n",
      "[I 2024-03-28 17:02:47,377] Trial 68 finished with value: 1.7667032074183227 and parameters: {'n_neurons_layer1': 1728, 'n_neurons_layer2': 1216, 'learning_rate': 0.005566338297856764, 'dropout': 0.4}. Best is trial 50 with value: 1.7662735514342784.\n"
     ]
    },
    {
     "name": "stdout",
     "output_type": "stream",
     "text": [
      "\n",
      "**Finished training**\n",
      "\n",
      "Best validation loss (reached after 42 epochs): 1.7667032074183227\n",
      "\n",
      "Training time: 0.30 minutes\n",
      "Total training time: 0.30 minutes\n",
      "Start training classifier\n",
      "\n",
      "\n",
      "Start Training\n",
      "\n"
     ]
    },
    {
     "name": "stderr",
     "output_type": "stream",
     "text": [
      "100%|██████████| 50/50 [00:18<00:00,  2.68it/s]\n",
      "[I 2024-03-28 17:03:06,129] Trial 69 finished with value: 1.7670220183208585 and parameters: {'n_neurons_layer1': 1664, 'n_neurons_layer2': 1472, 'learning_rate': 0.007512728165223245, 'dropout': 0.5}. Best is trial 50 with value: 1.7662735514342784.\n"
     ]
    },
    {
     "name": "stdout",
     "output_type": "stream",
     "text": [
      "\n",
      "**Finished training**\n",
      "\n",
      "Best validation loss (reached after 48 epochs): 1.7670220183208585\n",
      "\n",
      "Training time: 0.31 minutes\n",
      "Total training time: 0.31 minutes\n",
      "Start training classifier\n",
      "\n",
      "\n",
      "Start Training\n",
      "\n"
     ]
    },
    {
     "name": "stderr",
     "output_type": "stream",
     "text": [
      " 62%|██████▏   | 31/50 [00:11<00:07,  2.69it/s]\n",
      "[I 2024-03-28 17:03:17,729] Trial 70 finished with value: 1.7668422270566224 and parameters: {'n_neurons_layer1': 1856, 'n_neurons_layer2': 1152, 'learning_rate': 0.0028322165437421215, 'dropout': 0.5}. Best is trial 50 with value: 1.7662735514342784.\n"
     ]
    },
    {
     "name": "stdout",
     "output_type": "stream",
     "text": [
      "Stopped training using EarlyStopping at epoch 32\n",
      "\n",
      "**Finished training**\n",
      "\n",
      "Best validation loss (reached after 22 epochs): 1.7668422270566224\n",
      "\n",
      "Training time: 0.19 minutes\n",
      "Total training time: 0.19 minutes\n",
      "Start training classifier\n",
      "\n",
      "\n",
      "Start Training\n",
      "\n"
     ]
    },
    {
     "name": "stderr",
     "output_type": "stream",
     "text": [
      " 46%|████▌     | 23/50 [00:08<00:10,  2.64it/s]\n",
      "[I 2024-03-28 17:03:26,514] Trial 71 finished with value: 1.7671867745928467 and parameters: {'n_neurons_layer1': 1472, 'n_neurons_layer2': 1344, 'learning_rate': 0.004833142351825369, 'dropout': 0.5}. Best is trial 50 with value: 1.7662735514342784.\n"
     ]
    },
    {
     "name": "stdout",
     "output_type": "stream",
     "text": [
      "Stopped training using EarlyStopping at epoch 24\n",
      "\n",
      "**Finished training**\n",
      "\n",
      "Best validation loss (reached after 14 epochs): 1.7671867745928467\n",
      "\n",
      "Training time: 0.15 minutes\n",
      "Total training time: 0.15 minutes\n",
      "Start training classifier\n",
      "\n",
      "\n",
      "Start Training\n",
      "\n"
     ]
    },
    {
     "name": "stderr",
     "output_type": "stream",
     "text": [
      "100%|██████████| 50/50 [00:18<00:00,  2.69it/s]\n",
      "[I 2024-03-28 17:03:45,176] Trial 72 finished with value: 1.7702538073062897 and parameters: {'n_neurons_layer1': 1664, 'n_neurons_layer2': 1280, 'learning_rate': 5.167305832347596e-05, 'dropout': 0.5}. Best is trial 50 with value: 1.7662735514342784.\n"
     ]
    },
    {
     "name": "stdout",
     "output_type": "stream",
     "text": [
      "\n",
      "**Finished training**\n",
      "\n",
      "Best validation loss (reached after 47 epochs): 1.7702538073062897\n",
      "\n",
      "Training time: 0.31 minutes\n",
      "Total training time: 0.31 minutes\n",
      "Start training classifier\n",
      "\n",
      "\n",
      "Start Training\n",
      "\n"
     ]
    },
    {
     "name": "stderr",
     "output_type": "stream",
     "text": [
      " 54%|█████▍    | 27/50 [00:10<00:08,  2.63it/s]\n",
      "[I 2024-03-28 17:03:55,505] Trial 73 finished with value: 1.7669215979985893 and parameters: {'n_neurons_layer1': 1344, 'n_neurons_layer2': 1088, 'learning_rate': 0.00339962687104075, 'dropout': 0.5}. Best is trial 50 with value: 1.7662735514342784.\n"
     ]
    },
    {
     "name": "stdout",
     "output_type": "stream",
     "text": [
      "Stopped training using EarlyStopping at epoch 28\n",
      "\n",
      "**Finished training**\n",
      "\n",
      "Best validation loss (reached after 18 epochs): 1.7669215979985893\n",
      "\n",
      "Training time: 0.17 minutes\n",
      "Total training time: 0.17 minutes\n",
      "Start training classifier\n",
      "\n",
      "\n",
      "Start Training\n",
      "\n"
     ]
    },
    {
     "name": "stderr",
     "output_type": "stream",
     "text": [
      " 42%|████▏     | 21/50 [00:08<00:11,  2.50it/s]\n",
      "[I 2024-03-28 17:04:03,975] Trial 74 finished with value: 1.7669322845526039 and parameters: {'n_neurons_layer1': 1600, 'n_neurons_layer2': 1536, 'learning_rate': 0.0018148220375919478, 'dropout': 0.5}. Best is trial 50 with value: 1.7662735514342784.\n"
     ]
    },
    {
     "name": "stdout",
     "output_type": "stream",
     "text": [
      "Stopped training using EarlyStopping at epoch 22\n",
      "\n",
      "**Finished training**\n",
      "\n",
      "Best validation loss (reached after 12 epochs): 1.7669322845526039\n",
      "\n",
      "Training time: 0.14 minutes\n",
      "Total training time: 0.14 minutes\n",
      "Start training classifier\n",
      "\n",
      "\n",
      "Start Training\n",
      "\n"
     ]
    },
    {
     "name": "stderr",
     "output_type": "stream",
     "text": [
      " 36%|███▌      | 18/50 [00:07<00:12,  2.49it/s]\n",
      "[I 2024-03-28 17:04:11,305] Trial 75 finished with value: 1.7667229627259076 and parameters: {'n_neurons_layer1': 2048, 'n_neurons_layer2': 1408, 'learning_rate': 0.002392727548086355, 'dropout': 0.4}. Best is trial 50 with value: 1.7662735514342784.\n"
     ]
    },
    {
     "name": "stdout",
     "output_type": "stream",
     "text": [
      "Stopped training using EarlyStopping at epoch 19\n",
      "\n",
      "**Finished training**\n",
      "\n",
      "Best validation loss (reached after 9 epochs): 1.7667229627259076\n",
      "\n",
      "Training time: 0.12 minutes\n",
      "Total training time: 0.12 minutes\n",
      "Start training classifier\n",
      "\n",
      "\n",
      "Start Training\n",
      "\n"
     ]
    },
    {
     "name": "stderr",
     "output_type": "stream",
     "text": [
      " 62%|██████▏   | 31/50 [00:11<00:07,  2.70it/s]\n",
      "[I 2024-03-28 17:04:22,869] Trial 76 finished with value: 1.7672112218104303 and parameters: {'n_neurons_layer1': 1536, 'n_neurons_layer2': 1280, 'learning_rate': 0.004835203959951133, 'dropout': 0.5}. Best is trial 50 with value: 1.7662735514342784.\n"
     ]
    },
    {
     "name": "stdout",
     "output_type": "stream",
     "text": [
      "Stopped training using EarlyStopping at epoch 32\n",
      "\n",
      "**Finished training**\n",
      "\n",
      "Best validation loss (reached after 22 epochs): 1.7672112218104303\n",
      "\n",
      "Training time: 0.19 minutes\n",
      "Total training time: 0.19 minutes\n",
      "Start training classifier\n",
      "\n",
      "\n",
      "Start Training\n",
      "\n"
     ]
    },
    {
     "name": "stderr",
     "output_type": "stream",
     "text": [
      " 52%|█████▏    | 26/50 [00:09<00:08,  2.78it/s]\n",
      "[I 2024-03-28 17:04:32,322] Trial 77 finished with value: 1.7668840672820807 and parameters: {'n_neurons_layer1': 1792, 'n_neurons_layer2': 1152, 'learning_rate': 0.0015085609795795736, 'dropout': 0.5}. Best is trial 50 with value: 1.7662735514342784.\n"
     ]
    },
    {
     "name": "stdout",
     "output_type": "stream",
     "text": [
      "Stopped training using EarlyStopping at epoch 27\n",
      "\n",
      "**Finished training**\n",
      "\n",
      "Best validation loss (reached after 17 epochs): 1.7668840672820807\n",
      "\n",
      "Training time: 0.16 minutes\n",
      "Total training time: 0.16 minutes\n",
      "Start training classifier\n",
      "\n",
      "\n",
      "Start Training\n",
      "\n"
     ]
    },
    {
     "name": "stderr",
     "output_type": "stream",
     "text": [
      " 76%|███████▌  | 38/50 [00:13<00:04,  2.78it/s]\n",
      "[I 2024-03-28 17:04:46,046] Trial 78 finished with value: 1.7667731556110085 and parameters: {'n_neurons_layer1': 1664, 'n_neurons_layer2': 1024, 'learning_rate': 0.007177273594428142, 'dropout': 0.5}. Best is trial 50 with value: 1.7662735514342784.\n"
     ]
    },
    {
     "name": "stdout",
     "output_type": "stream",
     "text": [
      "Stopped training using EarlyStopping at epoch 39\n",
      "\n",
      "**Finished training**\n",
      "\n",
      "Best validation loss (reached after 29 epochs): 1.7667731556110085\n",
      "\n",
      "Training time: 0.23 minutes\n",
      "Total training time: 0.23 minutes\n",
      "Start training classifier\n",
      "\n",
      "\n",
      "Start Training\n",
      "\n"
     ]
    },
    {
     "name": "stderr",
     "output_type": "stream",
     "text": [
      " 60%|██████    | 30/50 [00:11<00:07,  2.59it/s]\n",
      "[I 2024-03-28 17:04:57,726] Trial 79 finished with value: 1.766646807268262 and parameters: {'n_neurons_layer1': 1408, 'n_neurons_layer2': 1792, 'learning_rate': 0.002726794639106132, 'dropout': 0.5}. Best is trial 50 with value: 1.7662735514342784.\n"
     ]
    },
    {
     "name": "stdout",
     "output_type": "stream",
     "text": [
      "Stopped training using EarlyStopping at epoch 31\n",
      "\n",
      "**Finished training**\n",
      "\n",
      "Best validation loss (reached after 21 epochs): 1.766646807268262\n",
      "\n",
      "Training time: 0.19 minutes\n",
      "Total training time: 0.19 minutes\n",
      "Start training classifier\n",
      "\n",
      "\n",
      "Start Training\n",
      "\n"
     ]
    },
    {
     "name": "stderr",
     "output_type": "stream",
     "text": [
      " 42%|████▏     | 21/50 [00:07<00:10,  2.75it/s]\n",
      "[I 2024-03-28 17:05:05,447] Trial 80 finished with value: 1.7671667339280248 and parameters: {'n_neurons_layer1': 1536, 'n_neurons_layer2': 896, 'learning_rate': 0.0012962234310313321, 'dropout': 0.4}. Best is trial 50 with value: 1.7662735514342784.\n"
     ]
    },
    {
     "name": "stdout",
     "output_type": "stream",
     "text": [
      "Stopped training using EarlyStopping at epoch 22\n",
      "\n",
      "**Finished training**\n",
      "\n",
      "Best validation loss (reached after 12 epochs): 1.7671667339280248\n",
      "\n",
      "Training time: 0.13 minutes\n",
      "Total training time: 0.13 minutes\n",
      "Start training classifier\n",
      "\n",
      "\n",
      "Start Training\n",
      "\n"
     ]
    },
    {
     "name": "stderr",
     "output_type": "stream",
     "text": [
      " 60%|██████    | 30/50 [00:10<00:07,  2.77it/s]\n",
      "[I 2024-03-28 17:05:16,351] Trial 81 finished with value: 1.7665427558124065 and parameters: {'n_neurons_layer1': 1152, 'n_neurons_layer2': 1216, 'learning_rate': 0.002141641111868597, 'dropout': 0.5}. Best is trial 50 with value: 1.7662735514342784.\n"
     ]
    },
    {
     "name": "stdout",
     "output_type": "stream",
     "text": [
      "Stopped training using EarlyStopping at epoch 31\n",
      "\n",
      "**Finished training**\n",
      "\n",
      "Best validation loss (reached after 21 epochs): 1.7665427558124065\n",
      "\n",
      "Training time: 0.18 minutes\n",
      "Total training time: 0.18 minutes\n",
      "Start training classifier\n",
      "\n",
      "\n",
      "Start Training\n",
      "\n"
     ]
    },
    {
     "name": "stderr",
     "output_type": "stream",
     "text": [
      " 36%|███▌      | 18/50 [00:06<00:11,  2.68it/s]\n",
      "[I 2024-03-28 17:05:23,138] Trial 82 finished with value: 1.7670056856237353 and parameters: {'n_neurons_layer1': 1152, 'n_neurons_layer2': 1216, 'learning_rate': 0.0021764545379386073, 'dropout': 0.5}. Best is trial 50 with value: 1.7662735514342784.\n"
     ]
    },
    {
     "name": "stdout",
     "output_type": "stream",
     "text": [
      "Stopped training using EarlyStopping at epoch 19\n",
      "\n",
      "**Finished training**\n",
      "\n",
      "Best validation loss (reached after 9 epochs): 1.7670056856237353\n",
      "\n",
      "Training time: 0.11 minutes\n",
      "Total training time: 0.11 minutes\n",
      "Start training classifier\n",
      "\n",
      "\n",
      "Start Training\n",
      "\n"
     ]
    },
    {
     "name": "stderr",
     "output_type": "stream",
     "text": [
      " 68%|██████▊   | 34/50 [00:12<00:05,  2.77it/s]\n",
      "[I 2024-03-28 17:05:35,490] Trial 83 finished with value: 1.766486098524183 and parameters: {'n_neurons_layer1': 832, 'n_neurons_layer2': 1408, 'learning_rate': 0.003939813127902369, 'dropout': 0.5}. Best is trial 50 with value: 1.7662735514342784.\n"
     ]
    },
    {
     "name": "stdout",
     "output_type": "stream",
     "text": [
      "Stopped training using EarlyStopping at epoch 35\n",
      "\n",
      "**Finished training**\n",
      "\n",
      "Best validation loss (reached after 25 epochs): 1.766486098524183\n",
      "\n",
      "Training time: 0.20 minutes\n",
      "Total training time: 0.21 minutes\n",
      "Start training classifier\n",
      "\n",
      "\n",
      "Start Training\n",
      "\n"
     ]
    },
    {
     "name": "stderr",
     "output_type": "stream",
     "text": [
      " 68%|██████▊   | 34/50 [00:12<00:05,  2.73it/s]\n",
      "[I 2024-03-28 17:05:48,011] Trial 84 finished with value: 1.7667445857077837 and parameters: {'n_neurons_layer1': 576, 'n_neurons_layer2': 1472, 'learning_rate': 0.003770191167219591, 'dropout': 0.5}. Best is trial 50 with value: 1.7662735514342784.\n"
     ]
    },
    {
     "name": "stdout",
     "output_type": "stream",
     "text": [
      "Stopped training using EarlyStopping at epoch 35\n",
      "\n",
      "**Finished training**\n",
      "\n",
      "Best validation loss (reached after 25 epochs): 1.7667445857077837\n",
      "\n",
      "Training time: 0.21 minutes\n",
      "Total training time: 0.21 minutes\n",
      "Start training classifier\n",
      "\n",
      "\n",
      "Start Training\n",
      "\n"
     ]
    },
    {
     "name": "stderr",
     "output_type": "stream",
     "text": [
      " 76%|███████▌  | 38/50 [00:13<00:04,  2.73it/s]\n",
      "[I 2024-03-28 17:06:01,997] Trial 85 finished with value: 1.7665602347813547 and parameters: {'n_neurons_layer1': 768, 'n_neurons_layer2': 1664, 'learning_rate': 0.004497787157977154, 'dropout': 0.5}. Best is trial 50 with value: 1.7662735514342784.\n"
     ]
    },
    {
     "name": "stdout",
     "output_type": "stream",
     "text": [
      "Stopped training using EarlyStopping at epoch 39\n",
      "\n",
      "**Finished training**\n",
      "\n",
      "Best validation loss (reached after 29 epochs): 1.7665602347813547\n",
      "\n",
      "Training time: 0.23 minutes\n",
      "Total training time: 0.23 minutes\n",
      "Start training classifier\n",
      "\n",
      "\n",
      "Start Training\n",
      "\n"
     ]
    },
    {
     "name": "stderr",
     "output_type": "stream",
     "text": [
      " 64%|██████▍   | 32/50 [00:11<00:06,  2.73it/s]\n",
      "[I 2024-03-28 17:06:13,786] Trial 86 finished with value: 1.7670831280760466 and parameters: {'n_neurons_layer1': 832, 'n_neurons_layer2': 1344, 'learning_rate': 0.0044683319214659295, 'dropout': 0.5}. Best is trial 50 with value: 1.7662735514342784.\n"
     ]
    },
    {
     "name": "stdout",
     "output_type": "stream",
     "text": [
      "Stopped training using EarlyStopping at epoch 33\n",
      "\n",
      "**Finished training**\n",
      "\n",
      "Best validation loss (reached after 23 epochs): 1.7670831280760466\n",
      "\n",
      "Training time: 0.20 minutes\n",
      "Total training time: 0.20 minutes\n",
      "Start training classifier\n",
      "\n",
      "\n",
      "Start Training\n",
      "\n"
     ]
    },
    {
     "name": "stderr",
     "output_type": "stream",
     "text": [
      " 76%|███████▌  | 38/50 [00:13<00:04,  2.80it/s]\n",
      "[I 2024-03-28 17:06:27,447] Trial 87 finished with value: 1.76669211210683 and parameters: {'n_neurons_layer1': 576, 'n_neurons_layer2': 1600, 'learning_rate': 0.005483821382905091, 'dropout': 0.4}. Best is trial 50 with value: 1.7662735514342784.\n"
     ]
    },
    {
     "name": "stdout",
     "output_type": "stream",
     "text": [
      "Stopped training using EarlyStopping at epoch 39\n",
      "\n",
      "**Finished training**\n",
      "\n",
      "Best validation loss (reached after 29 epochs): 1.76669211210683\n",
      "\n",
      "Training time: 0.23 minutes\n",
      "Total training time: 0.23 minutes\n",
      "Start training classifier\n",
      "\n",
      "\n",
      "Start Training\n",
      "\n"
     ]
    },
    {
     "name": "stderr",
     "output_type": "stream",
     "text": [
      " 94%|█████████▍| 47/50 [00:16<00:01,  2.78it/s]\n",
      "[I 2024-03-28 17:06:44,435] Trial 88 finished with value: 1.766855139285326 and parameters: {'n_neurons_layer1': 768, 'n_neurons_layer2': 1408, 'learning_rate': 0.007967362801253023, 'dropout': 0.5}. Best is trial 50 with value: 1.7662735514342784.\n"
     ]
    },
    {
     "name": "stdout",
     "output_type": "stream",
     "text": [
      "Stopped training using EarlyStopping at epoch 48\n",
      "\n",
      "**Finished training**\n",
      "\n",
      "Best validation loss (reached after 38 epochs): 1.766855139285326\n",
      "\n",
      "Training time: 0.28 minutes\n",
      "Total training time: 0.28 minutes\n",
      "Start training classifier\n",
      "\n",
      "\n",
      "Start Training\n",
      "\n"
     ]
    },
    {
     "name": "stderr",
     "output_type": "stream",
     "text": [
      " 76%|███████▌  | 38/50 [00:14<00:04,  2.64it/s]\n",
      "[I 2024-03-28 17:06:58,907] Trial 89 finished with value: 1.7665652287192644 and parameters: {'n_neurons_layer1': 640, 'n_neurons_layer2': 1280, 'learning_rate': 0.003056205740646219, 'dropout': 0.5}. Best is trial 50 with value: 1.7662735514342784.\n"
     ]
    },
    {
     "name": "stdout",
     "output_type": "stream",
     "text": [
      "Stopped training using EarlyStopping at epoch 39\n",
      "\n",
      "**Finished training**\n",
      "\n",
      "Best validation loss (reached after 29 epochs): 1.7665652287192644\n",
      "\n",
      "Training time: 0.24 minutes\n",
      "Total training time: 0.24 minutes\n",
      "Start training classifier\n",
      "\n",
      "\n",
      "Start Training\n",
      "\n"
     ]
    },
    {
     "name": "stderr",
     "output_type": "stream",
     "text": [
      " 76%|███████▌  | 38/50 [00:13<00:04,  2.73it/s]\n",
      "[I 2024-03-28 17:07:12,914] Trial 90 finished with value: 1.7668490218929946 and parameters: {'n_neurons_layer1': 704, 'n_neurons_layer2': 1536, 'learning_rate': 0.0037910250997265703, 'dropout': 0.5}. Best is trial 50 with value: 1.7662735514342784.\n"
     ]
    },
    {
     "name": "stdout",
     "output_type": "stream",
     "text": [
      "Stopped training using EarlyStopping at epoch 39\n",
      "\n",
      "**Finished training**\n",
      "\n",
      "Best validation loss (reached after 29 epochs): 1.7668490218929946\n",
      "\n",
      "Training time: 0.23 minutes\n",
      "Total training time: 0.23 minutes\n",
      "Start training classifier\n",
      "\n",
      "\n",
      "Start Training\n",
      "\n"
     ]
    },
    {
     "name": "stderr",
     "output_type": "stream",
     "text": [
      " 66%|██████▌   | 33/50 [00:12<00:06,  2.71it/s]\n",
      "[I 2024-03-28 17:07:25,173] Trial 91 finished with value: 1.7667439189739524 and parameters: {'n_neurons_layer1': 448, 'n_neurons_layer2': 1280, 'learning_rate': 0.0031699025280171713, 'dropout': 0.5}. Best is trial 50 with value: 1.7662735514342784.\n"
     ]
    },
    {
     "name": "stdout",
     "output_type": "stream",
     "text": [
      "Stopped training using EarlyStopping at epoch 34\n",
      "\n",
      "**Finished training**\n",
      "\n",
      "Best validation loss (reached after 24 epochs): 1.7667439189739524\n",
      "\n",
      "Training time: 0.20 minutes\n",
      "Total training time: 0.20 minutes\n",
      "Start training classifier\n",
      "\n",
      "\n",
      "Start Training\n",
      "\n"
     ]
    },
    {
     "name": "stderr",
     "output_type": "stream",
     "text": [
      " 60%|██████    | 30/50 [00:10<00:06,  3.00it/s]\n",
      "[I 2024-03-28 17:07:35,244] Trial 92 finished with value: 1.7670153055340052 and parameters: {'n_neurons_layer1': 512, 'n_neurons_layer2': 1216, 'learning_rate': 0.0026554383648823665, 'dropout': 0.5}. Best is trial 50 with value: 1.7662735514342784.\n"
     ]
    },
    {
     "name": "stdout",
     "output_type": "stream",
     "text": [
      "Stopped training using EarlyStopping at epoch 31\n",
      "\n",
      "**Finished training**\n",
      "\n",
      "Best validation loss (reached after 21 epochs): 1.7670153055340052\n",
      "\n",
      "Training time: 0.17 minutes\n",
      "Total training time: 0.17 minutes\n",
      "Start training classifier\n",
      "\n",
      "\n",
      "Start Training\n",
      "\n"
     ]
    },
    {
     "name": "stderr",
     "output_type": "stream",
     "text": [
      " 80%|████████  | 40/50 [00:14<00:03,  2.82it/s]\n",
      "[I 2024-03-28 17:07:49,505] Trial 93 finished with value: 1.7683052907697856 and parameters: {'n_neurons_layer1': 832, 'n_neurons_layer2': 1344, 'learning_rate': 0.00019804047232640186, 'dropout': 0.5}. Best is trial 50 with value: 1.7662735514342784.\n"
     ]
    },
    {
     "name": "stdout",
     "output_type": "stream",
     "text": [
      "Stopped training using EarlyStopping at epoch 41\n",
      "\n",
      "**Finished training**\n",
      "\n",
      "Best validation loss (reached after 31 epochs): 1.7683052907697856\n",
      "\n",
      "Training time: 0.24 minutes\n",
      "Total training time: 0.24 minutes\n",
      "Start training classifier\n",
      "\n",
      "\n",
      "Start Training\n",
      "\n"
     ]
    },
    {
     "name": "stderr",
     "output_type": "stream",
     "text": [
      "100%|██████████| 50/50 [00:16<00:00,  2.98it/s]\n",
      "[I 2024-03-28 17:08:06,319] Trial 94 finished with value: 1.7662518103607 and parameters: {'n_neurons_layer1': 704, 'n_neurons_layer2': 1088, 'learning_rate': 0.009649726199775967, 'dropout': 0.5}. Best is trial 94 with value: 1.7662518103607.\n"
     ]
    },
    {
     "name": "stdout",
     "output_type": "stream",
     "text": [
      "\n",
      "**Finished training**\n",
      "\n",
      "Best validation loss (reached after 42 epochs): 1.7662518103607\n",
      "\n",
      "Training time: 0.28 minutes\n",
      "Total training time: 0.28 minutes\n",
      "Start training classifier\n",
      "\n",
      "\n",
      "Start Training\n",
      "\n"
     ]
    },
    {
     "name": "stderr",
     "output_type": "stream",
     "text": [
      " 68%|██████▊   | 34/50 [00:11<00:05,  2.89it/s]\n",
      "[I 2024-03-28 17:08:18,175] Trial 95 finished with value: 1.7670241015031933 and parameters: {'n_neurons_layer1': 704, 'n_neurons_layer2': 1088, 'learning_rate': 0.006239076920617222, 'dropout': 0.5}. Best is trial 94 with value: 1.7662518103607.\n"
     ]
    },
    {
     "name": "stdout",
     "output_type": "stream",
     "text": [
      "Stopped training using EarlyStopping at epoch 35\n",
      "\n",
      "**Finished training**\n",
      "\n",
      "Best validation loss (reached after 25 epochs): 1.7670241015031933\n",
      "\n",
      "Training time: 0.20 minutes\n",
      "Total training time: 0.20 minutes\n",
      "Start training classifier\n",
      "\n",
      "\n",
      "Start Training\n",
      "\n"
     ]
    },
    {
     "name": "stderr",
     "output_type": "stream",
     "text": [
      " 98%|█████████▊| 49/50 [00:17<00:00,  2.85it/s]\n",
      "[I 2024-03-28 17:08:35,435] Trial 96 finished with value: 1.7667547321878374 and parameters: {'n_neurons_layer1': 384, 'n_neurons_layer2': 1152, 'learning_rate': 0.009998716733185718, 'dropout': 0.5}. Best is trial 94 with value: 1.7662518103607.\n"
     ]
    },
    {
     "name": "stdout",
     "output_type": "stream",
     "text": [
      "Stopped training using EarlyStopping at epoch 50\n",
      "\n",
      "**Finished training**\n",
      "\n",
      "Best validation loss (reached after 40 epochs): 1.7667547321878374\n",
      "\n",
      "Training time: 0.29 minutes\n",
      "Total training time: 0.29 minutes\n",
      "Start training classifier\n",
      "\n",
      "\n",
      "Start Training\n",
      "\n"
     ]
    },
    {
     "name": "stderr",
     "output_type": "stream",
     "text": [
      " 54%|█████▍    | 27/50 [00:09<00:07,  2.88it/s]\n",
      "[I 2024-03-28 17:08:44,872] Trial 97 finished with value: 1.7675255077891052 and parameters: {'n_neurons_layer1': 704, 'n_neurons_layer2': 1024, 'learning_rate': 0.0051375593072083645, 'dropout': 0.4}. Best is trial 94 with value: 1.7662518103607.\n"
     ]
    },
    {
     "name": "stdout",
     "output_type": "stream",
     "text": [
      "Stopped training using EarlyStopping at epoch 28\n",
      "\n",
      "**Finished training**\n",
      "\n",
      "Best validation loss (reached after 18 epochs): 1.7675255077891052\n",
      "\n",
      "Training time: 0.16 minutes\n",
      "Total training time: 0.16 minutes\n",
      "Start training classifier\n",
      "\n",
      "\n",
      "Start Training\n",
      "\n"
     ]
    },
    {
     "name": "stderr",
     "output_type": "stream",
     "text": [
      " 80%|████████  | 40/50 [00:15<00:03,  2.66it/s]\n",
      "[I 2024-03-28 17:08:59,996] Trial 98 finished with value: 1.7664877819828688 and parameters: {'n_neurons_layer1': 832, 'n_neurons_layer2': 1664, 'learning_rate': 0.006809018165462968, 'dropout': 0.5}. Best is trial 94 with value: 1.7662518103607.\n"
     ]
    },
    {
     "name": "stdout",
     "output_type": "stream",
     "text": [
      "Stopped training using EarlyStopping at epoch 41\n",
      "\n",
      "**Finished training**\n",
      "\n",
      "Best validation loss (reached after 31 epochs): 1.7664877819828688\n",
      "\n",
      "Training time: 0.25 minutes\n",
      "Total training time: 0.25 minutes\n",
      "Start training classifier\n",
      "\n",
      "\n",
      "Start Training\n",
      "\n"
     ]
    },
    {
     "name": "stderr",
     "output_type": "stream",
     "text": [
      " 34%|███▍      | 17/50 [00:06<00:12,  2.74it/s]\n",
      "[I 2024-03-28 17:09:06,278] Trial 99 finished with value: 1.7681605011224746 and parameters: {'n_neurons_layer1': 896, 'n_neurons_layer2': 960, 'learning_rate': 0.00905577066151542, 'dropout': 0.0}. Best is trial 94 with value: 1.7662518103607.\n"
     ]
    },
    {
     "name": "stdout",
     "output_type": "stream",
     "text": [
      "Stopped training using EarlyStopping at epoch 18\n",
      "\n",
      "**Finished training**\n",
      "\n",
      "Best validation loss (reached after 8 epochs): 1.7681605011224746\n",
      "\n",
      "Training time: 0.10 minutes\n",
      "Total training time: 0.10 minutes\n",
      "Number of finished trials:  100\n",
      "Best trial:\n",
      "  Value:  1.7662518103607\n",
      "  Params: \n",
      "    n_neurons_layer1: 704\n",
      "    n_neurons_layer2: 1088\n",
      "    learning_rate: 0.009649726199775967\n",
      "    dropout: 0.5\n",
      "Start training classifier\n",
      "\n",
      "\n",
      "Start Training\n",
      "\n"
     ]
    },
    {
     "name": "stderr",
     "output_type": "stream",
     "text": [
      "  2%|▏         | 1/50 [00:00<00:17,  2.75it/s]"
     ]
    },
    {
     "name": "stdout",
     "output_type": "stream",
     "text": [
      "Epoch 1 | Training loss: 2.6402 | Training Accuracy: 0.03180803571428571 | Validation loss: 2.6408 | Validation Accuracy: 0.00390625\n"
     ]
    },
    {
     "name": "stderr",
     "output_type": "stream",
     "text": [
      "  4%|▍         | 2/50 [00:00<00:16,  2.89it/s]"
     ]
    },
    {
     "name": "stdout",
     "output_type": "stream",
     "text": [
      "Epoch 2 | Training loss: 1.8321 | Training Accuracy: 0.9267113095238095 | Validation loss: 1.7859 | Validation Accuracy: 0.9671875\n"
     ]
    },
    {
     "name": "stderr",
     "output_type": "stream",
     "text": [
      "  6%|▌         | 3/50 [00:01<00:16,  2.86it/s]"
     ]
    },
    {
     "name": "stdout",
     "output_type": "stream",
     "text": [
      "Epoch 3 | Training loss: 1.7792 | Training Accuracy: 0.9758184523809523 | Validation loss: 1.7835 | Validation Accuracy: 0.97109375\n"
     ]
    },
    {
     "name": "stderr",
     "output_type": "stream",
     "text": [
      "  8%|▊         | 4/50 [00:01<00:15,  2.90it/s]"
     ]
    },
    {
     "name": "stdout",
     "output_type": "stream",
     "text": [
      "Epoch 4 | Training loss: 1.7786 | Training Accuracy: 0.9756324404761905 | Validation loss: 1.7822 | Validation Accuracy: 0.97265625\n"
     ]
    },
    {
     "name": "stderr",
     "output_type": "stream",
     "text": [
      " 10%|█         | 5/50 [00:01<00:15,  2.92it/s]"
     ]
    },
    {
     "name": "stdout",
     "output_type": "stream",
     "text": [
      "Epoch 5 | Training loss: 1.7784 | Training Accuracy: 0.9765625 | Validation loss: 1.7828 | Validation Accuracy: 0.96953125\n"
     ]
    },
    {
     "name": "stderr",
     "output_type": "stream",
     "text": [
      " 12%|█▏        | 6/50 [00:02<00:15,  2.81it/s]"
     ]
    },
    {
     "name": "stdout",
     "output_type": "stream",
     "text": [
      "Epoch 6 | Training loss: 1.7786 | Training Accuracy: 0.9756324404761905 | Validation loss: 1.7812 | Validation Accuracy: 0.9796875\n"
     ]
    },
    {
     "name": "stderr",
     "output_type": "stream",
     "text": [
      " 14%|█▍        | 7/50 [00:02<00:16,  2.61it/s]"
     ]
    },
    {
     "name": "stdout",
     "output_type": "stream",
     "text": [
      "Epoch 7 | Training loss: 1.7738 | Training Accuracy: 0.9817708333333334 | Validation loss: 1.7759 | Validation Accuracy: 0.9796875\n"
     ]
    },
    {
     "name": "stderr",
     "output_type": "stream",
     "text": [
      " 16%|█▌        | 8/50 [00:02<00:15,  2.71it/s]"
     ]
    },
    {
     "name": "stdout",
     "output_type": "stream",
     "text": [
      "Epoch 8 | Training loss: 1.7722 | Training Accuracy: 0.9827008928571429 | Validation loss: 1.7747 | Validation Accuracy: 0.98046875\n"
     ]
    },
    {
     "name": "stderr",
     "output_type": "stream",
     "text": [
      " 18%|█▊        | 9/50 [00:03<00:14,  2.76it/s]"
     ]
    },
    {
     "name": "stdout",
     "output_type": "stream",
     "text": [
      "Epoch 9 | Training loss: 1.7723 | Training Accuracy: 0.9841889880952381 | Validation loss: 1.7717 | Validation Accuracy: 0.984375\n"
     ]
    },
    {
     "name": "stderr",
     "output_type": "stream",
     "text": [
      " 20%|██        | 10/50 [00:03<00:14,  2.80it/s]"
     ]
    },
    {
     "name": "stdout",
     "output_type": "stream",
     "text": [
      "Epoch 10 | Training loss: 1.7694 | Training Accuracy: 0.9858630952380952 | Validation loss: 1.7740 | Validation Accuracy: 0.98125\n"
     ]
    },
    {
     "name": "stderr",
     "output_type": "stream",
     "text": [
      " 22%|██▏       | 11/50 [00:03<00:13,  2.83it/s]"
     ]
    },
    {
     "name": "stdout",
     "output_type": "stream",
     "text": [
      "Epoch 11 | Training loss: 1.7695 | Training Accuracy: 0.9851190476190477 | Validation loss: 1.7727 | Validation Accuracy: 0.9828125\n"
     ]
    },
    {
     "name": "stderr",
     "output_type": "stream",
     "text": [
      " 24%|██▍       | 12/50 [00:04<00:13,  2.85it/s]"
     ]
    },
    {
     "name": "stdout",
     "output_type": "stream",
     "text": [
      "Epoch 12 | Training loss: 1.7685 | Training Accuracy: 0.9869791666666666 | Validation loss: 1.7719 | Validation Accuracy: 0.984375\n"
     ]
    },
    {
     "name": "stderr",
     "output_type": "stream",
     "text": [
      " 26%|██▌       | 13/50 [00:04<00:13,  2.76it/s]"
     ]
    },
    {
     "name": "stdout",
     "output_type": "stream",
     "text": [
      "Epoch 13 | Training loss: 1.7686 | Training Accuracy: 0.9879092261904762 | Validation loss: 1.7701 | Validation Accuracy: 0.9859375\n"
     ]
    },
    {
     "name": "stderr",
     "output_type": "stream",
     "text": [
      " 28%|██▊       | 14/50 [00:05<00:14,  2.51it/s]"
     ]
    },
    {
     "name": "stdout",
     "output_type": "stream",
     "text": [
      "Epoch 14 | Training loss: 1.7682 | Training Accuracy: 0.9880952380952381 | Validation loss: 1.7683 | Validation Accuracy: 0.9875\n"
     ]
    },
    {
     "name": "stderr",
     "output_type": "stream",
     "text": [
      " 30%|███       | 15/50 [00:05<00:13,  2.63it/s]"
     ]
    },
    {
     "name": "stdout",
     "output_type": "stream",
     "text": [
      "Epoch 15 | Training loss: 1.7660 | Training Accuracy: 0.9895833333333334 | Validation loss: 1.7709 | Validation Accuracy: 0.98515625\n"
     ]
    },
    {
     "name": "stderr",
     "output_type": "stream",
     "text": [
      " 32%|███▏      | 16/50 [00:05<00:12,  2.72it/s]"
     ]
    },
    {
     "name": "stdout",
     "output_type": "stream",
     "text": [
      "Epoch 16 | Training loss: 1.7672 | Training Accuracy: 0.9888392857142857 | Validation loss: 1.7711 | Validation Accuracy: 0.98359375\n"
     ]
    },
    {
     "name": "stderr",
     "output_type": "stream",
     "text": [
      " 34%|███▍      | 17/50 [00:06<00:11,  2.78it/s]"
     ]
    },
    {
     "name": "stdout",
     "output_type": "stream",
     "text": [
      "Epoch 17 | Training loss: 1.7674 | Training Accuracy: 0.9877232142857143 | Validation loss: 1.7701 | Validation Accuracy: 0.9859375\n"
     ]
    },
    {
     "name": "stderr",
     "output_type": "stream",
     "text": [
      " 36%|███▌      | 18/50 [00:06<00:11,  2.82it/s]"
     ]
    },
    {
     "name": "stdout",
     "output_type": "stream",
     "text": [
      "Epoch 18 | Training loss: 1.7661 | Training Accuracy: 0.9901413690476191 | Validation loss: 1.7695 | Validation Accuracy: 0.98515625\n"
     ]
    },
    {
     "name": "stderr",
     "output_type": "stream",
     "text": [
      " 38%|███▊      | 19/50 [00:06<00:11,  2.72it/s]"
     ]
    },
    {
     "name": "stdout",
     "output_type": "stream",
     "text": [
      "Epoch 19 | Training loss: 1.7670 | Training Accuracy: 0.9886532738095238 | Validation loss: 1.7686 | Validation Accuracy: 0.98671875\n"
     ]
    },
    {
     "name": "stderr",
     "output_type": "stream",
     "text": [
      " 40%|████      | 20/50 [00:07<00:11,  2.59it/s]"
     ]
    },
    {
     "name": "stdout",
     "output_type": "stream",
     "text": [
      "Epoch 20 | Training loss: 1.7662 | Training Accuracy: 0.9895833333333334 | Validation loss: 1.7683 | Validation Accuracy: 0.9890625\n"
     ]
    },
    {
     "name": "stderr",
     "output_type": "stream",
     "text": [
      " 42%|████▏     | 21/50 [00:07<00:10,  2.65it/s]"
     ]
    },
    {
     "name": "stdout",
     "output_type": "stream",
     "text": [
      "Epoch 21 | Training loss: 1.7654 | Training Accuracy: 0.9897693452380952 | Validation loss: 1.7690 | Validation Accuracy: 0.98671875\n"
     ]
    },
    {
     "name": "stderr",
     "output_type": "stream",
     "text": [
      " 44%|████▍     | 22/50 [00:08<00:11,  2.54it/s]"
     ]
    },
    {
     "name": "stdout",
     "output_type": "stream",
     "text": [
      "Epoch 22 | Training loss: 1.7655 | Training Accuracy: 0.9899553571428571 | Validation loss: 1.7681 | Validation Accuracy: 0.9875\n"
     ]
    },
    {
     "name": "stderr",
     "output_type": "stream",
     "text": [
      " 46%|████▌     | 23/50 [00:08<00:10,  2.58it/s]"
     ]
    },
    {
     "name": "stdout",
     "output_type": "stream",
     "text": [
      "Epoch 23 | Training loss: 1.7666 | Training Accuracy: 0.9886532738095238 | Validation loss: 1.7687 | Validation Accuracy: 0.98828125\n"
     ]
    },
    {
     "name": "stderr",
     "output_type": "stream",
     "text": [
      " 48%|████▊     | 24/50 [00:08<00:10,  2.58it/s]"
     ]
    },
    {
     "name": "stdout",
     "output_type": "stream",
     "text": [
      "Epoch 24 | Training loss: 1.7665 | Training Accuracy: 0.9892113095238095 | Validation loss: 1.7694 | Validation Accuracy: 0.98671875\n"
     ]
    },
    {
     "name": "stderr",
     "output_type": "stream",
     "text": [
      " 50%|█████     | 25/50 [00:09<00:09,  2.56it/s]"
     ]
    },
    {
     "name": "stdout",
     "output_type": "stream",
     "text": [
      "Epoch 25 | Training loss: 1.7656 | Training Accuracy: 0.9903273809523809 | Validation loss: 1.7692 | Validation Accuracy: 0.98671875\n"
     ]
    },
    {
     "name": "stderr",
     "output_type": "stream",
     "text": [
      " 52%|█████▏    | 26/50 [00:09<00:09,  2.57it/s]"
     ]
    },
    {
     "name": "stdout",
     "output_type": "stream",
     "text": [
      "Epoch 26 | Training loss: 1.7650 | Training Accuracy: 0.9906994047619048 | Validation loss: 1.7687 | Validation Accuracy: 0.9875\n"
     ]
    },
    {
     "name": "stderr",
     "output_type": "stream",
     "text": [
      " 54%|█████▍    | 27/50 [00:10<00:08,  2.58it/s]"
     ]
    },
    {
     "name": "stdout",
     "output_type": "stream",
     "text": [
      "Epoch 27 | Training loss: 1.7655 | Training Accuracy: 0.9901413690476191 | Validation loss: 1.7692 | Validation Accuracy: 0.9859375\n"
     ]
    },
    {
     "name": "stderr",
     "output_type": "stream",
     "text": [
      " 56%|█████▌    | 28/50 [00:10<00:08,  2.64it/s]"
     ]
    },
    {
     "name": "stdout",
     "output_type": "stream",
     "text": [
      "Epoch 28 | Training loss: 1.7651 | Training Accuracy: 0.9901413690476191 | Validation loss: 1.7691 | Validation Accuracy: 0.9875\n"
     ]
    },
    {
     "name": "stderr",
     "output_type": "stream",
     "text": [
      " 58%|█████▊    | 29/50 [00:10<00:08,  2.58it/s]"
     ]
    },
    {
     "name": "stdout",
     "output_type": "stream",
     "text": [
      "Epoch 29 | Training loss: 1.7650 | Training Accuracy: 0.9903273809523809 | Validation loss: 1.7685 | Validation Accuracy: 0.9875\n"
     ]
    },
    {
     "name": "stderr",
     "output_type": "stream",
     "text": [
      " 60%|██████    | 30/50 [00:11<00:07,  2.66it/s]"
     ]
    },
    {
     "name": "stdout",
     "output_type": "stream",
     "text": [
      "Epoch 30 | Training loss: 1.7650 | Training Accuracy: 0.9901413690476191 | Validation loss: 1.7701 | Validation Accuracy: 0.98515625\n"
     ]
    },
    {
     "name": "stderr",
     "output_type": "stream",
     "text": [
      " 62%|██████▏   | 31/50 [00:11<00:07,  2.68it/s]"
     ]
    },
    {
     "name": "stdout",
     "output_type": "stream",
     "text": [
      "Epoch 31 | Training loss: 1.7640 | Training Accuracy: 0.9920014880952381 | Validation loss: 1.7679 | Validation Accuracy: 0.98828125\n"
     ]
    },
    {
     "name": "stderr",
     "output_type": "stream",
     "text": [
      " 64%|██████▍   | 32/50 [00:11<00:06,  2.73it/s]"
     ]
    },
    {
     "name": "stdout",
     "output_type": "stream",
     "text": [
      "Epoch 32 | Training loss: 1.7640 | Training Accuracy: 0.9916294642857143 | Validation loss: 1.7677 | Validation Accuracy: 0.98828125\n"
     ]
    },
    {
     "name": "stderr",
     "output_type": "stream",
     "text": [
      " 66%|██████▌   | 33/50 [00:12<00:06,  2.77it/s]"
     ]
    },
    {
     "name": "stdout",
     "output_type": "stream",
     "text": [
      "Epoch 33 | Training loss: 1.7637 | Training Accuracy: 0.9921875 | Validation loss: 1.7688 | Validation Accuracy: 0.9875\n"
     ]
    },
    {
     "name": "stderr",
     "output_type": "stream",
     "text": [
      " 68%|██████▊   | 34/50 [00:12<00:05,  2.78it/s]"
     ]
    },
    {
     "name": "stdout",
     "output_type": "stream",
     "text": [
      "Epoch 34 | Training loss: 1.7641 | Training Accuracy: 0.9914434523809523 | Validation loss: 1.7681 | Validation Accuracy: 0.9875\n"
     ]
    },
    {
     "name": "stderr",
     "output_type": "stream",
     "text": [
      " 70%|███████   | 35/50 [00:12<00:05,  2.80it/s]"
     ]
    },
    {
     "name": "stdout",
     "output_type": "stream",
     "text": [
      "Epoch 35 | Training loss: 1.7649 | Training Accuracy: 0.9905133928571429 | Validation loss: 1.7680 | Validation Accuracy: 0.98828125\n"
     ]
    },
    {
     "name": "stderr",
     "output_type": "stream",
     "text": [
      " 72%|███████▏  | 36/50 [00:13<00:05,  2.79it/s]"
     ]
    },
    {
     "name": "stdout",
     "output_type": "stream",
     "text": [
      "Epoch 36 | Training loss: 1.7633 | Training Accuracy: 0.9923735119047619 | Validation loss: 1.7676 | Validation Accuracy: 0.9875\n"
     ]
    },
    {
     "name": "stderr",
     "output_type": "stream",
     "text": [
      " 74%|███████▍  | 37/50 [00:13<00:04,  2.80it/s]"
     ]
    },
    {
     "name": "stdout",
     "output_type": "stream",
     "text": [
      "Epoch 37 | Training loss: 1.7635 | Training Accuracy: 0.9921875 | Validation loss: 1.7669 | Validation Accuracy: 0.98828125\n"
     ]
    },
    {
     "name": "stderr",
     "output_type": "stream",
     "text": [
      " 76%|███████▌  | 38/50 [00:14<00:04,  2.70it/s]"
     ]
    },
    {
     "name": "stdout",
     "output_type": "stream",
     "text": [
      "Epoch 38 | Training loss: 1.7626 | Training Accuracy: 0.9929315476190477 | Validation loss: 1.7669 | Validation Accuracy: 0.9890625\n"
     ]
    },
    {
     "name": "stderr",
     "output_type": "stream",
     "text": [
      " 78%|███████▊  | 39/50 [00:14<00:04,  2.74it/s]"
     ]
    },
    {
     "name": "stdout",
     "output_type": "stream",
     "text": [
      "Epoch 39 | Training loss: 1.7626 | Training Accuracy: 0.9929315476190477 | Validation loss: 1.7676 | Validation Accuracy: 0.9875\n"
     ]
    },
    {
     "name": "stderr",
     "output_type": "stream",
     "text": [
      " 80%|████████  | 40/50 [00:14<00:03,  2.80it/s]"
     ]
    },
    {
     "name": "stdout",
     "output_type": "stream",
     "text": [
      "Epoch 40 | Training loss: 1.7632 | Training Accuracy: 0.9925595238095238 | Validation loss: 1.7669 | Validation Accuracy: 0.9890625\n"
     ]
    },
    {
     "name": "stderr",
     "output_type": "stream",
     "text": [
      " 82%|████████▏ | 41/50 [00:15<00:03,  2.72it/s]"
     ]
    },
    {
     "name": "stdout",
     "output_type": "stream",
     "text": [
      "Epoch 41 | Training loss: 1.7625 | Training Accuracy: 0.9929315476190477 | Validation loss: 1.7671 | Validation Accuracy: 0.9890625\n"
     ]
    },
    {
     "name": "stderr",
     "output_type": "stream",
     "text": [
      " 84%|████████▍ | 42/50 [00:15<00:02,  2.74it/s]"
     ]
    },
    {
     "name": "stdout",
     "output_type": "stream",
     "text": [
      "Epoch 42 | Training loss: 1.7626 | Training Accuracy: 0.9927455357142857 | Validation loss: 1.7663 | Validation Accuracy: 0.98984375\n"
     ]
    },
    {
     "name": "stderr",
     "output_type": "stream",
     "text": [
      " 86%|████████▌ | 43/50 [00:15<00:02,  2.78it/s]"
     ]
    },
    {
     "name": "stdout",
     "output_type": "stream",
     "text": [
      "Epoch 43 | Training loss: 1.7630 | Training Accuracy: 0.9918154761904762 | Validation loss: 1.7669 | Validation Accuracy: 0.9890625\n"
     ]
    },
    {
     "name": "stderr",
     "output_type": "stream",
     "text": [
      " 88%|████████▊ | 44/50 [00:16<00:02,  2.79it/s]"
     ]
    },
    {
     "name": "stdout",
     "output_type": "stream",
     "text": [
      "Epoch 44 | Training loss: 1.7626 | Training Accuracy: 0.9929315476190477 | Validation loss: 1.7668 | Validation Accuracy: 0.98828125\n"
     ]
    },
    {
     "name": "stderr",
     "output_type": "stream",
     "text": [
      " 90%|█████████ | 45/50 [00:16<00:01,  2.70it/s]"
     ]
    },
    {
     "name": "stdout",
     "output_type": "stream",
     "text": [
      "Epoch 45 | Training loss: 1.7623 | Training Accuracy: 0.9933035714285714 | Validation loss: 1.7667 | Validation Accuracy: 0.98984375\n"
     ]
    },
    {
     "name": "stderr",
     "output_type": "stream",
     "text": [
      " 92%|█████████▏| 46/50 [00:16<00:01,  2.66it/s]"
     ]
    },
    {
     "name": "stdout",
     "output_type": "stream",
     "text": [
      "Epoch 46 | Training loss: 1.7627 | Training Accuracy: 0.9923735119047619 | Validation loss: 1.7669 | Validation Accuracy: 0.9890625\n"
     ]
    },
    {
     "name": "stderr",
     "output_type": "stream",
     "text": [
      " 94%|█████████▍| 47/50 [00:17<00:01,  2.62it/s]"
     ]
    },
    {
     "name": "stdout",
     "output_type": "stream",
     "text": [
      "Epoch 47 | Training loss: 1.7627 | Training Accuracy: 0.9921875 | Validation loss: 1.7670 | Validation Accuracy: 0.9890625\n"
     ]
    },
    {
     "name": "stderr",
     "output_type": "stream",
     "text": [
      " 96%|█████████▌| 48/50 [00:17<00:00,  2.68it/s]"
     ]
    },
    {
     "name": "stdout",
     "output_type": "stream",
     "text": [
      "Epoch 48 | Training loss: 1.7628 | Training Accuracy: 0.9925595238095238 | Validation loss: 1.7670 | Validation Accuracy: 0.9890625\n"
     ]
    },
    {
     "name": "stderr",
     "output_type": "stream",
     "text": [
      " 98%|█████████▊| 49/50 [00:18<00:00,  2.72it/s]"
     ]
    },
    {
     "name": "stdout",
     "output_type": "stream",
     "text": [
      "Epoch 49 | Training loss: 1.7624 | Training Accuracy: 0.9927455357142857 | Validation loss: 1.7670 | Validation Accuracy: 0.9890625\n"
     ]
    },
    {
     "name": "stderr",
     "output_type": "stream",
     "text": [
      "100%|██████████| 50/50 [00:18<00:00,  2.69it/s]"
     ]
    },
    {
     "name": "stdout",
     "output_type": "stream",
     "text": [
      "Epoch 50 | Training loss: 1.7625 | Training Accuracy: 0.9931175595238095 | Validation loss: 1.7669 | Validation Accuracy: 0.9890625\n",
      "\n",
      "**Finished training**\n",
      "\n",
      "Best validation loss (reached after 42 epochs): 1.7662518103607\n",
      "\n",
      "Training time: 0.31 minutes\n",
      "Total training time: 0.31 minutes\n"
     ]
    },
    {
     "name": "stderr",
     "output_type": "stream",
     "text": [
      "\n"
     ]
    }
   ],
   "source": [
    "scNear.train(adata=adata_train, train_classifier=True, target_key=\"cell_type\", batch_key=\"patientID\")"
   ]
  },
  {
   "cell_type": "markdown",
   "metadata": {},
   "source": [
    "## Predict on test data"
   ]
  },
  {
   "cell_type": "markdown",
   "metadata": {},
   "source": [
    "Next, we want to make predictions using the model.<br>\n",
    "It will retrieve the information from *trained_models/* to make predictions.<br>\n",
    "To run predict one needs to provide Anndata."
   ]
  },
  {
   "cell_type": "code",
   "execution_count": 5,
   "metadata": {},
   "outputs": [
    {
     "name": "stderr",
     "output_type": "stream",
     "text": [
      "c:\\Users\\user\\Documents\\GitHub\\MT_test_repo\\env\\lib\\site-packages\\anndata\\_core\\anndata.py:1906: UserWarning: Observation names are not unique. To make them unique, call `.obs_names_make_unique`.\n",
      "  utils.warn_names_duplicates(\"obs\")\n"
     ]
    }
   ],
   "source": [
    "predictions = scNear.predict(adata=adata_test, use_classifier=True)"
   ]
  },
  {
   "cell_type": "markdown",
   "metadata": {},
   "source": [
    "## Analyze performance"
   ]
  },
  {
   "cell_type": "markdown",
   "metadata": {},
   "source": [
    "Here we just quickly evaluate performance on testing dataset. <br>\n",
    "We can see how it achieves high accuracy, showing how it's able to generalize to new data. "
   ]
  },
  {
   "cell_type": "code",
   "execution_count": 6,
   "metadata": {},
   "outputs": [
    {
     "name": "stdout",
     "output_type": "stream",
     "text": [
      "Accuracy: 0.9883313885647608\n",
      "Balanced Accuracy: 0.9821169144046269\n",
      "F1 Score: 0.9882839869210334\n"
     ]
    }
   ],
   "source": [
    "adata_test.obs[\"prediction\"] = predictions\n",
    "\n",
    "# Extract the unique labels\n",
    "unique_labels1 = np.unique(adata_test.obs[\"cell_type\"])\n",
    "unique_labels2 = np.unique(adata_test.obs[\"prediction\"])\n",
    "unique_labels = np.unique(np.concatenate([unique_labels1,unique_labels2]))\n",
    "np.random.shuffle(unique_labels)\n",
    "\n",
    "# Convert string labels to numerical labels\n",
    "label_encoder_temp = LabelEncoder()\n",
    "label_encoder_temp.fit(unique_labels)\n",
    "y_true = label_encoder_temp.transform(adata_test.obs[\"cell_type\"])\n",
    "y_pred = label_encoder_temp.transform(adata_test.obs[\"prediction\"])\n",
    "\n",
    "# Calculate accuracy\n",
    "accuracy = accuracy_score(y_true, y_pred)\n",
    "print(\"Accuracy:\", accuracy)\n",
    "\n",
    "# Calculate balanced accuracy\n",
    "balanced_accuracy = balanced_accuracy_score(y_true, y_pred)\n",
    "print(\"Balanced Accuracy:\", balanced_accuracy)\n",
    "\n",
    "# Calculate F1 score\n",
    "f1 = f1_score(y_true, y_pred, average='weighted')\n",
    "print(\"F1 Score:\", f1)"
   ]
  },
  {
   "cell_type": "markdown",
   "metadata": {},
   "source": [
    "## Novel cell type detection"
   ]
  },
  {
   "cell_type": "markdown",
   "metadata": {},
   "source": [
    "Detect whether there could be a novel cell type in the dataset. <br>\n",
    "This detection is based on looking at the minimum likelihood of any prediction. If it's below the specified threshold, then this suggests that there's a novel cell type present. "
   ]
  },
  {
   "cell_type": "code",
   "execution_count": 7,
   "metadata": {},
   "outputs": [
    {
     "name": "stderr",
     "output_type": "stream",
     "text": [
      "c:\\Users\\user\\Documents\\GitHub\\MT_test_repo\\env\\lib\\site-packages\\anndata\\_core\\anndata.py:1906: UserWarning: Observation names are not unique. To make them unique, call `.obs_names_make_unique`.\n",
      "  utils.warn_names_duplicates(\"obs\")\n"
     ]
    },
    {
     "name": "stdout",
     "output_type": "stream",
     "text": [
      "Minimum likelihood was 0.5503, which is higher than the threshold value of 0.26\n",
      "Can't confidently state whether or not there could be a novel cell type in the data or not\n"
     ]
    }
   ],
   "source": [
    "scNear.novel_cell_type_detection(adata=adata_test)"
   ]
  }
 ],
 "metadata": {
  "kernelspec": {
   "display_name": "env",
   "language": "python",
   "name": "python3"
  },
  "language_info": {
   "codemirror_mode": {
    "name": "ipython",
    "version": 3
   },
   "file_extension": ".py",
   "mimetype": "text/x-python",
   "name": "python",
   "nbconvert_exporter": "python",
   "pygments_lexer": "ipython3",
   "version": "3.10.5"
  }
 },
 "nbformat": 4,
 "nbformat_minor": 2
}
