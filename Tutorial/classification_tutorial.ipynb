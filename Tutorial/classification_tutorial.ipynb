{
 "cells": [
  {
   "cell_type": "code",
   "execution_count": 1,
   "metadata": {},
   "outputs": [
    {
     "name": "stderr",
     "output_type": "stream",
     "text": [
      "c:\\Users\\user\\Documents\\GitHub\\MT_test_repo\\env\\lib\\site-packages\\tqdm\\auto.py:21: TqdmWarning: IProgress not found. Please update jupyter and ipywidgets. See https://ipywidgets.readthedocs.io/en/stable/user_install.html\n",
      "  from .autonotebook import tqdm as notebook_tqdm\n"
     ]
    }
   ],
   "source": [
    "import scanpy as sc\n",
    "from sklearn.model_selection import StratifiedKFold\n",
    "from sklearn.preprocessing import LabelEncoder\n",
    "from sklearn.metrics import accuracy_score, f1_score, balanced_accuracy_score\n",
    "import numpy as np\n",
    "\n",
    "import sys\n",
    "sys.path.append('../')\n",
    "import scNear"
   ]
  },
  {
   "cell_type": "markdown",
   "metadata": {},
   "source": [
    "## Read data"
   ]
  },
  {
   "cell_type": "code",
   "execution_count": 2,
   "metadata": {},
   "outputs": [
    {
     "name": "stderr",
     "output_type": "stream",
     "text": [
      "c:\\Users\\user\\Documents\\GitHub\\MT_test_repo\\env\\lib\\site-packages\\anndata\\__init__.py:51: FutureWarning: `anndata.read` is deprecated, use `anndata.read_h5ad` instead. `ad.read` will be removed in mid 2024.\n",
      "  warnings.warn(\n"
     ]
    }
   ],
   "source": [
    "adata = sc.read(\"data/MacParland.h5ad\", cache=True)\n",
    "\n",
    "### Split data for training and testing\n",
    "\n",
    "# Initialize Stratified K-Fold\n",
    "stratified_kfold = StratifiedKFold(n_splits=5, shuffle=True, random_state=42)\n",
    "\n",
    "# Iterate through the folds\n",
    "adata_train = adata.copy()\n",
    "adata_test = adata.copy()\n",
    "for train_index, test_index in stratified_kfold.split(adata.X, adata.obs[\"cell_type\"]):\n",
    "    adata_train = adata_train[train_index, :].copy()\n",
    "    adata_test = adata_test[test_index, :].copy()\n",
    "    break"
   ]
  },
  {
   "cell_type": "code",
   "execution_count": 3,
   "metadata": {},
   "outputs": [
    {
     "name": "stdout",
     "output_type": "stream",
     "text": [
      "Train data contains 6755 cells and 15386 genes\n",
      "Test data contains 1689 cells and 15386 genes\n"
     ]
    }
   ],
   "source": [
    "print(f\"Train data contains {adata_train.X.shape[0]} cells and {adata_train.X.shape[1]} genes\")\n",
    "print(f\"Test data contains {adata_test.X.shape[0]} cells and {adata_test.X.shape[1]} genes\")"
   ]
  },
  {
   "cell_type": "markdown",
   "metadata": {},
   "source": [
    "## Train model"
   ]
  },
  {
   "cell_type": "code",
   "execution_count": 4,
   "metadata": {},
   "outputs": [
    {
     "name": "stderr",
     "output_type": "stream",
     "text": [
      "c:\\Users\\user\\Documents\\GitHub\\MT_test_repo\\env\\lib\\site-packages\\scanpy\\preprocessing\\_highly_variable_genes.py:258: FutureWarning: The default of observed=False is deprecated and will be changed to True in a future version of pandas. Pass observed=False to retain current behavior or observed=True to adopt the future default and silence this warning.\n",
      "  disp_grouped = df.groupby(\"mean_bin\")[\"dispersions\"]\n",
      "c:\\Users\\user\\Documents\\GitHub\\MT_test_repo\\env\\lib\\site-packages\\numpy\\core\\fromnumeric.py:3504: RuntimeWarning: Mean of empty slice.\n",
      "  return _methods._mean(a, axis=axis, dtype=dtype,\n",
      "c:\\Users\\user\\Documents\\GitHub\\MT_test_repo\\env\\lib\\site-packages\\numpy\\core\\_methods.py:121: RuntimeWarning: invalid value encountered in divide\n",
      "  ret = um.true_divide(\n",
      "c:\\Users\\user\\Documents\\GitHub\\MT_test_repo\\env\\lib\\site-packages\\numpy\\core\\_methods.py:129: RuntimeWarning: invalid value encountered in scalar divide\n",
      "  ret = ret.dtype.type(ret / rcount)\n",
      "c:\\Users\\user\\Documents\\GitHub\\MT_test_repo\\env\\lib\\site-packages\\scanpy\\preprocessing\\_highly_variable_genes.py:258: FutureWarning: The default of observed=False is deprecated and will be changed to True in a future version of pandas. Pass observed=False to retain current behavior or observed=True to adopt the future default and silence this warning.\n",
      "  disp_grouped = df.groupby(\"mean_bin\")[\"dispersions\"]\n",
      "c:\\Users\\user\\Documents\\GitHub\\MT_test_repo\\env\\lib\\site-packages\\numpy\\core\\fromnumeric.py:3504: RuntimeWarning: Mean of empty slice.\n",
      "  return _methods._mean(a, axis=axis, dtype=dtype,\n",
      "c:\\Users\\user\\Documents\\GitHub\\MT_test_repo\\env\\lib\\site-packages\\numpy\\core\\_methods.py:121: RuntimeWarning: invalid value encountered in divide\n",
      "  ret = um.true_divide(\n",
      "c:\\Users\\user\\Documents\\GitHub\\MT_test_repo\\env\\lib\\site-packages\\numpy\\core\\_methods.py:129: RuntimeWarning: invalid value encountered in scalar divide\n",
      "  ret = ret.dtype.type(ret / rcount)\n",
      "[I 2024-03-09 15:50:38,388] A new study created in memory with name: no-name-34da0a5f-fed2-41c1-b1e5-dc0109028595\n"
     ]
    },
    {
     "name": "stdout",
     "output_type": "stream",
     "text": [
      "Start training classifier\n",
      "\n",
      "\n",
      "Start Training\n",
      "\n"
     ]
    },
    {
     "name": "stderr",
     "output_type": "stream",
     "text": [
      " 52%|█████▏    | 26/50 [00:10<00:10,  2.38it/s]\n",
      "[I 2024-03-09 15:50:50,756] Trial 0 finished with value: 2.129501157440245 and parameters: {'n_neurons_layer1': 1344, 'n_neurons_layer2': 1088, 'learning_rate': 0.0003501523663671284, 'dropout': 0.4}. Best is trial 0 with value: 2.129501157440245.\n"
     ]
    },
    {
     "name": "stdout",
     "output_type": "stream",
     "text": [
      "Stopped training using EarlyStopping at epoch 27\n",
      "\n",
      "**Finished training**\n",
      "\n",
      "Best validation loss (reached after 17 epochs): 2.129501157440245\n",
      "\n",
      "Training time: 0.18 minutes\n",
      "Total training time: 0.20 minutes\n",
      "Start training classifier\n",
      "\n",
      "\n",
      "Start Training\n",
      "\n"
     ]
    },
    {
     "name": "stderr",
     "output_type": "stream",
     "text": [
      "100%|██████████| 50/50 [00:14<00:00,  3.37it/s]\n",
      "[I 2024-03-09 15:51:05,629] Trial 1 finished with value: 2.1325622137635944 and parameters: {'n_neurons_layer1': 832, 'n_neurons_layer2': 2048, 'learning_rate': 4.758006754805521e-05, 'dropout': 0.2}. Best is trial 0 with value: 2.129501157440245.\n"
     ]
    },
    {
     "name": "stdout",
     "output_type": "stream",
     "text": [
      "\n",
      "**Finished training**\n",
      "\n",
      "Best validation loss (reached after 48 epochs): 2.1325622137635944\n",
      "\n",
      "Training time: 0.25 minutes\n",
      "Total training time: 0.25 minutes\n",
      "Start training classifier\n",
      "\n",
      "\n",
      "Start Training\n",
      "\n"
     ]
    },
    {
     "name": "stderr",
     "output_type": "stream",
     "text": [
      "100%|██████████| 50/50 [00:12<00:00,  3.99it/s]\n",
      "[I 2024-03-09 15:51:18,184] Trial 2 finished with value: 2.1893635291606186 and parameters: {'n_neurons_layer1': 128, 'n_neurons_layer2': 768, 'learning_rate': 4.449462696312115e-05, 'dropout': 0.30000000000000004}. Best is trial 0 with value: 2.129501157440245.\n"
     ]
    },
    {
     "name": "stdout",
     "output_type": "stream",
     "text": [
      "\n",
      "**Finished training**\n",
      "\n",
      "Best validation loss (reached after 48 epochs): 2.1893635291606186\n",
      "\n",
      "Training time: 0.21 minutes\n",
      "Total training time: 0.21 minutes\n",
      "Start training classifier\n",
      "\n",
      "\n",
      "Start Training\n",
      "\n"
     ]
    },
    {
     "name": "stderr",
     "output_type": "stream",
     "text": [
      " 52%|█████▏    | 26/50 [00:07<00:06,  3.51it/s]\n",
      "[I 2024-03-09 15:51:25,620] Trial 3 finished with value: 2.129777359776199 and parameters: {'n_neurons_layer1': 1984, 'n_neurons_layer2': 320, 'learning_rate': 0.0007072764269691941, 'dropout': 0.4}. Best is trial 0 with value: 2.129501157440245.\n"
     ]
    },
    {
     "name": "stdout",
     "output_type": "stream",
     "text": [
      "Stopped training using EarlyStopping at epoch 27\n",
      "\n",
      "**Finished training**\n",
      "\n",
      "Best validation loss (reached after 17 epochs): 2.129777359776199\n",
      "\n",
      "Training time: 0.12 minutes\n",
      "Total training time: 0.12 minutes\n",
      "Start training classifier\n",
      "\n",
      "\n",
      "Start Training\n",
      "\n"
     ]
    },
    {
     "name": "stderr",
     "output_type": "stream",
     "text": [
      "100%|██████████| 50/50 [00:15<00:00,  3.28it/s]\n",
      "[I 2024-03-09 15:51:40,924] Trial 4 finished with value: 2.1630102982744575 and parameters: {'n_neurons_layer1': 1856, 'n_neurons_layer2': 1280, 'learning_rate': 1.097794263760539e-05, 'dropout': 0.5}. Best is trial 0 with value: 2.129501157440245.\n"
     ]
    },
    {
     "name": "stdout",
     "output_type": "stream",
     "text": [
      "\n",
      "**Finished training**\n",
      "\n",
      "Best validation loss (reached after 50 epochs): 2.1630102982744575\n",
      "\n",
      "Training time: 0.25 minutes\n",
      "Total training time: 0.25 minutes\n",
      "Start training classifier\n",
      "\n",
      "\n",
      "Start Training\n",
      "\n"
     ]
    },
    {
     "name": "stderr",
     "output_type": "stream",
     "text": [
      " 72%|███████▏  | 36/50 [00:12<00:04,  2.97it/s]\n",
      "[I 2024-03-09 15:51:53,079] Trial 5 finished with value: 2.127871354483068 and parameters: {'n_neurons_layer1': 1984, 'n_neurons_layer2': 2048, 'learning_rate': 0.002056214945878067, 'dropout': 0.2}. Best is trial 5 with value: 2.127871354483068.\n"
     ]
    },
    {
     "name": "stdout",
     "output_type": "stream",
     "text": [
      "Stopped training using EarlyStopping at epoch 37\n",
      "\n",
      "**Finished training**\n",
      "\n",
      "Best validation loss (reached after 27 epochs): 2.127871354483068\n",
      "\n",
      "Training time: 0.20 minutes\n",
      "Total training time: 0.20 minutes\n",
      "Start training classifier\n",
      "\n",
      "\n",
      "Start Training\n",
      "\n"
     ]
    },
    {
     "name": "stderr",
     "output_type": "stream",
     "text": [
      " 70%|███████   | 35/50 [00:10<00:04,  3.36it/s]\n",
      "[I 2024-03-09 15:52:03,514] Trial 6 finished with value: 2.1289680685847996 and parameters: {'n_neurons_layer1': 448, 'n_neurons_layer2': 960, 'learning_rate': 0.0005110970280482267, 'dropout': 0.30000000000000004}. Best is trial 5 with value: 2.127871354483068.\n"
     ]
    },
    {
     "name": "stdout",
     "output_type": "stream",
     "text": [
      "Stopped training using EarlyStopping at epoch 36\n",
      "\n",
      "**Finished training**\n",
      "\n",
      "Best validation loss (reached after 26 epochs): 2.1289680685847996\n",
      "\n",
      "Training time: 0.17 minutes\n",
      "Total training time: 0.17 minutes\n",
      "Start training classifier\n",
      "\n",
      "\n",
      "Start Training\n",
      "\n"
     ]
    },
    {
     "name": "stderr",
     "output_type": "stream",
     "text": [
      "100%|██████████| 50/50 [00:14<00:00,  3.39it/s]\n",
      "[I 2024-03-09 15:52:18,297] Trial 7 finished with value: 2.1623890601098537 and parameters: {'n_neurons_layer1': 1472, 'n_neurons_layer2': 704, 'learning_rate': 1.3602830756588783e-05, 'dropout': 0.30000000000000004}. Best is trial 5 with value: 2.127871354483068.\n"
     ]
    },
    {
     "name": "stdout",
     "output_type": "stream",
     "text": [
      "\n",
      "**Finished training**\n",
      "\n",
      "Best validation loss (reached after 48 epochs): 2.1623890601098537\n",
      "\n",
      "Training time: 0.25 minutes\n",
      "Total training time: 0.25 minutes\n",
      "Start training classifier\n",
      "\n",
      "\n",
      "Start Training\n",
      "\n"
     ]
    },
    {
     "name": "stderr",
     "output_type": "stream",
     "text": [
      " 76%|███████▌  | 38/50 [00:12<00:04,  2.93it/s]\n",
      "[I 2024-03-09 15:52:31,319] Trial 8 finished with value: 2.13105317465961 and parameters: {'n_neurons_layer1': 1984, 'n_neurons_layer2': 1856, 'learning_rate': 7.918338702129091e-05, 'dropout': 0.2}. Best is trial 5 with value: 2.127871354483068.\n"
     ]
    },
    {
     "name": "stdout",
     "output_type": "stream",
     "text": [
      "Stopped training using EarlyStopping at epoch 39\n",
      "\n",
      "**Finished training**\n",
      "\n",
      "Best validation loss (reached after 29 epochs): 2.13105317465961\n",
      "\n",
      "Training time: 0.22 minutes\n",
      "Total training time: 0.22 minutes\n",
      "Start training classifier\n",
      "\n",
      "\n",
      "Start Training\n",
      "\n"
     ]
    },
    {
     "name": "stderr",
     "output_type": "stream",
     "text": [
      " 48%|████▊     | 24/50 [00:07<00:07,  3.42it/s]\n",
      "[I 2024-03-09 15:52:38,373] Trial 9 finished with value: 2.1281610699370503 and parameters: {'n_neurons_layer1': 1152, 'n_neurons_layer2': 1536, 'learning_rate': 0.0020616455416204325, 'dropout': 0.2}. Best is trial 5 with value: 2.127871354483068.\n"
     ]
    },
    {
     "name": "stdout",
     "output_type": "stream",
     "text": [
      "Stopped training using EarlyStopping at epoch 25\n",
      "\n",
      "**Finished training**\n",
      "\n",
      "Best validation loss (reached after 15 epochs): 2.1281610699370503\n",
      "\n",
      "Training time: 0.12 minutes\n",
      "Total training time: 0.12 minutes\n",
      "Start training classifier\n",
      "\n",
      "\n",
      "Start Training\n",
      "\n"
     ]
    },
    {
     "name": "stderr",
     "output_type": "stream",
     "text": [
      "100%|██████████| 50/50 [00:12<00:00,  4.01it/s]\n",
      "[I 2024-03-09 15:52:50,897] Trial 10 finished with value: 2.12730803322047 and parameters: {'n_neurons_layer1': 1664, 'n_neurons_layer2': 64, 'learning_rate': 0.009291640744694967, 'dropout': 0.0}. Best is trial 10 with value: 2.12730803322047.\n"
     ]
    },
    {
     "name": "stdout",
     "output_type": "stream",
     "text": [
      "\n",
      "**Finished training**\n",
      "\n",
      "Best validation loss (reached after 47 epochs): 2.12730803322047\n",
      "\n",
      "Training time: 0.21 minutes\n",
      "Total training time: 0.21 minutes\n",
      "Start training classifier\n",
      "\n",
      "\n",
      "Start Training\n",
      "\n"
     ]
    },
    {
     "name": "stderr",
     "output_type": "stream",
     "text": [
      "100%|██████████| 50/50 [00:13<00:00,  3.76it/s]\n",
      "[I 2024-03-09 15:53:04,231] Trial 11 finished with value: 2.1267227182164787 and parameters: {'n_neurons_layer1': 1600, 'n_neurons_layer2': 64, 'learning_rate': 0.009101349738060082, 'dropout': 0.0}. Best is trial 11 with value: 2.1267227182164787.\n"
     ]
    },
    {
     "name": "stdout",
     "output_type": "stream",
     "text": [
      "\n",
      "**Finished training**\n",
      "\n",
      "Best validation loss (reached after 43 epochs): 2.1267227182164787\n",
      "\n",
      "Training time: 0.22 minutes\n",
      "Total training time: 0.22 minutes\n",
      "Start training classifier\n",
      "\n",
      "\n",
      "Start Training\n",
      "\n"
     ]
    },
    {
     "name": "stderr",
     "output_type": "stream",
     "text": [
      " 34%|███▍      | 17/50 [00:04<00:09,  3.61it/s]\n",
      "[I 2024-03-09 15:53:08,984] Trial 12 finished with value: 2.1312568467110395 and parameters: {'n_neurons_layer1': 1600, 'n_neurons_layer2': 128, 'learning_rate': 0.00748235255483142, 'dropout': 0.0}. Best is trial 11 with value: 2.1267227182164787.\n"
     ]
    },
    {
     "name": "stdout",
     "output_type": "stream",
     "text": [
      "Stopped training using EarlyStopping at epoch 18\n",
      "\n",
      "**Finished training**\n",
      "\n",
      "Best validation loss (reached after 8 epochs): 2.1312568467110395\n",
      "\n",
      "Training time: 0.08 minutes\n",
      "Total training time: 0.08 minutes\n",
      "Start training classifier\n",
      "\n",
      "\n",
      "Start Training\n",
      "\n"
     ]
    },
    {
     "name": "stderr",
     "output_type": "stream",
     "text": [
      "100%|██████████| 50/50 [00:13<00:00,  3.82it/s]\n",
      "[I 2024-03-09 15:53:22,108] Trial 13 finished with value: 2.1278217125684025 and parameters: {'n_neurons_layer1': 1664, 'n_neurons_layer2': 64, 'learning_rate': 0.007765866688988678, 'dropout': 0.0}. Best is trial 11 with value: 2.1267227182164787.\n"
     ]
    },
    {
     "name": "stdout",
     "output_type": "stream",
     "text": [
      "\n",
      "**Finished training**\n",
      "\n",
      "Best validation loss (reached after 49 epochs): 2.1278217125684025\n",
      "\n",
      "Training time: 0.22 minutes\n",
      "Total training time: 0.22 minutes\n",
      "Start training classifier\n",
      "\n",
      "\n",
      "Start Training\n",
      "\n"
     ]
    },
    {
     "name": "stderr",
     "output_type": "stream",
     "text": [
      " 40%|████      | 20/50 [00:05<00:08,  3.50it/s]\n",
      "[I 2024-03-09 15:53:27,855] Trial 14 finished with value: 2.127326566539705 and parameters: {'n_neurons_layer1': 960, 'n_neurons_layer2': 384, 'learning_rate': 0.002852182196860664, 'dropout': 0.1}. Best is trial 11 with value: 2.1267227182164787.\n"
     ]
    },
    {
     "name": "stdout",
     "output_type": "stream",
     "text": [
      "Stopped training using EarlyStopping at epoch 21\n",
      "\n",
      "**Finished training**\n",
      "\n",
      "Best validation loss (reached after 11 epochs): 2.127326566539705\n",
      "\n",
      "Training time: 0.10 minutes\n",
      "Total training time: 0.10 minutes\n",
      "Start training classifier\n",
      "\n",
      "\n",
      "Start Training\n",
      "\n"
     ]
    },
    {
     "name": "stderr",
     "output_type": "stream",
     "text": [
      " 44%|████▍     | 22/50 [00:06<00:07,  3.57it/s]\n",
      "[I 2024-03-09 15:53:34,061] Trial 15 finished with value: 2.129199026338756 and parameters: {'n_neurons_layer1': 1280, 'n_neurons_layer2': 512, 'learning_rate': 0.004335463009692096, 'dropout': 0.0}. Best is trial 11 with value: 2.1267227182164787.\n"
     ]
    },
    {
     "name": "stdout",
     "output_type": "stream",
     "text": [
      "Stopped training using EarlyStopping at epoch 23\n",
      "\n",
      "**Finished training**\n",
      "\n",
      "Best validation loss (reached after 13 epochs): 2.129199026338756\n",
      "\n",
      "Training time: 0.10 minutes\n",
      "Total training time: 0.10 minutes\n",
      "Start training classifier\n",
      "\n",
      "\n",
      "Start Training\n",
      "\n"
     ]
    },
    {
     "name": "stderr",
     "output_type": "stream",
     "text": [
      " 80%|████████  | 40/50 [00:11<00:02,  3.63it/s]\n",
      "[I 2024-03-09 15:53:45,125] Trial 16 finished with value: 2.1343572506681086 and parameters: {'n_neurons_layer1': 1728, 'n_neurons_layer2': 64, 'learning_rate': 0.0009277678116776325, 'dropout': 0.1}. Best is trial 11 with value: 2.1267227182164787.\n"
     ]
    },
    {
     "name": "stdout",
     "output_type": "stream",
     "text": [
      "Stopped training using EarlyStopping at epoch 41\n",
      "\n",
      "**Finished training**\n",
      "\n",
      "Best validation loss (reached after 31 epochs): 2.1343572506681086\n",
      "\n",
      "Training time: 0.18 minutes\n",
      "Total training time: 0.18 minutes\n",
      "Start training classifier\n",
      "\n",
      "\n",
      "Start Training\n",
      "\n"
     ]
    },
    {
     "name": "stderr",
     "output_type": "stream",
     "text": [
      "100%|██████████| 50/50 [00:13<00:00,  3.74it/s]\n",
      "[I 2024-03-09 15:53:58,532] Trial 17 finished with value: 2.126098654046655 and parameters: {'n_neurons_layer1': 704, 'n_neurons_layer2': 448, 'learning_rate': 0.009708594057483129, 'dropout': 0.1}. Best is trial 17 with value: 2.126098654046655.\n"
     ]
    },
    {
     "name": "stdout",
     "output_type": "stream",
     "text": [
      "\n",
      "**Finished training**\n",
      "\n",
      "Best validation loss (reached after 43 epochs): 2.126098654046655\n",
      "\n",
      "Training time: 0.22 minutes\n",
      "Total training time: 0.22 minutes\n",
      "Start training classifier\n",
      "\n",
      "\n",
      "Start Training\n",
      "\n"
     ]
    },
    {
     "name": "stderr",
     "output_type": "stream",
     "text": [
      " 60%|██████    | 30/50 [00:08<00:05,  3.51it/s]\n",
      "[I 2024-03-09 15:54:07,109] Trial 18 finished with value: 2.1296228636056185 and parameters: {'n_neurons_layer1': 704, 'n_neurons_layer2': 576, 'learning_rate': 0.001354670572469006, 'dropout': 0.1}. Best is trial 17 with value: 2.126098654046655.\n"
     ]
    },
    {
     "name": "stdout",
     "output_type": "stream",
     "text": [
      "Stopped training using EarlyStopping at epoch 31\n",
      "\n",
      "**Finished training**\n",
      "\n",
      "Best validation loss (reached after 21 epochs): 2.1296228636056185\n",
      "\n",
      "Training time: 0.14 minutes\n",
      "Total training time: 0.14 minutes\n",
      "Start training classifier\n",
      "\n",
      "\n",
      "Start Training\n",
      "\n"
     ]
    },
    {
     "name": "stderr",
     "output_type": "stream",
     "text": [
      "100%|██████████| 50/50 [00:13<00:00,  3.75it/s]\n",
      "[I 2024-03-09 15:54:20,489] Trial 19 finished with value: 2.1345871100202203 and parameters: {'n_neurons_layer1': 512, 'n_neurons_layer2': 320, 'learning_rate': 0.00016151560508310346, 'dropout': 0.1}. Best is trial 17 with value: 2.126098654046655.\n"
     ]
    },
    {
     "name": "stdout",
     "output_type": "stream",
     "text": [
      "\n",
      "**Finished training**\n",
      "\n",
      "Best validation loss (reached after 48 epochs): 2.1345871100202203\n",
      "\n",
      "Training time: 0.22 minutes\n",
      "Total training time: 0.22 minutes\n",
      "Start training classifier\n",
      "\n",
      "\n",
      "Start Training\n",
      "\n"
     ]
    },
    {
     "name": "stderr",
     "output_type": "stream",
     "text": [
      " 34%|███▍      | 17/50 [00:04<00:09,  3.46it/s]\n",
      "[I 2024-03-09 15:54:25,444] Trial 20 finished with value: 2.1275726834312083 and parameters: {'n_neurons_layer1': 384, 'n_neurons_layer2': 832, 'learning_rate': 0.0045101619863016605, 'dropout': 0.1}. Best is trial 17 with value: 2.126098654046655.\n"
     ]
    },
    {
     "name": "stdout",
     "output_type": "stream",
     "text": [
      "Stopped training using EarlyStopping at epoch 18\n",
      "\n",
      "**Finished training**\n",
      "\n",
      "Best validation loss (reached after 8 epochs): 2.1275726834312083\n",
      "\n",
      "Training time: 0.08 minutes\n",
      "Total training time: 0.08 minutes\n",
      "Start training classifier\n",
      "\n",
      "\n",
      "Start Training\n",
      "\n"
     ]
    },
    {
     "name": "stderr",
     "output_type": "stream",
     "text": [
      " 34%|███▍      | 17/50 [00:04<00:09,  3.56it/s]\n",
      "[I 2024-03-09 15:54:30,257] Trial 21 finished with value: 2.130139501206577 and parameters: {'n_neurons_layer1': 1024, 'n_neurons_layer2': 256, 'learning_rate': 0.00900569602684953, 'dropout': 0.0}. Best is trial 17 with value: 2.126098654046655.\n"
     ]
    },
    {
     "name": "stdout",
     "output_type": "stream",
     "text": [
      "Stopped training using EarlyStopping at epoch 18\n",
      "\n",
      "**Finished training**\n",
      "\n",
      "Best validation loss (reached after 8 epochs): 2.130139501206577\n",
      "\n",
      "Training time: 0.08 minutes\n",
      "Total training time: 0.08 minutes\n",
      "Start training classifier\n",
      "\n",
      "\n",
      "Start Training\n",
      "\n"
     ]
    },
    {
     "name": "stderr",
     "output_type": "stream",
     "text": [
      " 44%|████▍     | 22/50 [00:06<00:08,  3.48it/s]\n",
      "[I 2024-03-09 15:54:36,623] Trial 22 finished with value: 2.1288106689229607 and parameters: {'n_neurons_layer1': 1472, 'n_neurons_layer2': 512, 'learning_rate': 0.004284604680754503, 'dropout': 0.0}. Best is trial 17 with value: 2.126098654046655.\n"
     ]
    },
    {
     "name": "stdout",
     "output_type": "stream",
     "text": [
      "Stopped training using EarlyStopping at epoch 23\n",
      "\n",
      "**Finished training**\n",
      "\n",
      "Best validation loss (reached after 13 epochs): 2.1288106689229607\n",
      "\n",
      "Training time: 0.11 minutes\n",
      "Total training time: 0.11 minutes\n",
      "Start training classifier\n",
      "\n",
      "\n",
      "Start Training\n",
      "\n"
     ]
    },
    {
     "name": "stderr",
     "output_type": "stream",
     "text": [
      " 34%|███▍      | 17/50 [00:04<00:08,  3.68it/s]\n",
      "[I 2024-03-09 15:54:41,283] Trial 23 finished with value: 2.12979979775846 and parameters: {'n_neurons_layer1': 704, 'n_neurons_layer2': 256, 'learning_rate': 0.009673021325397916, 'dropout': 0.0}. Best is trial 17 with value: 2.126098654046655.\n"
     ]
    },
    {
     "name": "stdout",
     "output_type": "stream",
     "text": [
      "Stopped training using EarlyStopping at epoch 18\n",
      "\n",
      "**Finished training**\n",
      "\n",
      "Best validation loss (reached after 8 epochs): 2.12979979775846\n",
      "\n",
      "Training time: 0.08 minutes\n",
      "Total training time: 0.08 minutes\n",
      "Start training classifier\n",
      "\n",
      "\n",
      "Start Training\n",
      "\n"
     ]
    },
    {
     "name": "stderr",
     "output_type": "stream",
     "text": [
      " 88%|████████▊ | 44/50 [00:11<00:01,  3.75it/s]\n",
      "[I 2024-03-09 15:54:53,053] Trial 24 finished with value: 2.1285306459292768 and parameters: {'n_neurons_layer1': 1216, 'n_neurons_layer2': 128, 'learning_rate': 0.004620058118257919, 'dropout': 0.1}. Best is trial 17 with value: 2.126098654046655.\n"
     ]
    },
    {
     "name": "stdout",
     "output_type": "stream",
     "text": [
      "Stopped training using EarlyStopping at epoch 45\n",
      "\n",
      "**Finished training**\n",
      "\n",
      "Best validation loss (reached after 35 epochs): 2.1285306459292768\n",
      "\n",
      "Training time: 0.20 minutes\n",
      "Total training time: 0.20 minutes\n",
      "Start training classifier\n",
      "\n",
      "\n",
      "Start Training\n",
      "\n"
     ]
    },
    {
     "name": "stderr",
     "output_type": "stream",
     "text": [
      " 52%|█████▏    | 26/50 [00:07<00:06,  3.48it/s]\n",
      "[I 2024-03-09 15:55:00,570] Trial 25 finished with value: 2.1280832953751085 and parameters: {'n_neurons_layer1': 1792, 'n_neurons_layer2': 448, 'learning_rate': 0.0026149166955338208, 'dropout': 0.0}. Best is trial 17 with value: 2.126098654046655.\n"
     ]
    },
    {
     "name": "stdout",
     "output_type": "stream",
     "text": [
      "Stopped training using EarlyStopping at epoch 27\n",
      "\n",
      "**Finished training**\n",
      "\n",
      "Best validation loss (reached after 17 epochs): 2.1280832953751085\n",
      "\n",
      "Training time: 0.12 minutes\n",
      "Total training time: 0.12 minutes\n",
      "Start training classifier\n",
      "\n",
      "\n",
      "Start Training\n",
      "\n"
     ]
    },
    {
     "name": "stderr",
     "output_type": "stream",
     "text": [
      " 74%|███████▍  | 37/50 [00:10<00:03,  3.64it/s]\n",
      "[I 2024-03-09 15:55:10,790] Trial 26 finished with value: 2.1297986187040805 and parameters: {'n_neurons_layer1': 1472, 'n_neurons_layer2': 192, 'learning_rate': 0.0011202065645967098, 'dropout': 0.1}. Best is trial 17 with value: 2.126098654046655.\n"
     ]
    },
    {
     "name": "stdout",
     "output_type": "stream",
     "text": [
      "Stopped training using EarlyStopping at epoch 38\n",
      "\n",
      "**Finished training**\n",
      "\n",
      "Best validation loss (reached after 28 epochs): 2.1297986187040805\n",
      "\n",
      "Training time: 0.17 minutes\n",
      "Total training time: 0.17 minutes\n",
      "Start training classifier\n",
      "\n",
      "\n",
      "Start Training\n",
      "\n"
     ]
    },
    {
     "name": "stderr",
     "output_type": "stream",
     "text": [
      " 50%|█████     | 25/50 [00:06<00:06,  3.82it/s]\n",
      "[I 2024-03-09 15:55:17,401] Trial 27 finished with value: 2.1281495222821833 and parameters: {'n_neurons_layer1': 64, 'n_neurons_layer2': 576, 'learning_rate': 0.0057145416093644635, 'dropout': 0.0}. Best is trial 17 with value: 2.126098654046655.\n"
     ]
    },
    {
     "name": "stdout",
     "output_type": "stream",
     "text": [
      "Stopped training using EarlyStopping at epoch 26\n",
      "\n",
      "**Finished training**\n",
      "\n",
      "Best validation loss (reached after 16 epochs): 2.1281495222821833\n",
      "\n",
      "Training time: 0.11 minutes\n",
      "Total training time: 0.11 minutes\n",
      "Start training classifier\n",
      "\n",
      "\n",
      "Start Training\n",
      "\n"
     ]
    },
    {
     "name": "stderr",
     "output_type": "stream",
     "text": [
      " 52%|█████▏    | 26/50 [00:08<00:07,  3.20it/s]\n",
      "[I 2024-03-09 15:55:25,562] Trial 28 finished with value: 2.1299594221636653 and parameters: {'n_neurons_layer1': 896, 'n_neurons_layer2': 64, 'learning_rate': 0.003052719924887273, 'dropout': 0.1}. Best is trial 17 with value: 2.126098654046655.\n"
     ]
    },
    {
     "name": "stdout",
     "output_type": "stream",
     "text": [
      "Stopped training using EarlyStopping at epoch 27\n",
      "\n",
      "**Finished training**\n",
      "\n",
      "Best validation loss (reached after 17 epochs): 2.1299594221636653\n",
      "\n",
      "Training time: 0.14 minutes\n",
      "Total training time: 0.14 minutes\n",
      "Start training classifier\n",
      "\n",
      "\n",
      "Start Training\n",
      "\n"
     ]
    },
    {
     "name": "stderr",
     "output_type": "stream",
     "text": [
      " 50%|█████     | 25/50 [00:07<00:07,  3.31it/s]\n",
      "[I 2024-03-09 15:55:33,163] Trial 29 finished with value: 2.129782765544951 and parameters: {'n_neurons_layer1': 1344, 'n_neurons_layer2': 1280, 'learning_rate': 0.0002775436208675118, 'dropout': 0.0}. Best is trial 17 with value: 2.126098654046655.\n"
     ]
    },
    {
     "name": "stdout",
     "output_type": "stream",
     "text": [
      "Stopped training using EarlyStopping at epoch 26\n",
      "\n",
      "**Finished training**\n",
      "\n",
      "Best validation loss (reached after 16 epochs): 2.129782765544951\n",
      "\n",
      "Training time: 0.13 minutes\n",
      "Total training time: 0.13 minutes\n",
      "Start training classifier\n",
      "\n",
      "\n",
      "Start Training\n",
      "\n"
     ]
    },
    {
     "name": "stderr",
     "output_type": "stream",
     "text": [
      " 36%|███▌      | 18/50 [00:05<00:09,  3.51it/s]\n",
      "[I 2024-03-09 15:55:38,342] Trial 30 finished with value: 2.127146895416081 and parameters: {'n_neurons_layer1': 640, 'n_neurons_layer2': 1088, 'learning_rate': 0.001577446254247845, 'dropout': 0.5}. Best is trial 17 with value: 2.126098654046655.\n"
     ]
    },
    {
     "name": "stdout",
     "output_type": "stream",
     "text": [
      "Stopped training using EarlyStopping at epoch 19\n",
      "\n",
      "**Finished training**\n",
      "\n",
      "Best validation loss (reached after 9 epochs): 2.127146895416081\n",
      "\n",
      "Training time: 0.09 minutes\n",
      "Total training time: 0.09 minutes\n",
      "Start training classifier\n",
      "\n",
      "\n",
      "Start Training\n",
      "\n"
     ]
    },
    {
     "name": "stderr",
     "output_type": "stream",
     "text": [
      " 36%|███▌      | 18/50 [00:05<00:08,  3.57it/s]\n",
      "[I 2024-03-09 15:55:43,425] Trial 31 finished with value: 2.1262301851063965 and parameters: {'n_neurons_layer1': 640, 'n_neurons_layer2': 1216, 'learning_rate': 0.0015382461028608787, 'dropout': 0.5}. Best is trial 17 with value: 2.126098654046655.\n"
     ]
    },
    {
     "name": "stdout",
     "output_type": "stream",
     "text": [
      "Stopped training using EarlyStopping at epoch 19\n",
      "\n",
      "**Finished training**\n",
      "\n",
      "Best validation loss (reached after 9 epochs): 2.1262301851063965\n",
      "\n",
      "Training time: 0.08 minutes\n",
      "Total training time: 0.08 minutes\n",
      "Start training classifier\n",
      "\n",
      "\n",
      "Start Training\n",
      "\n"
     ]
    },
    {
     "name": "stderr",
     "output_type": "stream",
     "text": [
      " 38%|███▊      | 19/50 [00:05<00:09,  3.36it/s]\n",
      "[I 2024-03-09 15:55:49,134] Trial 32 finished with value: 2.127106103487313 and parameters: {'n_neurons_layer1': 640, 'n_neurons_layer2': 1088, 'learning_rate': 0.0015512281340594987, 'dropout': 0.5}. Best is trial 17 with value: 2.126098654046655.\n"
     ]
    },
    {
     "name": "stdout",
     "output_type": "stream",
     "text": [
      "Stopped training using EarlyStopping at epoch 20\n",
      "\n",
      "**Finished training**\n",
      "\n",
      "Best validation loss (reached after 10 epochs): 2.127106103487313\n",
      "\n",
      "Training time: 0.09 minutes\n",
      "Total training time: 0.09 minutes\n",
      "Start training classifier\n",
      "\n",
      "\n",
      "Start Training\n",
      "\n"
     ]
    },
    {
     "name": "stderr",
     "output_type": "stream",
     "text": [
      " 82%|████████▏ | 41/50 [00:10<00:02,  3.79it/s]\n",
      "[I 2024-03-09 15:56:00,003] Trial 33 finished with value: 2.128963292017579 and parameters: {'n_neurons_layer1': 256, 'n_neurons_layer2': 1280, 'learning_rate': 0.0003477337562320565, 'dropout': 0.4}. Best is trial 17 with value: 2.126098654046655.\n"
     ]
    },
    {
     "name": "stdout",
     "output_type": "stream",
     "text": [
      "Stopped training using EarlyStopping at epoch 42\n",
      "\n",
      "**Finished training**\n",
      "\n",
      "Best validation loss (reached after 32 epochs): 2.128963292017579\n",
      "\n",
      "Training time: 0.18 minutes\n",
      "Total training time: 0.18 minutes\n",
      "Start training classifier\n",
      "\n",
      "\n",
      "Start Training\n",
      "\n"
     ]
    },
    {
     "name": "stderr",
     "output_type": "stream",
     "text": [
      " 76%|███████▌  | 38/50 [00:10<00:03,  3.57it/s]\n",
      "[I 2024-03-09 15:56:10,700] Trial 34 finished with value: 2.1280320955440404 and parameters: {'n_neurons_layer1': 576, 'n_neurons_layer2': 1536, 'learning_rate': 0.0005783706889318247, 'dropout': 0.5}. Best is trial 17 with value: 2.126098654046655.\n"
     ]
    },
    {
     "name": "stdout",
     "output_type": "stream",
     "text": [
      "Stopped training using EarlyStopping at epoch 39\n",
      "\n",
      "**Finished training**\n",
      "\n",
      "Best validation loss (reached after 29 epochs): 2.1280320955440404\n",
      "\n",
      "Training time: 0.18 minutes\n",
      "Total training time: 0.18 minutes\n",
      "Start training classifier\n",
      "\n",
      "\n",
      "Start Training\n",
      "\n"
     ]
    },
    {
     "name": "stderr",
     "output_type": "stream",
     "text": [
      "100%|██████████| 50/50 [00:14<00:00,  3.54it/s]\n",
      "[I 2024-03-09 15:56:24,851] Trial 35 finished with value: 2.130133341997862 and parameters: {'n_neurons_layer1': 832, 'n_neurons_layer2': 896, 'learning_rate': 0.00021453470904832196, 'dropout': 0.4}. Best is trial 17 with value: 2.126098654046655.\n"
     ]
    },
    {
     "name": "stdout",
     "output_type": "stream",
     "text": [
      "\n",
      "**Finished training**\n",
      "\n",
      "Best validation loss (reached after 44 epochs): 2.130133341997862\n",
      "\n",
      "Training time: 0.24 minutes\n",
      "Total training time: 0.24 minutes\n",
      "Start training classifier\n",
      "\n",
      "\n",
      "Start Training\n",
      "\n"
     ]
    },
    {
     "name": "stderr",
     "output_type": "stream",
     "text": [
      " 66%|██████▌   | 33/50 [00:09<00:04,  3.54it/s]\n",
      "[I 2024-03-09 15:56:34,218] Trial 36 finished with value: 2.1264994801953434 and parameters: {'n_neurons_layer1': 320, 'n_neurons_layer2': 1408, 'learning_rate': 0.0008384777906457279, 'dropout': 0.5}. Best is trial 17 with value: 2.126098654046655.\n"
     ]
    },
    {
     "name": "stdout",
     "output_type": "stream",
     "text": [
      "Stopped training using EarlyStopping at epoch 34\n",
      "\n",
      "**Finished training**\n",
      "\n",
      "Best validation loss (reached after 24 epochs): 2.1264994801953434\n",
      "\n",
      "Training time: 0.16 minutes\n",
      "Total training time: 0.16 minutes\n",
      "Start training classifier\n",
      "\n",
      "\n",
      "Start Training\n",
      "\n"
     ]
    },
    {
     "name": "stderr",
     "output_type": "stream",
     "text": [
      " 48%|████▊     | 24/50 [00:06<00:07,  3.61it/s]\n",
      "[I 2024-03-09 15:56:40,910] Trial 37 finished with value: 2.127169656008482 and parameters: {'n_neurons_layer1': 256, 'n_neurons_layer2': 1472, 'learning_rate': 0.0007626058838864731, 'dropout': 0.4}. Best is trial 17 with value: 2.126098654046655.\n"
     ]
    },
    {
     "name": "stdout",
     "output_type": "stream",
     "text": [
      "Stopped training using EarlyStopping at epoch 25\n",
      "\n",
      "**Finished training**\n",
      "\n",
      "Best validation loss (reached after 15 epochs): 2.127169656008482\n",
      "\n",
      "Training time: 0.11 minutes\n",
      "Total training time: 0.11 minutes\n",
      "Start training classifier\n",
      "\n",
      "\n",
      "Start Training\n",
      "\n"
     ]
    },
    {
     "name": "stderr",
     "output_type": "stream",
     "text": [
      " 78%|███████▊  | 39/50 [00:10<00:02,  3.69it/s]\n",
      "[I 2024-03-09 15:56:51,543] Trial 38 finished with value: 2.1273045886307953 and parameters: {'n_neurons_layer1': 192, 'n_neurons_layer2': 1728, 'learning_rate': 0.0004743984095121023, 'dropout': 0.5}. Best is trial 17 with value: 2.126098654046655.\n"
     ]
    },
    {
     "name": "stdout",
     "output_type": "stream",
     "text": [
      "Stopped training using EarlyStopping at epoch 40\n",
      "\n",
      "**Finished training**\n",
      "\n",
      "Best validation loss (reached after 30 epochs): 2.1273045886307953\n",
      "\n",
      "Training time: 0.18 minutes\n",
      "Total training time: 0.18 minutes\n",
      "Start training classifier\n",
      "\n",
      "\n",
      "Start Training\n",
      "\n"
     ]
    },
    {
     "name": "stderr",
     "output_type": "stream",
     "text": [
      " 48%|████▊     | 24/50 [00:06<00:07,  3.56it/s]\n",
      "[I 2024-03-09 15:56:58,336] Trial 39 finished with value: 2.128344411402941 and parameters: {'n_neurons_layer1': 384, 'n_neurons_layer2': 1216, 'learning_rate': 0.005870462493828508, 'dropout': 0.30000000000000004}. Best is trial 17 with value: 2.126098654046655.\n"
     ]
    },
    {
     "name": "stdout",
     "output_type": "stream",
     "text": [
      "Stopped training using EarlyStopping at epoch 25\n",
      "\n",
      "**Finished training**\n",
      "\n",
      "Best validation loss (reached after 15 epochs): 2.128344411402941\n",
      "\n",
      "Training time: 0.11 minutes\n",
      "Total training time: 0.11 minutes\n",
      "Start training classifier\n",
      "\n",
      "\n",
      "Start Training\n",
      "\n"
     ]
    },
    {
     "name": "stderr",
     "output_type": "stream",
     "text": [
      "100%|██████████| 50/50 [00:14<00:00,  3.47it/s]\n",
      "[I 2024-03-09 15:57:12,786] Trial 40 finished with value: 2.131783460266888 and parameters: {'n_neurons_layer1': 832, 'n_neurons_layer2': 1408, 'learning_rate': 8.018246136474906e-05, 'dropout': 0.30000000000000004}. Best is trial 17 with value: 2.126098654046655.\n"
     ]
    },
    {
     "name": "stdout",
     "output_type": "stream",
     "text": [
      "\n",
      "**Finished training**\n",
      "\n",
      "Best validation loss (reached after 44 epochs): 2.131783460266888\n",
      "\n",
      "Training time: 0.24 minutes\n",
      "Total training time: 0.24 minutes\n",
      "Start training classifier\n",
      "\n",
      "\n",
      "Start Training\n",
      "\n"
     ]
    },
    {
     "name": "stderr",
     "output_type": "stream",
     "text": [
      " 46%|████▌     | 23/50 [00:06<00:07,  3.44it/s]\n",
      "[I 2024-03-09 15:57:19,514] Trial 41 finished with value: 2.126643523015082 and parameters: {'n_neurons_layer1': 704, 'n_neurons_layer2': 1152, 'learning_rate': 0.0017698376153920648, 'dropout': 0.5}. Best is trial 17 with value: 2.126098654046655.\n"
     ]
    },
    {
     "name": "stdout",
     "output_type": "stream",
     "text": [
      "Stopped training using EarlyStopping at epoch 24\n",
      "\n",
      "**Finished training**\n",
      "\n",
      "Best validation loss (reached after 14 epochs): 2.126643523015082\n",
      "\n",
      "Training time: 0.11 minutes\n",
      "Total training time: 0.11 minutes\n",
      "Start training classifier\n",
      "\n",
      "\n",
      "Start Training\n",
      "\n"
     ]
    },
    {
     "name": "stderr",
     "output_type": "stream",
     "text": [
      " 36%|███▌      | 18/50 [00:05<00:09,  3.33it/s]\n",
      "[I 2024-03-09 15:57:24,970] Trial 42 finished with value: 2.127383559383452 and parameters: {'n_neurons_layer1': 768, 'n_neurons_layer2': 704, 'learning_rate': 0.0022253229604196675, 'dropout': 0.5}. Best is trial 17 with value: 2.126098654046655.\n"
     ]
    },
    {
     "name": "stdout",
     "output_type": "stream",
     "text": [
      "Stopped training using EarlyStopping at epoch 19\n",
      "\n",
      "**Finished training**\n",
      "\n",
      "Best validation loss (reached after 9 epochs): 2.127383559383452\n",
      "\n",
      "Training time: 0.09 minutes\n",
      "Total training time: 0.09 minutes\n",
      "Start training classifier\n",
      "\n",
      "\n",
      "Start Training\n",
      "\n"
     ]
    },
    {
     "name": "stderr",
     "output_type": "stream",
     "text": [
      " 68%|██████▊   | 34/50 [00:10<00:04,  3.35it/s]\n",
      "[I 2024-03-09 15:57:35,161] Trial 43 finished with value: 2.1270686339586975 and parameters: {'n_neurons_layer1': 1088, 'n_neurons_layer2': 960, 'learning_rate': 0.0036196662408750366, 'dropout': 0.5}. Best is trial 17 with value: 2.126098654046655.\n"
     ]
    },
    {
     "name": "stdout",
     "output_type": "stream",
     "text": [
      "Stopped training using EarlyStopping at epoch 35\n",
      "\n",
      "**Finished training**\n",
      "\n",
      "Best validation loss (reached after 25 epochs): 2.1270686339586975\n",
      "\n",
      "Training time: 0.17 minutes\n",
      "Total training time: 0.17 minutes\n",
      "Start training classifier\n",
      "\n",
      "\n",
      "Start Training\n",
      "\n"
     ]
    },
    {
     "name": "stderr",
     "output_type": "stream",
     "text": [
      " 50%|█████     | 25/50 [00:07<00:07,  3.46it/s]\n",
      "[I 2024-03-09 15:57:42,451] Trial 44 finished with value: 2.127591709047556 and parameters: {'n_neurons_layer1': 512, 'n_neurons_layer2': 1152, 'learning_rate': 0.001053047307249995, 'dropout': 0.4}. Best is trial 17 with value: 2.126098654046655.\n"
     ]
    },
    {
     "name": "stdout",
     "output_type": "stream",
     "text": [
      "Stopped training using EarlyStopping at epoch 26\n",
      "\n",
      "**Finished training**\n",
      "\n",
      "Best validation loss (reached after 16 epochs): 2.127591709047556\n",
      "\n",
      "Training time: 0.12 minutes\n",
      "Total training time: 0.12 minutes\n",
      "Start training classifier\n",
      "\n",
      "\n",
      "Start Training\n",
      "\n"
     ]
    },
    {
     "name": "stderr",
     "output_type": "stream",
     "text": [
      " 80%|████████  | 40/50 [00:11<00:02,  3.62it/s]\n",
      "[I 2024-03-09 15:57:53,535] Trial 45 finished with value: 2.1267322605475782 and parameters: {'n_neurons_layer1': 384, 'n_neurons_layer2': 1344, 'learning_rate': 0.006344284222748488, 'dropout': 0.4}. Best is trial 17 with value: 2.126098654046655.\n"
     ]
    },
    {
     "name": "stdout",
     "output_type": "stream",
     "text": [
      "Stopped training using EarlyStopping at epoch 41\n",
      "\n",
      "**Finished training**\n",
      "\n",
      "Best validation loss (reached after 31 epochs): 2.1267322605475782\n",
      "\n",
      "Training time: 0.18 minutes\n",
      "Total training time: 0.18 minutes\n",
      "Start training classifier\n",
      "\n",
      "\n",
      "Start Training\n",
      "\n"
     ]
    },
    {
     "name": "stderr",
     "output_type": "stream",
     "text": [
      " 50%|█████     | 25/50 [00:07<00:07,  3.41it/s]\n",
      "[I 2024-03-09 15:58:00,924] Trial 46 finished with value: 2.126437228731811 and parameters: {'n_neurons_layer1': 512, 'n_neurons_layer2': 1728, 'learning_rate': 0.0017419155017384534, 'dropout': 0.5}. Best is trial 17 with value: 2.126098654046655.\n"
     ]
    },
    {
     "name": "stdout",
     "output_type": "stream",
     "text": [
      "Stopped training using EarlyStopping at epoch 26\n",
      "\n",
      "**Finished training**\n",
      "\n",
      "Best validation loss (reached after 16 epochs): 2.126437228731811\n",
      "\n",
      "Training time: 0.12 minutes\n",
      "Total training time: 0.12 minutes\n",
      "Start training classifier\n",
      "\n",
      "\n",
      "Start Training\n",
      "\n"
     ]
    },
    {
     "name": "stderr",
     "output_type": "stream",
     "text": [
      " 50%|█████     | 25/50 [00:07<00:07,  3.44it/s]\n",
      "[I 2024-03-09 15:58:08,231] Trial 47 finished with value: 2.126993003115058 and parameters: {'n_neurons_layer1': 512, 'n_neurons_layer2': 1728, 'learning_rate': 0.001845346868387729, 'dropout': 0.5}. Best is trial 17 with value: 2.126098654046655.\n"
     ]
    },
    {
     "name": "stdout",
     "output_type": "stream",
     "text": [
      "Stopped training using EarlyStopping at epoch 26\n",
      "\n",
      "**Finished training**\n",
      "\n",
      "Best validation loss (reached after 16 epochs): 2.126993003115058\n",
      "\n",
      "Training time: 0.12 minutes\n",
      "Total training time: 0.12 minutes\n",
      "Start training classifier\n",
      "\n",
      "\n",
      "Start Training\n",
      "\n"
     ]
    },
    {
     "name": "stderr",
     "output_type": "stream",
     "text": [
      "100%|██████████| 50/50 [00:14<00:00,  3.57it/s]\n",
      "[I 2024-03-09 15:58:22,304] Trial 48 finished with value: 2.190134902112186 and parameters: {'n_neurons_layer1': 320, 'n_neurons_layer2': 1664, 'learning_rate': 2.0997966048149013e-05, 'dropout': 0.5}. Best is trial 17 with value: 2.126098654046655.\n"
     ]
    },
    {
     "name": "stdout",
     "output_type": "stream",
     "text": [
      "\n",
      "**Finished training**\n",
      "\n",
      "Best validation loss (reached after 50 epochs): 2.190134902112186\n",
      "\n",
      "Training time: 0.23 minutes\n",
      "Total training time: 0.23 minutes\n",
      "Start training classifier\n",
      "\n",
      "\n",
      "Start Training\n",
      "\n"
     ]
    },
    {
     "name": "stderr",
     "output_type": "stream",
     "text": [
      " 52%|█████▏    | 26/50 [00:07<00:07,  3.42it/s]\n",
      "[I 2024-03-09 15:58:29,970] Trial 49 finished with value: 2.1272227937355637 and parameters: {'n_neurons_layer1': 640, 'n_neurons_layer2': 2048, 'learning_rate': 0.0006731982235014643, 'dropout': 0.5}. Best is trial 17 with value: 2.126098654046655.\n"
     ]
    },
    {
     "name": "stdout",
     "output_type": "stream",
     "text": [
      "Stopped training using EarlyStopping at epoch 27\n",
      "\n",
      "**Finished training**\n",
      "\n",
      "Best validation loss (reached after 17 epochs): 2.1272227937355637\n",
      "\n",
      "Training time: 0.13 minutes\n",
      "Total training time: 0.13 minutes\n",
      "Start training classifier\n",
      "\n",
      "\n",
      "Start Training\n",
      "\n"
     ]
    },
    {
     "name": "stderr",
     "output_type": "stream",
     "text": [
      " 94%|█████████▍| 47/50 [00:12<00:00,  3.65it/s]\n",
      "[I 2024-03-09 15:58:42,899] Trial 50 finished with value: 2.127762436680496 and parameters: {'n_neurons_layer1': 448, 'n_neurons_layer2': 1536, 'learning_rate': 0.0004734685211756637, 'dropout': 0.4}. Best is trial 17 with value: 2.126098654046655.\n"
     ]
    },
    {
     "name": "stdout",
     "output_type": "stream",
     "text": [
      "Stopped training using EarlyStopping at epoch 48\n",
      "\n",
      "**Finished training**\n",
      "\n",
      "Best validation loss (reached after 38 epochs): 2.127762436680496\n",
      "\n",
      "Training time: 0.21 minutes\n",
      "Total training time: 0.22 minutes\n",
      "Start training classifier\n",
      "\n",
      "\n",
      "Start Training\n",
      "\n"
     ]
    },
    {
     "name": "stderr",
     "output_type": "stream",
     "text": [
      " 50%|█████     | 25/50 [00:07<00:07,  3.29it/s]\n",
      "[I 2024-03-09 15:58:50,559] Trial 51 finished with value: 2.1284662453457712 and parameters: {'n_neurons_layer1': 960, 'n_neurons_layer2': 1024, 'learning_rate': 0.0013117557994956454, 'dropout': 0.2}. Best is trial 17 with value: 2.126098654046655.\n"
     ]
    },
    {
     "name": "stdout",
     "output_type": "stream",
     "text": [
      "Stopped training using EarlyStopping at epoch 26\n",
      "\n",
      "**Finished training**\n",
      "\n",
      "Best validation loss (reached after 16 epochs): 2.1284662453457712\n",
      "\n",
      "Training time: 0.13 minutes\n",
      "Total training time: 0.13 minutes\n",
      "Start training classifier\n",
      "\n",
      "\n",
      "Start Training\n",
      "\n"
     ]
    },
    {
     "name": "stderr",
     "output_type": "stream",
     "text": [
      " 62%|██████▏   | 31/50 [00:09<00:05,  3.41it/s]\n",
      "[I 2024-03-09 15:58:59,712] Trial 52 finished with value: 2.1264697562903168 and parameters: {'n_neurons_layer1': 768, 'n_neurons_layer2': 1408, 'learning_rate': 0.0008808488476684639, 'dropout': 0.5}. Best is trial 17 with value: 2.126098654046655.\n"
     ]
    },
    {
     "name": "stdout",
     "output_type": "stream",
     "text": [
      "Stopped training using EarlyStopping at epoch 32\n",
      "\n",
      "**Finished training**\n",
      "\n",
      "Best validation loss (reached after 22 epochs): 2.1264697562903168\n",
      "\n",
      "Training time: 0.15 minutes\n",
      "Total training time: 0.15 minutes\n",
      "Start training classifier\n",
      "\n",
      "\n",
      "Start Training\n",
      "\n"
     ]
    },
    {
     "name": "stderr",
     "output_type": "stream",
     "text": [
      " 42%|████▏     | 21/50 [00:06<00:08,  3.39it/s]\n",
      "[I 2024-03-09 15:59:05,962] Trial 53 finished with value: 2.1274140514433384 and parameters: {'n_neurons_layer1': 768, 'n_neurons_layer2': 1856, 'learning_rate': 0.0007693979723715129, 'dropout': 0.5}. Best is trial 17 with value: 2.126098654046655.\n"
     ]
    },
    {
     "name": "stdout",
     "output_type": "stream",
     "text": [
      "Stopped training using EarlyStopping at epoch 22\n",
      "\n",
      "**Finished training**\n",
      "\n",
      "Best validation loss (reached after 12 epochs): 2.1274140514433384\n",
      "\n",
      "Training time: 0.10 minutes\n",
      "Total training time: 0.10 minutes\n",
      "Start training classifier\n",
      "\n",
      "\n",
      "Start Training\n",
      "\n"
     ]
    },
    {
     "name": "stderr",
     "output_type": "stream",
     "text": [
      " 36%|███▌      | 18/50 [00:05<00:09,  3.35it/s]\n",
      "[I 2024-03-09 15:59:11,392] Trial 54 finished with value: 2.127716013789177 and parameters: {'n_neurons_layer1': 704, 'n_neurons_layer2': 1664, 'learning_rate': 0.0009407083526605222, 'dropout': 0.5}. Best is trial 17 with value: 2.126098654046655.\n"
     ]
    },
    {
     "name": "stdout",
     "output_type": "stream",
     "text": [
      "Stopped training using EarlyStopping at epoch 19\n",
      "\n",
      "**Finished training**\n",
      "\n",
      "Best validation loss (reached after 9 epochs): 2.127716013789177\n",
      "\n",
      "Training time: 0.09 minutes\n",
      "Total training time: 0.09 minutes\n",
      "Start training classifier\n",
      "\n",
      "\n",
      "Start Training\n",
      "\n"
     ]
    },
    {
     "name": "stderr",
     "output_type": "stream",
     "text": [
      " 48%|████▊     | 24/50 [00:06<00:07,  3.52it/s]\n",
      "[I 2024-03-09 15:59:18,264] Trial 55 finished with value: 2.1260202510282395 and parameters: {'n_neurons_layer1': 576, 'n_neurons_layer2': 1408, 'learning_rate': 0.002146828279931457, 'dropout': 0.5}. Best is trial 55 with value: 2.1260202510282395.\n"
     ]
    },
    {
     "name": "stdout",
     "output_type": "stream",
     "text": [
      "Stopped training using EarlyStopping at epoch 25\n",
      "\n",
      "**Finished training**\n",
      "\n",
      "Best validation loss (reached after 15 epochs): 2.1260202510282395\n",
      "\n",
      "Training time: 0.11 minutes\n",
      "Total training time: 0.11 minutes\n",
      "Start training classifier\n",
      "\n",
      "\n",
      "Start Training\n",
      "\n"
     ]
    },
    {
     "name": "stderr",
     "output_type": "stream",
     "text": [
      " 34%|███▍      | 17/50 [00:05<00:09,  3.35it/s]\n",
      "[I 2024-03-09 15:59:23,393] Trial 56 finished with value: 2.127641289681196 and parameters: {'n_neurons_layer1': 576, 'n_neurons_layer2': 1408, 'learning_rate': 0.0025850905350453656, 'dropout': 0.4}. Best is trial 55 with value: 2.1260202510282395.\n"
     ]
    },
    {
     "name": "stdout",
     "output_type": "stream",
     "text": [
      "Stopped training using EarlyStopping at epoch 18\n",
      "\n",
      "**Finished training**\n",
      "\n",
      "Best validation loss (reached after 8 epochs): 2.127641289681196\n",
      "\n",
      "Training time: 0.08 minutes\n",
      "Total training time: 0.09 minutes\n",
      "Start training classifier\n",
      "\n",
      "\n",
      "Start Training\n",
      "\n"
     ]
    },
    {
     "name": "stderr",
     "output_type": "stream",
     "text": [
      " 50%|█████     | 25/50 [00:07<00:07,  3.46it/s]\n",
      "[I 2024-03-09 15:59:30,660] Trial 57 finished with value: 2.1265521440654993 and parameters: {'n_neurons_layer1': 448, 'n_neurons_layer2': 1920, 'learning_rate': 0.0012519733601838979, 'dropout': 0.4}. Best is trial 55 with value: 2.1260202510282395.\n"
     ]
    },
    {
     "name": "stdout",
     "output_type": "stream",
     "text": [
      "Stopped training using EarlyStopping at epoch 26\n",
      "\n",
      "**Finished training**\n",
      "\n",
      "Best validation loss (reached after 16 epochs): 2.1265521440654993\n",
      "\n",
      "Training time: 0.12 minutes\n",
      "Total training time: 0.12 minutes\n",
      "Start training classifier\n",
      "\n",
      "\n",
      "Start Training\n",
      "\n"
     ]
    },
    {
     "name": "stderr",
     "output_type": "stream",
     "text": [
      " 60%|██████    | 30/50 [00:08<00:05,  3.57it/s]\n",
      "[I 2024-03-09 15:59:39,106] Trial 58 finished with value: 2.125174587033689 and parameters: {'n_neurons_layer1': 128, 'n_neurons_layer2': 1472, 'learning_rate': 0.0033437339732841735, 'dropout': 0.5}. Best is trial 58 with value: 2.125174587033689.\n"
     ]
    },
    {
     "name": "stdout",
     "output_type": "stream",
     "text": [
      "Stopped training using EarlyStopping at epoch 31\n",
      "\n",
      "**Finished training**\n",
      "\n",
      "Best validation loss (reached after 21 epochs): 2.125174587033689\n",
      "\n",
      "Training time: 0.14 minutes\n",
      "Total training time: 0.14 minutes\n",
      "Start training classifier\n",
      "\n",
      "\n",
      "Start Training\n",
      "\n"
     ]
    },
    {
     "name": "stderr",
     "output_type": "stream",
     "text": [
      "100%|██████████| 50/50 [00:13<00:00,  3.80it/s]\n",
      "[I 2024-03-09 15:59:52,318] Trial 59 finished with value: 2.1255884295329452 and parameters: {'n_neurons_layer1': 64, 'n_neurons_layer2': 1600, 'learning_rate': 0.002212318776428918, 'dropout': 0.5}. Best is trial 58 with value: 2.125174587033689.\n"
     ]
    },
    {
     "name": "stdout",
     "output_type": "stream",
     "text": [
      "\n",
      "**Finished training**\n",
      "\n",
      "Best validation loss (reached after 44 epochs): 2.1255884295329452\n",
      "\n",
      "Training time: 0.22 minutes\n",
      "Total training time: 0.22 minutes\n",
      "Start training classifier\n",
      "\n",
      "\n",
      "Start Training\n",
      "\n"
     ]
    },
    {
     "name": "stderr",
     "output_type": "stream",
     "text": [
      " 62%|██████▏   | 31/50 [00:08<00:05,  3.66it/s]\n",
      "[I 2024-03-09 16:00:00,827] Trial 60 finished with value: 2.1264805743470787 and parameters: {'n_neurons_layer1': 64, 'n_neurons_layer2': 1600, 'learning_rate': 0.003380218940091912, 'dropout': 0.30000000000000004}. Best is trial 58 with value: 2.125174587033689.\n"
     ]
    },
    {
     "name": "stdout",
     "output_type": "stream",
     "text": [
      "Stopped training using EarlyStopping at epoch 32\n",
      "\n",
      "**Finished training**\n",
      "\n",
      "Best validation loss (reached after 22 epochs): 2.1264805743470787\n",
      "\n",
      "Training time: 0.14 minutes\n",
      "Total training time: 0.14 minutes\n",
      "Start training classifier\n",
      "\n",
      "\n",
      "Start Training\n",
      "\n"
     ]
    },
    {
     "name": "stderr",
     "output_type": "stream",
     "text": [
      " 52%|█████▏    | 26/50 [00:07<00:06,  3.61it/s]\n",
      "[I 2024-03-09 16:00:08,072] Trial 61 finished with value: 2.124934050999582 and parameters: {'n_neurons_layer1': 128, 'n_neurons_layer2': 1472, 'learning_rate': 0.0024015149830149954, 'dropout': 0.5}. Best is trial 61 with value: 2.124934050999582.\n"
     ]
    },
    {
     "name": "stdout",
     "output_type": "stream",
     "text": [
      "Stopped training using EarlyStopping at epoch 27\n",
      "\n",
      "**Finished training**\n",
      "\n",
      "Best validation loss (reached after 17 epochs): 2.124934050999582\n",
      "\n",
      "Training time: 0.12 minutes\n",
      "Total training time: 0.12 minutes\n",
      "Start training classifier\n",
      "\n",
      "\n",
      "Start Training\n",
      "\n"
     ]
    },
    {
     "name": "stderr",
     "output_type": "stream",
     "text": [
      " 72%|███████▏  | 36/50 [00:09<00:03,  3.66it/s]\n",
      "[I 2024-03-09 16:00:17,947] Trial 62 finished with value: 2.12453997656703 and parameters: {'n_neurons_layer1': 128, 'n_neurons_layer2': 1792, 'learning_rate': 0.0022138465739721, 'dropout': 0.5}. Best is trial 62 with value: 2.12453997656703.\n"
     ]
    },
    {
     "name": "stdout",
     "output_type": "stream",
     "text": [
      "Stopped training using EarlyStopping at epoch 37\n",
      "\n",
      "**Finished training**\n",
      "\n",
      "Best validation loss (reached after 27 epochs): 2.12453997656703\n",
      "\n",
      "Training time: 0.16 minutes\n",
      "Total training time: 0.16 minutes\n",
      "Start training classifier\n",
      "\n",
      "\n",
      "Start Training\n",
      "\n"
     ]
    },
    {
     "name": "stderr",
     "output_type": "stream",
     "text": [
      " 66%|██████▌   | 33/50 [00:09<00:04,  3.60it/s]\n",
      "[I 2024-03-09 16:00:27,161] Trial 63 finished with value: 2.1254498483613133 and parameters: {'n_neurons_layer1': 128, 'n_neurons_layer2': 1536, 'learning_rate': 0.0023332225306365345, 'dropout': 0.5}. Best is trial 62 with value: 2.12453997656703.\n"
     ]
    },
    {
     "name": "stdout",
     "output_type": "stream",
     "text": [
      "Stopped training using EarlyStopping at epoch 34\n",
      "\n",
      "**Finished training**\n",
      "\n",
      "Best validation loss (reached after 24 epochs): 2.1254498483613133\n",
      "\n",
      "Training time: 0.15 minutes\n",
      "Total training time: 0.15 minutes\n",
      "Start training classifier\n",
      "\n",
      "\n",
      "Start Training\n",
      "\n"
     ]
    },
    {
     "name": "stderr",
     "output_type": "stream",
     "text": [
      " 62%|██████▏   | 31/50 [00:09<00:05,  3.44it/s]\n",
      "[I 2024-03-09 16:00:36,214] Trial 64 finished with value: 2.1252159517258407 and parameters: {'n_neurons_layer1': 128, 'n_neurons_layer2': 1856, 'learning_rate': 0.002341444196811583, 'dropout': 0.5}. Best is trial 62 with value: 2.12453997656703.\n"
     ]
    },
    {
     "name": "stdout",
     "output_type": "stream",
     "text": [
      "Stopped training using EarlyStopping at epoch 32\n",
      "\n",
      "**Finished training**\n",
      "\n",
      "Best validation loss (reached after 22 epochs): 2.1252159517258407\n",
      "\n",
      "Training time: 0.15 minutes\n",
      "Total training time: 0.15 minutes\n",
      "Start training classifier\n",
      "\n",
      "\n",
      "Start Training\n",
      "\n"
     ]
    },
    {
     "name": "stderr",
     "output_type": "stream",
     "text": [
      " 76%|███████▌  | 38/50 [00:10<00:03,  3.50it/s]\n",
      "[I 2024-03-09 16:00:47,120] Trial 65 finished with value: 2.12665906753391 and parameters: {'n_neurons_layer1': 128, 'n_neurons_layer2': 1920, 'learning_rate': 0.00243184958708547, 'dropout': 0.5}. Best is trial 62 with value: 2.12453997656703.\n"
     ]
    },
    {
     "name": "stdout",
     "output_type": "stream",
     "text": [
      "Stopped training using EarlyStopping at epoch 39\n",
      "\n",
      "**Finished training**\n",
      "\n",
      "Best validation loss (reached after 29 epochs): 2.12665906753391\n",
      "\n",
      "Training time: 0.18 minutes\n",
      "Total training time: 0.18 minutes\n",
      "Start training classifier\n",
      "\n",
      "\n",
      "Start Training\n",
      "\n"
     ]
    },
    {
     "name": "stderr",
     "output_type": "stream",
     "text": [
      " 66%|██████▌   | 33/50 [00:09<00:04,  3.64it/s]\n",
      "[I 2024-03-09 16:00:56,240] Trial 66 finished with value: 2.1256604682654143 and parameters: {'n_neurons_layer1': 128, 'n_neurons_layer2': 1600, 'learning_rate': 0.004055332216203628, 'dropout': 0.5}. Best is trial 62 with value: 2.12453997656703.\n"
     ]
    },
    {
     "name": "stdout",
     "output_type": "stream",
     "text": [
      "Stopped training using EarlyStopping at epoch 34\n",
      "\n",
      "**Finished training**\n",
      "\n",
      "Best validation loss (reached after 24 epochs): 2.1256604682654143\n",
      "\n",
      "Training time: 0.15 minutes\n",
      "Total training time: 0.15 minutes\n",
      "Start training classifier\n",
      "\n",
      "\n",
      "Start Training\n",
      "\n"
     ]
    },
    {
     "name": "stderr",
     "output_type": "stream",
     "text": [
      " 60%|██████    | 30/50 [00:08<00:05,  3.65it/s]\n",
      "[I 2024-03-09 16:01:04,506] Trial 67 finished with value: 2.1255978943780063 and parameters: {'n_neurons_layer1': 128, 'n_neurons_layer2': 1792, 'learning_rate': 0.004220105217334654, 'dropout': 0.4}. Best is trial 62 with value: 2.12453997656703.\n"
     ]
    },
    {
     "name": "stdout",
     "output_type": "stream",
     "text": [
      "Stopped training using EarlyStopping at epoch 31\n",
      "\n",
      "**Finished training**\n",
      "\n",
      "Best validation loss (reached after 21 epochs): 2.1255978943780063\n",
      "\n",
      "Training time: 0.14 minutes\n",
      "Total training time: 0.14 minutes\n",
      "Start training classifier\n",
      "\n",
      "\n",
      "Start Training\n",
      "\n"
     ]
    },
    {
     "name": "stderr",
     "output_type": "stream",
     "text": [
      " 44%|████▍     | 22/50 [00:06<00:07,  3.52it/s]\n",
      "[I 2024-03-09 16:01:10,804] Trial 68 finished with value: 2.127714510448277 and parameters: {'n_neurons_layer1': 192, 'n_neurons_layer2': 1856, 'learning_rate': 0.002999483925963272, 'dropout': 0.4}. Best is trial 62 with value: 2.12453997656703.\n"
     ]
    },
    {
     "name": "stdout",
     "output_type": "stream",
     "text": [
      "Stopped training using EarlyStopping at epoch 23\n",
      "\n",
      "**Finished training**\n",
      "\n",
      "Best validation loss (reached after 13 epochs): 2.127714510448277\n",
      "\n",
      "Training time: 0.10 minutes\n",
      "Total training time: 0.10 minutes\n",
      "Start training classifier\n",
      "\n",
      "\n",
      "Start Training\n",
      "\n"
     ]
    },
    {
     "name": "stderr",
     "output_type": "stream",
     "text": [
      " 70%|███████   | 35/50 [00:09<00:04,  3.64it/s]\n",
      "[I 2024-03-09 16:01:20,455] Trial 69 finished with value: 2.1267443576827647 and parameters: {'n_neurons_layer1': 64, 'n_neurons_layer2': 1984, 'learning_rate': 0.004955392520021342, 'dropout': 0.4}. Best is trial 62 with value: 2.12453997656703.\n"
     ]
    },
    {
     "name": "stdout",
     "output_type": "stream",
     "text": [
      "Stopped training using EarlyStopping at epoch 36\n",
      "\n",
      "**Finished training**\n",
      "\n",
      "Best validation loss (reached after 26 epochs): 2.1267443576827647\n",
      "\n",
      "Training time: 0.16 minutes\n",
      "Total training time: 0.16 minutes\n",
      "Start training classifier\n",
      "\n",
      "\n",
      "Start Training\n",
      "\n"
     ]
    },
    {
     "name": "stderr",
     "output_type": "stream",
     "text": [
      " 54%|█████▍    | 27/50 [00:07<00:06,  3.59it/s]\n",
      "[I 2024-03-09 16:01:28,027] Trial 70 finished with value: 2.125196020118892 and parameters: {'n_neurons_layer1': 192, 'n_neurons_layer2': 1792, 'learning_rate': 0.006961308038970075, 'dropout': 0.5}. Best is trial 62 with value: 2.12453997656703.\n"
     ]
    },
    {
     "name": "stdout",
     "output_type": "stream",
     "text": [
      "Stopped training using EarlyStopping at epoch 28\n",
      "\n",
      "**Finished training**\n",
      "\n",
      "Best validation loss (reached after 18 epochs): 2.125196020118892\n",
      "\n",
      "Training time: 0.13 minutes\n",
      "Total training time: 0.13 minutes\n",
      "Start training classifier\n",
      "\n",
      "\n",
      "Start Training\n",
      "\n"
     ]
    },
    {
     "name": "stderr",
     "output_type": "stream",
     "text": [
      " 72%|███████▏  | 36/50 [00:10<00:04,  3.35it/s]\n",
      "[I 2024-03-09 16:01:38,827] Trial 71 finished with value: 2.125801986642182 and parameters: {'n_neurons_layer1': 192, 'n_neurons_layer2': 1792, 'learning_rate': 0.006670768449137264, 'dropout': 0.5}. Best is trial 62 with value: 2.12453997656703.\n"
     ]
    },
    {
     "name": "stdout",
     "output_type": "stream",
     "text": [
      "Stopped training using EarlyStopping at epoch 37\n",
      "\n",
      "**Finished training**\n",
      "\n",
      "Best validation loss (reached after 27 epochs): 2.125801986642182\n",
      "\n",
      "Training time: 0.18 minutes\n",
      "Total training time: 0.18 minutes\n",
      "Start training classifier\n",
      "\n",
      "\n",
      "Start Training\n",
      "\n"
     ]
    },
    {
     "name": "stderr",
     "output_type": "stream",
     "text": [
      " 50%|█████     | 25/50 [00:07<00:07,  3.25it/s]\n",
      "[I 2024-03-09 16:01:46,582] Trial 72 finished with value: 2.127222028747201 and parameters: {'n_neurons_layer1': 256, 'n_neurons_layer2': 1792, 'learning_rate': 0.0035172316329519534, 'dropout': 0.5}. Best is trial 62 with value: 2.12453997656703.\n"
     ]
    },
    {
     "name": "stdout",
     "output_type": "stream",
     "text": [
      "Stopped training using EarlyStopping at epoch 26\n",
      "\n",
      "**Finished training**\n",
      "\n",
      "Best validation loss (reached after 16 epochs): 2.127222028747201\n",
      "\n",
      "Training time: 0.13 minutes\n",
      "Total training time: 0.13 minutes\n",
      "Start training classifier\n",
      "\n",
      "\n",
      "Start Training\n",
      "\n"
     ]
    },
    {
     "name": "stderr",
     "output_type": "stream",
     "text": [
      " 78%|███████▊  | 39/50 [00:11<00:03,  3.47it/s]\n",
      "[I 2024-03-09 16:01:57,882] Trial 73 finished with value: 2.125971111655235 and parameters: {'n_neurons_layer1': 128, 'n_neurons_layer2': 1984, 'learning_rate': 0.007552312742975945, 'dropout': 0.5}. Best is trial 62 with value: 2.12453997656703.\n"
     ]
    },
    {
     "name": "stdout",
     "output_type": "stream",
     "text": [
      "Stopped training using EarlyStopping at epoch 40\n",
      "\n",
      "**Finished training**\n",
      "\n",
      "Best validation loss (reached after 30 epochs): 2.125971111655235\n",
      "\n",
      "Training time: 0.19 minutes\n",
      "Total training time: 0.19 minutes\n",
      "Start training classifier\n",
      "\n",
      "\n",
      "Start Training\n",
      "\n"
     ]
    },
    {
     "name": "stderr",
     "output_type": "stream",
     "text": [
      "100%|██████████| 50/50 [00:13<00:00,  3.76it/s]\n",
      "[I 2024-03-09 16:02:11,226] Trial 74 finished with value: 2.1255531299859287 and parameters: {'n_neurons_layer1': 64, 'n_neurons_layer2': 1600, 'learning_rate': 0.005377272878006374, 'dropout': 0.5}. Best is trial 62 with value: 2.12453997656703.\n"
     ]
    },
    {
     "name": "stdout",
     "output_type": "stream",
     "text": [
      "\n",
      "**Finished training**\n",
      "\n",
      "Best validation loss (reached after 44 epochs): 2.1255531299859287\n",
      "\n",
      "Training time: 0.22 minutes\n",
      "Total training time: 0.22 minutes\n",
      "Start training classifier\n",
      "\n",
      "\n",
      "Start Training\n",
      "\n"
     ]
    },
    {
     "name": "stderr",
     "output_type": "stream",
     "text": [
      "100%|██████████| 50/50 [00:13<00:00,  3.81it/s]\n",
      "[I 2024-03-09 16:02:24,397] Trial 75 finished with value: 2.1273312954232098 and parameters: {'n_neurons_layer1': 64, 'n_neurons_layer2': 1600, 'learning_rate': 0.005592867196188424, 'dropout': 0.5}. Best is trial 62 with value: 2.12453997656703.\n"
     ]
    },
    {
     "name": "stdout",
     "output_type": "stream",
     "text": [
      "\n",
      "**Finished training**\n",
      "\n",
      "Best validation loss (reached after 44 epochs): 2.1273312954232098\n",
      "\n",
      "Training time: 0.22 minutes\n",
      "Total training time: 0.22 minutes\n",
      "Start training classifier\n",
      "\n",
      "\n",
      "Start Training\n",
      "\n"
     ]
    },
    {
     "name": "stderr",
     "output_type": "stream",
     "text": [
      " 60%|██████    | 30/50 [00:08<00:05,  3.57it/s]\n",
      "[I 2024-03-09 16:02:32,858] Trial 76 finished with value: 2.1265576861798765 and parameters: {'n_neurons_layer1': 192, 'n_neurons_layer2': 1664, 'learning_rate': 0.0049147221595424034, 'dropout': 0.5}. Best is trial 62 with value: 2.12453997656703.\n"
     ]
    },
    {
     "name": "stdout",
     "output_type": "stream",
     "text": [
      "Stopped training using EarlyStopping at epoch 31\n",
      "\n",
      "**Finished training**\n",
      "\n",
      "Best validation loss (reached after 21 epochs): 2.1265576861798765\n",
      "\n",
      "Training time: 0.14 minutes\n",
      "Total training time: 0.14 minutes\n",
      "Start training classifier\n",
      "\n",
      "\n",
      "Start Training\n",
      "\n"
     ]
    },
    {
     "name": "stderr",
     "output_type": "stream",
     "text": [
      " 76%|███████▌  | 38/50 [00:10<00:03,  3.53it/s]\n",
      "[I 2024-03-09 16:02:43,660] Trial 77 finished with value: 2.126502521894872 and parameters: {'n_neurons_layer1': 320, 'n_neurons_layer2': 1472, 'learning_rate': 0.0029646858490063994, 'dropout': 0.5}. Best is trial 62 with value: 2.12453997656703.\n"
     ]
    },
    {
     "name": "stdout",
     "output_type": "stream",
     "text": [
      "Stopped training using EarlyStopping at epoch 39\n",
      "\n",
      "**Finished training**\n",
      "\n",
      "Best validation loss (reached after 29 epochs): 2.126502521894872\n",
      "\n",
      "Training time: 0.18 minutes\n",
      "Total training time: 0.18 minutes\n",
      "Start training classifier\n",
      "\n",
      "\n",
      "Start Training\n",
      "\n"
     ]
    },
    {
     "name": "stderr",
     "output_type": "stream",
     "text": [
      " 44%|████▍     | 22/50 [00:06<00:07,  3.55it/s]\n",
      "[I 2024-03-09 16:02:49,913] Trial 78 finished with value: 2.1260666007176043 and parameters: {'n_neurons_layer1': 256, 'n_neurons_layer2': 1472, 'learning_rate': 0.0020594959848688195, 'dropout': 0.5}. Best is trial 62 with value: 2.12453997656703.\n"
     ]
    },
    {
     "name": "stdout",
     "output_type": "stream",
     "text": [
      "Stopped training using EarlyStopping at epoch 23\n",
      "\n",
      "**Finished training**\n",
      "\n",
      "Best validation loss (reached after 13 epochs): 2.1260666007176043\n",
      "\n",
      "Training time: 0.10 minutes\n",
      "Total training time: 0.10 minutes\n",
      "Start training classifier\n",
      "\n",
      "\n",
      "Start Training\n",
      "\n"
     ]
    },
    {
     "name": "stderr",
     "output_type": "stream",
     "text": [
      "100%|██████████| 50/50 [00:13<00:00,  3.74it/s]\n",
      "[I 2024-03-09 16:03:03,326] Trial 79 finished with value: 2.1294085348024963 and parameters: {'n_neurons_layer1': 64, 'n_neurons_layer2': 1600, 'learning_rate': 0.008172879698409899, 'dropout': 0.5}. Best is trial 62 with value: 2.12453997656703.\n"
     ]
    },
    {
     "name": "stdout",
     "output_type": "stream",
     "text": [
      "\n",
      "**Finished training**\n",
      "\n",
      "Best validation loss (reached after 43 epochs): 2.1294085348024963\n",
      "\n",
      "Training time: 0.22 minutes\n",
      "Total training time: 0.22 minutes\n",
      "Start training classifier\n",
      "\n",
      "\n",
      "Start Training\n",
      "\n"
     ]
    },
    {
     "name": "stderr",
     "output_type": "stream",
     "text": [
      " 60%|██████    | 30/50 [00:08<00:05,  3.61it/s]\n",
      "[I 2024-03-09 16:03:11,688] Trial 80 finished with value: 2.125902679376304 and parameters: {'n_neurons_layer1': 128, 'n_neurons_layer2': 1536, 'learning_rate': 0.003672675592275968, 'dropout': 0.5}. Best is trial 62 with value: 2.12453997656703.\n"
     ]
    },
    {
     "name": "stdout",
     "output_type": "stream",
     "text": [
      "Stopped training using EarlyStopping at epoch 31\n",
      "\n",
      "**Finished training**\n",
      "\n",
      "Best validation loss (reached after 21 epochs): 2.125902679376304\n",
      "\n",
      "Training time: 0.14 minutes\n",
      "Total training time: 0.14 minutes\n",
      "Start training classifier\n",
      "\n",
      "\n",
      "Start Training\n",
      "\n"
     ]
    },
    {
     "name": "stderr",
     "output_type": "stream",
     "text": [
      " 72%|███████▏  | 36/50 [00:09<00:03,  3.63it/s]\n",
      "[I 2024-03-09 16:03:21,660] Trial 81 finished with value: 2.1261114010587336 and parameters: {'n_neurons_layer1': 128, 'n_neurons_layer2': 1792, 'learning_rate': 0.004616612529095135, 'dropout': 0.4}. Best is trial 62 with value: 2.12453997656703.\n"
     ]
    },
    {
     "name": "stdout",
     "output_type": "stream",
     "text": [
      "Stopped training using EarlyStopping at epoch 37\n",
      "\n",
      "**Finished training**\n",
      "\n",
      "Best validation loss (reached after 27 epochs): 2.1261114010587336\n",
      "\n",
      "Training time: 0.17 minutes\n",
      "Total training time: 0.17 minutes\n",
      "Start training classifier\n",
      "\n",
      "\n",
      "Start Training\n",
      "\n"
     ]
    },
    {
     "name": "stderr",
     "output_type": "stream",
     "text": [
      " 58%|█████▊    | 29/50 [00:08<00:05,  3.56it/s]\n",
      "[I 2024-03-09 16:03:29,854] Trial 82 finished with value: 2.125931956991553 and parameters: {'n_neurons_layer1': 192, 'n_neurons_layer2': 1920, 'learning_rate': 0.0027555431892210204, 'dropout': 0.5}. Best is trial 62 with value: 2.12453997656703.\n"
     ]
    },
    {
     "name": "stdout",
     "output_type": "stream",
     "text": [
      "Stopped training using EarlyStopping at epoch 30\n",
      "\n",
      "**Finished training**\n",
      "\n",
      "Best validation loss (reached after 20 epochs): 2.125931956991553\n",
      "\n",
      "Training time: 0.14 minutes\n",
      "Total training time: 0.14 minutes\n",
      "Start training classifier\n",
      "\n",
      "\n",
      "Start Training\n",
      "\n"
     ]
    },
    {
     "name": "stderr",
     "output_type": "stream",
     "text": [
      " 86%|████████▌ | 43/50 [00:12<00:01,  3.58it/s]\n",
      "[I 2024-03-09 16:03:41,902] Trial 83 finished with value: 2.1259224193170665 and parameters: {'n_neurons_layer1': 256, 'n_neurons_layer2': 1728, 'learning_rate': 0.007013217886623618, 'dropout': 0.5}. Best is trial 62 with value: 2.12453997656703.\n"
     ]
    },
    {
     "name": "stdout",
     "output_type": "stream",
     "text": [
      "Stopped training using EarlyStopping at epoch 44\n",
      "\n",
      "**Finished training**\n",
      "\n",
      "Best validation loss (reached after 34 epochs): 2.1259224193170665\n",
      "\n",
      "Training time: 0.20 minutes\n",
      "Total training time: 0.20 minutes\n",
      "Start training classifier\n",
      "\n",
      "\n",
      "Start Training\n",
      "\n"
     ]
    },
    {
     "name": "stderr",
     "output_type": "stream",
     "text": [
      "100%|██████████| 50/50 [00:13<00:00,  3.82it/s]\n",
      "[I 2024-03-09 16:03:55,024] Trial 84 finished with value: 2.1257647229358554 and parameters: {'n_neurons_layer1': 64, 'n_neurons_layer2': 1856, 'learning_rate': 0.005452219994882836, 'dropout': 0.4}. Best is trial 62 with value: 2.12453997656703.\n"
     ]
    },
    {
     "name": "stdout",
     "output_type": "stream",
     "text": [
      "\n",
      "**Finished training**\n",
      "\n",
      "Best validation loss (reached after 44 epochs): 2.1257647229358554\n",
      "\n",
      "Training time: 0.22 minutes\n",
      "Total training time: 0.22 minutes\n",
      "Start training classifier\n",
      "\n",
      "\n",
      "Start Training\n",
      "\n"
     ]
    },
    {
     "name": "stderr",
     "output_type": "stream",
     "text": [
      " 44%|████▍     | 22/50 [00:06<00:07,  3.55it/s]\n",
      "[I 2024-03-09 16:04:01,266] Trial 85 finished with value: 2.1268076322972775 and parameters: {'n_neurons_layer1': 320, 'n_neurons_layer2': 1664, 'learning_rate': 0.004128577493064189, 'dropout': 0.5}. Best is trial 62 with value: 2.12453997656703.\n"
     ]
    },
    {
     "name": "stdout",
     "output_type": "stream",
     "text": [
      "Stopped training using EarlyStopping at epoch 23\n",
      "\n",
      "**Finished training**\n",
      "\n",
      "Best validation loss (reached after 13 epochs): 2.1268076322972775\n",
      "\n",
      "Training time: 0.10 minutes\n",
      "Total training time: 0.10 minutes\n",
      "Start training classifier\n",
      "\n",
      "\n",
      "Start Training\n",
      "\n"
     ]
    },
    {
     "name": "stderr",
     "output_type": "stream",
     "text": [
      " 72%|███████▏  | 36/50 [00:09<00:03,  3.69it/s]\n",
      "[I 2024-03-09 16:04:11,061] Trial 86 finished with value: 2.1255920335650442 and parameters: {'n_neurons_layer1': 128, 'n_neurons_layer2': 1792, 'learning_rate': 0.0024329036026183716, 'dropout': 0.5}. Best is trial 62 with value: 2.12453997656703.\n"
     ]
    },
    {
     "name": "stdout",
     "output_type": "stream",
     "text": [
      "Stopped training using EarlyStopping at epoch 37\n",
      "\n",
      "**Finished training**\n",
      "\n",
      "Best validation loss (reached after 27 epochs): 2.1255920335650442\n",
      "\n",
      "Training time: 0.16 minutes\n",
      "Total training time: 0.16 minutes\n",
      "Start training classifier\n",
      "\n",
      "\n",
      "Start Training\n",
      "\n"
     ]
    },
    {
     "name": "stderr",
     "output_type": "stream",
     "text": [
      " 76%|███████▌  | 38/50 [00:10<00:03,  3.62it/s]\n",
      "[I 2024-03-09 16:04:21,607] Trial 87 finished with value: 2.1263602225109937 and parameters: {'n_neurons_layer1': 192, 'n_neurons_layer2': 1984, 'learning_rate': 0.0015857240121056326, 'dropout': 0.5}. Best is trial 62 with value: 2.12453997656703.\n"
     ]
    },
    {
     "name": "stdout",
     "output_type": "stream",
     "text": [
      "Stopped training using EarlyStopping at epoch 39\n",
      "\n",
      "**Finished training**\n",
      "\n",
      "Best validation loss (reached after 29 epochs): 2.1263602225109937\n",
      "\n",
      "Training time: 0.18 minutes\n",
      "Total training time: 0.18 minutes\n",
      "Start training classifier\n",
      "\n",
      "\n",
      "Start Training\n",
      "\n"
     ]
    },
    {
     "name": "stderr",
     "output_type": "stream",
     "text": [
      "100%|██████████| 50/50 [00:14<00:00,  3.53it/s]\n",
      "[I 2024-03-09 16:04:35,808] Trial 88 finished with value: 2.126103750988841 and parameters: {'n_neurons_layer1': 64, 'n_neurons_layer2': 1536, 'learning_rate': 0.0022891282759471394, 'dropout': 0.5}. Best is trial 62 with value: 2.12453997656703.\n"
     ]
    },
    {
     "name": "stdout",
     "output_type": "stream",
     "text": [
      "\n",
      "**Finished training**\n",
      "\n",
      "Best validation loss (reached after 44 epochs): 2.126103750988841\n",
      "\n",
      "Training time: 0.24 minutes\n",
      "Total training time: 0.24 minutes\n",
      "Start training classifier\n",
      "\n",
      "\n",
      "Start Training\n",
      "\n"
     ]
    },
    {
     "name": "stderr",
     "output_type": "stream",
     "text": [
      " 48%|████▊     | 24/50 [00:06<00:07,  3.47it/s]\n",
      "[I 2024-03-09 16:04:42,780] Trial 89 finished with value: 2.125999326072633 and parameters: {'n_neurons_layer1': 256, 'n_neurons_layer2': 1344, 'learning_rate': 0.0018681729112445384, 'dropout': 0.5}. Best is trial 62 with value: 2.12453997656703.\n"
     ]
    },
    {
     "name": "stdout",
     "output_type": "stream",
     "text": [
      "Stopped training using EarlyStopping at epoch 25\n",
      "\n",
      "**Finished training**\n",
      "\n",
      "Best validation loss (reached after 15 epochs): 2.125999326072633\n",
      "\n",
      "Training time: 0.12 minutes\n",
      "Total training time: 0.12 minutes\n",
      "Start training classifier\n",
      "\n",
      "\n",
      "Start Training\n",
      "\n"
     ]
    },
    {
     "name": "stderr",
     "output_type": "stream",
     "text": [
      " 52%|█████▏    | 26/50 [00:07<00:07,  3.38it/s]\n",
      "[I 2024-03-09 16:04:50,519] Trial 90 finished with value: 2.126180068217218 and parameters: {'n_neurons_layer1': 384, 'n_neurons_layer2': 1728, 'learning_rate': 0.00324653474579761, 'dropout': 0.5}. Best is trial 62 with value: 2.12453997656703.\n"
     ]
    },
    {
     "name": "stdout",
     "output_type": "stream",
     "text": [
      "Stopped training using EarlyStopping at epoch 27\n",
      "\n",
      "**Finished training**\n",
      "\n",
      "Best validation loss (reached after 17 epochs): 2.126180068217218\n",
      "\n",
      "Training time: 0.13 minutes\n",
      "Total training time: 0.13 minutes\n",
      "Start training classifier\n",
      "\n",
      "\n",
      "Start Training\n",
      "\n"
     ]
    },
    {
     "name": "stderr",
     "output_type": "stream",
     "text": [
      " 58%|█████▊    | 29/50 [00:09<00:07,  2.98it/s]\n",
      "[I 2024-03-09 16:05:00,379] Trial 91 finished with value: 2.127919719554484 and parameters: {'n_neurons_layer1': 2048, 'n_neurons_layer2': 1792, 'learning_rate': 0.0024486078101139757, 'dropout': 0.5}. Best is trial 62 with value: 2.12453997656703.\n"
     ]
    },
    {
     "name": "stdout",
     "output_type": "stream",
     "text": [
      "Stopped training using EarlyStopping at epoch 30\n",
      "\n",
      "**Finished training**\n",
      "\n",
      "Best validation loss (reached after 20 epochs): 2.127919719554484\n",
      "\n",
      "Training time: 0.16 minutes\n",
      "Total training time: 0.16 minutes\n",
      "Start training classifier\n",
      "\n",
      "\n",
      "Start Training\n",
      "\n"
     ]
    },
    {
     "name": "stderr",
     "output_type": "stream",
     "text": [
      " 50%|█████     | 25/50 [00:06<00:06,  3.82it/s]\n",
      "[I 2024-03-09 16:05:06,981] Trial 92 finished with value: 2.1267314750701187 and parameters: {'n_neurons_layer1': 128, 'n_neurons_layer2': 1856, 'learning_rate': 0.002753161938912707, 'dropout': 0.5}. Best is trial 62 with value: 2.12453997656703.\n"
     ]
    },
    {
     "name": "stdout",
     "output_type": "stream",
     "text": [
      "Stopped training using EarlyStopping at epoch 26\n",
      "\n",
      "**Finished training**\n",
      "\n",
      "Best validation loss (reached after 16 epochs): 2.1267314750701187\n",
      "\n",
      "Training time: 0.11 minutes\n",
      "Total training time: 0.11 minutes\n",
      "Start training classifier\n",
      "\n",
      "\n",
      "Start Training\n",
      "\n"
     ]
    },
    {
     "name": "stderr",
     "output_type": "stream",
     "text": [
      "100%|██████████| 50/50 [00:12<00:00,  3.97it/s]\n",
      "[I 2024-03-09 16:05:19,629] Trial 93 finished with value: 2.135942605882883 and parameters: {'n_neurons_layer1': 128, 'n_neurons_layer2': 1664, 'learning_rate': 0.0001168945413679069, 'dropout': 0.4}. Best is trial 62 with value: 2.12453997656703.\n"
     ]
    },
    {
     "name": "stdout",
     "output_type": "stream",
     "text": [
      "\n",
      "**Finished training**\n",
      "\n",
      "Best validation loss (reached after 48 epochs): 2.135942605882883\n",
      "\n",
      "Training time: 0.21 minutes\n",
      "Total training time: 0.21 minutes\n",
      "Start training classifier\n",
      "\n",
      "\n",
      "Start Training\n",
      "\n"
     ]
    },
    {
     "name": "stderr",
     "output_type": "stream",
     "text": [
      " 76%|███████▌  | 38/50 [00:10<00:03,  3.61it/s]\n",
      "[I 2024-03-09 16:05:30,209] Trial 94 finished with value: 2.1267022205516697 and parameters: {'n_neurons_layer1': 192, 'n_neurons_layer2': 1792, 'learning_rate': 0.003741765593268074, 'dropout': 0.5}. Best is trial 62 with value: 2.12453997656703.\n"
     ]
    },
    {
     "name": "stdout",
     "output_type": "stream",
     "text": [
      "Stopped training using EarlyStopping at epoch 39\n",
      "\n",
      "**Finished training**\n",
      "\n",
      "Best validation loss (reached after 29 epochs): 2.1267022205516697\n",
      "\n",
      "Training time: 0.18 minutes\n",
      "Total training time: 0.18 minutes\n",
      "Start training classifier\n",
      "\n",
      "\n",
      "Start Training\n",
      "\n"
     ]
    },
    {
     "name": "stderr",
     "output_type": "stream",
     "text": [
      " 52%|█████▏    | 26/50 [00:07<00:06,  3.57it/s]\n",
      "[I 2024-03-09 16:05:37,535] Trial 95 finished with value: 2.1293755177408458 and parameters: {'n_neurons_layer1': 64, 'n_neurons_layer2': 1920, 'learning_rate': 0.00142983135312355, 'dropout': 0.5}. Best is trial 62 with value: 2.12453997656703.\n"
     ]
    },
    {
     "name": "stdout",
     "output_type": "stream",
     "text": [
      "Stopped training using EarlyStopping at epoch 27\n",
      "\n",
      "**Finished training**\n",
      "\n",
      "Best validation loss (reached after 17 epochs): 2.1293755177408458\n",
      "\n",
      "Training time: 0.12 minutes\n",
      "Total training time: 0.12 minutes\n",
      "Start training classifier\n",
      "\n",
      "\n",
      "Start Training\n",
      "\n"
     ]
    },
    {
     "name": "stderr",
     "output_type": "stream",
     "text": [
      " 76%|███████▌  | 38/50 [00:10<00:03,  3.62it/s]\n",
      "[I 2024-03-09 16:05:48,083] Trial 96 finished with value: 2.125121912918985 and parameters: {'n_neurons_layer1': 128, 'n_neurons_layer2': 1472, 'learning_rate': 0.001108377803689541, 'dropout': 0.5}. Best is trial 62 with value: 2.12453997656703.\n"
     ]
    },
    {
     "name": "stdout",
     "output_type": "stream",
     "text": [
      "Stopped training using EarlyStopping at epoch 39\n",
      "\n",
      "**Finished training**\n",
      "\n",
      "Best validation loss (reached after 29 epochs): 2.125121912918985\n",
      "\n",
      "Training time: 0.18 minutes\n",
      "Total training time: 0.18 minutes\n",
      "Start training classifier\n",
      "\n",
      "\n",
      "Start Training\n",
      "\n"
     ]
    },
    {
     "name": "stderr",
     "output_type": "stream",
     "text": [
      " 48%|████▊     | 24/50 [00:06<00:07,  3.56it/s]\n",
      "[I 2024-03-09 16:05:54,881] Trial 97 finished with value: 2.126155860722065 and parameters: {'n_neurons_layer1': 320, 'n_neurons_layer2': 1344, 'learning_rate': 0.0011267489192385472, 'dropout': 0.5}. Best is trial 62 with value: 2.12453997656703.\n"
     ]
    },
    {
     "name": "stdout",
     "output_type": "stream",
     "text": [
      "Stopped training using EarlyStopping at epoch 25\n",
      "\n",
      "**Finished training**\n",
      "\n",
      "Best validation loss (reached after 15 epochs): 2.126155860722065\n",
      "\n",
      "Training time: 0.11 minutes\n",
      "Total training time: 0.11 minutes\n",
      "Start training classifier\n",
      "\n",
      "\n",
      "Start Training\n",
      "\n"
     ]
    },
    {
     "name": "stderr",
     "output_type": "stream",
     "text": [
      " 70%|███████   | 35/50 [00:09<00:04,  3.63it/s]\n",
      "[I 2024-03-09 16:06:04,574] Trial 98 finished with value: 2.125986054353416 and parameters: {'n_neurons_layer1': 192, 'n_neurons_layer2': 1472, 'learning_rate': 0.0016751678153339349, 'dropout': 0.5}. Best is trial 62 with value: 2.12453997656703.\n"
     ]
    },
    {
     "name": "stdout",
     "output_type": "stream",
     "text": [
      "Stopped training using EarlyStopping at epoch 36\n",
      "\n",
      "**Finished training**\n",
      "\n",
      "Best validation loss (reached after 26 epochs): 2.125986054353416\n",
      "\n",
      "Training time: 0.16 minutes\n",
      "Total training time: 0.16 minutes\n",
      "Start training classifier\n",
      "\n",
      "\n",
      "Start Training\n",
      "\n"
     ]
    },
    {
     "name": "stderr",
     "output_type": "stream",
     "text": [
      " 50%|█████     | 25/50 [00:07<00:07,  3.50it/s]\n",
      "[I 2024-03-09 16:06:11,753] Trial 99 finished with value: 2.125699944794178 and parameters: {'n_neurons_layer1': 256, 'n_neurons_layer2': 1600, 'learning_rate': 0.0019927203635134285, 'dropout': 0.5}. Best is trial 62 with value: 2.12453997656703.\n"
     ]
    },
    {
     "name": "stdout",
     "output_type": "stream",
     "text": [
      "Stopped training using EarlyStopping at epoch 26\n",
      "\n",
      "**Finished training**\n",
      "\n",
      "Best validation loss (reached after 16 epochs): 2.125699944794178\n",
      "\n",
      "Training time: 0.12 minutes\n",
      "Total training time: 0.12 minutes\n",
      "Number of finished trials:  100\n",
      "Best trial:\n",
      "  Value:  2.12453997656703\n",
      "  Params: \n",
      "    n_neurons_layer1: 128\n",
      "    n_neurons_layer2: 1792\n",
      "    learning_rate: 0.0022138465739721\n",
      "    dropout: 0.5\n",
      "Start training classifier\n",
      "\n",
      "\n",
      "Start Training\n",
      "\n"
     ]
    },
    {
     "name": "stderr",
     "output_type": "stream",
     "text": [
      "  2%|▏         | 1/50 [00:00<00:13,  3.76it/s]"
     ]
    },
    {
     "name": "stdout",
     "output_type": "stream",
     "text": [
      "Epoch 1 | Training loss: 2.9954 | Training Accuracy: 0.039806547619047616 | Validation loss: 2.9955 | Validation Accuracy: 0.0546875\n"
     ]
    },
    {
     "name": "stderr",
     "output_type": "stream",
     "text": [
      "  4%|▍         | 2/50 [00:00<00:12,  3.74it/s]"
     ]
    },
    {
     "name": "stdout",
     "output_type": "stream",
     "text": [
      "Epoch 2 | Training loss: 2.5483 | Training Accuracy: 0.6588541666666666 | Validation loss: 2.2753 | Validation Accuracy: 0.8671875\n"
     ]
    },
    {
     "name": "stderr",
     "output_type": "stream",
     "text": [
      "  6%|▌         | 3/50 [00:00<00:12,  3.74it/s]"
     ]
    },
    {
     "name": "stdout",
     "output_type": "stream",
     "text": [
      "Epoch 3 | Training loss: 2.1784 | Training Accuracy: 0.9177827380952381 | Validation loss: 2.1704 | Validation Accuracy: 0.909375\n"
     ]
    },
    {
     "name": "stderr",
     "output_type": "stream",
     "text": [
      "  8%|▊         | 4/50 [00:01<00:12,  3.67it/s]"
     ]
    },
    {
     "name": "stdout",
     "output_type": "stream",
     "text": [
      "Epoch 4 | Training loss: 2.1333 | Training Accuracy: 0.9482886904761905 | Validation loss: 2.1594 | Validation Accuracy: 0.9203125\n"
     ]
    },
    {
     "name": "stderr",
     "output_type": "stream",
     "text": [
      " 10%|█         | 5/50 [00:01<00:12,  3.70it/s]"
     ]
    },
    {
     "name": "stdout",
     "output_type": "stream",
     "text": [
      "Epoch 5 | Training loss: 2.1223 | Training Accuracy: 0.9575892857142857 | Validation loss: 2.1560 | Validation Accuracy: 0.92265625\n"
     ]
    },
    {
     "name": "stderr",
     "output_type": "stream",
     "text": [
      " 12%|█▏        | 6/50 [00:01<00:12,  3.55it/s]"
     ]
    },
    {
     "name": "stdout",
     "output_type": "stream",
     "text": [
      "Epoch 6 | Training loss: 2.1141 | Training Accuracy: 0.9668898809523809 | Validation loss: 2.1464 | Validation Accuracy: 0.9328125\n"
     ]
    },
    {
     "name": "stderr",
     "output_type": "stream",
     "text": [
      " 14%|█▍        | 7/50 [00:01<00:11,  3.60it/s]"
     ]
    },
    {
     "name": "stdout",
     "output_type": "stream",
     "text": [
      "Epoch 7 | Training loss: 2.1080 | Training Accuracy: 0.9724702380952381 | Validation loss: 2.1373 | Validation Accuracy: 0.94765625\n"
     ]
    },
    {
     "name": "stderr",
     "output_type": "stream",
     "text": [
      " 16%|█▌        | 8/50 [00:02<00:11,  3.62it/s]"
     ]
    },
    {
     "name": "stdout",
     "output_type": "stream",
     "text": [
      "Epoch 8 | Training loss: 2.0944 | Training Accuracy: 0.9866071428571429 | Validation loss: 2.1316 | Validation Accuracy: 0.946875\n"
     ]
    },
    {
     "name": "stderr",
     "output_type": "stream",
     "text": [
      " 18%|█▊        | 9/50 [00:02<00:11,  3.63it/s]"
     ]
    },
    {
     "name": "stdout",
     "output_type": "stream",
     "text": [
      "Epoch 9 | Training loss: 2.0923 | Training Accuracy: 0.9873511904761905 | Validation loss: 2.1316 | Validation Accuracy: 0.95\n"
     ]
    },
    {
     "name": "stderr",
     "output_type": "stream",
     "text": [
      " 20%|██        | 10/50 [00:02<00:10,  3.70it/s]"
     ]
    },
    {
     "name": "stdout",
     "output_type": "stream",
     "text": [
      "Epoch 10 | Training loss: 2.0938 | Training Accuracy: 0.9858630952380952 | Validation loss: 2.1326 | Validation Accuracy: 0.94609375\n"
     ]
    },
    {
     "name": "stderr",
     "output_type": "stream",
     "text": [
      " 22%|██▏       | 11/50 [00:03<00:10,  3.68it/s]"
     ]
    },
    {
     "name": "stdout",
     "output_type": "stream",
     "text": [
      "Epoch 11 | Training loss: 2.0942 | Training Accuracy: 0.9860491071428571 | Validation loss: 2.1362 | Validation Accuracy: 0.940625\n"
     ]
    },
    {
     "name": "stderr",
     "output_type": "stream",
     "text": [
      " 24%|██▍       | 12/50 [00:03<00:10,  3.72it/s]"
     ]
    },
    {
     "name": "stdout",
     "output_type": "stream",
     "text": [
      "Epoch 12 | Training loss: 2.0916 | Training Accuracy: 0.9879092261904762 | Validation loss: 2.1326 | Validation Accuracy: 0.94609375\n"
     ]
    },
    {
     "name": "stderr",
     "output_type": "stream",
     "text": [
      " 26%|██▌       | 13/50 [00:03<00:10,  3.66it/s]"
     ]
    },
    {
     "name": "stdout",
     "output_type": "stream",
     "text": [
      "Epoch 13 | Training loss: 2.0916 | Training Accuracy: 0.9875372023809523 | Validation loss: 2.1314 | Validation Accuracy: 0.946875\n"
     ]
    },
    {
     "name": "stderr",
     "output_type": "stream",
     "text": [
      " 28%|██▊       | 14/50 [00:03<00:09,  3.70it/s]"
     ]
    },
    {
     "name": "stdout",
     "output_type": "stream",
     "text": [
      "Epoch 14 | Training loss: 2.0924 | Training Accuracy: 0.9862351190476191 | Validation loss: 2.1319 | Validation Accuracy: 0.94765625\n"
     ]
    },
    {
     "name": "stderr",
     "output_type": "stream",
     "text": [
      " 30%|███       | 15/50 [00:04<00:09,  3.72it/s]"
     ]
    },
    {
     "name": "stdout",
     "output_type": "stream",
     "text": [
      "Epoch 15 | Training loss: 2.0911 | Training Accuracy: 0.9884672619047619 | Validation loss: 2.1301 | Validation Accuracy: 0.95\n"
     ]
    },
    {
     "name": "stderr",
     "output_type": "stream",
     "text": [
      " 32%|███▏      | 16/50 [00:04<00:09,  3.74it/s]"
     ]
    },
    {
     "name": "stdout",
     "output_type": "stream",
     "text": [
      "Epoch 16 | Training loss: 2.0890 | Training Accuracy: 0.9918154761904762 | Validation loss: 2.1282 | Validation Accuracy: 0.95234375\n"
     ]
    },
    {
     "name": "stderr",
     "output_type": "stream",
     "text": [
      " 34%|███▍      | 17/50 [00:04<00:09,  3.56it/s]"
     ]
    },
    {
     "name": "stdout",
     "output_type": "stream",
     "text": [
      "Epoch 17 | Training loss: 2.0869 | Training Accuracy: 0.9929315476190477 | Validation loss: 2.1260 | Validation Accuracy: 0.953125\n"
     ]
    },
    {
     "name": "stderr",
     "output_type": "stream",
     "text": [
      " 36%|███▌      | 18/50 [00:04<00:08,  3.58it/s]"
     ]
    },
    {
     "name": "stdout",
     "output_type": "stream",
     "text": [
      "Epoch 18 | Training loss: 2.0885 | Training Accuracy: 0.9906994047619048 | Validation loss: 2.1251 | Validation Accuracy: 0.95546875\n"
     ]
    },
    {
     "name": "stderr",
     "output_type": "stream",
     "text": [
      " 38%|███▊      | 19/50 [00:05<00:08,  3.65it/s]"
     ]
    },
    {
     "name": "stdout",
     "output_type": "stream",
     "text": [
      "Epoch 19 | Training loss: 2.0873 | Training Accuracy: 0.9923735119047619 | Validation loss: 2.1266 | Validation Accuracy: 0.953125\n"
     ]
    },
    {
     "name": "stderr",
     "output_type": "stream",
     "text": [
      " 40%|████      | 20/50 [00:05<00:08,  3.70it/s]"
     ]
    },
    {
     "name": "stdout",
     "output_type": "stream",
     "text": [
      "Epoch 20 | Training loss: 2.0860 | Training Accuracy: 0.9940476190476191 | Validation loss: 2.1296 | Validation Accuracy: 0.95\n"
     ]
    },
    {
     "name": "stderr",
     "output_type": "stream",
     "text": [
      " 42%|████▏     | 21/50 [00:05<00:07,  3.73it/s]"
     ]
    },
    {
     "name": "stdout",
     "output_type": "stream",
     "text": [
      "Epoch 21 | Training loss: 2.0870 | Training Accuracy: 0.9923735119047619 | Validation loss: 2.1273 | Validation Accuracy: 0.9515625\n"
     ]
    },
    {
     "name": "stderr",
     "output_type": "stream",
     "text": [
      " 44%|████▍     | 22/50 [00:06<00:07,  3.64it/s]"
     ]
    },
    {
     "name": "stdout",
     "output_type": "stream",
     "text": [
      "Epoch 22 | Training loss: 2.0861 | Training Accuracy: 0.9934895833333334 | Validation loss: 2.1259 | Validation Accuracy: 0.953125\n"
     ]
    },
    {
     "name": "stderr",
     "output_type": "stream",
     "text": [
      " 46%|████▌     | 23/50 [00:06<00:07,  3.70it/s]"
     ]
    },
    {
     "name": "stdout",
     "output_type": "stream",
     "text": [
      "Epoch 23 | Training loss: 2.0858 | Training Accuracy: 0.9931175595238095 | Validation loss: 2.1274 | Validation Accuracy: 0.95\n"
     ]
    },
    {
     "name": "stderr",
     "output_type": "stream",
     "text": [
      " 48%|████▊     | 24/50 [00:06<00:06,  3.74it/s]"
     ]
    },
    {
     "name": "stdout",
     "output_type": "stream",
     "text": [
      "Epoch 24 | Training loss: 2.0869 | Training Accuracy: 0.9925595238095238 | Validation loss: 2.1283 | Validation Accuracy: 0.9515625\n"
     ]
    },
    {
     "name": "stderr",
     "output_type": "stream",
     "text": [
      " 50%|█████     | 25/50 [00:06<00:06,  3.77it/s]"
     ]
    },
    {
     "name": "stdout",
     "output_type": "stream",
     "text": [
      "Epoch 25 | Training loss: 2.0870 | Training Accuracy: 0.9920014880952381 | Validation loss: 2.1275 | Validation Accuracy: 0.94921875\n"
     ]
    },
    {
     "name": "stderr",
     "output_type": "stream",
     "text": [
      " 52%|█████▏    | 26/50 [00:07<00:06,  3.79it/s]"
     ]
    },
    {
     "name": "stdout",
     "output_type": "stream",
     "text": [
      "Epoch 26 | Training loss: 2.0867 | Training Accuracy: 0.9931175595238095 | Validation loss: 2.1271 | Validation Accuracy: 0.95\n"
     ]
    },
    {
     "name": "stderr",
     "output_type": "stream",
     "text": [
      " 54%|█████▍    | 27/50 [00:07<00:06,  3.70it/s]"
     ]
    },
    {
     "name": "stdout",
     "output_type": "stream",
     "text": [
      "Epoch 27 | Training loss: 2.0854 | Training Accuracy: 0.9942336309523809 | Validation loss: 2.1245 | Validation Accuracy: 0.95390625\n"
     ]
    },
    {
     "name": "stderr",
     "output_type": "stream",
     "text": [
      " 56%|█████▌    | 28/50 [00:07<00:06,  3.61it/s]"
     ]
    },
    {
     "name": "stdout",
     "output_type": "stream",
     "text": [
      "Epoch 28 | Training loss: 2.0853 | Training Accuracy: 0.9947916666666666 | Validation loss: 2.1281 | Validation Accuracy: 0.95\n"
     ]
    },
    {
     "name": "stderr",
     "output_type": "stream",
     "text": [
      " 58%|█████▊    | 29/50 [00:07<00:05,  3.64it/s]"
     ]
    },
    {
     "name": "stdout",
     "output_type": "stream",
     "text": [
      "Epoch 29 | Training loss: 2.0870 | Training Accuracy: 0.9927455357142857 | Validation loss: 2.1273 | Validation Accuracy: 0.95234375\n"
     ]
    },
    {
     "name": "stderr",
     "output_type": "stream",
     "text": [
      " 60%|██████    | 30/50 [00:08<00:05,  3.70it/s]"
     ]
    },
    {
     "name": "stdout",
     "output_type": "stream",
     "text": [
      "Epoch 30 | Training loss: 2.0856 | Training Accuracy: 0.9934895833333334 | Validation loss: 2.1280 | Validation Accuracy: 0.9484375\n"
     ]
    },
    {
     "name": "stderr",
     "output_type": "stream",
     "text": [
      " 62%|██████▏   | 31/50 [00:08<00:05,  3.63it/s]"
     ]
    },
    {
     "name": "stdout",
     "output_type": "stream",
     "text": [
      "Epoch 31 | Training loss: 2.0856 | Training Accuracy: 0.9944196428571429 | Validation loss: 2.1270 | Validation Accuracy: 0.95234375\n"
     ]
    },
    {
     "name": "stderr",
     "output_type": "stream",
     "text": [
      " 64%|██████▍   | 32/50 [00:08<00:04,  3.68it/s]"
     ]
    },
    {
     "name": "stdout",
     "output_type": "stream",
     "text": [
      "Epoch 32 | Training loss: 2.0851 | Training Accuracy: 0.9944196428571429 | Validation loss: 2.1271 | Validation Accuracy: 0.95\n"
     ]
    },
    {
     "name": "stderr",
     "output_type": "stream",
     "text": [
      " 66%|██████▌   | 33/50 [00:08<00:04,  3.73it/s]"
     ]
    },
    {
     "name": "stdout",
     "output_type": "stream",
     "text": [
      "Epoch 33 | Training loss: 2.0855 | Training Accuracy: 0.9944196428571429 | Validation loss: 2.1274 | Validation Accuracy: 0.95078125\n"
     ]
    },
    {
     "name": "stderr",
     "output_type": "stream",
     "text": [
      " 68%|██████▊   | 34/50 [00:09<00:04,  3.77it/s]"
     ]
    },
    {
     "name": "stdout",
     "output_type": "stream",
     "text": [
      "Epoch 34 | Training loss: 2.0844 | Training Accuracy: 0.9951636904761905 | Validation loss: 2.1272 | Validation Accuracy: 0.95\n"
     ]
    },
    {
     "name": "stderr",
     "output_type": "stream",
     "text": [
      " 70%|███████   | 35/50 [00:09<00:03,  3.80it/s]"
     ]
    },
    {
     "name": "stdout",
     "output_type": "stream",
     "text": [
      "Epoch 35 | Training loss: 2.0845 | Training Accuracy: 0.9942336309523809 | Validation loss: 2.1273 | Validation Accuracy: 0.95078125\n"
     ]
    },
    {
     "name": "stderr",
     "output_type": "stream",
     "text": [
      " 72%|███████▏  | 36/50 [00:09<00:03,  3.74it/s]"
     ]
    },
    {
     "name": "stdout",
     "output_type": "stream",
     "text": [
      "Epoch 36 | Training loss: 2.0860 | Training Accuracy: 0.9931175595238095 | Validation loss: 2.1270 | Validation Accuracy: 0.9515625\n"
     ]
    },
    {
     "name": "stderr",
     "output_type": "stream",
     "text": [
      " 72%|███████▏  | 36/50 [00:10<00:03,  3.59it/s]"
     ]
    },
    {
     "name": "stdout",
     "output_type": "stream",
     "text": [
      "Epoch 37 | Training loss: 2.0851 | Training Accuracy: 0.9946056547619048 | Validation loss: 2.1268 | Validation Accuracy: 0.95078125\n",
      "Stopped training using EarlyStopping at epoch 37\n",
      "\n",
      "**Finished training**\n",
      "\n",
      "Best validation loss (reached after 27 epochs): 2.12453997656703\n",
      "\n",
      "Training time: 0.17 minutes\n",
      "Total training time: 0.17 minutes\n"
     ]
    },
    {
     "name": "stderr",
     "output_type": "stream",
     "text": [
      "\n"
     ]
    }
   ],
   "source": [
    "scNear.train(adata=adata_train, train_classifier=True, target_key=\"cell_type\", batch_key=\"patientID\")"
   ]
  },
  {
   "cell_type": "markdown",
   "metadata": {},
   "source": [
    "## Predict on test data"
   ]
  },
  {
   "cell_type": "code",
   "execution_count": 5,
   "metadata": {},
   "outputs": [],
   "source": [
    "predictions = scNear.predict(adata=adata_test, use_classifier=True)"
   ]
  },
  {
   "cell_type": "markdown",
   "metadata": {},
   "source": [
    "## Analyze performance"
   ]
  },
  {
   "cell_type": "code",
   "execution_count": 6,
   "metadata": {},
   "outputs": [
    {
     "name": "stdout",
     "output_type": "stream",
     "text": [
      "Accuracy: 0.9490822972172883\n",
      "Balanced Accuracy: 0.9613658073083521\n",
      "F1 Score: 0.9490361620955707\n"
     ]
    }
   ],
   "source": [
    "adata_test.obs[\"prediction\"] = predictions\n",
    "\n",
    "# Extract the unique labels\n",
    "unique_labels1 = np.unique(adata_test.obs[\"cell_type\"])\n",
    "unique_labels2 = np.unique(adata_test.obs[\"prediction\"])\n",
    "unique_labels = np.unique(np.concatenate([unique_labels1,unique_labels2]))\n",
    "np.random.shuffle(unique_labels)\n",
    "\n",
    "# Convert string labels to numerical labels\n",
    "label_encoder_temp = LabelEncoder()\n",
    "label_encoder_temp.fit(unique_labels)\n",
    "y_true = label_encoder_temp.transform(adata_test.obs[\"cell_type\"])\n",
    "y_pred = label_encoder_temp.transform(adata_test.obs[\"prediction\"])\n",
    "\n",
    "# Calculate accuracy\n",
    "accuracy = accuracy_score(y_true, y_pred)\n",
    "print(\"Accuracy:\", accuracy)\n",
    "\n",
    "# Calculate balanced accuracy\n",
    "balanced_accuracy = balanced_accuracy_score(y_true, y_pred)\n",
    "print(\"Balanced Accuracy:\", balanced_accuracy)\n",
    "\n",
    "# Calculate F1 score\n",
    "f1 = f1_score(y_true, y_pred, average='weighted')\n",
    "print(\"F1 Score:\", f1)"
   ]
  }
 ],
 "metadata": {
  "kernelspec": {
   "display_name": "env",
   "language": "python",
   "name": "python3"
  },
  "language_info": {
   "codemirror_mode": {
    "name": "ipython",
    "version": 3
   },
   "file_extension": ".py",
   "mimetype": "text/x-python",
   "name": "python",
   "nbconvert_exporter": "python",
   "pygments_lexer": "ipython3",
   "version": "3.10.5"
  }
 },
 "nbformat": 4,
 "nbformat_minor": 2
}
