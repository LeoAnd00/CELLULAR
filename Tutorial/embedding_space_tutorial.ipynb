{
 "cells": [
  {
   "cell_type": "markdown",
   "metadata": {},
   "source": [
    "# Embedding Space Tutorial"
   ]
  },
  {
   "cell_type": "markdown",
   "metadata": {},
   "source": [
    "This is a tutorial for how to use the package to train a model to make an embedding space and then make predictions on new data to generate an embedding space"
   ]
  },
  {
   "cell_type": "code",
   "execution_count": 1,
   "metadata": {},
   "outputs": [
    {
     "name": "stderr",
     "output_type": "stream",
     "text": [
      "c:\\Users\\user\\Documents\\GitHub\\MT_test_repo\\env\\lib\\site-packages\\tqdm\\auto.py:21: TqdmWarning: IProgress not found. Please update jupyter and ipywidgets. See https://ipywidgets.readthedocs.io/en/stable/user_install.html\n",
      "  from .autonotebook import tqdm as notebook_tqdm\n"
     ]
    }
   ],
   "source": [
    "# Load required packages\n",
    "import scanpy as sc\n",
    "from sklearn.model_selection import StratifiedKFold\n",
    "\n",
    "import sys\n",
    "sys.path.append('../') # Add parent directory to path, since it contains the scNear package\n",
    "import scNear"
   ]
  },
  {
   "cell_type": "markdown",
   "metadata": {},
   "source": [
    "## Read data"
   ]
  },
  {
   "cell_type": "markdown",
   "metadata": {},
   "source": [
    "Start by reading Anndata and split it into a training set and a testing set. <br>\n",
    "It's worth noting that adata.X, containing the counts, should be normalized. If this isn't the case, there's a implemented normalization function in the package. Simply run *scNear.log1p_normalize(adata)* to apply scale factor and log1p normalize adata.X."
   ]
  },
  {
   "cell_type": "code",
   "execution_count": 2,
   "metadata": {},
   "outputs": [
    {
     "name": "stderr",
     "output_type": "stream",
     "text": [
      "c:\\Users\\user\\Documents\\GitHub\\MT_test_repo\\env\\lib\\site-packages\\anndata\\__init__.py:51: FutureWarning: `anndata.read` is deprecated, use `anndata.read_h5ad` instead. `ad.read` will be removed in mid 2024.\n",
      "  warnings.warn(\n",
      "c:\\Users\\user\\Documents\\GitHub\\MT_test_repo\\env\\lib\\site-packages\\anndata\\_core\\anndata.py:1906: UserWarning: Observation names are not unique. To make them unique, call `.obs_names_make_unique`.\n",
      "  utils.warn_names_duplicates(\"obs\")\n",
      "c:\\Users\\user\\Documents\\GitHub\\MT_test_repo\\env\\lib\\site-packages\\anndata\\_core\\anndata.py:1906: UserWarning: Observation names are not unique. To make them unique, call `.obs_names_make_unique`.\n",
      "  utils.warn_names_duplicates(\"obs\")\n"
     ]
    }
   ],
   "source": [
    "adata = sc.read(\"data/Baron.h5ad\", cache=True)\n",
    "\n",
    "### Split data for training and testing\n",
    "\n",
    "# Initialize Stratified K-Fold\n",
    "stratified_kfold = StratifiedKFold(n_splits=5, shuffle=True, random_state=42)\n",
    "\n",
    "# Take the first fold\n",
    "adata_train = adata.copy()\n",
    "adata_test = adata.copy()\n",
    "for train_index, test_index in stratified_kfold.split(adata.X, adata.obs[\"cell_type\"]):\n",
    "    adata_train = adata_train[train_index, :].copy()\n",
    "    adata_test = adata_test[test_index, :].copy()\n",
    "    break # Break to get the first fold"
   ]
  },
  {
   "cell_type": "code",
   "execution_count": 3,
   "metadata": {},
   "outputs": [
    {
     "name": "stdout",
     "output_type": "stream",
     "text": [
      "Train data contains 6855 cells and 14322 genes\n",
      "Test data contains 1714 cells and 14322 genes\n"
     ]
    }
   ],
   "source": [
    "print(f\"Train data contains {adata_train.X.shape[0]} cells and {adata_train.X.shape[1]} genes\")\n",
    "print(f\"Test data contains {adata_test.X.shape[0]} cells and {adata_test.X.shape[1]} genes\")"
   ]
  },
  {
   "cell_type": "markdown",
   "metadata": {},
   "source": [
    "## Train model"
   ]
  },
  {
   "cell_type": "markdown",
   "metadata": {},
   "source": [
    "Next, we want to train the model. This can simply be achieved by running the following line. <br>\n",
    "Once trained it will save all the information needed to make predictions using the model under *trained_models/*.<br>\n",
    "One needs to give the model the training Anndata, the target key in adata.obs that contains cell type information, and the batch key in adata.obs that contains the batch effect information. <br>\n",
    "For this dataset, patient ID is the batch effect of interest."
   ]
  },
  {
   "cell_type": "code",
   "execution_count": 4,
   "metadata": {},
   "outputs": [
    {
     "name": "stderr",
     "output_type": "stream",
     "text": [
      "c:\\Users\\user\\Documents\\GitHub\\MT_test_repo\\env\\lib\\site-packages\\anndata\\_core\\anndata.py:1906: UserWarning: Observation names are not unique. To make them unique, call `.obs_names_make_unique`.\n",
      "  utils.warn_names_duplicates(\"obs\")\n",
      "c:\\Users\\user\\Documents\\GitHub\\MT_test_repo\\env\\lib\\site-packages\\scanpy\\preprocessing\\_highly_variable_genes.py:258: FutureWarning: The default of observed=False is deprecated and will be changed to True in a future version of pandas. Pass observed=False to retain current behavior or observed=True to adopt the future default and silence this warning.\n",
      "  disp_grouped = df.groupby(\"mean_bin\")[\"dispersions\"]\n",
      "c:\\Users\\user\\Documents\\GitHub\\MT_test_repo\\env\\lib\\site-packages\\anndata\\_core\\anndata.py:1906: UserWarning: Observation names are not unique. To make them unique, call `.obs_names_make_unique`.\n",
      "  utils.warn_names_duplicates(\"obs\")\n",
      "c:\\Users\\user\\Documents\\GitHub\\MT_test_repo\\env\\lib\\site-packages\\anndata\\_core\\anndata.py:1906: UserWarning: Observation names are not unique. To make them unique, call `.obs_names_make_unique`.\n",
      "  utils.warn_names_duplicates(\"obs\")\n",
      "c:\\Users\\user\\Documents\\GitHub\\MT_test_repo\\env\\lib\\site-packages\\numpy\\core\\fromnumeric.py:3504: RuntimeWarning: Mean of empty slice.\n",
      "  return _methods._mean(a, axis=axis, dtype=dtype,\n",
      "c:\\Users\\user\\Documents\\GitHub\\MT_test_repo\\env\\lib\\site-packages\\numpy\\core\\_methods.py:121: RuntimeWarning: invalid value encountered in divide\n",
      "  ret = um.true_divide(\n",
      "c:\\Users\\user\\Documents\\GitHub\\MT_test_repo\\env\\lib\\site-packages\\anndata\\_core\\anndata.py:1906: UserWarning: Observation names are not unique. To make them unique, call `.obs_names_make_unique`.\n",
      "  utils.warn_names_duplicates(\"obs\")\n",
      "c:\\Users\\user\\Documents\\GitHub\\MT_test_repo\\env\\lib\\site-packages\\scanpy\\preprocessing\\_highly_variable_genes.py:258: FutureWarning: The default of observed=False is deprecated and will be changed to True in a future version of pandas. Pass observed=False to retain current behavior or observed=True to adopt the future default and silence this warning.\n",
      "  disp_grouped = df.groupby(\"mean_bin\")[\"dispersions\"]\n",
      "c:\\Users\\user\\Documents\\GitHub\\MT_test_repo\\env\\lib\\site-packages\\anndata\\_core\\anndata.py:1906: UserWarning: Observation names are not unique. To make them unique, call `.obs_names_make_unique`.\n",
      "  utils.warn_names_duplicates(\"obs\")\n",
      "c:\\Users\\user\\Documents\\GitHub\\MT_test_repo\\env\\lib\\site-packages\\anndata\\_core\\anndata.py:1906: UserWarning: Observation names are not unique. To make them unique, call `.obs_names_make_unique`.\n",
      "  utils.warn_names_duplicates(\"obs\")\n",
      "c:\\Users\\user\\Documents\\GitHub\\MT_test_repo\\env\\lib\\site-packages\\numpy\\core\\fromnumeric.py:3504: RuntimeWarning: Mean of empty slice.\n",
      "  return _methods._mean(a, axis=axis, dtype=dtype,\n",
      "c:\\Users\\user\\Documents\\GitHub\\MT_test_repo\\env\\lib\\site-packages\\numpy\\core\\_methods.py:121: RuntimeWarning: invalid value encountered in divide\n",
      "  ret = um.true_divide(\n",
      "c:\\Users\\user\\Documents\\GitHub\\MT_test_repo\\env\\lib\\site-packages\\anndata\\_core\\anndata.py:1906: UserWarning: Observation names are not unique. To make them unique, call `.obs_names_make_unique`.\n",
      "  utils.warn_names_duplicates(\"obs\")\n"
     ]
    },
    {
     "name": "stdout",
     "output_type": "stream",
     "text": [
      "Number of parameters: 2558600\n",
      "\n",
      "Start Training\n",
      "\n"
     ]
    },
    {
     "name": "stderr",
     "output_type": "stream",
     "text": [
      "  2%|▏         | 1/50 [00:29<24:29, 30.00s/it]"
     ]
    },
    {
     "name": "stdout",
     "output_type": "stream",
     "text": [
      "Epoch 1 | Training loss: 0.7264 | Validation loss: 0.5434\n"
     ]
    },
    {
     "name": "stderr",
     "output_type": "stream",
     "text": [
      "  4%|▍         | 2/50 [00:55<22:06, 27.64s/it]"
     ]
    },
    {
     "name": "stdout",
     "output_type": "stream",
     "text": [
      "Epoch 2 | Training loss: 0.3885 | Validation loss: 0.2353\n"
     ]
    },
    {
     "name": "stderr",
     "output_type": "stream",
     "text": [
      "  6%|▌         | 3/50 [01:18<19:56, 25.45s/it]"
     ]
    },
    {
     "name": "stdout",
     "output_type": "stream",
     "text": [
      "Epoch 3 | Training loss: 0.3325 | Validation loss: 0.2100\n"
     ]
    },
    {
     "name": "stderr",
     "output_type": "stream",
     "text": [
      "  8%|▊         | 4/50 [01:41<18:42, 24.40s/it]"
     ]
    },
    {
     "name": "stdout",
     "output_type": "stream",
     "text": [
      "Epoch 4 | Training loss: 0.2083 | Validation loss: 0.1812\n"
     ]
    },
    {
     "name": "stderr",
     "output_type": "stream",
     "text": [
      " 10%|█         | 5/50 [02:04<17:54, 23.88s/it]"
     ]
    },
    {
     "name": "stdout",
     "output_type": "stream",
     "text": [
      "Epoch 5 | Training loss: 0.2261 | Validation loss: 0.1785\n"
     ]
    },
    {
     "name": "stderr",
     "output_type": "stream",
     "text": [
      " 12%|█▏        | 6/50 [02:30<17:59, 24.54s/it]"
     ]
    },
    {
     "name": "stdout",
     "output_type": "stream",
     "text": [
      "Epoch 6 | Training loss: 0.2347 | Validation loss: 0.1609\n"
     ]
    },
    {
     "name": "stderr",
     "output_type": "stream",
     "text": [
      " 14%|█▍        | 7/50 [02:58<18:25, 25.72s/it]"
     ]
    },
    {
     "name": "stdout",
     "output_type": "stream",
     "text": [
      "Epoch 7 | Training loss: 0.2177 | Validation loss: 0.1575\n"
     ]
    },
    {
     "name": "stderr",
     "output_type": "stream",
     "text": [
      " 16%|█▌        | 8/50 [03:23<17:45, 25.36s/it]"
     ]
    },
    {
     "name": "stdout",
     "output_type": "stream",
     "text": [
      "Epoch 8 | Training loss: 0.1632 | Validation loss: 0.1387\n"
     ]
    },
    {
     "name": "stderr",
     "output_type": "stream",
     "text": [
      " 18%|█▊        | 9/50 [03:47<17:08, 25.09s/it]"
     ]
    },
    {
     "name": "stdout",
     "output_type": "stream",
     "text": [
      "Epoch 9 | Training loss: 0.1308 | Validation loss: 0.1353\n"
     ]
    },
    {
     "name": "stderr",
     "output_type": "stream",
     "text": [
      " 20%|██        | 10/50 [04:12<16:43, 25.08s/it]"
     ]
    },
    {
     "name": "stdout",
     "output_type": "stream",
     "text": [
      "Epoch 10 | Training loss: 0.1325 | Validation loss: 0.1339\n"
     ]
    },
    {
     "name": "stderr",
     "output_type": "stream",
     "text": [
      " 22%|██▏       | 11/50 [04:38<16:27, 25.32s/it]"
     ]
    },
    {
     "name": "stdout",
     "output_type": "stream",
     "text": [
      "Epoch 11 | Training loss: 0.1204 | Validation loss: 0.1316\n"
     ]
    },
    {
     "name": "stderr",
     "output_type": "stream",
     "text": [
      " 24%|██▍       | 12/50 [05:05<16:20, 25.80s/it]"
     ]
    },
    {
     "name": "stdout",
     "output_type": "stream",
     "text": [
      "Epoch 12 | Training loss: 0.1118 | Validation loss: 0.1288\n"
     ]
    },
    {
     "name": "stderr",
     "output_type": "stream",
     "text": [
      " 26%|██▌       | 13/50 [05:32<16:10, 26.22s/it]"
     ]
    },
    {
     "name": "stdout",
     "output_type": "stream",
     "text": [
      "Epoch 13 | Training loss: 0.1095 | Validation loss: 0.1294\n"
     ]
    },
    {
     "name": "stderr",
     "output_type": "stream",
     "text": [
      " 28%|██▊       | 14/50 [05:56<15:21, 25.59s/it]"
     ]
    },
    {
     "name": "stdout",
     "output_type": "stream",
     "text": [
      "Epoch 14 | Training loss: 0.1141 | Validation loss: 0.1292\n"
     ]
    },
    {
     "name": "stderr",
     "output_type": "stream",
     "text": [
      " 30%|███       | 15/50 [06:18<14:13, 24.38s/it]"
     ]
    },
    {
     "name": "stdout",
     "output_type": "stream",
     "text": [
      "Epoch 15 | Training loss: 0.1009 | Validation loss: 0.1271\n"
     ]
    },
    {
     "name": "stderr",
     "output_type": "stream",
     "text": [
      " 32%|███▏      | 16/50 [06:39<13:15, 23.40s/it]"
     ]
    },
    {
     "name": "stdout",
     "output_type": "stream",
     "text": [
      "Epoch 16 | Training loss: 0.1074 | Validation loss: 0.1276\n"
     ]
    },
    {
     "name": "stderr",
     "output_type": "stream",
     "text": [
      " 34%|███▍      | 17/50 [07:02<12:46, 23.22s/it]"
     ]
    },
    {
     "name": "stdout",
     "output_type": "stream",
     "text": [
      "Epoch 17 | Training loss: 0.1109 | Validation loss: 0.1270\n"
     ]
    },
    {
     "name": "stderr",
     "output_type": "stream",
     "text": [
      " 36%|███▌      | 18/50 [07:25<12:20, 23.13s/it]"
     ]
    },
    {
     "name": "stdout",
     "output_type": "stream",
     "text": [
      "Epoch 18 | Training loss: 0.1016 | Validation loss: 0.1269\n"
     ]
    },
    {
     "name": "stderr",
     "output_type": "stream",
     "text": [
      " 38%|███▊      | 19/50 [07:56<13:10, 25.51s/it]"
     ]
    },
    {
     "name": "stdout",
     "output_type": "stream",
     "text": [
      "Epoch 19 | Training loss: 0.1035 | Validation loss: 0.1273\n"
     ]
    },
    {
     "name": "stderr",
     "output_type": "stream",
     "text": [
      " 40%|████      | 20/50 [08:23<13:00, 26.02s/it]"
     ]
    },
    {
     "name": "stdout",
     "output_type": "stream",
     "text": [
      "Epoch 20 | Training loss: 0.1043 | Validation loss: 0.1277\n"
     ]
    },
    {
     "name": "stderr",
     "output_type": "stream",
     "text": [
      " 42%|████▏     | 21/50 [08:52<13:00, 26.91s/it]"
     ]
    },
    {
     "name": "stdout",
     "output_type": "stream",
     "text": [
      "Epoch 21 | Training loss: 0.1155 | Validation loss: 0.1274\n"
     ]
    },
    {
     "name": "stderr",
     "output_type": "stream",
     "text": [
      " 44%|████▍     | 22/50 [09:20<12:47, 27.40s/it]"
     ]
    },
    {
     "name": "stdout",
     "output_type": "stream",
     "text": [
      "Epoch 22 | Training loss: 0.1076 | Validation loss: 0.1278\n"
     ]
    },
    {
     "name": "stderr",
     "output_type": "stream",
     "text": [
      " 46%|████▌     | 23/50 [09:46<12:08, 26.96s/it]"
     ]
    },
    {
     "name": "stdout",
     "output_type": "stream",
     "text": [
      "Epoch 23 | Training loss: 0.1095 | Validation loss: 0.1268\n"
     ]
    },
    {
     "name": "stderr",
     "output_type": "stream",
     "text": [
      " 48%|████▊     | 24/50 [10:11<11:18, 26.11s/it]"
     ]
    },
    {
     "name": "stdout",
     "output_type": "stream",
     "text": [
      "Epoch 24 | Training loss: 0.1153 | Validation loss: 0.1287\n"
     ]
    },
    {
     "name": "stderr",
     "output_type": "stream",
     "text": [
      " 50%|█████     | 25/50 [10:35<10:43, 25.72s/it]"
     ]
    },
    {
     "name": "stdout",
     "output_type": "stream",
     "text": [
      "Epoch 25 | Training loss: 0.1031 | Validation loss: 0.1276\n"
     ]
    },
    {
     "name": "stderr",
     "output_type": "stream",
     "text": [
      " 52%|█████▏    | 26/50 [11:00<10:08, 25.35s/it]"
     ]
    },
    {
     "name": "stdout",
     "output_type": "stream",
     "text": [
      "Epoch 26 | Training loss: 0.1098 | Validation loss: 0.1288\n"
     ]
    },
    {
     "name": "stderr",
     "output_type": "stream",
     "text": [
      " 54%|█████▍    | 27/50 [11:29<10:09, 26.48s/it]"
     ]
    },
    {
     "name": "stdout",
     "output_type": "stream",
     "text": [
      "Epoch 27 | Training loss: 0.1042 | Validation loss: 0.1279\n"
     ]
    },
    {
     "name": "stderr",
     "output_type": "stream",
     "text": [
      " 56%|█████▌    | 28/50 [11:59<10:05, 27.51s/it]"
     ]
    },
    {
     "name": "stdout",
     "output_type": "stream",
     "text": [
      "Epoch 28 | Training loss: 0.1082 | Validation loss: 0.1272\n"
     ]
    },
    {
     "name": "stderr",
     "output_type": "stream",
     "text": [
      " 58%|█████▊    | 29/50 [12:24<09:19, 26.66s/it]"
     ]
    },
    {
     "name": "stdout",
     "output_type": "stream",
     "text": [
      "Epoch 29 | Training loss: 0.1032 | Validation loss: 0.1281\n"
     ]
    },
    {
     "name": "stderr",
     "output_type": "stream",
     "text": [
      " 60%|██████    | 30/50 [12:52<09:01, 27.08s/it]"
     ]
    },
    {
     "name": "stdout",
     "output_type": "stream",
     "text": [
      "Epoch 30 | Training loss: 0.1070 | Validation loss: 0.1279\n"
     ]
    },
    {
     "name": "stderr",
     "output_type": "stream",
     "text": [
      " 62%|██████▏   | 31/50 [13:19<08:38, 27.30s/it]"
     ]
    },
    {
     "name": "stdout",
     "output_type": "stream",
     "text": [
      "Epoch 31 | Training loss: 0.1012 | Validation loss: 0.1276\n"
     ]
    },
    {
     "name": "stderr",
     "output_type": "stream",
     "text": [
      " 64%|██████▍   | 32/50 [13:47<08:14, 27.50s/it]"
     ]
    },
    {
     "name": "stdout",
     "output_type": "stream",
     "text": [
      "Epoch 32 | Training loss: 0.0988 | Validation loss: 0.1276\n"
     ]
    },
    {
     "name": "stderr",
     "output_type": "stream",
     "text": [
      " 66%|██████▌   | 33/50 [14:13<07:38, 26.95s/it]"
     ]
    },
    {
     "name": "stdout",
     "output_type": "stream",
     "text": [
      "Epoch 33 | Training loss: 0.1051 | Validation loss: 0.1285\n"
     ]
    },
    {
     "name": "stderr",
     "output_type": "stream",
     "text": [
      " 68%|██████▊   | 34/50 [14:40<07:12, 27.03s/it]"
     ]
    },
    {
     "name": "stdout",
     "output_type": "stream",
     "text": [
      "Epoch 34 | Training loss: 0.1094 | Validation loss: 0.1294\n"
     ]
    },
    {
     "name": "stderr",
     "output_type": "stream",
     "text": [
      " 70%|███████   | 35/50 [15:05<06:36, 26.45s/it]"
     ]
    },
    {
     "name": "stdout",
     "output_type": "stream",
     "text": [
      "Epoch 35 | Training loss: 0.1036 | Validation loss: 0.1290\n"
     ]
    },
    {
     "name": "stderr",
     "output_type": "stream",
     "text": [
      " 72%|███████▏  | 36/50 [15:35<06:21, 27.27s/it]"
     ]
    },
    {
     "name": "stdout",
     "output_type": "stream",
     "text": [
      "Epoch 36 | Training loss: 0.0993 | Validation loss: 0.1300\n"
     ]
    },
    {
     "name": "stderr",
     "output_type": "stream",
     "text": [
      " 74%|███████▍  | 37/50 [16:03<05:57, 27.50s/it]"
     ]
    },
    {
     "name": "stdout",
     "output_type": "stream",
     "text": [
      "Epoch 37 | Training loss: 0.1027 | Validation loss: 0.1289\n"
     ]
    },
    {
     "name": "stderr",
     "output_type": "stream",
     "text": [
      " 76%|███████▌  | 38/50 [16:27<05:18, 26.55s/it]"
     ]
    },
    {
     "name": "stdout",
     "output_type": "stream",
     "text": [
      "Epoch 38 | Training loss: 0.1086 | Validation loss: 0.1304\n"
     ]
    },
    {
     "name": "stderr",
     "output_type": "stream",
     "text": [
      " 78%|███████▊  | 39/50 [16:49<04:38, 25.29s/it]"
     ]
    },
    {
     "name": "stdout",
     "output_type": "stream",
     "text": [
      "Epoch 39 | Training loss: 0.1050 | Validation loss: 0.1304\n"
     ]
    },
    {
     "name": "stderr",
     "output_type": "stream",
     "text": [
      " 80%|████████  | 40/50 [17:11<04:01, 24.18s/it]"
     ]
    },
    {
     "name": "stdout",
     "output_type": "stream",
     "text": [
      "Epoch 40 | Training loss: 0.1060 | Validation loss: 0.1292\n"
     ]
    },
    {
     "name": "stderr",
     "output_type": "stream",
     "text": [
      " 82%|████████▏ | 41/50 [17:32<03:30, 23.38s/it]"
     ]
    },
    {
     "name": "stdout",
     "output_type": "stream",
     "text": [
      "Epoch 41 | Training loss: 0.1023 | Validation loss: 0.1303\n"
     ]
    },
    {
     "name": "stderr",
     "output_type": "stream",
     "text": [
      " 84%|████████▍ | 42/50 [17:56<03:07, 23.47s/it]"
     ]
    },
    {
     "name": "stdout",
     "output_type": "stream",
     "text": [
      "Epoch 42 | Training loss: 0.1050 | Validation loss: 0.1304\n"
     ]
    },
    {
     "name": "stderr",
     "output_type": "stream",
     "text": [
      " 84%|████████▍ | 42/50 [18:18<03:29, 26.15s/it]"
     ]
    },
    {
     "name": "stdout",
     "output_type": "stream",
     "text": [
      "Epoch 43 | Training loss: 0.1019 | Validation loss: 0.1299\n",
      "Stopped training using EarlyStopping at epoch 43\n",
      "\n",
      "**Finished training**\n",
      "\n",
      "Best validation loss (reached after 23 epochs): 0.12679324559867383\n",
      "\n",
      "Training time: 18.30 minutes\n",
      "Total training time: 18.36 minutes\n",
      "\n"
     ]
    },
    {
     "name": "stderr",
     "output_type": "stream",
     "text": [
      "\n"
     ]
    }
   ],
   "source": [
    "scNear.train(adata=adata_train, target_key=\"cell_type\", batch_key=\"patientID\")"
   ]
  },
  {
   "cell_type": "markdown",
   "metadata": {},
   "source": [
    "## Predict on test data"
   ]
  },
  {
   "cell_type": "markdown",
   "metadata": {},
   "source": [
    "Next, we want to make predictions using the model.<br>\n",
    "It will retrieve the information from *trained_models/* to make predictions.<br>\n",
    "To run predict one needs to provide Anndata."
   ]
  },
  {
   "cell_type": "code",
   "execution_count": 5,
   "metadata": {},
   "outputs": [
    {
     "name": "stderr",
     "output_type": "stream",
     "text": [
      "c:\\Users\\user\\Documents\\GitHub\\MT_test_repo\\env\\lib\\site-packages\\anndata\\_core\\anndata.py:1906: UserWarning: Observation names are not unique. To make them unique, call `.obs_names_make_unique`.\n",
      "  utils.warn_names_duplicates(\"obs\")\n"
     ]
    }
   ],
   "source": [
    "predictions = scNear.predict(adata=adata_test)"
   ]
  },
  {
   "cell_type": "markdown",
   "metadata": {},
   "source": [
    "## Visualize test data embedding space"
   ]
  },
  {
   "cell_type": "markdown",
   "metadata": {},
   "source": [
    "Here we use UMAP to visualize the embedding space the model creates for the test data"
   ]
  },
  {
   "cell_type": "code",
   "execution_count": 6,
   "metadata": {},
   "outputs": [
    {
     "name": "stderr",
     "output_type": "stream",
     "text": [
      "c:\\Users\\user\\Documents\\GitHub\\MT_test_repo\\env\\lib\\site-packages\\scanpy\\plotting\\_tools\\scatterplots.py:1234: FutureWarning: The default value of 'ignore' for the `na_action` parameter in pandas.Categorical.map is deprecated and will be changed to 'None' in a future version. Please set na_action to the desired value to avoid seeing this warning\n",
      "  color_vector = pd.Categorical(values.map(color_map))\n",
      "c:\\Users\\user\\Documents\\GitHub\\MT_test_repo\\env\\lib\\site-packages\\scanpy\\plotting\\_tools\\scatterplots.py:394: UserWarning: No data for colormapping provided via 'c'. Parameters 'cmap' will be ignored\n",
      "  cax = scatter(\n"
     ]
    },
    {
     "data": {
      "image/png": "[encoded data removed]",
      "text/plain": [
       "<Figure size 640x480 with 1 Axes>"
      ]
     },
     "metadata": {},
     "output_type": "display_data"
    }
   ],
   "source": [
    "adata_test.obsm[\"latent_space\"] = predictions\n",
    "\n",
    "sc.pp.neighbors(adata_test, use_rep=\"latent_space\")\n",
    "sc.tl.umap(adata_test)\n",
    "sc.pl.umap(adata_test, color=\"cell_type\", ncols=1, title=\"Colored by Cell Type\")"
   ]
  },
  {
   "cell_type": "markdown",
   "metadata": {},
   "source": [
    "## Make cell type vector representations"
   ]
  },
  {
   "cell_type": "markdown",
   "metadata": {},
   "source": [
    "Calculates the centorids of each cell type cluster in latent space and return it as the cell type representation. <br>\n",
    "This is simply achieved by runing the line below. <br>\n",
    "The representations are also saved as a .csv in the *cell_type_vector_representation/* folder."
   ]
  },
  {
   "cell_type": "code",
   "execution_count": 7,
   "metadata": {},
   "outputs": [
    {
     "name": "stderr",
     "output_type": "stream",
     "text": [
      "c:\\Users\\user\\Documents\\GitHub\\MT_test_repo\\env\\lib\\site-packages\\anndata\\_core\\anndata.py:1906: UserWarning: Observation names are not unique. To make them unique, call `.obs_names_make_unique`.\n",
      "  utils.warn_names_duplicates(\"obs\")\n"
     ]
    }
   ],
   "source": [
    "representations = scNear.generate_representations(adata=adata_test, target_key=\"cell_type\")"
   ]
  },
  {
   "cell_type": "code",
   "execution_count": 8,
   "metadata": {},
   "outputs": [
    {
     "data": {
      "text/html": [
       "<div>\n",
       "<style scoped>\n",
       "    .dataframe tbody tr th:only-of-type {\n",
       "        vertical-align: middle;\n",
       "    }\n",
       "\n",
       "    .dataframe tbody tr th {\n",
       "        vertical-align: top;\n",
       "    }\n",
       "\n",
       "    .dataframe thead th {\n",
       "        text-align: right;\n",
       "    }\n",
       "</style>\n",
       "<table border=\"1\" class=\"dataframe\">\n",
       "  <thead>\n",
       "    <tr style=\"text-align: right;\">\n",
       "      <th></th>\n",
       "      <th>acinar</th>\n",
       "      <th>activated_stellate</th>\n",
       "      <th>alpha</th>\n",
       "      <th>beta</th>\n",
       "      <th>delta</th>\n",
       "      <th>ductal</th>\n",
       "      <th>endothelial</th>\n",
       "      <th>epsilon</th>\n",
       "      <th>gamma</th>\n",
       "      <th>macrophage</th>\n",
       "      <th>mast</th>\n",
       "      <th>quiescent_stellate</th>\n",
       "      <th>schwann</th>\n",
       "      <th>t_cell</th>\n",
       "    </tr>\n",
       "  </thead>\n",
       "  <tbody>\n",
       "    <tr>\n",
       "      <th>0</th>\n",
       "      <td>0.287736</td>\n",
       "      <td>1.458305</td>\n",
       "      <td>0.043356</td>\n",
       "      <td>-0.030558</td>\n",
       "      <td>-1.384781</td>\n",
       "      <td>-0.419595</td>\n",
       "      <td>0.674401</td>\n",
       "      <td>-0.184385</td>\n",
       "      <td>-1.878783</td>\n",
       "      <td>0.716284</td>\n",
       "      <td>1.153386</td>\n",
       "      <td>-0.309663</td>\n",
       "      <td>1.959518</td>\n",
       "      <td>0.459208</td>\n",
       "    </tr>\n",
       "    <tr>\n",
       "      <th>1</th>\n",
       "      <td>-0.775065</td>\n",
       "      <td>0.277407</td>\n",
       "      <td>2.030629</td>\n",
       "      <td>1.218248</td>\n",
       "      <td>1.312809</td>\n",
       "      <td>-0.898122</td>\n",
       "      <td>-0.973419</td>\n",
       "      <td>-0.541866</td>\n",
       "      <td>-0.318498</td>\n",
       "      <td>-0.406702</td>\n",
       "      <td>-2.272339</td>\n",
       "      <td>-0.987073</td>\n",
       "      <td>0.900983</td>\n",
       "      <td>-1.607613</td>\n",
       "    </tr>\n",
       "    <tr>\n",
       "      <th>2</th>\n",
       "      <td>-2.312285</td>\n",
       "      <td>0.128571</td>\n",
       "      <td>0.150370</td>\n",
       "      <td>0.236973</td>\n",
       "      <td>1.462326</td>\n",
       "      <td>0.157929</td>\n",
       "      <td>0.362356</td>\n",
       "      <td>-0.383255</td>\n",
       "      <td>-0.532147</td>\n",
       "      <td>1.596176</td>\n",
       "      <td>0.097102</td>\n",
       "      <td>0.180807</td>\n",
       "      <td>-0.199802</td>\n",
       "      <td>-1.067941</td>\n",
       "    </tr>\n",
       "    <tr>\n",
       "      <th>3</th>\n",
       "      <td>-1.552520</td>\n",
       "      <td>0.907145</td>\n",
       "      <td>0.280347</td>\n",
       "      <td>-0.201530</td>\n",
       "      <td>-0.765509</td>\n",
       "      <td>-0.482278</td>\n",
       "      <td>1.466002</td>\n",
       "      <td>0.038742</td>\n",
       "      <td>0.187112</td>\n",
       "      <td>-2.141400</td>\n",
       "      <td>0.579432</td>\n",
       "      <td>0.390134</td>\n",
       "      <td>0.438531</td>\n",
       "      <td>0.547432</td>\n",
       "    </tr>\n",
       "    <tr>\n",
       "      <th>4</th>\n",
       "      <td>-0.641601</td>\n",
       "      <td>0.482979</td>\n",
       "      <td>-0.065690</td>\n",
       "      <td>-0.137003</td>\n",
       "      <td>0.815527</td>\n",
       "      <td>-1.733303</td>\n",
       "      <td>-0.844981</td>\n",
       "      <td>-0.745285</td>\n",
       "      <td>-0.125174</td>\n",
       "      <td>2.854293</td>\n",
       "      <td>2.641200</td>\n",
       "      <td>-0.802423</td>\n",
       "      <td>-0.419514</td>\n",
       "      <td>0.189321</td>\n",
       "    </tr>\n",
       "    <tr>\n",
       "      <th>...</th>\n",
       "      <td>...</td>\n",
       "      <td>...</td>\n",
       "      <td>...</td>\n",
       "      <td>...</td>\n",
       "      <td>...</td>\n",
       "      <td>...</td>\n",
       "      <td>...</td>\n",
       "      <td>...</td>\n",
       "      <td>...</td>\n",
       "      <td>...</td>\n",
       "      <td>...</td>\n",
       "      <td>...</td>\n",
       "      <td>...</td>\n",
       "      <td>...</td>\n",
       "    </tr>\n",
       "    <tr>\n",
       "      <th>95</th>\n",
       "      <td>-1.145299</td>\n",
       "      <td>1.007363</td>\n",
       "      <td>-0.978028</td>\n",
       "      <td>-0.440589</td>\n",
       "      <td>0.050382</td>\n",
       "      <td>-0.777937</td>\n",
       "      <td>-0.979368</td>\n",
       "      <td>1.428966</td>\n",
       "      <td>1.106433</td>\n",
       "      <td>-2.286520</td>\n",
       "      <td>0.797333</td>\n",
       "      <td>-0.116201</td>\n",
       "      <td>-0.311799</td>\n",
       "      <td>-0.653263</td>\n",
       "    </tr>\n",
       "    <tr>\n",
       "      <th>96</th>\n",
       "      <td>0.195552</td>\n",
       "      <td>-2.340337</td>\n",
       "      <td>0.657188</td>\n",
       "      <td>0.976818</td>\n",
       "      <td>-0.087427</td>\n",
       "      <td>0.000273</td>\n",
       "      <td>-1.508679</td>\n",
       "      <td>2.065309</td>\n",
       "      <td>0.433521</td>\n",
       "      <td>-1.906074</td>\n",
       "      <td>0.221004</td>\n",
       "      <td>-1.815169</td>\n",
       "      <td>0.269354</td>\n",
       "      <td>0.523479</td>\n",
       "    </tr>\n",
       "    <tr>\n",
       "      <th>97</th>\n",
       "      <td>0.588301</td>\n",
       "      <td>0.624152</td>\n",
       "      <td>0.297954</td>\n",
       "      <td>0.640000</td>\n",
       "      <td>-0.468884</td>\n",
       "      <td>-0.362846</td>\n",
       "      <td>-0.683226</td>\n",
       "      <td>0.430966</td>\n",
       "      <td>-1.504020</td>\n",
       "      <td>-0.913621</td>\n",
       "      <td>-1.531856</td>\n",
       "      <td>1.889564</td>\n",
       "      <td>0.100740</td>\n",
       "      <td>-0.788340</td>\n",
       "    </tr>\n",
       "    <tr>\n",
       "      <th>98</th>\n",
       "      <td>1.476991</td>\n",
       "      <td>-0.851806</td>\n",
       "      <td>0.258428</td>\n",
       "      <td>-0.510553</td>\n",
       "      <td>0.600098</td>\n",
       "      <td>-0.756514</td>\n",
       "      <td>-1.251052</td>\n",
       "      <td>-0.249170</td>\n",
       "      <td>-0.067113</td>\n",
       "      <td>1.784804</td>\n",
       "      <td>0.357079</td>\n",
       "      <td>-1.203038</td>\n",
       "      <td>0.824744</td>\n",
       "      <td>1.393655</td>\n",
       "    </tr>\n",
       "    <tr>\n",
       "      <th>99</th>\n",
       "      <td>-1.756524</td>\n",
       "      <td>0.995173</td>\n",
       "      <td>-1.834343</td>\n",
       "      <td>0.690376</td>\n",
       "      <td>-0.289818</td>\n",
       "      <td>-0.215785</td>\n",
       "      <td>-0.222371</td>\n",
       "      <td>-0.080566</td>\n",
       "      <td>0.383741</td>\n",
       "      <td>1.672896</td>\n",
       "      <td>-0.498359</td>\n",
       "      <td>1.381482</td>\n",
       "      <td>-0.736357</td>\n",
       "      <td>0.822662</td>\n",
       "    </tr>\n",
       "  </tbody>\n",
       "</table>\n",
       "<p>100 rows × 14 columns</p>\n",
       "</div>"
      ],
      "text/plain": [
       "      acinar  activated_stellate     alpha      beta     delta    ductal  \\\n",
       "0   0.287736            1.458305  0.043356 -0.030558 -1.384781 -0.419595   \n",
       "1  -0.775065            0.277407  2.030629  1.218248  1.312809 -0.898122   \n",
       "2  -2.312285            0.128571  0.150370  0.236973  1.462326  0.157929   \n",
       "3  -1.552520            0.907145  0.280347 -0.201530 -0.765509 -0.482278   \n",
       "4  -0.641601            0.482979 -0.065690 -0.137003  0.815527 -1.733303   \n",
       "..       ...                 ...       ...       ...       ...       ...   \n",
       "95 -1.145299            1.007363 -0.978028 -0.440589  0.050382 -0.777937   \n",
       "96  0.195552           -2.340337  0.657188  0.976818 -0.087427  0.000273   \n",
       "97  0.588301            0.624152  0.297954  0.640000 -0.468884 -0.362846   \n",
       "98  1.476991           -0.851806  0.258428 -0.510553  0.600098 -0.756514   \n",
       "99 -1.756524            0.995173 -1.834343  0.690376 -0.289818 -0.215785   \n",
       "\n",
       "    endothelial   epsilon     gamma  macrophage      mast  quiescent_stellate  \\\n",
       "0      0.674401 -0.184385 -1.878783    0.716284  1.153386           -0.309663   \n",
       "1     -0.973419 -0.541866 -0.318498   -0.406702 -2.272339           -0.987073   \n",
       "2      0.362356 -0.383255 -0.532147    1.596176  0.097102            0.180807   \n",
       "3      1.466002  0.038742  0.187112   -2.141400  0.579432            0.390134   \n",
       "4     -0.844981 -0.745285 -0.125174    2.854293  2.641200           -0.802423   \n",
       "..          ...       ...       ...         ...       ...                 ...   \n",
       "95    -0.979368  1.428966  1.106433   -2.286520  0.797333           -0.116201   \n",
       "96    -1.508679  2.065309  0.433521   -1.906074  0.221004           -1.815169   \n",
       "97    -0.683226  0.430966 -1.504020   -0.913621 -1.531856            1.889564   \n",
       "98    -1.251052 -0.249170 -0.067113    1.784804  0.357079           -1.203038   \n",
       "99    -0.222371 -0.080566  0.383741    1.672896 -0.498359            1.381482   \n",
       "\n",
       "     schwann    t_cell  \n",
       "0   1.959518  0.459208  \n",
       "1   0.900983 -1.607613  \n",
       "2  -0.199802 -1.067941  \n",
       "3   0.438531  0.547432  \n",
       "4  -0.419514  0.189321  \n",
       "..       ...       ...  \n",
       "95 -0.311799 -0.653263  \n",
       "96  0.269354  0.523479  \n",
       "97  0.100740 -0.788340  \n",
       "98  0.824744  1.393655  \n",
       "99 -0.736357  0.822662  \n",
       "\n",
       "[100 rows x 14 columns]"
      ]
     },
     "execution_count": 8,
     "metadata": {},
     "output_type": "execute_result"
    }
   ],
   "source": [
    "representations"
   ]
  }
 ],
 "metadata": {
  "kernelspec": {
   "display_name": "env",
   "language": "python",
   "name": "python3"
  },
  "language_info": {
   "codemirror_mode": {
    "name": "ipython",
    "version": 3
   },
   "file_extension": ".py",
   "mimetype": "text/x-python",
   "name": "python",
   "nbconvert_exporter": "python",
   "pygments_lexer": "ipython3",
   "version": "3.10.5"
  }
 },
 "nbformat": 4,
 "nbformat_minor": 2
}
