{
 "cells": [
  {
   "cell_type": "markdown",
   "metadata": {},
   "source": [
    "# Embedding Space Tutorial"
   ]
  },
  {
   "cell_type": "markdown",
   "metadata": {},
   "source": [
    "This is a tutorial for how to use the package to train a model to make an embedding space and then make predictions on new data to generate an embedding space"
   ]
  },
  {
   "cell_type": "code",
   "execution_count": 1,
   "metadata": {},
   "outputs": [
    {
     "name": "stderr",
     "output_type": "stream",
     "text": [
      "c:\\Users\\user\\Documents\\GitHub\\MT_test_repo\\env\\lib\\site-packages\\tqdm\\auto.py:21: TqdmWarning: IProgress not found. Please update jupyter and ipywidgets. See https://ipywidgets.readthedocs.io/en/stable/user_install.html\n",
      "  from .autonotebook import tqdm as notebook_tqdm\n"
     ]
    }
   ],
   "source": [
    "# Load required packages\n",
    "import scanpy as sc\n",
    "from sklearn.model_selection import StratifiedKFold\n",
    "\n",
    "import sys\n",
    "sys.path.append('../') # Add parent directory to path, since it contains the scNear package\n",
    "import scNear"
   ]
  },
  {
   "cell_type": "markdown",
   "metadata": {},
   "source": [
    "## Read data"
   ]
  },
  {
   "cell_type": "markdown",
   "metadata": {},
   "source": [
    "Start by reading Anndata and split it into a training set and a testing set. <br>\n",
    "It's worth noting that adata.X, containing the counts, should be normalized. If this isn't the case, there's a implemented normalization function in the package. Simply run *scNear.log1p_normalize(adata)* to apply scale factor and log1p normalize adata.X."
   ]
  },
  {
   "cell_type": "code",
   "execution_count": 2,
   "metadata": {},
   "outputs": [
    {
     "name": "stderr",
     "output_type": "stream",
     "text": [
      "c:\\Users\\user\\Documents\\GitHub\\MT_test_repo\\env\\lib\\site-packages\\anndata\\__init__.py:51: FutureWarning: `anndata.read` is deprecated, use `anndata.read_h5ad` instead. `ad.read` will be removed in mid 2024.\n",
      "  warnings.warn(\n",
      "c:\\Users\\user\\Documents\\GitHub\\MT_test_repo\\env\\lib\\site-packages\\anndata\\_core\\anndata.py:1906: UserWarning: Observation names are not unique. To make them unique, call `.obs_names_make_unique`.\n",
      "  utils.warn_names_duplicates(\"obs\")\n",
      "c:\\Users\\user\\Documents\\GitHub\\MT_test_repo\\env\\lib\\site-packages\\anndata\\_core\\anndata.py:1906: UserWarning: Observation names are not unique. To make them unique, call `.obs_names_make_unique`.\n",
      "  utils.warn_names_duplicates(\"obs\")\n"
     ]
    }
   ],
   "source": [
    "adata = sc.read(\"data/Baron.h5ad\", cache=True)\n",
    "\n",
    "### Split data for training and testing\n",
    "\n",
    "# Initialize Stratified K-Fold\n",
    "stratified_kfold = StratifiedKFold(n_splits=5, shuffle=True, random_state=42)\n",
    "\n",
    "# Take the first fold\n",
    "adata_train = adata.copy()\n",
    "adata_test = adata.copy()\n",
    "for train_index, test_index in stratified_kfold.split(adata.X, adata.obs[\"cell_type\"]):\n",
    "    adata_train = adata_train[train_index, :].copy()\n",
    "    adata_test = adata_test[test_index, :].copy()\n",
    "    break # Break to get the first fold"
   ]
  },
  {
   "cell_type": "code",
   "execution_count": 3,
   "metadata": {},
   "outputs": [
    {
     "name": "stdout",
     "output_type": "stream",
     "text": [
      "Train data contains 6855 cells and 14322 genes\n",
      "Test data contains 1714 cells and 14322 genes\n"
     ]
    }
   ],
   "source": [
    "print(f\"Train data contains {adata_train.X.shape[0]} cells and {adata_train.X.shape[1]} genes\")\n",
    "print(f\"Test data contains {adata_test.X.shape[0]} cells and {adata_test.X.shape[1]} genes\")"
   ]
  },
  {
   "cell_type": "markdown",
   "metadata": {},
   "source": [
    "## Train model"
   ]
  },
  {
   "cell_type": "markdown",
   "metadata": {},
   "source": [
    "Next, we want to train the model. This can simply be achieved by running the following line. <br>\n",
    "Once trained it will save all the information needed to make predictions using the model under *trained_models/*.<br>\n",
    "One needs to give the model the training Anndata, the target key in adata.obs that contains cell type information, and the batch key in adata.obs that contains the batch effect information. <br>\n",
    "For this dataset, patient ID is the batch effect of interest."
   ]
  },
  {
   "cell_type": "code",
   "execution_count": 4,
   "metadata": {},
   "outputs": [
    {
     "name": "stderr",
     "output_type": "stream",
     "text": [
      "c:\\Users\\user\\Documents\\GitHub\\MT_test_repo\\env\\lib\\site-packages\\anndata\\_core\\anndata.py:1906: UserWarning: Observation names are not unique. To make them unique, call `.obs_names_make_unique`.\n",
      "  utils.warn_names_duplicates(\"obs\")\n",
      "c:\\Users\\user\\Documents\\GitHub\\MT_test_repo\\env\\lib\\site-packages\\scanpy\\preprocessing\\_highly_variable_genes.py:258: FutureWarning: The default of observed=False is deprecated and will be changed to True in a future version of pandas. Pass observed=False to retain current behavior or observed=True to adopt the future default and silence this warning.\n",
      "  disp_grouped = df.groupby(\"mean_bin\")[\"dispersions\"]\n",
      "c:\\Users\\user\\Documents\\GitHub\\MT_test_repo\\env\\lib\\site-packages\\anndata\\_core\\anndata.py:1906: UserWarning: Observation names are not unique. To make them unique, call `.obs_names_make_unique`.\n",
      "  utils.warn_names_duplicates(\"obs\")\n",
      "c:\\Users\\user\\Documents\\GitHub\\MT_test_repo\\env\\lib\\site-packages\\anndata\\_core\\anndata.py:1906: UserWarning: Observation names are not unique. To make them unique, call `.obs_names_make_unique`.\n",
      "  utils.warn_names_duplicates(\"obs\")\n",
      "c:\\Users\\user\\Documents\\GitHub\\MT_test_repo\\env\\lib\\site-packages\\numpy\\core\\fromnumeric.py:3504: RuntimeWarning: Mean of empty slice.\n",
      "  return _methods._mean(a, axis=axis, dtype=dtype,\n",
      "c:\\Users\\user\\Documents\\GitHub\\MT_test_repo\\env\\lib\\site-packages\\numpy\\core\\_methods.py:121: RuntimeWarning: invalid value encountered in divide\n",
      "  ret = um.true_divide(\n",
      "c:\\Users\\user\\Documents\\GitHub\\MT_test_repo\\env\\lib\\site-packages\\anndata\\_core\\anndata.py:1906: UserWarning: Observation names are not unique. To make them unique, call `.obs_names_make_unique`.\n",
      "  utils.warn_names_duplicates(\"obs\")\n",
      "c:\\Users\\user\\Documents\\GitHub\\MT_test_repo\\env\\lib\\site-packages\\scanpy\\preprocessing\\_highly_variable_genes.py:258: FutureWarning: The default of observed=False is deprecated and will be changed to True in a future version of pandas. Pass observed=False to retain current behavior or observed=True to adopt the future default and silence this warning.\n",
      "  disp_grouped = df.groupby(\"mean_bin\")[\"dispersions\"]\n",
      "c:\\Users\\user\\Documents\\GitHub\\MT_test_repo\\env\\lib\\site-packages\\anndata\\_core\\anndata.py:1906: UserWarning: Observation names are not unique. To make them unique, call `.obs_names_make_unique`.\n",
      "  utils.warn_names_duplicates(\"obs\")\n",
      "c:\\Users\\user\\Documents\\GitHub\\MT_test_repo\\env\\lib\\site-packages\\anndata\\_core\\anndata.py:1906: UserWarning: Observation names are not unique. To make them unique, call `.obs_names_make_unique`.\n",
      "  utils.warn_names_duplicates(\"obs\")\n",
      "c:\\Users\\user\\Documents\\GitHub\\MT_test_repo\\env\\lib\\site-packages\\numpy\\core\\fromnumeric.py:3504: RuntimeWarning: Mean of empty slice.\n",
      "  return _methods._mean(a, axis=axis, dtype=dtype,\n",
      "c:\\Users\\user\\Documents\\GitHub\\MT_test_repo\\env\\lib\\site-packages\\numpy\\core\\_methods.py:121: RuntimeWarning: invalid value encountered in divide\n",
      "  ret = um.true_divide(\n",
      "c:\\Users\\user\\Documents\\GitHub\\MT_test_repo\\env\\lib\\site-packages\\anndata\\_core\\anndata.py:1906: UserWarning: Observation names are not unique. To make them unique, call `.obs_names_make_unique`.\n",
      "  utils.warn_names_duplicates(\"obs\")\n"
     ]
    },
    {
     "name": "stdout",
     "output_type": "stream",
     "text": [
      "Number of parameters: 2558600\n",
      "\n",
      "Start Training\n",
      "\n"
     ]
    },
    {
     "name": "stderr",
     "output_type": "stream",
     "text": [
      "  2%|▏         | 1/50 [00:22<18:46, 22.99s/it]"
     ]
    },
    {
     "name": "stdout",
     "output_type": "stream",
     "text": [
      "Epoch 1 | Training loss: 0.7263 | Validation loss: 0.5433\n"
     ]
    },
    {
     "name": "stderr",
     "output_type": "stream",
     "text": [
      "  4%|▍         | 2/50 [00:45<18:12, 22.77s/it]"
     ]
    },
    {
     "name": "stdout",
     "output_type": "stream",
     "text": [
      "Epoch 2 | Training loss: 0.3885 | Validation loss: 0.2354\n"
     ]
    },
    {
     "name": "stderr",
     "output_type": "stream",
     "text": [
      "  6%|▌         | 3/50 [01:08<17:43, 22.62s/it]"
     ]
    },
    {
     "name": "stdout",
     "output_type": "stream",
     "text": [
      "Epoch 3 | Training loss: 0.3335 | Validation loss: 0.2109\n"
     ]
    },
    {
     "name": "stderr",
     "output_type": "stream",
     "text": [
      "  8%|▊         | 4/50 [01:30<17:13, 22.47s/it]"
     ]
    },
    {
     "name": "stdout",
     "output_type": "stream",
     "text": [
      "Epoch 4 | Training loss: 0.2089 | Validation loss: 0.1814\n"
     ]
    },
    {
     "name": "stderr",
     "output_type": "stream",
     "text": [
      " 10%|█         | 5/50 [01:53<17:03, 22.74s/it]"
     ]
    },
    {
     "name": "stdout",
     "output_type": "stream",
     "text": [
      "Epoch 5 | Training loss: 0.2258 | Validation loss: 0.1783\n"
     ]
    },
    {
     "name": "stderr",
     "output_type": "stream",
     "text": [
      " 12%|█▏        | 6/50 [02:15<16:31, 22.53s/it]"
     ]
    },
    {
     "name": "stdout",
     "output_type": "stream",
     "text": [
      "Epoch 6 | Training loss: 0.2337 | Validation loss: 0.1613\n"
     ]
    },
    {
     "name": "stderr",
     "output_type": "stream",
     "text": [
      " 14%|█▍        | 7/50 [02:36<15:49, 22.08s/it]"
     ]
    },
    {
     "name": "stdout",
     "output_type": "stream",
     "text": [
      "Epoch 7 | Training loss: 0.2209 | Validation loss: 0.1612\n"
     ]
    },
    {
     "name": "stderr",
     "output_type": "stream",
     "text": [
      " 16%|█▌        | 8/50 [03:00<15:43, 22.46s/it]"
     ]
    },
    {
     "name": "stdout",
     "output_type": "stream",
     "text": [
      "Epoch 8 | Training loss: 0.1703 | Validation loss: 0.1399\n"
     ]
    },
    {
     "name": "stderr",
     "output_type": "stream",
     "text": [
      " 18%|█▊        | 9/50 [03:22<15:16, 22.35s/it]"
     ]
    },
    {
     "name": "stdout",
     "output_type": "stream",
     "text": [
      "Epoch 9 | Training loss: 0.1290 | Validation loss: 0.1360\n"
     ]
    },
    {
     "name": "stderr",
     "output_type": "stream",
     "text": [
      " 20%|██        | 10/50 [03:46<15:22, 23.06s/it]"
     ]
    },
    {
     "name": "stdout",
     "output_type": "stream",
     "text": [
      "Epoch 10 | Training loss: 0.1319 | Validation loss: 0.1348\n"
     ]
    },
    {
     "name": "stderr",
     "output_type": "stream",
     "text": [
      " 22%|██▏       | 11/50 [04:09<14:51, 22.87s/it]"
     ]
    },
    {
     "name": "stdout",
     "output_type": "stream",
     "text": [
      "Epoch 11 | Training loss: 0.1222 | Validation loss: 0.1316\n"
     ]
    },
    {
     "name": "stderr",
     "output_type": "stream",
     "text": [
      " 24%|██▍       | 12/50 [04:32<14:34, 23.00s/it]"
     ]
    },
    {
     "name": "stdout",
     "output_type": "stream",
     "text": [
      "Epoch 12 | Training loss: 0.1125 | Validation loss: 0.1308\n"
     ]
    },
    {
     "name": "stderr",
     "output_type": "stream",
     "text": [
      " 26%|██▌       | 13/50 [04:54<13:59, 22.69s/it]"
     ]
    },
    {
     "name": "stdout",
     "output_type": "stream",
     "text": [
      "Epoch 13 | Training loss: 0.1082 | Validation loss: 0.1294\n"
     ]
    },
    {
     "name": "stderr",
     "output_type": "stream",
     "text": [
      " 28%|██▊       | 14/50 [05:17<13:39, 22.78s/it]"
     ]
    },
    {
     "name": "stdout",
     "output_type": "stream",
     "text": [
      "Epoch 14 | Training loss: 0.1135 | Validation loss: 0.1295\n"
     ]
    },
    {
     "name": "stderr",
     "output_type": "stream",
     "text": [
      " 30%|███       | 15/50 [05:39<13:09, 22.55s/it]"
     ]
    },
    {
     "name": "stdout",
     "output_type": "stream",
     "text": [
      "Epoch 15 | Training loss: 0.1007 | Validation loss: 0.1282\n"
     ]
    },
    {
     "name": "stderr",
     "output_type": "stream",
     "text": [
      " 32%|███▏      | 16/50 [06:02<12:46, 22.54s/it]"
     ]
    },
    {
     "name": "stdout",
     "output_type": "stream",
     "text": [
      "Epoch 16 | Training loss: 0.1073 | Validation loss: 0.1286\n"
     ]
    },
    {
     "name": "stderr",
     "output_type": "stream",
     "text": [
      " 34%|███▍      | 17/50 [06:24<12:19, 22.41s/it]"
     ]
    },
    {
     "name": "stdout",
     "output_type": "stream",
     "text": [
      "Epoch 17 | Training loss: 0.1110 | Validation loss: 0.1277\n"
     ]
    },
    {
     "name": "stderr",
     "output_type": "stream",
     "text": [
      " 36%|███▌      | 18/50 [06:46<11:53, 22.28s/it]"
     ]
    },
    {
     "name": "stdout",
     "output_type": "stream",
     "text": [
      "Epoch 18 | Training loss: 0.1017 | Validation loss: 0.1276\n"
     ]
    },
    {
     "name": "stderr",
     "output_type": "stream",
     "text": [
      " 38%|███▊      | 19/50 [07:13<12:16, 23.74s/it]"
     ]
    },
    {
     "name": "stdout",
     "output_type": "stream",
     "text": [
      "Epoch 19 | Training loss: 0.1036 | Validation loss: 0.1279\n"
     ]
    },
    {
     "name": "stderr",
     "output_type": "stream",
     "text": [
      " 40%|████      | 20/50 [07:43<12:47, 25.58s/it]"
     ]
    },
    {
     "name": "stdout",
     "output_type": "stream",
     "text": [
      "Epoch 20 | Training loss: 0.1043 | Validation loss: 0.1282\n"
     ]
    },
    {
     "name": "stderr",
     "output_type": "stream",
     "text": [
      " 42%|████▏     | 21/50 [08:22<14:19, 29.63s/it]"
     ]
    },
    {
     "name": "stdout",
     "output_type": "stream",
     "text": [
      "Epoch 21 | Training loss: 0.1156 | Validation loss: 0.1280\n"
     ]
    },
    {
     "name": "stderr",
     "output_type": "stream",
     "text": [
      " 44%|████▍     | 22/50 [08:49<13:30, 28.95s/it]"
     ]
    },
    {
     "name": "stdout",
     "output_type": "stream",
     "text": [
      "Epoch 22 | Training loss: 0.1076 | Validation loss: 0.1286\n"
     ]
    },
    {
     "name": "stderr",
     "output_type": "stream",
     "text": [
      " 46%|████▌     | 23/50 [09:18<12:59, 28.88s/it]"
     ]
    },
    {
     "name": "stdout",
     "output_type": "stream",
     "text": [
      "Epoch 23 | Training loss: 0.1095 | Validation loss: 0.1275\n"
     ]
    },
    {
     "name": "stderr",
     "output_type": "stream",
     "text": [
      " 48%|████▊     | 24/50 [09:45<12:21, 28.51s/it]"
     ]
    },
    {
     "name": "stdout",
     "output_type": "stream",
     "text": [
      "Epoch 24 | Training loss: 0.1154 | Validation loss: 0.1293\n"
     ]
    },
    {
     "name": "stderr",
     "output_type": "stream",
     "text": [
      " 50%|█████     | 25/50 [10:19<12:28, 29.95s/it]"
     ]
    },
    {
     "name": "stdout",
     "output_type": "stream",
     "text": [
      "Epoch 25 | Training loss: 0.1032 | Validation loss: 0.1280\n"
     ]
    },
    {
     "name": "stderr",
     "output_type": "stream",
     "text": [
      " 52%|█████▏    | 26/50 [10:46<11:38, 29.10s/it]"
     ]
    },
    {
     "name": "stdout",
     "output_type": "stream",
     "text": [
      "Epoch 26 | Training loss: 0.1098 | Validation loss: 0.1291\n"
     ]
    },
    {
     "name": "stderr",
     "output_type": "stream",
     "text": [
      " 54%|█████▍    | 27/50 [11:15<11:11, 29.20s/it]"
     ]
    },
    {
     "name": "stdout",
     "output_type": "stream",
     "text": [
      "Epoch 27 | Training loss: 0.1042 | Validation loss: 0.1285\n"
     ]
    },
    {
     "name": "stderr",
     "output_type": "stream",
     "text": [
      " 56%|█████▌    | 28/50 [11:43<10:30, 28.65s/it]"
     ]
    },
    {
     "name": "stdout",
     "output_type": "stream",
     "text": [
      "Epoch 28 | Training loss: 0.1085 | Validation loss: 0.1276\n"
     ]
    },
    {
     "name": "stderr",
     "output_type": "stream",
     "text": [
      " 58%|█████▊    | 29/50 [12:12<10:04, 28.77s/it]"
     ]
    },
    {
     "name": "stdout",
     "output_type": "stream",
     "text": [
      "Epoch 29 | Training loss: 0.1034 | Validation loss: 0.1285\n"
     ]
    },
    {
     "name": "stderr",
     "output_type": "stream",
     "text": [
      " 60%|██████    | 30/50 [12:39<09:26, 28.34s/it]"
     ]
    },
    {
     "name": "stdout",
     "output_type": "stream",
     "text": [
      "Epoch 30 | Training loss: 0.1072 | Validation loss: 0.1288\n"
     ]
    },
    {
     "name": "stderr",
     "output_type": "stream",
     "text": [
      " 62%|██████▏   | 31/50 [13:08<09:00, 28.42s/it]"
     ]
    },
    {
     "name": "stdout",
     "output_type": "stream",
     "text": [
      "Epoch 31 | Training loss: 0.1013 | Validation loss: 0.1284\n"
     ]
    },
    {
     "name": "stderr",
     "output_type": "stream",
     "text": [
      " 64%|██████▍   | 32/50 [13:35<08:26, 28.15s/it]"
     ]
    },
    {
     "name": "stdout",
     "output_type": "stream",
     "text": [
      "Epoch 32 | Training loss: 0.0990 | Validation loss: 0.1284\n"
     ]
    },
    {
     "name": "stderr",
     "output_type": "stream",
     "text": [
      " 66%|██████▌   | 33/50 [14:03<07:54, 27.93s/it]"
     ]
    },
    {
     "name": "stdout",
     "output_type": "stream",
     "text": [
      "Epoch 33 | Training loss: 0.1053 | Validation loss: 0.1292\n"
     ]
    },
    {
     "name": "stderr",
     "output_type": "stream",
     "text": [
      " 68%|██████▊   | 34/50 [14:29<07:19, 27.49s/it]"
     ]
    },
    {
     "name": "stdout",
     "output_type": "stream",
     "text": [
      "Epoch 34 | Training loss: 0.1093 | Validation loss: 0.1300\n"
     ]
    },
    {
     "name": "stderr",
     "output_type": "stream",
     "text": [
      " 70%|███████   | 35/50 [14:59<07:03, 28.26s/it]"
     ]
    },
    {
     "name": "stdout",
     "output_type": "stream",
     "text": [
      "Epoch 35 | Training loss: 0.1034 | Validation loss: 0.1300\n"
     ]
    },
    {
     "name": "stderr",
     "output_type": "stream",
     "text": [
      " 72%|███████▏  | 36/50 [15:26<06:31, 27.96s/it]"
     ]
    },
    {
     "name": "stdout",
     "output_type": "stream",
     "text": [
      "Epoch 36 | Training loss: 0.0995 | Validation loss: 0.1307\n"
     ]
    },
    {
     "name": "stderr",
     "output_type": "stream",
     "text": [
      " 74%|███████▍  | 37/50 [15:57<06:15, 28.88s/it]"
     ]
    },
    {
     "name": "stdout",
     "output_type": "stream",
     "text": [
      "Epoch 37 | Training loss: 0.1029 | Validation loss: 0.1294\n"
     ]
    },
    {
     "name": "stderr",
     "output_type": "stream",
     "text": [
      " 76%|███████▌  | 38/50 [16:25<05:42, 28.52s/it]"
     ]
    },
    {
     "name": "stdout",
     "output_type": "stream",
     "text": [
      "Epoch 38 | Training loss: 0.1087 | Validation loss: 0.1310\n"
     ]
    },
    {
     "name": "stderr",
     "output_type": "stream",
     "text": [
      " 78%|███████▊  | 39/50 [16:54<05:15, 28.72s/it]"
     ]
    },
    {
     "name": "stdout",
     "output_type": "stream",
     "text": [
      "Epoch 39 | Training loss: 0.1051 | Validation loss: 0.1310\n"
     ]
    },
    {
     "name": "stderr",
     "output_type": "stream",
     "text": [
      " 80%|████████  | 40/50 [17:24<04:50, 29.04s/it]"
     ]
    },
    {
     "name": "stdout",
     "output_type": "stream",
     "text": [
      "Epoch 40 | Training loss: 0.1062 | Validation loss: 0.1298\n"
     ]
    },
    {
     "name": "stderr",
     "output_type": "stream",
     "text": [
      " 82%|████████▏ | 41/50 [17:51<04:16, 28.53s/it]"
     ]
    },
    {
     "name": "stdout",
     "output_type": "stream",
     "text": [
      "Epoch 41 | Training loss: 0.1023 | Validation loss: 0.1309\n"
     ]
    },
    {
     "name": "stderr",
     "output_type": "stream",
     "text": [
      " 84%|████████▍ | 42/50 [18:20<03:48, 28.52s/it]"
     ]
    },
    {
     "name": "stdout",
     "output_type": "stream",
     "text": [
      "Epoch 42 | Training loss: 0.1051 | Validation loss: 0.1312\n"
     ]
    },
    {
     "name": "stderr",
     "output_type": "stream",
     "text": [
      " 84%|████████▍ | 42/50 [18:47<03:34, 26.84s/it]"
     ]
    },
    {
     "name": "stdout",
     "output_type": "stream",
     "text": [
      "Epoch 43 | Training loss: 0.1021 | Validation loss: 0.1308\n",
      "Stopped training using EarlyStopping at epoch 43\n",
      "\n",
      "**Finished training**\n",
      "\n",
      "Best validation loss (reached after 23 epochs): 0.12748312745243312\n",
      "\n",
      "Training time: 18.79 minutes\n",
      "Total training time: 18.81 minutes\n",
      "\n"
     ]
    },
    {
     "name": "stderr",
     "output_type": "stream",
     "text": [
      "\n"
     ]
    }
   ],
   "source": [
    "scNear.train(adata=adata_train, target_key=\"cell_type\", batch_key=\"patientID\")"
   ]
  },
  {
   "cell_type": "markdown",
   "metadata": {},
   "source": [
    "## Predict on test data"
   ]
  },
  {
   "cell_type": "markdown",
   "metadata": {},
   "source": [
    "Next, we want to make predictions using the model.<br>\n",
    "It will retrieve the information from *trained_models/* to make predictions.<br>\n",
    "To run predict one needs to provide Anndata."
   ]
  },
  {
   "cell_type": "code",
   "execution_count": 5,
   "metadata": {},
   "outputs": [
    {
     "name": "stderr",
     "output_type": "stream",
     "text": [
      "c:\\Users\\user\\Documents\\GitHub\\MT_test_repo\\env\\lib\\site-packages\\anndata\\_core\\anndata.py:1906: UserWarning: Observation names are not unique. To make them unique, call `.obs_names_make_unique`.\n",
      "  utils.warn_names_duplicates(\"obs\")\n"
     ]
    }
   ],
   "source": [
    "predictions = scNear.predict(adata=adata_test)"
   ]
  },
  {
   "cell_type": "markdown",
   "metadata": {},
   "source": [
    "## Visualize test data embedding space"
   ]
  },
  {
   "cell_type": "markdown",
   "metadata": {},
   "source": [
    "Here we use UMAP to visualize the embedding space the model creates for the test data"
   ]
  },
  {
   "cell_type": "code",
   "execution_count": 6,
   "metadata": {},
   "outputs": [
    {
     "name": "stderr",
     "output_type": "stream",
     "text": [
      "c:\\Users\\user\\Documents\\GitHub\\MT_test_repo\\env\\lib\\site-packages\\scanpy\\plotting\\_tools\\scatterplots.py:1234: FutureWarning: The default value of 'ignore' for the `na_action` parameter in pandas.Categorical.map is deprecated and will be changed to 'None' in a future version. Please set na_action to the desired value to avoid seeing this warning\n",
      "  color_vector = pd.Categorical(values.map(color_map))\n",
      "c:\\Users\\user\\Documents\\GitHub\\MT_test_repo\\env\\lib\\site-packages\\scanpy\\plotting\\_tools\\scatterplots.py:394: UserWarning: No data for colormapping provided via 'c'. Parameters 'cmap' will be ignored\n",
      "  cax = scatter(\n"
     ]
    },
    {
     "data": {
      "image/png": "[encoded data removed]",
      "text/plain": [
       "<Figure size 640x480 with 1 Axes>"
      ]
     },
     "metadata": {},
     "output_type": "display_data"
    }
   ],
   "source": [
    "adata_test.obsm[\"latent_space\"] = predictions\n",
    "\n",
    "sc.pp.neighbors(adata_test, use_rep=\"latent_space\")\n",
    "sc.tl.umap(adata_test)\n",
    "sc.pl.umap(adata_test, color=\"cell_type\", ncols=1, title=\"Colored by Cell Type\")"
   ]
  },
  {
   "cell_type": "markdown",
   "metadata": {},
   "source": [
    "## Make cell type vector representations"
   ]
  },
  {
   "cell_type": "markdown",
   "metadata": {},
   "source": [
    "Calculates the centorids of each cell type cluster in latent space and return it as the cell type representation. <br>\n",
    "This is simply achieved by runing the line below. <br>\n",
    "The representations are also saved as a .csv in the *cell_type_vector_representation/* folder."
   ]
  },
  {
   "cell_type": "code",
   "execution_count": 7,
   "metadata": {},
   "outputs": [
    {
     "name": "stderr",
     "output_type": "stream",
     "text": [
      "c:\\Users\\user\\Documents\\GitHub\\MT_test_repo\\env\\lib\\site-packages\\anndata\\_core\\anndata.py:1906: UserWarning: Observation names are not unique. To make them unique, call `.obs_names_make_unique`.\n",
      "  utils.warn_names_duplicates(\"obs\")\n"
     ]
    }
   ],
   "source": [
    "representations = scNear.generate_representations(adata=adata_test, target_key=\"cell_type\")"
   ]
  },
  {
   "cell_type": "code",
   "execution_count": 8,
   "metadata": {},
   "outputs": [
    {
     "data": {
      "text/html": [
       "<div>\n",
       "<style scoped>\n",
       "    .dataframe tbody tr th:only-of-type {\n",
       "        vertical-align: middle;\n",
       "    }\n",
       "\n",
       "    .dataframe tbody tr th {\n",
       "        vertical-align: top;\n",
       "    }\n",
       "\n",
       "    .dataframe thead th {\n",
       "        text-align: right;\n",
       "    }\n",
       "</style>\n",
       "<table border=\"1\" class=\"dataframe\">\n",
       "  <thead>\n",
       "    <tr style=\"text-align: right;\">\n",
       "      <th></th>\n",
       "      <th>acinar</th>\n",
       "      <th>activated_stellate</th>\n",
       "      <th>alpha</th>\n",
       "      <th>beta</th>\n",
       "      <th>delta</th>\n",
       "      <th>ductal</th>\n",
       "      <th>endothelial</th>\n",
       "      <th>epsilon</th>\n",
       "      <th>gamma</th>\n",
       "      <th>macrophage</th>\n",
       "      <th>mast</th>\n",
       "      <th>quiescent_stellate</th>\n",
       "      <th>schwann</th>\n",
       "      <th>t_cell</th>\n",
       "    </tr>\n",
       "  </thead>\n",
       "  <tbody>\n",
       "    <tr>\n",
       "      <th>0</th>\n",
       "      <td>0.322782</td>\n",
       "      <td>1.415569</td>\n",
       "      <td>-0.198350</td>\n",
       "      <td>0.025080</td>\n",
       "      <td>-1.371939</td>\n",
       "      <td>-0.431533</td>\n",
       "      <td>0.956332</td>\n",
       "      <td>-0.547400</td>\n",
       "      <td>-1.751373</td>\n",
       "      <td>0.591342</td>\n",
       "      <td>1.314219</td>\n",
       "      <td>-0.085679</td>\n",
       "      <td>1.941727</td>\n",
       "      <td>0.485580</td>\n",
       "    </tr>\n",
       "    <tr>\n",
       "      <th>1</th>\n",
       "      <td>-0.711468</td>\n",
       "      <td>0.240093</td>\n",
       "      <td>2.023287</td>\n",
       "      <td>1.047913</td>\n",
       "      <td>1.493909</td>\n",
       "      <td>-0.835231</td>\n",
       "      <td>-0.648869</td>\n",
       "      <td>-0.679136</td>\n",
       "      <td>-0.032995</td>\n",
       "      <td>-0.430445</td>\n",
       "      <td>-2.475266</td>\n",
       "      <td>-0.978562</td>\n",
       "      <td>0.789369</td>\n",
       "      <td>-1.787330</td>\n",
       "    </tr>\n",
       "    <tr>\n",
       "      <th>2</th>\n",
       "      <td>-2.291926</td>\n",
       "      <td>0.142397</td>\n",
       "      <td>0.143223</td>\n",
       "      <td>0.187249</td>\n",
       "      <td>1.502197</td>\n",
       "      <td>-0.019175</td>\n",
       "      <td>0.725667</td>\n",
       "      <td>-0.545353</td>\n",
       "      <td>-0.423354</td>\n",
       "      <td>1.582847</td>\n",
       "      <td>0.004408</td>\n",
       "      <td>0.176590</td>\n",
       "      <td>-0.280003</td>\n",
       "      <td>-0.836467</td>\n",
       "    </tr>\n",
       "    <tr>\n",
       "      <th>3</th>\n",
       "      <td>-1.752132</td>\n",
       "      <td>1.023033</td>\n",
       "      <td>0.253056</td>\n",
       "      <td>-0.039081</td>\n",
       "      <td>-0.920485</td>\n",
       "      <td>-0.595289</td>\n",
       "      <td>1.792528</td>\n",
       "      <td>-0.158348</td>\n",
       "      <td>0.119745</td>\n",
       "      <td>-2.265742</td>\n",
       "      <td>0.154930</td>\n",
       "      <td>0.600342</td>\n",
       "      <td>0.464672</td>\n",
       "      <td>0.660860</td>\n",
       "    </tr>\n",
       "    <tr>\n",
       "      <th>4</th>\n",
       "      <td>-0.560960</td>\n",
       "      <td>0.776209</td>\n",
       "      <td>-0.056419</td>\n",
       "      <td>0.033523</td>\n",
       "      <td>0.751363</td>\n",
       "      <td>-1.678075</td>\n",
       "      <td>-0.672578</td>\n",
       "      <td>-1.189084</td>\n",
       "      <td>-0.232871</td>\n",
       "      <td>2.839637</td>\n",
       "      <td>2.327880</td>\n",
       "      <td>-0.447378</td>\n",
       "      <td>-0.573627</td>\n",
       "      <td>0.664398</td>\n",
       "    </tr>\n",
       "    <tr>\n",
       "      <th>...</th>\n",
       "      <td>...</td>\n",
       "      <td>...</td>\n",
       "      <td>...</td>\n",
       "      <td>...</td>\n",
       "      <td>...</td>\n",
       "      <td>...</td>\n",
       "      <td>...</td>\n",
       "      <td>...</td>\n",
       "      <td>...</td>\n",
       "      <td>...</td>\n",
       "      <td>...</td>\n",
       "      <td>...</td>\n",
       "      <td>...</td>\n",
       "      <td>...</td>\n",
       "    </tr>\n",
       "    <tr>\n",
       "      <th>95</th>\n",
       "      <td>-1.278674</td>\n",
       "      <td>1.189636</td>\n",
       "      <td>-1.267306</td>\n",
       "      <td>-0.669659</td>\n",
       "      <td>0.249227</td>\n",
       "      <td>-0.867485</td>\n",
       "      <td>-1.179445</td>\n",
       "      <td>1.730204</td>\n",
       "      <td>0.934194</td>\n",
       "      <td>-2.039667</td>\n",
       "      <td>1.125421</td>\n",
       "      <td>-0.123166</td>\n",
       "      <td>-0.343803</td>\n",
       "      <td>-0.179614</td>\n",
       "    </tr>\n",
       "    <tr>\n",
       "      <th>96</th>\n",
       "      <td>0.138617</td>\n",
       "      <td>-2.480631</td>\n",
       "      <td>0.697677</td>\n",
       "      <td>0.839582</td>\n",
       "      <td>-0.010767</td>\n",
       "      <td>-0.069569</td>\n",
       "      <td>-1.846603</td>\n",
       "      <td>2.114755</td>\n",
       "      <td>0.594529</td>\n",
       "      <td>-1.907833</td>\n",
       "      <td>0.389325</td>\n",
       "      <td>-1.944990</td>\n",
       "      <td>0.021456</td>\n",
       "      <td>0.561117</td>\n",
       "    </tr>\n",
       "    <tr>\n",
       "      <th>97</th>\n",
       "      <td>0.782404</td>\n",
       "      <td>0.652341</td>\n",
       "      <td>0.305242</td>\n",
       "      <td>0.971890</td>\n",
       "      <td>-0.539750</td>\n",
       "      <td>-0.130949</td>\n",
       "      <td>-0.703040</td>\n",
       "      <td>0.044589</td>\n",
       "      <td>-1.362064</td>\n",
       "      <td>-1.029160</td>\n",
       "      <td>-2.109616</td>\n",
       "      <td>1.957592</td>\n",
       "      <td>0.075464</td>\n",
       "      <td>-0.631512</td>\n",
       "    </tr>\n",
       "    <tr>\n",
       "      <th>98</th>\n",
       "      <td>1.708106</td>\n",
       "      <td>-0.691640</td>\n",
       "      <td>0.258427</td>\n",
       "      <td>-0.718672</td>\n",
       "      <td>0.510591</td>\n",
       "      <td>-0.685056</td>\n",
       "      <td>-0.955246</td>\n",
       "      <td>-0.464226</td>\n",
       "      <td>0.166263</td>\n",
       "      <td>1.681495</td>\n",
       "      <td>0.320771</td>\n",
       "      <td>-1.048994</td>\n",
       "      <td>0.637266</td>\n",
       "      <td>1.236145</td>\n",
       "    </tr>\n",
       "    <tr>\n",
       "      <th>99</th>\n",
       "      <td>-1.752260</td>\n",
       "      <td>0.914991</td>\n",
       "      <td>-1.679260</td>\n",
       "      <td>0.661088</td>\n",
       "      <td>0.001065</td>\n",
       "      <td>-0.202456</td>\n",
       "      <td>-0.440800</td>\n",
       "      <td>-0.234111</td>\n",
       "      <td>0.637408</td>\n",
       "      <td>1.491328</td>\n",
       "      <td>-0.634550</td>\n",
       "      <td>1.213747</td>\n",
       "      <td>-0.561110</td>\n",
       "      <td>0.499098</td>\n",
       "    </tr>\n",
       "  </tbody>\n",
       "</table>\n",
       "<p>100 rows × 14 columns</p>\n",
       "</div>"
      ],
      "text/plain": [
       "      acinar  activated_stellate     alpha      beta     delta    ductal  \\\n",
       "0   0.322782            1.415569 -0.198350  0.025080 -1.371939 -0.431533   \n",
       "1  -0.711468            0.240093  2.023287  1.047913  1.493909 -0.835231   \n",
       "2  -2.291926            0.142397  0.143223  0.187249  1.502197 -0.019175   \n",
       "3  -1.752132            1.023033  0.253056 -0.039081 -0.920485 -0.595289   \n",
       "4  -0.560960            0.776209 -0.056419  0.033523  0.751363 -1.678075   \n",
       "..       ...                 ...       ...       ...       ...       ...   \n",
       "95 -1.278674            1.189636 -1.267306 -0.669659  0.249227 -0.867485   \n",
       "96  0.138617           -2.480631  0.697677  0.839582 -0.010767 -0.069569   \n",
       "97  0.782404            0.652341  0.305242  0.971890 -0.539750 -0.130949   \n",
       "98  1.708106           -0.691640  0.258427 -0.718672  0.510591 -0.685056   \n",
       "99 -1.752260            0.914991 -1.679260  0.661088  0.001065 -0.202456   \n",
       "\n",
       "    endothelial   epsilon     gamma  macrophage      mast  quiescent_stellate  \\\n",
       "0      0.956332 -0.547400 -1.751373    0.591342  1.314219           -0.085679   \n",
       "1     -0.648869 -0.679136 -0.032995   -0.430445 -2.475266           -0.978562   \n",
       "2      0.725667 -0.545353 -0.423354    1.582847  0.004408            0.176590   \n",
       "3      1.792528 -0.158348  0.119745   -2.265742  0.154930            0.600342   \n",
       "4     -0.672578 -1.189084 -0.232871    2.839637  2.327880           -0.447378   \n",
       "..          ...       ...       ...         ...       ...                 ...   \n",
       "95    -1.179445  1.730204  0.934194   -2.039667  1.125421           -0.123166   \n",
       "96    -1.846603  2.114755  0.594529   -1.907833  0.389325           -1.944990   \n",
       "97    -0.703040  0.044589 -1.362064   -1.029160 -2.109616            1.957592   \n",
       "98    -0.955246 -0.464226  0.166263    1.681495  0.320771           -1.048994   \n",
       "99    -0.440800 -0.234111  0.637408    1.491328 -0.634550            1.213747   \n",
       "\n",
       "     schwann    t_cell  \n",
       "0   1.941727  0.485580  \n",
       "1   0.789369 -1.787330  \n",
       "2  -0.280003 -0.836467  \n",
       "3   0.464672  0.660860  \n",
       "4  -0.573627  0.664398  \n",
       "..       ...       ...  \n",
       "95 -0.343803 -0.179614  \n",
       "96  0.021456  0.561117  \n",
       "97  0.075464 -0.631512  \n",
       "98  0.637266  1.236145  \n",
       "99 -0.561110  0.499098  \n",
       "\n",
       "[100 rows x 14 columns]"
      ]
     },
     "execution_count": 8,
     "metadata": {},
     "output_type": "execute_result"
    }
   ],
   "source": [
    "representations"
   ]
  }
 ],
 "metadata": {
  "kernelspec": {
   "display_name": "env",
   "language": "python",
   "name": "python3"
  },
  "language_info": {
   "codemirror_mode": {
    "name": "ipython",
    "version": 3
   },
   "file_extension": ".py",
   "mimetype": "text/x-python",
   "name": "python",
   "nbconvert_exporter": "python",
   "pygments_lexer": "ipython3",
   "version": "3.10.5"
  }
 },
 "nbformat": 4,
 "nbformat_minor": 2
}
