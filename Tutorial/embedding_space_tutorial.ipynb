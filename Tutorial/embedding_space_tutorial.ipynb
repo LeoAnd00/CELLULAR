{
 "cells": [
  {
   "cell_type": "markdown",
   "metadata": {},
   "source": [
    "# Embedding Space Tutorial"
   ]
  },
  {
   "cell_type": "markdown",
   "metadata": {},
   "source": [
    "This is a tutorial for how to use the package to train a model to make an embedding space and then make predictions on new data to generate an embedding space"
   ]
  },
  {
   "cell_type": "markdown",
   "metadata": {},
   "source": [
    "**Before runing tutorial:**\n",
    "- Make sure you've installed the CELLULAR package\n",
    "- Download the data named *Tutorial.rar* from [here](https://doi.org/10.5281/zenodo.10959788) and place the data folder under the */Tutorial* folder in this repository"
   ]
  },
  {
   "cell_type": "code",
   "execution_count": 1,
   "metadata": {},
   "outputs": [
    {
     "name": "stderr",
     "output_type": "stream",
     "text": [
      "c:\\Users\\user\\Documents\\GitHub\\testing_CELLULAR\\venv\\lib\\site-packages\\tqdm\\auto.py:21: TqdmWarning: IProgress not found. Please update jupyter and ipywidgets. See https://ipywidgets.readthedocs.io/en/stable/user_install.html\n",
      "  from .autonotebook import tqdm as notebook_tqdm\n"
     ]
    }
   ],
   "source": [
    "# Load required packages\n",
    "import scanpy as sc\n",
    "from sklearn.model_selection import StratifiedKFold\n",
    "\n",
    "import CELLULAR_CL as CELLULAR"
   ]
  },
  {
   "cell_type": "markdown",
   "metadata": {},
   "source": [
    "## Read data"
   ]
  },
  {
   "cell_type": "markdown",
   "metadata": {},
   "source": [
    "Start by reading Anndata and split it into a training set and a testing set. <br>\n",
    "It's worth noting that adata.X, containing the counts, should be normalized. If this isn't the case, there's a implemented normalization function in the package. Simply run *CELLULAR.log1p_normalize(adata)* to apply scale factor and log1p normalize adata.X."
   ]
  },
  {
   "cell_type": "code",
   "execution_count": 2,
   "metadata": {},
   "outputs": [
    {
     "name": "stderr",
     "output_type": "stream",
     "text": [
      "c:\\Users\\user\\Documents\\GitHub\\testing_CELLULAR\\venv\\lib\\site-packages\\anndata\\__init__.py:51: FutureWarning: `anndata.read` is deprecated, use `anndata.read_h5ad` instead. `ad.read` will be removed in mid 2024.\n",
      "  warnings.warn(\n",
      "c:\\Users\\user\\Documents\\GitHub\\testing_CELLULAR\\venv\\lib\\site-packages\\anndata\\_core\\anndata.py:1906: UserWarning: Observation names are not unique. To make them unique, call `.obs_names_make_unique`.\n",
      "  utils.warn_names_duplicates(\"obs\")\n",
      "c:\\Users\\user\\Documents\\GitHub\\testing_CELLULAR\\venv\\lib\\site-packages\\anndata\\_core\\anndata.py:1906: UserWarning: Observation names are not unique. To make them unique, call `.obs_names_make_unique`.\n",
      "  utils.warn_names_duplicates(\"obs\")\n"
     ]
    }
   ],
   "source": [
    "adata = sc.read(\"data/Baron.h5ad\", cache=True)\n",
    "\n",
    "### Split data for training and testing\n",
    "\n",
    "# Initialize Stratified K-Fold\n",
    "stratified_kfold = StratifiedKFold(n_splits=5, shuffle=True, random_state=42)\n",
    "\n",
    "# Take the first fold\n",
    "adata_train = adata.copy()\n",
    "adata_test = adata.copy()\n",
    "for train_index, test_index in stratified_kfold.split(adata.X, adata.obs[\"cell_type\"]):\n",
    "    adata_train = adata_train[train_index, :].copy()\n",
    "    adata_test = adata_test[test_index, :].copy()\n",
    "    break # Break to get the first fold"
   ]
  },
  {
   "cell_type": "code",
   "execution_count": 3,
   "metadata": {},
   "outputs": [
    {
     "name": "stdout",
     "output_type": "stream",
     "text": [
      "Train data contains 6855 cells and 14322 genes\n",
      "Test data contains 1714 cells and 14322 genes\n"
     ]
    }
   ],
   "source": [
    "print(f\"Train data contains {adata_train.X.shape[0]} cells and {adata_train.X.shape[1]} genes\")\n",
    "print(f\"Test data contains {adata_test.X.shape[0]} cells and {adata_test.X.shape[1]} genes\")"
   ]
  },
  {
   "cell_type": "markdown",
   "metadata": {},
   "source": [
    "## Train model"
   ]
  },
  {
   "cell_type": "markdown",
   "metadata": {},
   "source": [
    "Next, we want to train the model. This can simply be achieved by running the following line. <br>\n",
    "Once trained it will save all the information needed to make predictions using the model under *trained_models/*.<br>\n",
    "One needs to give the model the training Anndata, the target key in adata.obs that contains cell type information, and the batch key in adata.obs that contains the batch effect information. <br>\n",
    "For this dataset, patient ID is the batch effect of interest."
   ]
  },
  {
   "cell_type": "code",
   "execution_count": 4,
   "metadata": {},
   "outputs": [
    {
     "name": "stderr",
     "output_type": "stream",
     "text": [
      "c:\\Users\\user\\Documents\\GitHub\\MT_test_repo\\env\\lib\\site-packages\\anndata\\_core\\anndata.py:1906: UserWarning: Observation names are not unique. To make them unique, call `.obs_names_make_unique`.\n",
      "  utils.warn_names_duplicates(\"obs\")\n",
      "c:\\Users\\user\\Documents\\GitHub\\MT_test_repo\\env\\lib\\site-packages\\scanpy\\preprocessing\\_highly_variable_genes.py:258: FutureWarning: The default of observed=False is deprecated and will be changed to True in a future version of pandas. Pass observed=False to retain current behavior or observed=True to adopt the future default and silence this warning.\n",
      "  disp_grouped = df.groupby(\"mean_bin\")[\"dispersions\"]\n",
      "c:\\Users\\user\\Documents\\GitHub\\MT_test_repo\\env\\lib\\site-packages\\anndata\\_core\\anndata.py:1906: UserWarning: Observation names are not unique. To make them unique, call `.obs_names_make_unique`.\n",
      "  utils.warn_names_duplicates(\"obs\")\n",
      "c:\\Users\\user\\Documents\\GitHub\\MT_test_repo\\env\\lib\\site-packages\\anndata\\_core\\anndata.py:1906: UserWarning: Observation names are not unique. To make them unique, call `.obs_names_make_unique`.\n",
      "  utils.warn_names_duplicates(\"obs\")\n",
      "c:\\Users\\user\\Documents\\GitHub\\MT_test_repo\\env\\lib\\site-packages\\numpy\\core\\fromnumeric.py:3504: RuntimeWarning: Mean of empty slice.\n",
      "  return _methods._mean(a, axis=axis, dtype=dtype,\n",
      "c:\\Users\\user\\Documents\\GitHub\\MT_test_repo\\env\\lib\\site-packages\\numpy\\core\\_methods.py:121: RuntimeWarning: invalid value encountered in divide\n",
      "  ret = um.true_divide(\n",
      "c:\\Users\\user\\Documents\\GitHub\\MT_test_repo\\env\\lib\\site-packages\\anndata\\_core\\anndata.py:1906: UserWarning: Observation names are not unique. To make them unique, call `.obs_names_make_unique`.\n",
      "  utils.warn_names_duplicates(\"obs\")\n",
      "c:\\Users\\user\\Documents\\GitHub\\MT_test_repo\\env\\lib\\site-packages\\scanpy\\preprocessing\\_highly_variable_genes.py:258: FutureWarning: The default of observed=False is deprecated and will be changed to True in a future version of pandas. Pass observed=False to retain current behavior or observed=True to adopt the future default and silence this warning.\n",
      "  disp_grouped = df.groupby(\"mean_bin\")[\"dispersions\"]\n",
      "c:\\Users\\user\\Documents\\GitHub\\MT_test_repo\\env\\lib\\site-packages\\anndata\\_core\\anndata.py:1906: UserWarning: Observation names are not unique. To make them unique, call `.obs_names_make_unique`.\n",
      "  utils.warn_names_duplicates(\"obs\")\n",
      "c:\\Users\\user\\Documents\\GitHub\\MT_test_repo\\env\\lib\\site-packages\\anndata\\_core\\anndata.py:1906: UserWarning: Observation names are not unique. To make them unique, call `.obs_names_make_unique`.\n",
      "  utils.warn_names_duplicates(\"obs\")\n",
      "c:\\Users\\user\\Documents\\GitHub\\MT_test_repo\\env\\lib\\site-packages\\numpy\\core\\fromnumeric.py:3504: RuntimeWarning: Mean of empty slice.\n",
      "  return _methods._mean(a, axis=axis, dtype=dtype,\n",
      "c:\\Users\\user\\Documents\\GitHub\\MT_test_repo\\env\\lib\\site-packages\\numpy\\core\\_methods.py:121: RuntimeWarning: invalid value encountered in divide\n",
      "  ret = um.true_divide(\n",
      "c:\\Users\\user\\Documents\\GitHub\\MT_test_repo\\env\\lib\\site-packages\\anndata\\_core\\anndata.py:1906: UserWarning: Observation names are not unique. To make them unique, call `.obs_names_make_unique`.\n",
      "  utils.warn_names_duplicates(\"obs\")\n"
     ]
    },
    {
     "name": "stdout",
     "output_type": "stream",
     "text": [
      "Number of parameters: 2558600\n",
      "\n",
      "Start Training\n",
      "\n"
     ]
    },
    {
     "name": "stderr",
     "output_type": "stream",
     "text": [
      "  2%|▏         | 1/50 [00:22<18:46, 22.99s/it]"
     ]
    },
    {
     "name": "stdout",
     "output_type": "stream",
     "text": [
      "Epoch 1 | Training loss: 0.7263 | Validation loss: 0.5433\n"
     ]
    },
    {
     "name": "stderr",
     "output_type": "stream",
     "text": [
      "  4%|▍         | 2/50 [00:45<18:12, 22.77s/it]"
     ]
    },
    {
     "name": "stdout",
     "output_type": "stream",
     "text": [
      "Epoch 2 | Training loss: 0.3885 | Validation loss: 0.2354\n"
     ]
    },
    {
     "name": "stderr",
     "output_type": "stream",
     "text": [
      "  6%|▌         | 3/50 [01:08<17:43, 22.62s/it]"
     ]
    },
    {
     "name": "stdout",
     "output_type": "stream",
     "text": [
      "Epoch 3 | Training loss: 0.3335 | Validation loss: 0.2109\n"
     ]
    },
    {
     "name": "stderr",
     "output_type": "stream",
     "text": [
      "  8%|▊         | 4/50 [01:30<17:13, 22.47s/it]"
     ]
    },
    {
     "name": "stdout",
     "output_type": "stream",
     "text": [
      "Epoch 4 | Training loss: 0.2089 | Validation loss: 0.1814\n"
     ]
    },
    {
     "name": "stderr",
     "output_type": "stream",
     "text": [
      " 10%|█         | 5/50 [01:53<17:03, 22.74s/it]"
     ]
    },
    {
     "name": "stdout",
     "output_type": "stream",
     "text": [
      "Epoch 5 | Training loss: 0.2258 | Validation loss: 0.1783\n"
     ]
    },
    {
     "name": "stderr",
     "output_type": "stream",
     "text": [
      " 12%|█▏        | 6/50 [02:15<16:31, 22.53s/it]"
     ]
    },
    {
     "name": "stdout",
     "output_type": "stream",
     "text": [
      "Epoch 6 | Training loss: 0.2337 | Validation loss: 0.1613\n"
     ]
    },
    {
     "name": "stderr",
     "output_type": "stream",
     "text": [
      " 14%|█▍        | 7/50 [02:36<15:49, 22.08s/it]"
     ]
    },
    {
     "name": "stdout",
     "output_type": "stream",
     "text": [
      "Epoch 7 | Training loss: 0.2209 | Validation loss: 0.1612\n"
     ]
    },
    {
     "name": "stderr",
     "output_type": "stream",
     "text": [
      " 16%|█▌        | 8/50 [03:00<15:43, 22.46s/it]"
     ]
    },
    {
     "name": "stdout",
     "output_type": "stream",
     "text": [
      "Epoch 8 | Training loss: 0.1703 | Validation loss: 0.1399\n"
     ]
    },
    {
     "name": "stderr",
     "output_type": "stream",
     "text": [
      " 18%|█▊        | 9/50 [03:22<15:16, 22.35s/it]"
     ]
    },
    {
     "name": "stdout",
     "output_type": "stream",
     "text": [
      "Epoch 9 | Training loss: 0.1290 | Validation loss: 0.1360\n"
     ]
    },
    {
     "name": "stderr",
     "output_type": "stream",
     "text": [
      " 20%|██        | 10/50 [03:46<15:22, 23.06s/it]"
     ]
    },
    {
     "name": "stdout",
     "output_type": "stream",
     "text": [
      "Epoch 10 | Training loss: 0.1319 | Validation loss: 0.1348\n"
     ]
    },
    {
     "name": "stderr",
     "output_type": "stream",
     "text": [
      " 22%|██▏       | 11/50 [04:09<14:51, 22.87s/it]"
     ]
    },
    {
     "name": "stdout",
     "output_type": "stream",
     "text": [
      "Epoch 11 | Training loss: 0.1222 | Validation loss: 0.1316\n"
     ]
    },
    {
     "name": "stderr",
     "output_type": "stream",
     "text": [
      " 24%|██▍       | 12/50 [04:32<14:34, 23.00s/it]"
     ]
    },
    {
     "name": "stdout",
     "output_type": "stream",
     "text": [
      "Epoch 12 | Training loss: 0.1125 | Validation loss: 0.1308\n"
     ]
    },
    {
     "name": "stderr",
     "output_type": "stream",
     "text": [
      " 26%|██▌       | 13/50 [04:54<13:59, 22.69s/it]"
     ]
    },
    {
     "name": "stdout",
     "output_type": "stream",
     "text": [
      "Epoch 13 | Training loss: 0.1082 | Validation loss: 0.1294\n"
     ]
    },
    {
     "name": "stderr",
     "output_type": "stream",
     "text": [
      " 28%|██▊       | 14/50 [05:17<13:39, 22.78s/it]"
     ]
    },
    {
     "name": "stdout",
     "output_type": "stream",
     "text": [
      "Epoch 14 | Training loss: 0.1135 | Validation loss: 0.1295\n"
     ]
    },
    {
     "name": "stderr",
     "output_type": "stream",
     "text": [
      " 30%|███       | 15/50 [05:39<13:09, 22.55s/it]"
     ]
    },
    {
     "name": "stdout",
     "output_type": "stream",
     "text": [
      "Epoch 15 | Training loss: 0.1007 | Validation loss: 0.1282\n"
     ]
    },
    {
     "name": "stderr",
     "output_type": "stream",
     "text": [
      " 32%|███▏      | 16/50 [06:02<12:46, 22.54s/it]"
     ]
    },
    {
     "name": "stdout",
     "output_type": "stream",
     "text": [
      "Epoch 16 | Training loss: 0.1073 | Validation loss: 0.1286\n"
     ]
    },
    {
     "name": "stderr",
     "output_type": "stream",
     "text": [
      " 34%|███▍      | 17/50 [06:24<12:19, 22.41s/it]"
     ]
    },
    {
     "name": "stdout",
     "output_type": "stream",
     "text": [
      "Epoch 17 | Training loss: 0.1110 | Validation loss: 0.1277\n"
     ]
    },
    {
     "name": "stderr",
     "output_type": "stream",
     "text": [
      " 36%|███▌      | 18/50 [06:46<11:53, 22.28s/it]"
     ]
    },
    {
     "name": "stdout",
     "output_type": "stream",
     "text": [
      "Epoch 18 | Training loss: 0.1017 | Validation loss: 0.1276\n"
     ]
    },
    {
     "name": "stderr",
     "output_type": "stream",
     "text": [
      " 38%|███▊      | 19/50 [07:13<12:16, 23.74s/it]"
     ]
    },
    {
     "name": "stdout",
     "output_type": "stream",
     "text": [
      "Epoch 19 | Training loss: 0.1036 | Validation loss: 0.1279\n"
     ]
    },
    {
     "name": "stderr",
     "output_type": "stream",
     "text": [
      " 40%|████      | 20/50 [07:43<12:47, 25.58s/it]"
     ]
    },
    {
     "name": "stdout",
     "output_type": "stream",
     "text": [
      "Epoch 20 | Training loss: 0.1043 | Validation loss: 0.1282\n"
     ]
    },
    {
     "name": "stderr",
     "output_type": "stream",
     "text": [
      " 42%|████▏     | 21/50 [08:22<14:19, 29.63s/it]"
     ]
    },
    {
     "name": "stdout",
     "output_type": "stream",
     "text": [
      "Epoch 21 | Training loss: 0.1156 | Validation loss: 0.1280\n"
     ]
    },
    {
     "name": "stderr",
     "output_type": "stream",
     "text": [
      " 44%|████▍     | 22/50 [08:49<13:30, 28.95s/it]"
     ]
    },
    {
     "name": "stdout",
     "output_type": "stream",
     "text": [
      "Epoch 22 | Training loss: 0.1076 | Validation loss: 0.1286\n"
     ]
    },
    {
     "name": "stderr",
     "output_type": "stream",
     "text": [
      " 46%|████▌     | 23/50 [09:18<12:59, 28.88s/it]"
     ]
    },
    {
     "name": "stdout",
     "output_type": "stream",
     "text": [
      "Epoch 23 | Training loss: 0.1095 | Validation loss: 0.1275\n"
     ]
    },
    {
     "name": "stderr",
     "output_type": "stream",
     "text": [
      " 48%|████▊     | 24/50 [09:45<12:21, 28.51s/it]"
     ]
    },
    {
     "name": "stdout",
     "output_type": "stream",
     "text": [
      "Epoch 24 | Training loss: 0.1154 | Validation loss: 0.1293\n"
     ]
    },
    {
     "name": "stderr",
     "output_type": "stream",
     "text": [
      " 50%|█████     | 25/50 [10:19<12:28, 29.95s/it]"
     ]
    },
    {
     "name": "stdout",
     "output_type": "stream",
     "text": [
      "Epoch 25 | Training loss: 0.1032 | Validation loss: 0.1280\n"
     ]
    },
    {
     "name": "stderr",
     "output_type": "stream",
     "text": [
      " 52%|█████▏    | 26/50 [10:46<11:38, 29.10s/it]"
     ]
    },
    {
     "name": "stdout",
     "output_type": "stream",
     "text": [
      "Epoch 26 | Training loss: 0.1098 | Validation loss: 0.1291\n"
     ]
    },
    {
     "name": "stderr",
     "output_type": "stream",
     "text": [
      " 54%|█████▍    | 27/50 [11:15<11:11, 29.20s/it]"
     ]
    },
    {
     "name": "stdout",
     "output_type": "stream",
     "text": [
      "Epoch 27 | Training loss: 0.1042 | Validation loss: 0.1285\n"
     ]
    },
    {
     "name": "stderr",
     "output_type": "stream",
     "text": [
      " 56%|█████▌    | 28/50 [11:43<10:30, 28.65s/it]"
     ]
    },
    {
     "name": "stdout",
     "output_type": "stream",
     "text": [
      "Epoch 28 | Training loss: 0.1085 | Validation loss: 0.1276\n"
     ]
    },
    {
     "name": "stderr",
     "output_type": "stream",
     "text": [
      " 58%|█████▊    | 29/50 [12:12<10:04, 28.77s/it]"
     ]
    },
    {
     "name": "stdout",
     "output_type": "stream",
     "text": [
      "Epoch 29 | Training loss: 0.1034 | Validation loss: 0.1285\n"
     ]
    },
    {
     "name": "stderr",
     "output_type": "stream",
     "text": [
      " 60%|██████    | 30/50 [12:39<09:26, 28.34s/it]"
     ]
    },
    {
     "name": "stdout",
     "output_type": "stream",
     "text": [
      "Epoch 30 | Training loss: 0.1072 | Validation loss: 0.1288\n"
     ]
    },
    {
     "name": "stderr",
     "output_type": "stream",
     "text": [
      " 62%|██████▏   | 31/50 [13:08<09:00, 28.42s/it]"
     ]
    },
    {
     "name": "stdout",
     "output_type": "stream",
     "text": [
      "Epoch 31 | Training loss: 0.1013 | Validation loss: 0.1284\n"
     ]
    },
    {
     "name": "stderr",
     "output_type": "stream",
     "text": [
      " 64%|██████▍   | 32/50 [13:35<08:26, 28.15s/it]"
     ]
    },
    {
     "name": "stdout",
     "output_type": "stream",
     "text": [
      "Epoch 32 | Training loss: 0.0990 | Validation loss: 0.1284\n"
     ]
    },
    {
     "name": "stderr",
     "output_type": "stream",
     "text": [
      " 66%|██████▌   | 33/50 [14:03<07:54, 27.93s/it]"
     ]
    },
    {
     "name": "stdout",
     "output_type": "stream",
     "text": [
      "Epoch 33 | Training loss: 0.1053 | Validation loss: 0.1292\n"
     ]
    },
    {
     "name": "stderr",
     "output_type": "stream",
     "text": [
      " 68%|██████▊   | 34/50 [14:29<07:19, 27.49s/it]"
     ]
    },
    {
     "name": "stdout",
     "output_type": "stream",
     "text": [
      "Epoch 34 | Training loss: 0.1093 | Validation loss: 0.1300\n"
     ]
    },
    {
     "name": "stderr",
     "output_type": "stream",
     "text": [
      " 70%|███████   | 35/50 [14:59<07:03, 28.26s/it]"
     ]
    },
    {
     "name": "stdout",
     "output_type": "stream",
     "text": [
      "Epoch 35 | Training loss: 0.1034 | Validation loss: 0.1300\n"
     ]
    },
    {
     "name": "stderr",
     "output_type": "stream",
     "text": [
      " 72%|███████▏  | 36/50 [15:26<06:31, 27.96s/it]"
     ]
    },
    {
     "name": "stdout",
     "output_type": "stream",
     "text": [
      "Epoch 36 | Training loss: 0.0995 | Validation loss: 0.1307\n"
     ]
    },
    {
     "name": "stderr",
     "output_type": "stream",
     "text": [
      " 74%|███████▍  | 37/50 [15:57<06:15, 28.88s/it]"
     ]
    },
    {
     "name": "stdout",
     "output_type": "stream",
     "text": [
      "Epoch 37 | Training loss: 0.1029 | Validation loss: 0.1294\n"
     ]
    },
    {
     "name": "stderr",
     "output_type": "stream",
     "text": [
      " 76%|███████▌  | 38/50 [16:25<05:42, 28.52s/it]"
     ]
    },
    {
     "name": "stdout",
     "output_type": "stream",
     "text": [
      "Epoch 38 | Training loss: 0.1087 | Validation loss: 0.1310\n"
     ]
    },
    {
     "name": "stderr",
     "output_type": "stream",
     "text": [
      " 78%|███████▊  | 39/50 [16:54<05:15, 28.72s/it]"
     ]
    },
    {
     "name": "stdout",
     "output_type": "stream",
     "text": [
      "Epoch 39 | Training loss: 0.1051 | Validation loss: 0.1310\n"
     ]
    },
    {
     "name": "stderr",
     "output_type": "stream",
     "text": [
      " 80%|████████  | 40/50 [17:24<04:50, 29.04s/it]"
     ]
    },
    {
     "name": "stdout",
     "output_type": "stream",
     "text": [
      "Epoch 40 | Training loss: 0.1062 | Validation loss: 0.1298\n"
     ]
    },
    {
     "name": "stderr",
     "output_type": "stream",
     "text": [
      " 82%|████████▏ | 41/50 [17:51<04:16, 28.53s/it]"
     ]
    },
    {
     "name": "stdout",
     "output_type": "stream",
     "text": [
      "Epoch 41 | Training loss: 0.1023 | Validation loss: 0.1309\n"
     ]
    },
    {
     "name": "stderr",
     "output_type": "stream",
     "text": [
      " 84%|████████▍ | 42/50 [18:20<03:48, 28.52s/it]"
     ]
    },
    {
     "name": "stdout",
     "output_type": "stream",
     "text": [
      "Epoch 42 | Training loss: 0.1051 | Validation loss: 0.1312\n"
     ]
    },
    {
     "name": "stderr",
     "output_type": "stream",
     "text": [
      " 84%|████████▍ | 42/50 [18:47<03:34, 26.84s/it]"
     ]
    },
    {
     "name": "stdout",
     "output_type": "stream",
     "text": [
      "Epoch 43 | Training loss: 0.1021 | Validation loss: 0.1308\n",
      "Stopped training using EarlyStopping at epoch 43\n",
      "\n",
      "**Finished training**\n",
      "\n",
      "Best validation loss (reached after 23 epochs): 0.12748312745243312\n",
      "\n",
      "Training time: 18.79 minutes\n",
      "Total training time: 18.81 minutes\n",
      "\n"
     ]
    },
    {
     "name": "stderr",
     "output_type": "stream",
     "text": [
      "\n"
     ]
    }
   ],
   "source": [
    "CELLULAR.train(adata=adata_train, target_key=\"cell_type\", batch_key=\"patientID\")"
   ]
  },
  {
   "cell_type": "markdown",
   "metadata": {},
   "source": [
    "## Predict on test data"
   ]
  },
  {
   "cell_type": "markdown",
   "metadata": {},
   "source": [
    "Next, we want to make predictions using the model.<br>\n",
    "It will retrieve the information from *trained_models/* to make predictions.<br>\n",
    "To run predict one needs to provide Anndata."
   ]
  },
  {
   "cell_type": "code",
   "execution_count": 4,
   "metadata": {},
   "outputs": [
    {
     "name": "stderr",
     "output_type": "stream",
     "text": [
      "c:\\Users\\user\\Documents\\GitHub\\testing_CELLULAR\\venv\\lib\\site-packages\\anndata\\_core\\anndata.py:1906: UserWarning: Observation names are not unique. To make them unique, call `.obs_names_make_unique`.\n",
      "  utils.warn_names_duplicates(\"obs\")\n"
     ]
    }
   ],
   "source": [
    "predictions = CELLULAR.predict(adata=adata_test)"
   ]
  },
  {
   "cell_type": "markdown",
   "metadata": {},
   "source": [
    "## Visualize test data embedding space"
   ]
  },
  {
   "cell_type": "markdown",
   "metadata": {},
   "source": [
    "Here we use UMAP to visualize the embedding space the model creates for the test data"
   ]
  },
  {
   "cell_type": "code",
   "execution_count": 5,
   "metadata": {},
   "outputs": [
    {
     "name": "stderr",
     "output_type": "stream",
     "text": [
      "c:\\Users\\user\\Documents\\GitHub\\testing_CELLULAR\\venv\\lib\\site-packages\\scanpy\\plotting\\_tools\\scatterplots.py:1234: FutureWarning: The default value of 'ignore' for the `na_action` parameter in pandas.Categorical.map is deprecated and will be changed to 'None' in a future version. Please set na_action to the desired value to avoid seeing this warning\n",
      "  color_vector = pd.Categorical(values.map(color_map))\n",
      "c:\\Users\\user\\Documents\\GitHub\\testing_CELLULAR\\venv\\lib\\site-packages\\scanpy\\plotting\\_tools\\scatterplots.py:394: UserWarning: No data for colormapping provided via 'c'. Parameters 'cmap' will be ignored\n",
      "  cax = scatter(\n"
     ]
    },
    {
     "data": {
      "image/png": "[encoded data removed]",
      "text/plain": [
       "<Figure size 640x480 with 1 Axes>"
      ]
     },
     "metadata": {},
     "output_type": "display_data"
    }
   ],
   "source": [
    "adata_test.obsm[\"latent_space\"] = predictions\n",
    "\n",
    "sc.pp.neighbors(adata_test, use_rep=\"latent_space\")\n",
    "sc.tl.umap(adata_test)\n",
    "sc.pl.umap(adata_test, color=\"cell_type\", ncols=1, title=\"Colored by Cell Type\")"
   ]
  },
  {
   "cell_type": "markdown",
   "metadata": {},
   "source": [
    "## Make cell type vector representations"
   ]
  },
  {
   "cell_type": "markdown",
   "metadata": {},
   "source": [
    "Calculates the centorids of each cell type cluster in latent space and return it as the cell type representation. <br>\n",
    "This is simply achieved by runing the line below. <br>\n",
    "The representations are also saved as a .csv in the *cell_type_vector_representation/* folder."
   ]
  },
  {
   "cell_type": "code",
   "execution_count": 6,
   "metadata": {},
   "outputs": [
    {
     "name": "stderr",
     "output_type": "stream",
     "text": [
      "c:\\Users\\user\\Documents\\GitHub\\testing_CELLULAR\\venv\\lib\\site-packages\\anndata\\_core\\anndata.py:1906: UserWarning: Observation names are not unique. To make them unique, call `.obs_names_make_unique`.\n",
      "  utils.warn_names_duplicates(\"obs\")\n"
     ]
    }
   ],
   "source": [
    "representations = CELLULAR.generate_representations(adata=adata_test, target_key=\"cell_type\")"
   ]
  },
  {
   "cell_type": "code",
   "execution_count": 7,
   "metadata": {},
   "outputs": [
    {
     "data": {
      "text/html": [
       "<div>\n",
       "<style scoped>\n",
       "    .dataframe tbody tr th:only-of-type {\n",
       "        vertical-align: middle;\n",
       "    }\n",
       "\n",
       "    .dataframe tbody tr th {\n",
       "        vertical-align: top;\n",
       "    }\n",
       "\n",
       "    .dataframe thead th {\n",
       "        text-align: right;\n",
       "    }\n",
       "</style>\n",
       "<table border=\"1\" class=\"dataframe\">\n",
       "  <thead>\n",
       "    <tr style=\"text-align: right;\">\n",
       "      <th></th>\n",
       "      <th>acinar</th>\n",
       "      <th>activated_stellate</th>\n",
       "      <th>alpha</th>\n",
       "      <th>beta</th>\n",
       "      <th>delta</th>\n",
       "      <th>ductal</th>\n",
       "      <th>endothelial</th>\n",
       "      <th>epsilon</th>\n",
       "      <th>gamma</th>\n",
       "      <th>macrophage</th>\n",
       "      <th>mast</th>\n",
       "      <th>quiescent_stellate</th>\n",
       "      <th>schwann</th>\n",
       "      <th>t_cell</th>\n",
       "    </tr>\n",
       "  </thead>\n",
       "  <tbody>\n",
       "    <tr>\n",
       "      <th>0</th>\n",
       "      <td>0.257793</td>\n",
       "      <td>1.271621</td>\n",
       "      <td>-0.058232</td>\n",
       "      <td>0.069965</td>\n",
       "      <td>-0.989020</td>\n",
       "      <td>-0.426815</td>\n",
       "      <td>0.526855</td>\n",
       "      <td>-0.346192</td>\n",
       "      <td>-1.574498</td>\n",
       "      <td>0.494682</td>\n",
       "      <td>1.327972</td>\n",
       "      <td>-0.385954</td>\n",
       "      <td>1.843201</td>\n",
       "      <td>0.761432</td>\n",
       "    </tr>\n",
       "    <tr>\n",
       "      <th>1</th>\n",
       "      <td>-0.642830</td>\n",
       "      <td>0.475497</td>\n",
       "      <td>1.745464</td>\n",
       "      <td>0.891705</td>\n",
       "      <td>1.188267</td>\n",
       "      <td>-0.802605</td>\n",
       "      <td>-0.705548</td>\n",
       "      <td>-0.915931</td>\n",
       "      <td>-0.338488</td>\n",
       "      <td>-0.177819</td>\n",
       "      <td>-2.118608</td>\n",
       "      <td>-0.800858</td>\n",
       "      <td>0.827339</td>\n",
       "      <td>-1.918415</td>\n",
       "    </tr>\n",
       "    <tr>\n",
       "      <th>2</th>\n",
       "      <td>-2.130292</td>\n",
       "      <td>0.480332</td>\n",
       "      <td>0.159839</td>\n",
       "      <td>0.189981</td>\n",
       "      <td>1.499572</td>\n",
       "      <td>0.068331</td>\n",
       "      <td>0.623901</td>\n",
       "      <td>-0.966211</td>\n",
       "      <td>-0.600980</td>\n",
       "      <td>1.822508</td>\n",
       "      <td>0.705341</td>\n",
       "      <td>0.343551</td>\n",
       "      <td>-0.453194</td>\n",
       "      <td>-0.520424</td>\n",
       "    </tr>\n",
       "    <tr>\n",
       "      <th>3</th>\n",
       "      <td>-1.595663</td>\n",
       "      <td>0.784014</td>\n",
       "      <td>0.168043</td>\n",
       "      <td>-0.032287</td>\n",
       "      <td>-0.498719</td>\n",
       "      <td>-0.391782</td>\n",
       "      <td>1.527314</td>\n",
       "      <td>-0.156730</td>\n",
       "      <td>0.539157</td>\n",
       "      <td>-2.081867</td>\n",
       "      <td>0.483415</td>\n",
       "      <td>0.376953</td>\n",
       "      <td>0.320402</td>\n",
       "      <td>0.595842</td>\n",
       "    </tr>\n",
       "    <tr>\n",
       "      <th>4</th>\n",
       "      <td>-0.633755</td>\n",
       "      <td>0.566247</td>\n",
       "      <td>-0.167659</td>\n",
       "      <td>-0.091038</td>\n",
       "      <td>1.221927</td>\n",
       "      <td>-1.728180</td>\n",
       "      <td>-0.953914</td>\n",
       "      <td>-1.154278</td>\n",
       "      <td>0.513541</td>\n",
       "      <td>2.695892</td>\n",
       "      <td>2.436651</td>\n",
       "      <td>-0.786583</td>\n",
       "      <td>-0.708534</td>\n",
       "      <td>0.372612</td>\n",
       "    </tr>\n",
       "    <tr>\n",
       "      <th>...</th>\n",
       "      <td>...</td>\n",
       "      <td>...</td>\n",
       "      <td>...</td>\n",
       "      <td>...</td>\n",
       "      <td>...</td>\n",
       "      <td>...</td>\n",
       "      <td>...</td>\n",
       "      <td>...</td>\n",
       "      <td>...</td>\n",
       "      <td>...</td>\n",
       "      <td>...</td>\n",
       "      <td>...</td>\n",
       "      <td>...</td>\n",
       "      <td>...</td>\n",
       "    </tr>\n",
       "    <tr>\n",
       "      <th>95</th>\n",
       "      <td>-1.555016</td>\n",
       "      <td>1.069011</td>\n",
       "      <td>-0.993645</td>\n",
       "      <td>-0.593728</td>\n",
       "      <td>0.048976</td>\n",
       "      <td>-0.935702</td>\n",
       "      <td>-1.067997</td>\n",
       "      <td>1.704629</td>\n",
       "      <td>0.909146</td>\n",
       "      <td>-2.109933</td>\n",
       "      <td>0.692243</td>\n",
       "      <td>-0.237034</td>\n",
       "      <td>-0.079621</td>\n",
       "      <td>-0.555442</td>\n",
       "    </tr>\n",
       "    <tr>\n",
       "      <th>96</th>\n",
       "      <td>-0.019995</td>\n",
       "      <td>-2.508074</td>\n",
       "      <td>0.730312</td>\n",
       "      <td>0.687318</td>\n",
       "      <td>0.184913</td>\n",
       "      <td>-0.279715</td>\n",
       "      <td>-2.083603</td>\n",
       "      <td>2.158145</td>\n",
       "      <td>0.647102</td>\n",
       "      <td>-1.917746</td>\n",
       "      <td>0.371791</td>\n",
       "      <td>-2.126847</td>\n",
       "      <td>-0.017786</td>\n",
       "      <td>0.309246</td>\n",
       "    </tr>\n",
       "    <tr>\n",
       "      <th>97</th>\n",
       "      <td>0.531767</td>\n",
       "      <td>0.600412</td>\n",
       "      <td>0.384690</td>\n",
       "      <td>0.775439</td>\n",
       "      <td>-0.462518</td>\n",
       "      <td>-0.418501</td>\n",
       "      <td>-0.678744</td>\n",
       "      <td>0.202579</td>\n",
       "      <td>-1.405376</td>\n",
       "      <td>-1.011464</td>\n",
       "      <td>-1.674684</td>\n",
       "      <td>1.816597</td>\n",
       "      <td>-0.090555</td>\n",
       "      <td>-0.822677</td>\n",
       "    </tr>\n",
       "    <tr>\n",
       "      <th>98</th>\n",
       "      <td>1.485327</td>\n",
       "      <td>-0.692544</td>\n",
       "      <td>0.401844</td>\n",
       "      <td>-0.595538</td>\n",
       "      <td>0.248115</td>\n",
       "      <td>-1.083472</td>\n",
       "      <td>-0.950842</td>\n",
       "      <td>-0.259868</td>\n",
       "      <td>-0.106844</td>\n",
       "      <td>1.997534</td>\n",
       "      <td>0.631844</td>\n",
       "      <td>-0.918301</td>\n",
       "      <td>0.788061</td>\n",
       "      <td>1.506771</td>\n",
       "    </tr>\n",
       "    <tr>\n",
       "      <th>99</th>\n",
       "      <td>-1.821401</td>\n",
       "      <td>0.904104</td>\n",
       "      <td>-1.768778</td>\n",
       "      <td>0.574587</td>\n",
       "      <td>-0.201760</td>\n",
       "      <td>-0.162209</td>\n",
       "      <td>-0.375266</td>\n",
       "      <td>0.161825</td>\n",
       "      <td>0.612675</td>\n",
       "      <td>1.429432</td>\n",
       "      <td>-0.733057</td>\n",
       "      <td>1.328718</td>\n",
       "      <td>-0.564779</td>\n",
       "      <td>0.575103</td>\n",
       "    </tr>\n",
       "  </tbody>\n",
       "</table>\n",
       "<p>100 rows × 14 columns</p>\n",
       "</div>"
      ],
      "text/plain": [
       "      acinar  activated_stellate     alpha      beta     delta    ductal  \\\n",
       "0   0.257793            1.271621 -0.058232  0.069965 -0.989020 -0.426815   \n",
       "1  -0.642830            0.475497  1.745464  0.891705  1.188267 -0.802605   \n",
       "2  -2.130292            0.480332  0.159839  0.189981  1.499572  0.068331   \n",
       "3  -1.595663            0.784014  0.168043 -0.032287 -0.498719 -0.391782   \n",
       "4  -0.633755            0.566247 -0.167659 -0.091038  1.221927 -1.728180   \n",
       "..       ...                 ...       ...       ...       ...       ...   \n",
       "95 -1.555016            1.069011 -0.993645 -0.593728  0.048976 -0.935702   \n",
       "96 -0.019995           -2.508074  0.730312  0.687318  0.184913 -0.279715   \n",
       "97  0.531767            0.600412  0.384690  0.775439 -0.462518 -0.418501   \n",
       "98  1.485327           -0.692544  0.401844 -0.595538  0.248115 -1.083472   \n",
       "99 -1.821401            0.904104 -1.768778  0.574587 -0.201760 -0.162209   \n",
       "\n",
       "    endothelial   epsilon     gamma  macrophage      mast  quiescent_stellate  \\\n",
       "0      0.526855 -0.346192 -1.574498    0.494682  1.327972           -0.385954   \n",
       "1     -0.705548 -0.915931 -0.338488   -0.177819 -2.118608           -0.800858   \n",
       "2      0.623901 -0.966211 -0.600980    1.822508  0.705341            0.343551   \n",
       "3      1.527314 -0.156730  0.539157   -2.081867  0.483415            0.376953   \n",
       "4     -0.953914 -1.154278  0.513541    2.695892  2.436651           -0.786583   \n",
       "..          ...       ...       ...         ...       ...                 ...   \n",
       "95    -1.067997  1.704629  0.909146   -2.109933  0.692243           -0.237034   \n",
       "96    -2.083603  2.158145  0.647102   -1.917746  0.371791           -2.126847   \n",
       "97    -0.678744  0.202579 -1.405376   -1.011464 -1.674684            1.816597   \n",
       "98    -0.950842 -0.259868 -0.106844    1.997534  0.631844           -0.918301   \n",
       "99    -0.375266  0.161825  0.612675    1.429432 -0.733057            1.328718   \n",
       "\n",
       "     schwann    t_cell  \n",
       "0   1.843201  0.761432  \n",
       "1   0.827339 -1.918415  \n",
       "2  -0.453194 -0.520424  \n",
       "3   0.320402  0.595842  \n",
       "4  -0.708534  0.372612  \n",
       "..       ...       ...  \n",
       "95 -0.079621 -0.555442  \n",
       "96 -0.017786  0.309246  \n",
       "97 -0.090555 -0.822677  \n",
       "98  0.788061  1.506771  \n",
       "99 -0.564779  0.575103  \n",
       "\n",
       "[100 rows x 14 columns]"
      ]
     },
     "execution_count": 7,
     "metadata": {},
     "output_type": "execute_result"
    }
   ],
   "source": [
    "representations"
   ]
  }
 ],
 "metadata": {
  "kernelspec": {
   "display_name": "venv",
   "language": "python",
   "name": "python3"
  },
  "language_info": {
   "codemirror_mode": {
    "name": "ipython",
    "version": 3
   },
   "file_extension": ".py",
   "mimetype": "text/x-python",
   "name": "python",
   "nbconvert_exporter": "python",
   "pygments_lexer": "ipython3",
   "version": "3.10.5"
  }
 },
 "nbformat": 4,
 "nbformat_minor": 2
}
