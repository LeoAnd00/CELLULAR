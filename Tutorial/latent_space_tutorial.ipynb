{
 "cells": [
  {
   "cell_type": "code",
   "execution_count": 1,
   "metadata": {},
   "outputs": [
    {
     "name": "stderr",
     "output_type": "stream",
     "text": [
      "c:\\Users\\user\\Documents\\GitHub\\MT_test_repo\\env\\lib\\site-packages\\tqdm\\auto.py:21: TqdmWarning: IProgress not found. Please update jupyter and ipywidgets. See https://ipywidgets.readthedocs.io/en/stable/user_install.html\n",
      "  from .autonotebook import tqdm as notebook_tqdm\n"
     ]
    }
   ],
   "source": [
    "import scanpy as sc\n",
    "from sklearn.model_selection import StratifiedKFold\n",
    "import numpy as np\n",
    "\n",
    "import sys\n",
    "sys.path.append('../')\n",
    "import scNear"
   ]
  },
  {
   "cell_type": "markdown",
   "metadata": {},
   "source": [
    "## Read data"
   ]
  },
  {
   "cell_type": "code",
   "execution_count": 2,
   "metadata": {},
   "outputs": [
    {
     "name": "stderr",
     "output_type": "stream",
     "text": [
      "c:\\Users\\user\\Documents\\GitHub\\MT_test_repo\\env\\lib\\site-packages\\anndata\\__init__.py:51: FutureWarning: `anndata.read` is deprecated, use `anndata.read_h5ad` instead. `ad.read` will be removed in mid 2024.\n",
      "  warnings.warn(\n"
     ]
    }
   ],
   "source": [
    "adata = sc.read(\"data/MacParland.h5ad\", cache=True)\n",
    "\n",
    "### Split data for training and testing\n",
    "\n",
    "# Initialize Stratified K-Fold\n",
    "stratified_kfold = StratifiedKFold(n_splits=5, shuffle=True, random_state=42)\n",
    "\n",
    "# Iterate through the folds\n",
    "adata_train = adata.copy()\n",
    "adata_test = adata.copy()\n",
    "for train_index, test_index in stratified_kfold.split(adata.X, adata.obs[\"cell_type\"]):\n",
    "    adata_train = adata_train[train_index, :].copy()\n",
    "    adata_test = adata_test[test_index, :].copy()\n",
    "    break"
   ]
  },
  {
   "cell_type": "code",
   "execution_count": 3,
   "metadata": {},
   "outputs": [
    {
     "name": "stdout",
     "output_type": "stream",
     "text": [
      "Train data contains 6755 cells and 15386 genes\n",
      "Test data contains 1689 cells and 15386 genes\n"
     ]
    }
   ],
   "source": [
    "print(f\"Train data contains {adata_train.X.shape[0]} cells and {adata_train.X.shape[1]} genes\")\n",
    "print(f\"Test data contains {adata_test.X.shape[0]} cells and {adata_test.X.shape[1]} genes\")"
   ]
  },
  {
   "cell_type": "markdown",
   "metadata": {},
   "source": [
    "## Train model"
   ]
  },
  {
   "cell_type": "code",
   "execution_count": 4,
   "metadata": {},
   "outputs": [
    {
     "name": "stderr",
     "output_type": "stream",
     "text": [
      "c:\\Users\\user\\Documents\\GitHub\\MT_test_repo\\Tutorial\\..\\scNear\\functions\\train.py:759: FutureWarning: Series.__getitem__ treating keys as positions is deprecated. In a future version, integer keys will always be treated as labels (consistent with DataFrame behavior). To access a value by position, use `ser.iloc[pos]`\n",
      "  unique_train_labels = np.unique(self.adata.obs[self.target_key][train_index])\n",
      "c:\\Users\\user\\Documents\\GitHub\\MT_test_repo\\Tutorial\\..\\scNear\\functions\\train.py:760: FutureWarning: Series.__getitem__ treating keys as positions is deprecated. In a future version, integer keys will always be treated as labels (consistent with DataFrame behavior). To access a value by position, use `ser.iloc[pos]`\n",
      "  filtered_val_index = [idx for idx in val_index if self.adata.obs[self.target_key][idx] in unique_train_labels]\n",
      "c:\\Users\\user\\Documents\\GitHub\\MT_test_repo\\env\\lib\\site-packages\\scanpy\\preprocessing\\_highly_variable_genes.py:258: FutureWarning: The default of observed=False is deprecated and will be changed to True in a future version of pandas. Pass observed=False to retain current behavior or observed=True to adopt the future default and silence this warning.\n",
      "  disp_grouped = df.groupby(\"mean_bin\")[\"dispersions\"]\n",
      "c:\\Users\\user\\Documents\\GitHub\\MT_test_repo\\env\\lib\\site-packages\\numpy\\core\\fromnumeric.py:3504: RuntimeWarning: Mean of empty slice.\n",
      "  return _methods._mean(a, axis=axis, dtype=dtype,\n",
      "c:\\Users\\user\\Documents\\GitHub\\MT_test_repo\\env\\lib\\site-packages\\numpy\\core\\_methods.py:121: RuntimeWarning: invalid value encountered in divide\n",
      "  ret = um.true_divide(\n",
      "c:\\Users\\user\\Documents\\GitHub\\MT_test_repo\\env\\lib\\site-packages\\numpy\\core\\_methods.py:129: RuntimeWarning: invalid value encountered in scalar divide\n",
      "  ret = ret.dtype.type(ret / rcount)\n",
      "c:\\Users\\user\\Documents\\GitHub\\MT_test_repo\\env\\lib\\site-packages\\scanpy\\preprocessing\\_highly_variable_genes.py:258: FutureWarning: The default of observed=False is deprecated and will be changed to True in a future version of pandas. Pass observed=False to retain current behavior or observed=True to adopt the future default and silence this warning.\n",
      "  disp_grouped = df.groupby(\"mean_bin\")[\"dispersions\"]\n",
      "c:\\Users\\user\\Documents\\GitHub\\MT_test_repo\\env\\lib\\site-packages\\numpy\\core\\fromnumeric.py:3504: RuntimeWarning: Mean of empty slice.\n",
      "  return _methods._mean(a, axis=axis, dtype=dtype,\n",
      "c:\\Users\\user\\Documents\\GitHub\\MT_test_repo\\env\\lib\\site-packages\\numpy\\core\\_methods.py:121: RuntimeWarning: invalid value encountered in divide\n",
      "  ret = um.true_divide(\n",
      "c:\\Users\\user\\Documents\\GitHub\\MT_test_repo\\env\\lib\\site-packages\\numpy\\core\\_methods.py:129: RuntimeWarning: invalid value encountered in scalar divide\n",
      "  ret = ret.dtype.type(ret / rcount)\n"
     ]
    },
    {
     "name": "stdout",
     "output_type": "stream",
     "text": [
      "Number of parameters: 2558600\n",
      "\n",
      "Start Training\n",
      "\n"
     ]
    },
    {
     "name": "stderr",
     "output_type": "stream",
     "text": [
      "  2%|▏         | 1/50 [00:24<19:57, 24.43s/it]"
     ]
    },
    {
     "name": "stdout",
     "output_type": "stream",
     "text": [
      "Epoch 1 | Training loss: 2.7650 | Validation loss: 1.9399\n"
     ]
    },
    {
     "name": "stderr",
     "output_type": "stream",
     "text": [
      "  4%|▍         | 2/50 [00:47<18:53, 23.61s/it]"
     ]
    },
    {
     "name": "stdout",
     "output_type": "stream",
     "text": [
      "Epoch 2 | Training loss: 1.8475 | Validation loss: 1.0176\n"
     ]
    },
    {
     "name": "stderr",
     "output_type": "stream",
     "text": [
      "  6%|▌         | 3/50 [01:09<17:53, 22.83s/it]"
     ]
    },
    {
     "name": "stdout",
     "output_type": "stream",
     "text": [
      "Epoch 3 | Training loss: 1.2521 | Validation loss: 0.8206\n"
     ]
    },
    {
     "name": "stderr",
     "output_type": "stream",
     "text": [
      "  8%|▊         | 4/50 [01:35<18:23, 24.00s/it]"
     ]
    },
    {
     "name": "stdout",
     "output_type": "stream",
     "text": [
      "Epoch 4 | Training loss: 0.9636 | Validation loss: 0.6571\n"
     ]
    },
    {
     "name": "stderr",
     "output_type": "stream",
     "text": [
      " 10%|█         | 5/50 [01:59<17:58, 23.96s/it]"
     ]
    },
    {
     "name": "stdout",
     "output_type": "stream",
     "text": [
      "Epoch 5 | Training loss: 0.7208 | Validation loss: 0.5286\n"
     ]
    },
    {
     "name": "stderr",
     "output_type": "stream",
     "text": [
      " 12%|█▏        | 6/50 [02:22<17:33, 23.94s/it]"
     ]
    },
    {
     "name": "stdout",
     "output_type": "stream",
     "text": [
      "Epoch 6 | Training loss: 0.5247 | Validation loss: 0.4408\n"
     ]
    },
    {
     "name": "stderr",
     "output_type": "stream",
     "text": [
      " 14%|█▍        | 7/50 [02:45<16:45, 23.39s/it]"
     ]
    },
    {
     "name": "stdout",
     "output_type": "stream",
     "text": [
      "Epoch 7 | Training loss: 0.3400 | Validation loss: 0.3587\n"
     ]
    },
    {
     "name": "stderr",
     "output_type": "stream",
     "text": [
      " 16%|█▌        | 8/50 [03:05<15:38, 22.34s/it]"
     ]
    },
    {
     "name": "stdout",
     "output_type": "stream",
     "text": [
      "Epoch 8 | Training loss: 0.2483 | Validation loss: 0.3345\n"
     ]
    },
    {
     "name": "stderr",
     "output_type": "stream",
     "text": [
      " 18%|█▊        | 9/50 [03:25<14:49, 21.69s/it]"
     ]
    },
    {
     "name": "stdout",
     "output_type": "stream",
     "text": [
      "Epoch 9 | Training loss: 0.2242 | Validation loss: 0.3054\n"
     ]
    },
    {
     "name": "stderr",
     "output_type": "stream",
     "text": [
      " 20%|██        | 10/50 [03:46<14:12, 21.31s/it]"
     ]
    },
    {
     "name": "stdout",
     "output_type": "stream",
     "text": [
      "Epoch 10 | Training loss: 0.1961 | Validation loss: 0.2857\n"
     ]
    },
    {
     "name": "stderr",
     "output_type": "stream",
     "text": [
      " 22%|██▏       | 11/50 [04:06<13:38, 20.98s/it]"
     ]
    },
    {
     "name": "stdout",
     "output_type": "stream",
     "text": [
      "Epoch 11 | Training loss: 0.1836 | Validation loss: 0.2826\n"
     ]
    },
    {
     "name": "stderr",
     "output_type": "stream",
     "text": [
      " 24%|██▍       | 12/50 [04:26<13:10, 20.81s/it]"
     ]
    },
    {
     "name": "stdout",
     "output_type": "stream",
     "text": [
      "Epoch 12 | Training loss: 0.1752 | Validation loss: 0.2722\n"
     ]
    },
    {
     "name": "stderr",
     "output_type": "stream",
     "text": [
      " 26%|██▌       | 13/50 [04:46<12:37, 20.48s/it]"
     ]
    },
    {
     "name": "stdout",
     "output_type": "stream",
     "text": [
      "Epoch 13 | Training loss: 0.1672 | Validation loss: 0.2778\n"
     ]
    },
    {
     "name": "stderr",
     "output_type": "stream",
     "text": [
      " 28%|██▊       | 14/50 [05:06<12:11, 20.33s/it]"
     ]
    },
    {
     "name": "stdout",
     "output_type": "stream",
     "text": [
      "Epoch 14 | Training loss: 0.1719 | Validation loss: 0.2762\n"
     ]
    },
    {
     "name": "stderr",
     "output_type": "stream",
     "text": [
      " 30%|███       | 15/50 [05:26<11:51, 20.33s/it]"
     ]
    },
    {
     "name": "stdout",
     "output_type": "stream",
     "text": [
      "Epoch 15 | Training loss: 0.1555 | Validation loss: 0.2723\n"
     ]
    },
    {
     "name": "stderr",
     "output_type": "stream",
     "text": [
      " 32%|███▏      | 16/50 [05:47<11:36, 20.47s/it]"
     ]
    },
    {
     "name": "stdout",
     "output_type": "stream",
     "text": [
      "Epoch 16 | Training loss: 0.1616 | Validation loss: 0.2662\n"
     ]
    },
    {
     "name": "stderr",
     "output_type": "stream",
     "text": [
      " 34%|███▍      | 17/50 [06:07<11:11, 20.35s/it]"
     ]
    },
    {
     "name": "stdout",
     "output_type": "stream",
     "text": [
      "Epoch 17 | Training loss: 0.1574 | Validation loss: 0.2677\n"
     ]
    },
    {
     "name": "stderr",
     "output_type": "stream",
     "text": [
      " 36%|███▌      | 18/50 [06:27<10:47, 20.24s/it]"
     ]
    },
    {
     "name": "stdout",
     "output_type": "stream",
     "text": [
      "Epoch 18 | Training loss: 0.1507 | Validation loss: 0.2628\n"
     ]
    },
    {
     "name": "stderr",
     "output_type": "stream",
     "text": [
      " 38%|███▊      | 19/50 [06:47<10:26, 20.21s/it]"
     ]
    },
    {
     "name": "stdout",
     "output_type": "stream",
     "text": [
      "Epoch 19 | Training loss: 0.1556 | Validation loss: 0.2666\n"
     ]
    },
    {
     "name": "stderr",
     "output_type": "stream",
     "text": [
      " 40%|████      | 20/50 [07:07<10:05, 20.18s/it]"
     ]
    },
    {
     "name": "stdout",
     "output_type": "stream",
     "text": [
      "Epoch 20 | Training loss: 0.1523 | Validation loss: 0.2646\n"
     ]
    },
    {
     "name": "stderr",
     "output_type": "stream",
     "text": [
      " 42%|████▏     | 21/50 [07:28<09:47, 20.26s/it]"
     ]
    },
    {
     "name": "stdout",
     "output_type": "stream",
     "text": [
      "Epoch 21 | Training loss: 0.1577 | Validation loss: 0.2671\n"
     ]
    },
    {
     "name": "stderr",
     "output_type": "stream",
     "text": [
      " 44%|████▍     | 22/50 [07:48<09:27, 20.27s/it]"
     ]
    },
    {
     "name": "stdout",
     "output_type": "stream",
     "text": [
      "Epoch 22 | Training loss: 0.1530 | Validation loss: 0.2726\n"
     ]
    },
    {
     "name": "stderr",
     "output_type": "stream",
     "text": [
      " 46%|████▌     | 23/50 [08:08<09:06, 20.24s/it]"
     ]
    },
    {
     "name": "stdout",
     "output_type": "stream",
     "text": [
      "Epoch 23 | Training loss: 0.1467 | Validation loss: 0.2701\n"
     ]
    },
    {
     "name": "stderr",
     "output_type": "stream",
     "text": [
      " 48%|████▊     | 24/50 [08:29<08:48, 20.32s/it]"
     ]
    },
    {
     "name": "stdout",
     "output_type": "stream",
     "text": [
      "Epoch 24 | Training loss: 0.1450 | Validation loss: 0.2729\n"
     ]
    },
    {
     "name": "stderr",
     "output_type": "stream",
     "text": [
      " 50%|█████     | 25/50 [08:49<08:26, 20.27s/it]"
     ]
    },
    {
     "name": "stdout",
     "output_type": "stream",
     "text": [
      "Epoch 25 | Training loss: 0.1427 | Validation loss: 0.2774\n"
     ]
    },
    {
     "name": "stderr",
     "output_type": "stream",
     "text": [
      " 52%|█████▏    | 26/50 [09:09<08:06, 20.28s/it]"
     ]
    },
    {
     "name": "stdout",
     "output_type": "stream",
     "text": [
      "Epoch 26 | Training loss: 0.1451 | Validation loss: 0.2799\n"
     ]
    },
    {
     "name": "stderr",
     "output_type": "stream",
     "text": [
      " 54%|█████▍    | 27/50 [09:30<07:47, 20.31s/it]"
     ]
    },
    {
     "name": "stdout",
     "output_type": "stream",
     "text": [
      "Epoch 27 | Training loss: 0.1508 | Validation loss: 0.2764\n"
     ]
    },
    {
     "name": "stderr",
     "output_type": "stream",
     "text": [
      " 56%|█████▌    | 28/50 [09:50<07:27, 20.35s/it]"
     ]
    },
    {
     "name": "stdout",
     "output_type": "stream",
     "text": [
      "Epoch 28 | Training loss: 0.1458 | Validation loss: 0.2742\n"
     ]
    },
    {
     "name": "stderr",
     "output_type": "stream",
     "text": [
      " 58%|█████▊    | 29/50 [10:10<07:05, 20.25s/it]"
     ]
    },
    {
     "name": "stdout",
     "output_type": "stream",
     "text": [
      "Epoch 29 | Training loss: 0.1488 | Validation loss: 0.2796\n"
     ]
    },
    {
     "name": "stderr",
     "output_type": "stream",
     "text": [
      " 60%|██████    | 30/50 [10:30<06:44, 20.21s/it]"
     ]
    },
    {
     "name": "stdout",
     "output_type": "stream",
     "text": [
      "Epoch 30 | Training loss: 0.1462 | Validation loss: 0.2767\n"
     ]
    },
    {
     "name": "stderr",
     "output_type": "stream",
     "text": [
      " 62%|██████▏   | 31/50 [10:51<06:25, 20.28s/it]"
     ]
    },
    {
     "name": "stdout",
     "output_type": "stream",
     "text": [
      "Epoch 31 | Training loss: 0.1364 | Validation loss: 0.2746\n"
     ]
    },
    {
     "name": "stderr",
     "output_type": "stream",
     "text": [
      " 64%|██████▍   | 32/50 [11:11<06:04, 20.27s/it]"
     ]
    },
    {
     "name": "stdout",
     "output_type": "stream",
     "text": [
      "Epoch 32 | Training loss: 0.1468 | Validation loss: 0.2740\n"
     ]
    },
    {
     "name": "stderr",
     "output_type": "stream",
     "text": [
      " 66%|██████▌   | 33/50 [11:31<05:43, 20.21s/it]"
     ]
    },
    {
     "name": "stdout",
     "output_type": "stream",
     "text": [
      "Epoch 33 | Training loss: 0.1579 | Validation loss: 0.2764\n"
     ]
    },
    {
     "name": "stderr",
     "output_type": "stream",
     "text": [
      " 68%|██████▊   | 34/50 [11:51<05:22, 20.16s/it]"
     ]
    },
    {
     "name": "stdout",
     "output_type": "stream",
     "text": [
      "Epoch 34 | Training loss: 0.1417 | Validation loss: 0.2786\n"
     ]
    },
    {
     "name": "stderr",
     "output_type": "stream",
     "text": [
      " 70%|███████   | 35/50 [12:11<05:03, 20.26s/it]"
     ]
    },
    {
     "name": "stdout",
     "output_type": "stream",
     "text": [
      "Epoch 35 | Training loss: 0.1466 | Validation loss: 0.2779\n"
     ]
    },
    {
     "name": "stderr",
     "output_type": "stream",
     "text": [
      " 72%|███████▏  | 36/50 [12:31<04:42, 20.17s/it]"
     ]
    },
    {
     "name": "stdout",
     "output_type": "stream",
     "text": [
      "Epoch 36 | Training loss: 0.1506 | Validation loss: 0.2804\n"
     ]
    },
    {
     "name": "stderr",
     "output_type": "stream",
     "text": [
      " 74%|███████▍  | 37/50 [12:52<04:22, 20.19s/it]"
     ]
    },
    {
     "name": "stdout",
     "output_type": "stream",
     "text": [
      "Epoch 37 | Training loss: 0.1398 | Validation loss: 0.2797\n"
     ]
    },
    {
     "name": "stderr",
     "output_type": "stream",
     "text": [
      " 74%|███████▍  | 37/50 [13:12<04:38, 21.42s/it]"
     ]
    },
    {
     "name": "stdout",
     "output_type": "stream",
     "text": [
      "Epoch 38 | Training loss: 0.1409 | Validation loss: 0.2757\n",
      "Stopped training using EarlyStopping at epoch 38\n",
      "\n",
      "**Finished training**\n",
      "\n",
      "Best validation loss (reached after 18 epochs): 0.2628061592578888\n",
      "\n",
      "Training time: 13.21 minutes\n",
      "Total training time: 13.25 minutes\n",
      "\n"
     ]
    },
    {
     "name": "stderr",
     "output_type": "stream",
     "text": [
      "\n"
     ]
    }
   ],
   "source": [
    "scNear.train(adata=adata_train, target_key=\"cell_type\", batch_key=\"patientID\")"
   ]
  },
  {
   "cell_type": "markdown",
   "metadata": {},
   "source": [
    "## Predict on test data"
   ]
  },
  {
   "cell_type": "code",
   "execution_count": 3,
   "metadata": {},
   "outputs": [],
   "source": [
    "predictions = scNear.predict(adata=adata_test)"
   ]
  },
  {
   "cell_type": "markdown",
   "metadata": {},
   "source": [
    "## Visualize test data embedding space"
   ]
  },
  {
   "cell_type": "code",
   "execution_count": 5,
   "metadata": {},
   "outputs": [
    {
     "name": "stderr",
     "output_type": "stream",
     "text": [
      "c:\\Users\\user\\Documents\\GitHub\\MT_test_repo\\env\\lib\\site-packages\\scanpy\\plotting\\_tools\\scatterplots.py:1234: FutureWarning: The default value of 'ignore' for the `na_action` parameter in pandas.Categorical.map is deprecated and will be changed to 'None' in a future version. Please set na_action to the desired value to avoid seeing this warning\n",
      "  color_vector = pd.Categorical(values.map(color_map))\n",
      "c:\\Users\\user\\Documents\\GitHub\\MT_test_repo\\env\\lib\\site-packages\\scanpy\\plotting\\_tools\\scatterplots.py:394: UserWarning: No data for colormapping provided via 'c'. Parameters 'cmap' will be ignored\n",
      "  cax = scatter(\n"
     ]
    },
    {
     "data": {
      "image/png": "[encoded data removed]",
      "text/plain": [
       "<Figure size 640x480 with 1 Axes>"
      ]
     },
     "metadata": {},
     "output_type": "display_data"
    }
   ],
   "source": [
    "adata_test.obsm[\"latent_space\"] = predictions\n",
    "\n",
    "sc.pp.neighbors(adata_test, use_rep=\"latent_space\")\n",
    "\n",
    "sc.tl.umap(adata_test)\n",
    "sc.pl.umap(adata_test, color=\"cell_type\", ncols=1, title=\"Colored by Cell Type\")"
   ]
  },
  {
   "cell_type": "markdown",
   "metadata": {},
   "source": [
    "## Make cell type vector representations"
   ]
  },
  {
   "cell_type": "markdown",
   "metadata": {},
   "source": [
    "Calculates the centorids of each clel type cluster in latent space and return it as the cell type representation"
   ]
  },
  {
   "cell_type": "code",
   "execution_count": 4,
   "metadata": {},
   "outputs": [],
   "source": [
    "representations = scNear.generate_representations(adata=adata_test, target_key=\"cell_type\")"
   ]
  },
  {
   "cell_type": "code",
   "execution_count": 5,
   "metadata": {},
   "outputs": [
    {
     "data": {
      "text/html": [
       "<div>\n",
       "<style scoped>\n",
       "    .dataframe tbody tr th:only-of-type {\n",
       "        vertical-align: middle;\n",
       "    }\n",
       "\n",
       "    .dataframe tbody tr th {\n",
       "        vertical-align: top;\n",
       "    }\n",
       "\n",
       "    .dataframe thead th {\n",
       "        text-align: right;\n",
       "    }\n",
       "</style>\n",
       "<table border=\"1\" class=\"dataframe\">\n",
       "  <thead>\n",
       "    <tr style=\"text-align: right;\">\n",
       "      <th></th>\n",
       "      <th>Central_venous_LSECs</th>\n",
       "      <th>Cholangiocytes</th>\n",
       "      <th>Erythroid_Cells</th>\n",
       "      <th>Hepatic_Stellate_Cells</th>\n",
       "      <th>Hepatocyte_1</th>\n",
       "      <th>Hepatocyte_2</th>\n",
       "      <th>Hepatocyte_3</th>\n",
       "      <th>Hepatocyte_4</th>\n",
       "      <th>Hepatocyte_5</th>\n",
       "      <th>Hepatocyte_6</th>\n",
       "      <th>Inflammatory_Macrophage</th>\n",
       "      <th>Mature_B_Cells</th>\n",
       "      <th>NK-like_Cells</th>\n",
       "      <th>Non-inflammatory_Macrophage</th>\n",
       "      <th>Periportal_LSECs</th>\n",
       "      <th>Plasma_Cells</th>\n",
       "      <th>Portal_endothelial_Cells</th>\n",
       "      <th>alpha-beta_T_Cells</th>\n",
       "      <th>gamma-delta_T_Cells_1</th>\n",
       "      <th>gamma-delta_T_Cells_2</th>\n",
       "    </tr>\n",
       "  </thead>\n",
       "  <tbody>\n",
       "    <tr>\n",
       "      <th>0</th>\n",
       "      <td>0.632675</td>\n",
       "      <td>0.043816</td>\n",
       "      <td>0.466975</td>\n",
       "      <td>0.328986</td>\n",
       "      <td>0.612081</td>\n",
       "      <td>-0.435518</td>\n",
       "      <td>-1.835094</td>\n",
       "      <td>0.264658</td>\n",
       "      <td>0.110933</td>\n",
       "      <td>-0.057691</td>\n",
       "      <td>-0.392007</td>\n",
       "      <td>-0.600405</td>\n",
       "      <td>0.051045</td>\n",
       "      <td>0.426869</td>\n",
       "      <td>-0.006911</td>\n",
       "      <td>0.156528</td>\n",
       "      <td>0.016487</td>\n",
       "      <td>-0.279058</td>\n",
       "      <td>-0.143779</td>\n",
       "      <td>0.050886</td>\n",
       "    </tr>\n",
       "    <tr>\n",
       "      <th>1</th>\n",
       "      <td>-0.052743</td>\n",
       "      <td>-1.013166</td>\n",
       "      <td>-0.832720</td>\n",
       "      <td>-0.042100</td>\n",
       "      <td>0.226464</td>\n",
       "      <td>-0.164539</td>\n",
       "      <td>-1.796637</td>\n",
       "      <td>0.476457</td>\n",
       "      <td>-0.675567</td>\n",
       "      <td>-0.867951</td>\n",
       "      <td>-0.095324</td>\n",
       "      <td>-0.110705</td>\n",
       "      <td>0.417568</td>\n",
       "      <td>-0.115408</td>\n",
       "      <td>0.268057</td>\n",
       "      <td>0.163078</td>\n",
       "      <td>0.145639</td>\n",
       "      <td>0.374039</td>\n",
       "      <td>0.335196</td>\n",
       "      <td>0.576546</td>\n",
       "    </tr>\n",
       "    <tr>\n",
       "      <th>2</th>\n",
       "      <td>0.557310</td>\n",
       "      <td>-0.407316</td>\n",
       "      <td>0.220350</td>\n",
       "      <td>0.239456</td>\n",
       "      <td>0.224373</td>\n",
       "      <td>-0.799011</td>\n",
       "      <td>-3.322857</td>\n",
       "      <td>0.788823</td>\n",
       "      <td>0.096371</td>\n",
       "      <td>-1.452354</td>\n",
       "      <td>0.290538</td>\n",
       "      <td>1.223126</td>\n",
       "      <td>-0.414295</td>\n",
       "      <td>0.435429</td>\n",
       "      <td>0.099039</td>\n",
       "      <td>0.428911</td>\n",
       "      <td>-0.209754</td>\n",
       "      <td>-0.461335</td>\n",
       "      <td>-0.089674</td>\n",
       "      <td>-0.103432</td>\n",
       "    </tr>\n",
       "    <tr>\n",
       "      <th>3</th>\n",
       "      <td>0.671000</td>\n",
       "      <td>-0.009630</td>\n",
       "      <td>2.158173</td>\n",
       "      <td>0.394021</td>\n",
       "      <td>-0.497988</td>\n",
       "      <td>0.196073</td>\n",
       "      <td>-0.207751</td>\n",
       "      <td>-0.886789</td>\n",
       "      <td>-0.948854</td>\n",
       "      <td>0.042823</td>\n",
       "      <td>-0.193475</td>\n",
       "      <td>-0.163298</td>\n",
       "      <td>0.002079</td>\n",
       "      <td>-0.225437</td>\n",
       "      <td>0.735038</td>\n",
       "      <td>0.122920</td>\n",
       "      <td>0.929838</td>\n",
       "      <td>-0.408415</td>\n",
       "      <td>-0.708486</td>\n",
       "      <td>0.144403</td>\n",
       "    </tr>\n",
       "    <tr>\n",
       "      <th>4</th>\n",
       "      <td>-0.366920</td>\n",
       "      <td>-0.324782</td>\n",
       "      <td>2.456366</td>\n",
       "      <td>0.353939</td>\n",
       "      <td>-0.808370</td>\n",
       "      <td>-0.179964</td>\n",
       "      <td>1.154113</td>\n",
       "      <td>-1.001238</td>\n",
       "      <td>-0.250431</td>\n",
       "      <td>0.029832</td>\n",
       "      <td>0.983639</td>\n",
       "      <td>0.218325</td>\n",
       "      <td>-0.070097</td>\n",
       "      <td>0.527983</td>\n",
       "      <td>0.327824</td>\n",
       "      <td>0.212028</td>\n",
       "      <td>-0.206102</td>\n",
       "      <td>-0.232219</td>\n",
       "      <td>0.023640</td>\n",
       "      <td>-0.670558</td>\n",
       "    </tr>\n",
       "    <tr>\n",
       "      <th>...</th>\n",
       "      <td>...</td>\n",
       "      <td>...</td>\n",
       "      <td>...</td>\n",
       "      <td>...</td>\n",
       "      <td>...</td>\n",
       "      <td>...</td>\n",
       "      <td>...</td>\n",
       "      <td>...</td>\n",
       "      <td>...</td>\n",
       "      <td>...</td>\n",
       "      <td>...</td>\n",
       "      <td>...</td>\n",
       "      <td>...</td>\n",
       "      <td>...</td>\n",
       "      <td>...</td>\n",
       "      <td>...</td>\n",
       "      <td>...</td>\n",
       "      <td>...</td>\n",
       "      <td>...</td>\n",
       "      <td>...</td>\n",
       "    </tr>\n",
       "    <tr>\n",
       "      <th>95</th>\n",
       "      <td>0.743098</td>\n",
       "      <td>0.633824</td>\n",
       "      <td>1.608388</td>\n",
       "      <td>0.101170</td>\n",
       "      <td>-0.818063</td>\n",
       "      <td>0.278050</td>\n",
       "      <td>2.103885</td>\n",
       "      <td>-1.251380</td>\n",
       "      <td>-1.530490</td>\n",
       "      <td>1.570575</td>\n",
       "      <td>0.091238</td>\n",
       "      <td>0.266419</td>\n",
       "      <td>-0.426438</td>\n",
       "      <td>-0.031082</td>\n",
       "      <td>-0.091687</td>\n",
       "      <td>-0.674913</td>\n",
       "      <td>0.472316</td>\n",
       "      <td>-0.155644</td>\n",
       "      <td>-0.494306</td>\n",
       "      <td>-0.121949</td>\n",
       "    </tr>\n",
       "    <tr>\n",
       "      <th>96</th>\n",
       "      <td>-0.558224</td>\n",
       "      <td>-0.324512</td>\n",
       "      <td>-1.346370</td>\n",
       "      <td>-0.065680</td>\n",
       "      <td>0.430184</td>\n",
       "      <td>1.302194</td>\n",
       "      <td>-0.107315</td>\n",
       "      <td>0.734564</td>\n",
       "      <td>-1.706693</td>\n",
       "      <td>0.220648</td>\n",
       "      <td>0.176590</td>\n",
       "      <td>0.371087</td>\n",
       "      <td>0.155759</td>\n",
       "      <td>-0.138741</td>\n",
       "      <td>-0.327343</td>\n",
       "      <td>-0.782606</td>\n",
       "      <td>-0.248467</td>\n",
       "      <td>-0.050186</td>\n",
       "      <td>0.716548</td>\n",
       "      <td>0.145736</td>\n",
       "    </tr>\n",
       "    <tr>\n",
       "      <th>97</th>\n",
       "      <td>-0.063311</td>\n",
       "      <td>-0.148187</td>\n",
       "      <td>-1.911215</td>\n",
       "      <td>0.232459</td>\n",
       "      <td>0.176071</td>\n",
       "      <td>0.941660</td>\n",
       "      <td>0.709000</td>\n",
       "      <td>-0.209431</td>\n",
       "      <td>-1.658348</td>\n",
       "      <td>0.219786</td>\n",
       "      <td>-0.190531</td>\n",
       "      <td>-0.464296</td>\n",
       "      <td>0.624947</td>\n",
       "      <td>0.230690</td>\n",
       "      <td>-0.170631</td>\n",
       "      <td>-0.014431</td>\n",
       "      <td>0.498927</td>\n",
       "      <td>0.247940</td>\n",
       "      <td>0.010982</td>\n",
       "      <td>-0.451274</td>\n",
       "    </tr>\n",
       "    <tr>\n",
       "      <th>98</th>\n",
       "      <td>-0.527333</td>\n",
       "      <td>0.026034</td>\n",
       "      <td>-2.060536</td>\n",
       "      <td>-0.070586</td>\n",
       "      <td>0.303120</td>\n",
       "      <td>-0.849749</td>\n",
       "      <td>-0.131198</td>\n",
       "      <td>-0.037556</td>\n",
       "      <td>0.910571</td>\n",
       "      <td>-0.162663</td>\n",
       "      <td>0.670077</td>\n",
       "      <td>0.114640</td>\n",
       "      <td>-0.279024</td>\n",
       "      <td>0.966085</td>\n",
       "      <td>0.383088</td>\n",
       "      <td>0.023244</td>\n",
       "      <td>-0.493092</td>\n",
       "      <td>-0.173568</td>\n",
       "      <td>0.680221</td>\n",
       "      <td>-0.149986</td>\n",
       "    </tr>\n",
       "    <tr>\n",
       "      <th>99</th>\n",
       "      <td>0.069519</td>\n",
       "      <td>0.278768</td>\n",
       "      <td>1.338970</td>\n",
       "      <td>0.026695</td>\n",
       "      <td>-0.205875</td>\n",
       "      <td>0.414269</td>\n",
       "      <td>0.799373</td>\n",
       "      <td>0.425324</td>\n",
       "      <td>0.275996</td>\n",
       "      <td>-1.595634</td>\n",
       "      <td>-0.525813</td>\n",
       "      <td>0.401492</td>\n",
       "      <td>-0.274720</td>\n",
       "      <td>-0.080557</td>\n",
       "      <td>0.267624</td>\n",
       "      <td>0.011548</td>\n",
       "      <td>-0.142773</td>\n",
       "      <td>-0.690249</td>\n",
       "      <td>0.218409</td>\n",
       "      <td>0.095065</td>\n",
       "    </tr>\n",
       "  </tbody>\n",
       "</table>\n",
       "<p>100 rows × 20 columns</p>\n",
       "</div>"
      ],
      "text/plain": [
       "    Central_venous_LSECs  Cholangiocytes  Erythroid_Cells  \\\n",
       "0               0.632675        0.043816         0.466975   \n",
       "1              -0.052743       -1.013166        -0.832720   \n",
       "2               0.557310       -0.407316         0.220350   \n",
       "3               0.671000       -0.009630         2.158173   \n",
       "4              -0.366920       -0.324782         2.456366   \n",
       "..                   ...             ...              ...   \n",
       "95              0.743098        0.633824         1.608388   \n",
       "96             -0.558224       -0.324512        -1.346370   \n",
       "97             -0.063311       -0.148187        -1.911215   \n",
       "98             -0.527333        0.026034        -2.060536   \n",
       "99              0.069519        0.278768         1.338970   \n",
       "\n",
       "    Hepatic_Stellate_Cells  Hepatocyte_1  Hepatocyte_2  Hepatocyte_3  \\\n",
       "0                 0.328986      0.612081     -0.435518     -1.835094   \n",
       "1                -0.042100      0.226464     -0.164539     -1.796637   \n",
       "2                 0.239456      0.224373     -0.799011     -3.322857   \n",
       "3                 0.394021     -0.497988      0.196073     -0.207751   \n",
       "4                 0.353939     -0.808370     -0.179964      1.154113   \n",
       "..                     ...           ...           ...           ...   \n",
       "95                0.101170     -0.818063      0.278050      2.103885   \n",
       "96               -0.065680      0.430184      1.302194     -0.107315   \n",
       "97                0.232459      0.176071      0.941660      0.709000   \n",
       "98               -0.070586      0.303120     -0.849749     -0.131198   \n",
       "99                0.026695     -0.205875      0.414269      0.799373   \n",
       "\n",
       "    Hepatocyte_4  Hepatocyte_5  Hepatocyte_6  Inflammatory_Macrophage  \\\n",
       "0       0.264658      0.110933     -0.057691                -0.392007   \n",
       "1       0.476457     -0.675567     -0.867951                -0.095324   \n",
       "2       0.788823      0.096371     -1.452354                 0.290538   \n",
       "3      -0.886789     -0.948854      0.042823                -0.193475   \n",
       "4      -1.001238     -0.250431      0.029832                 0.983639   \n",
       "..           ...           ...           ...                      ...   \n",
       "95     -1.251380     -1.530490      1.570575                 0.091238   \n",
       "96      0.734564     -1.706693      0.220648                 0.176590   \n",
       "97     -0.209431     -1.658348      0.219786                -0.190531   \n",
       "98     -0.037556      0.910571     -0.162663                 0.670077   \n",
       "99      0.425324      0.275996     -1.595634                -0.525813   \n",
       "\n",
       "    Mature_B_Cells  NK-like_Cells  Non-inflammatory_Macrophage  \\\n",
       "0        -0.600405       0.051045                     0.426869   \n",
       "1        -0.110705       0.417568                    -0.115408   \n",
       "2         1.223126      -0.414295                     0.435429   \n",
       "3        -0.163298       0.002079                    -0.225437   \n",
       "4         0.218325      -0.070097                     0.527983   \n",
       "..             ...            ...                          ...   \n",
       "95        0.266419      -0.426438                    -0.031082   \n",
       "96        0.371087       0.155759                    -0.138741   \n",
       "97       -0.464296       0.624947                     0.230690   \n",
       "98        0.114640      -0.279024                     0.966085   \n",
       "99        0.401492      -0.274720                    -0.080557   \n",
       "\n",
       "    Periportal_LSECs  Plasma_Cells  Portal_endothelial_Cells  \\\n",
       "0          -0.006911      0.156528                  0.016487   \n",
       "1           0.268057      0.163078                  0.145639   \n",
       "2           0.099039      0.428911                 -0.209754   \n",
       "3           0.735038      0.122920                  0.929838   \n",
       "4           0.327824      0.212028                 -0.206102   \n",
       "..               ...           ...                       ...   \n",
       "95         -0.091687     -0.674913                  0.472316   \n",
       "96         -0.327343     -0.782606                 -0.248467   \n",
       "97         -0.170631     -0.014431                  0.498927   \n",
       "98          0.383088      0.023244                 -0.493092   \n",
       "99          0.267624      0.011548                 -0.142773   \n",
       "\n",
       "    alpha-beta_T_Cells  gamma-delta_T_Cells_1  gamma-delta_T_Cells_2  \n",
       "0            -0.279058              -0.143779               0.050886  \n",
       "1             0.374039               0.335196               0.576546  \n",
       "2            -0.461335              -0.089674              -0.103432  \n",
       "3            -0.408415              -0.708486               0.144403  \n",
       "4            -0.232219               0.023640              -0.670558  \n",
       "..                 ...                    ...                    ...  \n",
       "95           -0.155644              -0.494306              -0.121949  \n",
       "96           -0.050186               0.716548               0.145736  \n",
       "97            0.247940               0.010982              -0.451274  \n",
       "98           -0.173568               0.680221              -0.149986  \n",
       "99           -0.690249               0.218409               0.095065  \n",
       "\n",
       "[100 rows x 20 columns]"
      ]
     },
     "execution_count": 5,
     "metadata": {},
     "output_type": "execute_result"
    }
   ],
   "source": [
    "representations"
   ]
  }
 ],
 "metadata": {
  "kernelspec": {
   "display_name": "env",
   "language": "python",
   "name": "python3"
  },
  "language_info": {
   "codemirror_mode": {
    "name": "ipython",
    "version": 3
   },
   "file_extension": ".py",
   "mimetype": "text/x-python",
   "name": "python",
   "nbconvert_exporter": "python",
   "pygments_lexer": "ipython3",
   "version": "3.10.5"
  }
 },
 "nbformat": 4,
 "nbformat_minor": 2
}
