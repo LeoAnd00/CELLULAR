{
 "cells": [
  {
   "cell_type": "markdown",
   "metadata": {},
   "source": [
    "# Pre Processing Tutorial"
   ]
  },
  {
   "cell_type": "markdown",
   "metadata": {},
   "source": [
    "This is a tutorial for how to use the built-in pre processing workflow.<br> \n",
    "<font color=\"red\">**It's worth noting however that the user is not required to use this before using the model. One can implement their own pre processing pipeline and use that instead. The main point is that the input to the model should be structured as a Anndata object, where adata.X contains normalized counts, and adata.obs should contain a key for cell types and a key for bacth effect.**</font>"
   ]
  },
  {
   "cell_type": "markdown",
   "metadata": {},
   "source": [
    "**Before runing tutorial:**\n",
    "- Make sure you've installed the CELLULAR package\n",
    "- Download the data named *Tutorial.rar* from [here](https://doi.org/10.5281/zenodo.10959788) and place the data folder under the */Tutorial* folder in this repository"
   ]
  },
  {
   "cell_type": "code",
   "execution_count": null,
   "metadata": {},
   "outputs": [
    {
     "name": "stderr",
     "output_type": "stream",
     "text": [
      "c:\\Users\\user\\Documents\\GitHub\\MT_test_repo\\env\\lib\\site-packages\\tqdm\\auto.py:21: TqdmWarning: IProgress not found. Please update jupyter and ipywidgets. See https://ipywidgets.readthedocs.io/en/stable/user_install.html\n",
      "  from .autonotebook import tqdm as notebook_tqdm\n"
     ]
    }
   ],
   "source": [
    "# Load required packages\n",
    "import scanpy as sc\n",
    "from sklearn.model_selection import StratifiedKFold\n",
    "from sklearn.preprocessing import LabelEncoder\n",
    "from sklearn.metrics import accuracy_score, f1_score, balanced_accuracy_score\n",
    "import numpy as np\n",
    "\n",
    "import CELLULAR_CL as CELLULAR"
   ]
  },
  {
   "cell_type": "markdown",
   "metadata": {},
   "source": [
    "## Pre process data"
   ]
  },
  {
   "cell_type": "markdown",
   "metadata": {},
   "source": [
    "The pre_process_data can either take adata as input by specifying the *adata_* variable, or you can give a count matrix, list of genes, and list of barcodes and the function will create a Anndata object from this information. <br>\n",
    "This function will calculate multiple quality control metrics and filter the data using this information. <br>\n",
    "It will filter samples by:\n",
    "- 'log_n_counts': Shifted log of sum of counts per cell.\n",
    "- 'log_n_genes': Shifted log of number of unique genes expressed per cell.\n",
    "- 'pct_counts_in_top_20_genes': Fraction of total counts among the top 20 genes with the highest counts.\n",
    "- 'mt_frac': Fraction of mitochondrial counts.\n",
    "\n",
    "It will also filter genes by removing genes that are expressed in less than 20 samples.\n",
    "\n",
    "Worth noting is that suitable thresholds for Median Absolut Deviation (MAD) when filtering based on these metrics depend on the dataset, hence it's always a good idea to visualize the data to make sure outliers were taken care of during pre processing."
   ]
  },
  {
   "cell_type": "code",
   "execution_count": 2,
   "metadata": {},
   "outputs": [
    {
     "name": "stderr",
     "output_type": "stream",
     "text": [
      "c:\\Users\\user\\Documents\\GitHub\\MT_test_repo\\env\\lib\\site-packages\\anndata\\__init__.py:51: FutureWarning: `anndata.read` is deprecated, use `anndata.read_h5ad` instead. `ad.read` will be removed in mid 2024.\n",
      "  warnings.warn(\n"
     ]
    },
    {
     "name": "stdout",
     "output_type": "stream",
     "text": [
      "Number of cells before QC filtering: 2994\n",
      "Number of cells removed by log_n_genes filtering: 66\n",
      "Number of cells removed by log_n_counts filtering: 39\n",
      "Number of cells removed by pct_counts_in_top_20_genes filtering: 620\n",
      "Number of cells removed by mt_frac filtering: 22\n",
      "Number of cells post QC filtering: 2311\n",
      "Number of genes before filtering: 33694\n",
      "Number of genes after filtering so there is a minimum of 20 unique cells per gene: 12438\n"
     ]
    }
   ],
   "source": [
    "adata = CELLULAR.pre_process_data(count_file_path=\"data/GSM3396161_A/GSM3396161_matrix_A.mtx.gz\",\n",
    "                                gene_data_path=\"data/GSM3396161_A/GSM3396161_genes_A.tsv.gz\",\n",
    "                                barcode_data_path=\"data/GSM3396161_A/GSM3396161_barcodes_A.tsv.gz\")"
   ]
  },
  {
   "cell_type": "markdown",
   "metadata": {},
   "source": [
    "## Normalize"
   ]
  },
  {
   "cell_type": "markdown",
   "metadata": {},
   "source": [
    "Calculates a scaler for each sample and applies it. Then it performs log1p normalization. <br>\n",
    "adata.X will now be normalized."
   ]
  },
  {
   "cell_type": "code",
   "execution_count": 3,
   "metadata": {},
   "outputs": [],
   "source": [
    "adata = CELLULAR.log1p_normalize(adata)"
   ]
  }
 ],
 "metadata": {
  "kernelspec": {
   "display_name": "env",
   "language": "python",
   "name": "python3"
  },
  "language_info": {
   "codemirror_mode": {
    "name": "ipython",
    "version": 3
   },
   "file_extension": ".py",
   "mimetype": "text/x-python",
   "name": "python",
   "nbconvert_exporter": "python",
   "pygments_lexer": "ipython3",
   "version": "3.10.5"
  }
 },
 "nbformat": 4,
 "nbformat_minor": 2
}
